{
 "cells": [
  {
   "cell_type": "markdown",
   "id": "fe7b9bef",
   "metadata": {},
   "source": [
    "# APPLICATION OF BIG DATA ANAYTICS AND CONVOLUTIONAL NEURAL NETWORKS IN CROP PEST AND DISEASE DETECTION AND CLASSIFICATION"
   ]
  },
  {
   "cell_type": "code",
   "execution_count": null,
   "id": "f89eae45",
   "metadata": {},
   "outputs": [
    {
     "name": "stdout",
     "output_type": "stream",
     "text": [
      "[master ac4686d] comment\n",
      " 3 files changed, 240 insertions(+)\n",
      " create mode 100644 .ipynb_checkpoints/Semester_Two_CA_CODES-checkpoint.ipynb\n",
      " create mode 100644 .~lock.conference-template-a4.docx#\n",
      "Username for 'https://github.com': "
     ]
    }
   ],
   "source": [
    "!git add .\n",
    "!git commit -m \"comment\"\n",
    "!git push"
   ]
  },
  {
   "cell_type": "code",
   "execution_count": 2,
   "id": "f9764c4a",
   "metadata": {},
   "outputs": [
    {
     "name": "stdout",
     "output_type": "stream",
     "text": [
      "Found 4 items\r\n",
      "drwxrwxr-x+  - hduser supergroup          0 2024-03-13 11:10 /Cropdiseasedata\r\n",
      "drwxr-xr-x   - hduser supergroup          0 2024-03-07 10:06 /output1\r\n",
      "drwxr-xr-x   - hduser supergroup          0 2024-03-07 13:14 /output2\r\n",
      "drwxr-xr-x   - hduser supergroup          0 2024-03-07 14:11 /user1\r\n"
     ]
    }
   ],
   "source": [
    "!hdfs dfs -ls /"
   ]
  },
  {
   "cell_type": "code",
   "execution_count": 3,
   "id": "8f44a636",
   "metadata": {},
   "outputs": [
    {
     "data": {
      "text/html": [
       "\n",
       "        <div>\n",
       "            <p><b>SparkContext</b></p>\n",
       "\n",
       "            <p><a href=\"http://10.0.2.15:4040\">Spark UI</a></p>\n",
       "\n",
       "            <dl>\n",
       "              <dt>Version</dt>\n",
       "                <dd><code>v3.4.2</code></dd>\n",
       "              <dt>Master</dt>\n",
       "                <dd><code>local[*]</code></dd>\n",
       "              <dt>AppName</dt>\n",
       "                <dd><code>PySparkShell</code></dd>\n",
       "            </dl>\n",
       "        </div>\n",
       "        "
      ],
      "text/plain": [
       "<SparkContext master=local[*] appName=PySparkShell>"
      ]
     },
     "execution_count": 3,
     "metadata": {},
     "output_type": "execute_result"
    }
   ],
   "source": [
    "sc"
   ]
  },
  {
   "cell_type": "code",
   "execution_count": null,
   "id": "425a6209",
   "metadata": {},
   "outputs": [],
   "source": [
    "file = sc.textFile"
   ]
  },
  {
   "cell_type": "code",
   "execution_count": 1,
   "id": "ffbfd102",
   "metadata": {},
   "outputs": [
    {
     "name": "stderr",
     "output_type": "stream",
     "text": [
      "/usr/lib/python3/dist-packages/scipy/__init__.py:146: UserWarning: A NumPy version >=1.17.3 and <1.25.0 is required for this version of SciPy (detected version 1.26.4\n",
      "  warnings.warn(f\"A NumPy version >={np_minversion} and <{np_maxversion}\"\n"
     ]
    }
   ],
   "source": [
    "#Import all libraries required for EDA, Preprocessing, Model building, Model Testing, Model EValuation and Visualization\n",
    "import pandas as pd\n",
    "import numpy as np\n",
    "import seaborn as sns\n",
    "import matplotlib.pyplot as plt"
   ]
  },
  {
   "cell_type": "code",
   "execution_count": 2,
   "id": "cf67f318",
   "metadata": {},
   "outputs": [],
   "source": [
    "import PIL"
   ]
  },
  {
   "cell_type": "code",
   "execution_count": 3,
   "id": "6ec88f37",
   "metadata": {},
   "outputs": [
    {
     "name": "stdout",
     "output_type": "stream",
     "text": [
      "Pillow Version: 9.0.1\n"
     ]
    }
   ],
   "source": [
    "print(\"Pillow Version:\", PIL.__version__)"
   ]
  },
  {
   "cell_type": "code",
   "execution_count": null,
   "id": "4f90b8ac",
   "metadata": {},
   "outputs": [],
   "source": [
    "#Load all the images in a directory\n",
    "from os import listdir\n",
    "from matplotlib import image\n",
    "#Load all images i"
   ]
  }
 ],
 "metadata": {
  "kernelspec": {
   "display_name": "Python 3 (ipykernel)",
   "language": "python",
   "name": "python3"
  },
  "language_info": {
   "codemirror_mode": {
    "name": "ipython",
    "version": 3
   },
   "file_extension": ".py",
   "mimetype": "text/x-python",
   "name": "python",
   "nbconvert_exporter": "python",
   "pygments_lexer": "ipython3",
   "version": "3.10.12"
  }
 },
 "nbformat": 4,
 "nbformat_minor": 5
}
