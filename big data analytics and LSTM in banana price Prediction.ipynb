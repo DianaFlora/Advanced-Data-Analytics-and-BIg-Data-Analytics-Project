{
 "cells": [
  {
   "cell_type": "markdown",
   "id": "718108ea",
   "metadata": {},
   "source": [
    "\n",
    "# APPLICATION OF APACHE SPARK AND LSTM IN BANANA PRICE PREDICTION"
   ]
  },
  {
   "cell_type": "markdown",
   "id": "3f23ecfd",
   "metadata": {},
   "source": [
    "# The dataset"
   ]
  },
  {
   "cell_type": "markdown",
   "id": "ee8abb60",
   "metadata": {},
   "source": [
    "The dataset was obtained from the data.gov.ie website. Two datasets on National average of consumer Items on Ireland. \n",
    "One dataset was ranging from 2002 to 2011\n",
    "the other was ranging from 2011 to 2024 February. Below is the link to the datasets\n",
    "https://data.gov.ie/dataset/cpm12-national-average-price\n",
    "https://data.gov.ie/dataset/cpm04-national-average-price\n",
    "    \n",
    "Both datasets licence are under the creative  commons licence https://creativecommons.org/licenses/by/4.0/\n",
    "which states as below\n",
    "You are free to:\n",
    "Share — copy and redistribute the material in any medium or format for any purpose, even commercially.\n",
    "Adapt — remix, transform, and build upon the material for any purpose, even commercially.\n",
    "The licensor cannot revoke these freedoms as long as you follow the license terms."
   ]
  },
  {
   "cell_type": "markdown",
   "id": "df6a0171",
   "metadata": {},
   "source": [
    "## STOP ANY ACTIVE SPARK SESSION"
   ]
  },
  {
   "cell_type": "code",
   "execution_count": 1,
   "id": "c374cc5e",
   "metadata": {},
   "outputs": [],
   "source": [
    "from pyspark.sql import SparkSession\n",
    "\n",
    "# Stop all active Spark sessions\n",
    "SparkSession.builder.getOrCreate().stop()\n"
   ]
  },
  {
   "cell_type": "markdown",
   "id": "56c247cb",
   "metadata": {},
   "source": [
    "## Import all the necessary libraries required for loading the data, EDA, Data Cleaning and statistics"
   ]
  },
  {
   "cell_type": "code",
   "execution_count": 2,
   "id": "7dcd2884",
   "metadata": {},
   "outputs": [],
   "source": [
    "import warnings\n",
    "warnings.filterwarnings(\"ignore\")\n",
    "from pyspark.ml import Pipeline\n",
    "import os\n",
    "import numpy as np\n",
    "import pandas as pd\n",
    "import matplotlib.pyplot as plt"
   ]
  },
  {
   "cell_type": "code",
   "execution_count": 3,
   "id": "35fa6031",
   "metadata": {},
   "outputs": [
    {
     "name": "stdout",
     "output_type": "stream",
     "text": [
      "Found 5 items\r\n",
      "-rwxrwxrwx   1 hduser supergroup    1114475 2024-03-31 17:22 /CPM04.20240331170654.csv\r\n",
      "-rwxrwxrwx   1 hduser supergroup    1197604 2024-03-31 17:23 /CPM12.20240331170619.csv\r\n",
      "drwxr-xr-x   - hduser supergroup          0 2024-01-30 23:49 /output1\r\n",
      "drwxr-xr-x   - hduser supergroup          0 2024-04-02 16:40 /preprocessed_data.csv\r\n",
      "drwxr-xr-x   - hduser supergroup          0 2024-01-31 00:57 /user1\r\n"
     ]
    }
   ],
   "source": [
    "#List the contents of the root directory in HDFS\n",
    "!hdfs dfs -ls /"
   ]
  },
  {
   "cell_type": "markdown",
   "id": "7efcc67f",
   "metadata": {},
   "source": [
    "## Preprocessing Data using Spark\n",
    "This process involves a series of steps. They include:-\n",
    "1. Loading 2 CSV files on national average prices of food data stored in hadoop.\n",
    "\n",
    "2. Data Exploration: Perform exploratory data analysis (EDA) \n",
    "\n",
    "This include:-\n",
    "- checking missing data, \n",
    "- Checking for duplicates\n",
    "- Checking for oultiers\n",
    "- Checking for data types.\n",
    "- visualize data to see data pattern\n",
    "\n",
    "3. Data cleaning and preparation: \n",
    "- merging the two csv datasets\n",
    "- handling duplicates, missing data, outliers, \n",
    "- feature selection, \n",
    "- changing data types"
   ]
  },
  {
   "cell_type": "markdown",
   "id": "572265ed",
   "metadata": {},
   "source": [
    "## Initialize Spark Session"
   ]
  },
  {
   "cell_type": "code",
   "execution_count": 4,
   "id": "618da8a4",
   "metadata": {},
   "outputs": [],
   "source": [
    "#A spark sesion for the preprocessing\n",
    "spark = SparkSession.builder \\\n",
    "    .appName(\"Hadoop to python- using apache spark\") \\\n",
    "    .getOrCreate()"
   ]
  },
  {
   "cell_type": "markdown",
   "id": "ceb9031a",
   "metadata": {},
   "source": [
    "## Step one: Load the data from hadoop using spark\n",
    "The two datasets were stored in hadoop and therefore the had to be loaded on pyspark for processing"
   ]
  },
  {
   "cell_type": "code",
   "execution_count": 5,
   "id": "63145c31",
   "metadata": {},
   "outputs": [
    {
     "name": "stderr",
     "output_type": "stream",
     "text": [
      "                                                                                \r"
     ]
    },
    {
     "data": {
      "text/plain": [
       "(DataFrame[STATISTIC: string, Statistic Label: string, C02363V02844: int, Consumer Item: string, TLIST(M1): int, Month: string, UNIT: string, VALUE: double],\n",
       " DataFrame[STATISTIC: string, STATISTIC Label: string, TLIST(M1): int, Month: string, C02363V03422: int, Consumer Item: string, UNIT: string, VALUE: double])"
      ]
     },
     "execution_count": 5,
     "metadata": {},
     "output_type": "execute_result"
    }
   ],
   "source": [
    "#Hadoop path for the two datasets\n",
    "dataset_one = \"hdfs://localhost:9000/CPM04.20240331170654.csv\"\n",
    "dataset_two = \"hdfs://localhost:9000/CPM12.20240331170619.csv\"\n",
    "\n",
    "#Create spark DataFrames for the two datasets\n",
    "df_one = spark.read.csv(dataset_one, header=True, inferSchema=True)\n",
    "df_two = spark.read.csv(dataset_two, header=True, inferSchema=True)\n",
    "\n",
    "#View the two DataFRames\n",
    "df_one, df_two"
   ]
  },
  {
   "cell_type": "markdown",
   "id": "539cccdf",
   "metadata": {},
   "source": [
    "## Step Two: Performing Explorartory Data Analysis (EDA)\n",
    "- EDA involves viewing the first and last few observations and the last.\n",
    "- Checking data types present and variables \n",
    "- Checking for missing data\n",
    "- Checking for outliers\n",
    "- checking for duplicates\n",
    "- Visualization"
   ]
  },
  {
   "cell_type": "markdown",
   "id": "603df743",
   "metadata": {},
   "source": [
    "## i) View the first view observations of the DataFrames"
   ]
  },
  {
   "cell_type": "code",
   "execution_count": 6,
   "id": "59e99a4b",
   "metadata": {},
   "outputs": [
    {
     "data": {
      "text/plain": [
       "[Row(STATISTIC='CPM04', Statistic Label='National Average  Price', C02363V02844=10010, Consumer Item='Round steak per kg.', TLIST(M1)=200112, Month='2001M12', UNIT='Euro', VALUE=8.414),\n",
       " Row(STATISTIC='CPM04', Statistic Label='National Average  Price', C02363V02844=10010, Consumer Item='Round steak per kg.', TLIST(M1)=200201, Month='2002M01', UNIT='Euro', VALUE=8.696)]"
      ]
     },
     "execution_count": 6,
     "metadata": {},
     "output_type": "execute_result"
    }
   ],
   "source": [
    "#View the first two observations of DataFrame one\n",
    "df_one.head(2)"
   ]
  },
  {
   "cell_type": "code",
   "execution_count": 7,
   "id": "fe9027e8",
   "metadata": {},
   "outputs": [
    {
     "data": {
      "text/plain": [
       "[Row(STATISTIC='CPM12', STATISTIC Label='National Average Price', TLIST(M1)=201112, Month='2011 December', C02363V03422=10020, Consumer Item='White, self raising flour per 2 kg', UNIT='Euro', VALUE=None),\n",
       " Row(STATISTIC='CPM12', STATISTIC Label='National Average Price', TLIST(M1)=201112, Month='2011 December', C02363V03422=10030, Consumer Item='Brown, wholemeal flour per 2 kg', UNIT='Euro', VALUE=None)]"
      ]
     },
     "execution_count": 7,
     "metadata": {},
     "output_type": "execute_result"
    }
   ],
   "source": [
    "#View the first two observations fo DataFrame two \n",
    "df_two.head(2)"
   ]
  },
  {
   "cell_type": "markdown",
   "id": "a4ee53cf",
   "metadata": {},
   "source": [
    "## ii) View the last few observations of the DataFrames"
   ]
  },
  {
   "cell_type": "code",
   "execution_count": 8,
   "id": "6d36fa44",
   "metadata": {},
   "outputs": [
    {
     "data": {
      "text/plain": [
       "[Row(STATISTIC='CPM04', Statistic Label='National Average  Price', C02363V02844=80005, Consumer Item='Fine quality wine - take home (75cl bottle)', TLIST(M1)=201111, Month='2011M11', UNIT='Euro', VALUE=None),\n",
       " Row(STATISTIC='CPM04', Statistic Label='National Average  Price', C02363V02844=80005, Consumer Item='Fine quality wine - take home (75cl bottle)', TLIST(M1)=201112, Month='2011M12', UNIT='Euro', VALUE=None)]"
      ]
     },
     "execution_count": 8,
     "metadata": {},
     "output_type": "execute_result"
    }
   ],
   "source": [
    "#View the last two observations of DataFrame one\n",
    "df_one.tail(2)"
   ]
  },
  {
   "cell_type": "code",
   "execution_count": 9,
   "id": "ea4716c1",
   "metadata": {},
   "outputs": [
    {
     "data": {
      "text/plain": [
       "[Row(STATISTIC='CPM12', STATISTIC Label='National Average Price', TLIST(M1)=202402, Month='2024 February', C02363V03422=30700, Consumer Item=\"Gent's wash, cut, and blow dry fee\", UNIT='Euro', VALUE=None),\n",
       " Row(STATISTIC='CPM12', STATISTIC Label='National Average Price', TLIST(M1)=202402, Month='2024 February', C02363V03422=30720, Consumer Item=\"Ladies' wash, cut and blow dry fee\", UNIT='Euro', VALUE=53.175)]"
      ]
     },
     "execution_count": 9,
     "metadata": {},
     "output_type": "execute_result"
    }
   ],
   "source": [
    "#View the last two observations of DataFrame two\n",
    "df_two.tail(2)"
   ]
  },
  {
   "cell_type": "markdown",
   "id": "fbacada3",
   "metadata": {},
   "source": [
    "## iii) Checking for missing data and  data types in the DataFrames"
   ]
  },
  {
   "cell_type": "code",
   "execution_count": 10,
   "id": "c8c162a2",
   "metadata": {},
   "outputs": [
    {
     "name": "stdout",
     "output_type": "stream",
     "text": [
      "root\n",
      " |-- STATISTIC: string (nullable = true)\n",
      " |-- Statistic Label: string (nullable = true)\n",
      " |-- C02363V02844: integer (nullable = true)\n",
      " |-- Consumer Item: string (nullable = true)\n",
      " |-- TLIST(M1): integer (nullable = true)\n",
      " |-- Month: string (nullable = true)\n",
      " |-- UNIT: string (nullable = true)\n",
      " |-- VALUE: double (nullable = true)\n",
      "\n"
     ]
    }
   ],
   "source": [
    "#Get the Schema for DataFrame one\n",
    "df_one.printSchema()"
   ]
  },
  {
   "cell_type": "markdown",
   "id": "c9d5a21c",
   "metadata": {},
   "source": [
    "## Findings\n",
    "- Shows there is missing data (nullable =True) in all the variables\n",
    "- we have several data types, string, integer, double\n",
    "- month which is the time variable is a string"
   ]
  },
  {
   "cell_type": "code",
   "execution_count": 11,
   "id": "94a46c7c",
   "metadata": {},
   "outputs": [
    {
     "name": "stdout",
     "output_type": "stream",
     "text": [
      "root\n",
      " |-- STATISTIC: string (nullable = true)\n",
      " |-- STATISTIC Label: string (nullable = true)\n",
      " |-- TLIST(M1): integer (nullable = true)\n",
      " |-- Month: string (nullable = true)\n",
      " |-- C02363V03422: integer (nullable = true)\n",
      " |-- Consumer Item: string (nullable = true)\n",
      " |-- UNIT: string (nullable = true)\n",
      " |-- VALUE: double (nullable = true)\n",
      "\n"
     ]
    }
   ],
   "source": [
    "#Get the Schema for DataFrame two\n",
    "df_two.printSchema()"
   ]
  },
  {
   "cell_type": "markdown",
   "id": "c640b26e",
   "metadata": {},
   "source": [
    "## Findings\n",
    "- Shows there is missing data (nullable =True) in all the variables\n",
    "- we have several data types, string, integer, double\n",
    "- month which is a time variable is a string"
   ]
  },
  {
   "cell_type": "code",
   "execution_count": 12,
   "id": "919e0ec8",
   "metadata": {},
   "outputs": [
    {
     "name": "stderr",
     "output_type": "stream",
     "text": [
      "                                                                                \r"
     ]
    },
    {
     "data": {
      "text/plain": [
       "(DataFrame[summary: string, STATISTIC: string, Statistic Label: string, C02363V02844: string, Consumer Item: string, TLIST(M1): string, Month: string, UNIT: string, VALUE: string],\n",
       " DataFrame[summary: string, STATISTIC: string, STATISTIC Label: string, TLIST(M1): string, Month: string, C02363V03422: string, Consumer Item: string, UNIT: string, VALUE: string])"
      ]
     },
     "execution_count": 12,
     "metadata": {},
     "output_type": "execute_result"
    }
   ],
   "source": [
    "#Check the chacteristics of the DataFrames\n",
    "df_one.describe(), df_two.describe()"
   ]
  },
  {
   "cell_type": "markdown",
   "id": "b20195de",
   "metadata": {},
   "source": [
    "## iv) Check the Size of the DataFrames to ensure there is no high dimensionality"
   ]
  },
  {
   "cell_type": "code",
   "execution_count": 13,
   "id": "106f81d4",
   "metadata": {},
   "outputs": [
    {
     "name": "stdout",
     "output_type": "stream",
     "text": [
      "Number of observations: 10527\n"
     ]
    }
   ],
   "source": [
    "#Count the number of observations\n",
    "dataone_count = df_one.count()\n",
    "\n",
    "print(\"Number of observations:\", dataone_count)"
   ]
  },
  {
   "cell_type": "markdown",
   "id": "5e59236b",
   "metadata": {},
   "source": [
    "## Findings\n",
    "- The observations are more than the variables, hence data is a low dimension data"
   ]
  },
  {
   "cell_type": "code",
   "execution_count": 14,
   "id": "093f37a6",
   "metadata": {},
   "outputs": [
    {
     "name": "stdout",
     "output_type": "stream",
     "text": [
      "Number of observations: 11172\n"
     ]
    }
   ],
   "source": [
    "#Count the number of observations\n",
    "datatwo_count = df_two.count()\n",
    "\n",
    "print(\"Number of observations:\", datatwo_count)"
   ]
  },
  {
   "cell_type": "markdown",
   "id": "21c573c6",
   "metadata": {},
   "source": [
    "## Findings\n",
    "- The observations are more than the variables, hence data is a low dimension data"
   ]
  },
  {
   "cell_type": "markdown",
   "id": "735eadff",
   "metadata": {},
   "source": [
    "## v) Checking for outliers"
   ]
  },
  {
   "cell_type": "code",
   "execution_count": 15,
   "id": "1b75d310",
   "metadata": {},
   "outputs": [
    {
     "name": "stdout",
     "output_type": "stream",
     "text": [
      "+-------+-------------------+-------+\n",
      "|  Month|      Consumer Item|VALUE_o|\n",
      "+-------+-------------------+-------+\n",
      "|2001M12|Round steak per kg.|  false|\n",
      "|2002M01|Round steak per kg.|  false|\n",
      "|2002M02|Round steak per kg.|  false|\n",
      "|2002M03|Round steak per kg.|  false|\n",
      "|2002M04|Round steak per kg.|  false|\n",
      "|2002M05|Round steak per kg.|  false|\n",
      "|2002M06|Round steak per kg.|  false|\n",
      "|2002M07|Round steak per kg.|  false|\n",
      "|2002M08|Round steak per kg.|  false|\n",
      "|2002M09|Round steak per kg.|  false|\n",
      "|2002M10|Round steak per kg.|  false|\n",
      "|2002M11|Round steak per kg.|  false|\n",
      "|2002M12|Round steak per kg.|  false|\n",
      "|2003M01|Round steak per kg.|  false|\n",
      "|2003M02|Round steak per kg.|  false|\n",
      "|2003M03|Round steak per kg.|  false|\n",
      "|2003M04|Round steak per kg.|  false|\n",
      "|2003M05|Round steak per kg.|  false|\n",
      "|2003M06|Round steak per kg.|  false|\n",
      "|2003M07|Round steak per kg.|  false|\n",
      "+-------+-------------------+-------+\n",
      "only showing top 20 rows\n",
      "\n",
      "+-------+-----+\n",
      "|VALUE_o|count|\n",
      "+-------+-----+\n",
      "|   null| 1047|\n",
      "|   true|  510|\n",
      "|  false| 8970|\n",
      "+-------+-----+\n",
      "\n"
     ]
    }
   ],
   "source": [
    "#compute outlier bounds using the IQR method for the VALUE variable in the df_one DataFrame.\n",
    "\n",
    "cols = ['VALUE']\n",
    "bounds = {}\n",
    "\n",
    "for col in cols:\n",
    "    quantiles = df_one.approxQuantile(col, [0.25, 0.75], 0.05)\n",
    "    IQR = quantiles[1] - quantiles[0]\n",
    "    bounds[col] = [quantiles[0] - 1.5 * IQR, quantiles[1] + 1.5 * IQR]\n",
    "bounds\n",
    "\n",
    "#creates a DataFrame outliers_one that flags outliers in df_one based on the outlier bounds calculated using the IQR method above.\n",
    "outliers_one = df_one.select(*['Month','Consumer Item'] + [\n",
    "    (\n",
    "        (df_one[c] < bounds[c][0]) | \n",
    "        (df_one[c] > bounds[c][1])\n",
    "    ).alias(c + '_o') for c in cols\n",
    "])\n",
    "outliers_one.show()\n",
    "\n",
    "#Count the frequency of outliers in df_one\n",
    "outliers_one.groupby('VALUE_o').count().show()"
   ]
  },
  {
   "cell_type": "markdown",
   "id": "66a8bb23",
   "metadata": {},
   "source": [
    "## Findings\n",
    "- there are 510 outliers in dataframe df_one\n",
    "- there are 1047 null values"
   ]
  },
  {
   "cell_type": "code",
   "execution_count": 16,
   "id": "b5ea09a1",
   "metadata": {},
   "outputs": [
    {
     "name": "stdout",
     "output_type": "stream",
     "text": [
      "+-------------+--------------------+-------+\n",
      "|        Month|       Consumer Item|VALUE_o|\n",
      "+-------------+--------------------+-------+\n",
      "|2011 December|White, self raisi...|   null|\n",
      "|2011 December|Brown, wholemeal ...|   null|\n",
      "|2011 December|Bread, white slic...|   null|\n",
      "|2011 December|Bread, brown slic...|   null|\n",
      "|2011 December|  Spaghetti per 500g|   null|\n",
      "|2011 December|Sirloin steak per kg|   null|\n",
      "|2011 December|Striploin steak p...|   null|\n",
      "|2011 December|Roast beef - tops...|   null|\n",
      "|2011 December|Sliced / diced be...|   null|\n",
      "|2011 December|Pork loin chops p...|   null|\n",
      "|2011 December|   Pork steak per kg|   null|\n",
      "|2011 December|Lamb - whole leg ...|   null|\n",
      "|2011 December|Lamb loin chops p...|   null|\n",
      "|2011 December|Lamb gigot chops ...|   null|\n",
      "|2011 December|Uncooked chicken ...|   null|\n",
      "|2011 December| Lamb's liver per kg|   null|\n",
      "|2011 December|   Ham fillet per kg|   null|\n",
      "|2011 December|   Cooked ham per kg|   null|\n",
      "|2011 December|Best back rashers...|   null|\n",
      "|2011 December|Pork sausages per kg|   null|\n",
      "+-------------+--------------------+-------+\n",
      "only showing top 20 rows\n",
      "\n",
      "+-------+-----+\n",
      "|VALUE_o|count|\n",
      "+-------+-----+\n",
      "|   null| 1077|\n",
      "|   true|  618|\n",
      "|  false| 9477|\n",
      "+-------+-----+\n",
      "\n"
     ]
    }
   ],
   "source": [
    "#compute outlier bounds using the IQR method for the VALUE variable in the df_two DataFrame.\n",
    "cols = ['VALUE']\n",
    "bounds = {}\n",
    "\n",
    "for col in cols:\n",
    "    quantiles = df_two.approxQuantile(col, [0.25, 0.75], 0.05)\n",
    "    IQR = quantiles[1] - quantiles[0]\n",
    "    bounds[col] = [quantiles[0] - 1.5 * IQR, quantiles[1] + 1.5 * IQR]\n",
    "bounds\n",
    "\n",
    "\n",
    "#creates a DataFrame outliers_one that flags outliers in df_one based on the outlier bounds calculated using the IQR method above.\n",
    "outliers_two = df_two.select(*['Month','Consumer Item'] + [\n",
    "    (\n",
    "        (df_two[c] < bounds[c][0]) | \n",
    "        (df_two[c] > bounds[c][1])\n",
    "    ).alias(c + '_o') for c in cols\n",
    "])\n",
    "outliers_two.show()\n",
    "\n",
    "\n",
    "#Count number of outliers in DataFrame df_two\n",
    "outliers_two.groupby('VALUE_o').count().show()"
   ]
  },
  {
   "cell_type": "markdown",
   "id": "f4cb34fe",
   "metadata": {},
   "source": [
    "## Findings\n",
    "- there are 618 outliers\n",
    "- there are 1077 missing data "
   ]
  },
  {
   "cell_type": "markdown",
   "id": "84609086",
   "metadata": {},
   "source": [
    "## vi) Checking for Duplicates\n",
    "- Checking duplicates based on three variables, month, consumer Item and VALUE\n",
    "- Checking duplicates based on the whole data"
   ]
  },
  {
   "cell_type": "code",
   "execution_count": 17,
   "id": "13630843",
   "metadata": {},
   "outputs": [
    {
     "name": "stdout",
     "output_type": "stream",
     "text": [
      "Number of duplicates based on date: 0\n"
     ]
    }
   ],
   "source": [
    "#Drop duplicates based on Month, COnsumer Item and VALUE\n",
    "duplicated_df = df_one.dropDuplicates(['Month', 'Consumer Item','VALUE'])\n",
    "\n",
    "#count the number of duplicates\n",
    "num_duplicates = df_one.count() - duplicated_df.count()\n",
    "\n",
    "#Show the number of duplicates\n",
    "print(\"Number of duplicates based on date:\", num_duplicates)\n"
   ]
  },
  {
   "cell_type": "markdown",
   "id": "84a4a522",
   "metadata": {},
   "source": [
    "## Findings\n",
    "- There are no duplicates present"
   ]
  },
  {
   "cell_type": "code",
   "execution_count": 18,
   "id": "8df34309",
   "metadata": {},
   "outputs": [
    {
     "name": "stdout",
     "output_type": "stream",
     "text": [
      "Number of duplicates based on date: 0\n"
     ]
    }
   ],
   "source": [
    "#Drop duplicates based on Month, COnsumer Item and VALUE\n",
    "duplicated_df = df_two.dropDuplicates(['Month', 'Consumer Item','VALUE'])\n",
    "\n",
    "#Count the number of duplicates\n",
    "num_duplicates = df_two.count() - duplicated_df.count()\n",
    "\n",
    "#show the number of duplicates\n",
    "print(\"Number of duplicates based on date:\", num_duplicates)"
   ]
  },
  {
   "cell_type": "markdown",
   "id": "b4fe471f",
   "metadata": {},
   "source": [
    "## Findings\n",
    "- There are no duplicates present"
   ]
  },
  {
   "cell_type": "code",
   "execution_count": 19,
   "id": "34fc20ba",
   "metadata": {},
   "outputs": [
    {
     "name": "stdout",
     "output_type": "stream",
     "text": [
      "Count of rows: 10527\n",
      "Count of distinct rows: 10527\n"
     ]
    }
   ],
   "source": [
    "#Count for duplicates in the whole df_one DataFrame\n",
    "print('Count of rows: {0}'.format(df_one.count()))\n",
    "print('Count of distinct rows: {0}'.format(df_one.distinct().count()))"
   ]
  },
  {
   "cell_type": "code",
   "execution_count": 20,
   "id": "6ded3fd0",
   "metadata": {},
   "outputs": [
    {
     "name": "stdout",
     "output_type": "stream",
     "text": [
      "Count of rows: 11172\n",
      "Count of distinct rows: 11172\n"
     ]
    }
   ],
   "source": [
    "#Count the duplicates in the whole df_two DataFrame\n",
    "print('Count of rows: {0}'.format(df_two.count()))\n",
    "print('Count of distinct rows: {0}'.format(df_two.distinct().count()))"
   ]
  },
  {
   "cell_type": "markdown",
   "id": "74205f50",
   "metadata": {},
   "source": [
    "# Step Three: Data Cleaning.\n",
    "- Dropping missing data, duplicates\n",
    "- Drop columns that will not be used.\n",
    "- Drop observations that will not be used, by considering the Consumer Item.My aim is to predict the banana price so any other item is dropped.\n",
    "- Convert the variable (month) to the correct data types which is date-time\n"
   ]
  },
  {
   "cell_type": "markdown",
   "id": "5764db7a",
   "metadata": {},
   "source": [
    "## i) Delete variables that willnot be used"
   ]
  },
  {
   "cell_type": "code",
   "execution_count": 21,
   "id": "f5f46cc9",
   "metadata": {},
   "outputs": [
    {
     "name": "stdout",
     "output_type": "stream",
     "text": [
      "root\n",
      " |-- Consumer Item: string (nullable = true)\n",
      " |-- Month: string (nullable = true)\n",
      " |-- VALUE: double (nullable = true)\n",
      "\n"
     ]
    }
   ],
   "source": [
    "#Drop all columns except month, consumer item and VALUE) in df_one\n",
    "df_one = df_one.drop(\"STATISTIC\",\"STATISTIC Label\",\"TLIST(M1)\",\"UNIT\",\"C02363V02844\")\n",
    "\n",
    "#Check if the colmuns have been dropped\n",
    "df_one.printSchema()"
   ]
  },
  {
   "cell_type": "markdown",
   "id": "926c52c4",
   "metadata": {},
   "source": [
    "## Findings\n",
    "- The variables have been dropped"
   ]
  },
  {
   "cell_type": "code",
   "execution_count": 22,
   "id": "ca03068e",
   "metadata": {},
   "outputs": [
    {
     "name": "stdout",
     "output_type": "stream",
     "text": [
      "root\n",
      " |-- Month: string (nullable = true)\n",
      " |-- Consumer Item: string (nullable = true)\n",
      " |-- VALUE: double (nullable = true)\n",
      "\n"
     ]
    }
   ],
   "source": [
    "#Drop all columns except month, consumer item and VALUE) in df_two\n",
    "df_two = df_two.drop(\"STATISTIC\",\"STATISTIC Label\",\"TLIST(M1)\",\"UNIT\",\"C02363V03422\")\n",
    "\n",
    "\n",
    "#Check if the columns have been dropped\n",
    "df_two.printSchema()"
   ]
  },
  {
   "cell_type": "markdown",
   "id": "29c2150c",
   "metadata": {},
   "source": [
    "## Findings\n",
    "- The variables have been dropped"
   ]
  },
  {
   "cell_type": "markdown",
   "id": "310b3c8a",
   "metadata": {},
   "source": [
    "## ii) Drop from consumer Item, everything except bananas"
   ]
  },
  {
   "cell_type": "code",
   "execution_count": 23,
   "id": "cb736f0b",
   "metadata": {},
   "outputs": [],
   "source": [
    "#Drop all other consumer items from the consumer item except bananas per kg\n",
    "df_one = df_one.filter(df_one[\"Consumer Item\"] == \"Bananas per kg.\")\n",
    "df_two = df_two.filter(df_two[\"Consumer Item\"] == \"Bananas per kg\")"
   ]
  },
  {
   "cell_type": "code",
   "execution_count": 24,
   "id": "2faa668a",
   "metadata": {},
   "outputs": [
    {
     "name": "stdout",
     "output_type": "stream",
     "text": [
      "+---------------+-------+-----+\n",
      "|Consumer Item  |Month  |VALUE|\n",
      "+---------------+-------+-----+\n",
      "|Bananas per kg.|2001M12|1.685|\n",
      "|Bananas per kg.|2002M01|1.691|\n",
      "|Bananas per kg.|2002M02|1.67 |\n",
      "|Bananas per kg.|2002M03|1.496|\n",
      "|Bananas per kg.|2002M04|1.669|\n",
      "|Bananas per kg.|2002M05|1.623|\n",
      "|Bananas per kg.|2002M06|1.652|\n",
      "|Bananas per kg.|2002M07|1.652|\n",
      "|Bananas per kg.|2002M08|1.664|\n",
      "|Bananas per kg.|2002M09|1.677|\n",
      "|Bananas per kg.|2002M10|1.694|\n",
      "|Bananas per kg.|2002M11|1.694|\n",
      "|Bananas per kg.|2002M12|1.693|\n",
      "|Bananas per kg.|2003M01|1.674|\n",
      "|Bananas per kg.|2003M02|1.671|\n",
      "|Bananas per kg.|2003M03|1.489|\n",
      "|Bananas per kg.|2003M04|1.62 |\n",
      "|Bananas per kg.|2003M05|1.513|\n",
      "|Bananas per kg.|2003M06|1.42 |\n",
      "|Bananas per kg.|2003M07|1.459|\n",
      "|Bananas per kg.|2003M08|1.456|\n",
      "|Bananas per kg.|2003M09|1.466|\n",
      "|Bananas per kg.|2003M10|1.466|\n",
      "|Bananas per kg.|2003M11|1.453|\n",
      "|Bananas per kg.|2003M12|1.438|\n",
      "|Bananas per kg.|2004M01|1.424|\n",
      "|Bananas per kg.|2004M02|1.447|\n",
      "|Bananas per kg.|2004M03|1.428|\n",
      "|Bananas per kg.|2004M04|1.352|\n",
      "|Bananas per kg.|2004M05|1.357|\n",
      "|Bananas per kg.|2004M06|1.349|\n",
      "|Bananas per kg.|2004M07|1.35 |\n",
      "|Bananas per kg.|2004M08|1.373|\n",
      "|Bananas per kg.|2004M09|1.374|\n",
      "|Bananas per kg.|2004M10|1.383|\n",
      "|Bananas per kg.|2004M11|1.377|\n",
      "|Bananas per kg.|2004M12|1.373|\n",
      "|Bananas per kg.|2005M01|1.4  |\n",
      "|Bananas per kg.|2005M02|1.394|\n",
      "|Bananas per kg.|2005M03|1.393|\n",
      "|Bananas per kg.|2005M04|1.366|\n",
      "|Bananas per kg.|2005M05|1.374|\n",
      "|Bananas per kg.|2005M06|1.35 |\n",
      "|Bananas per kg.|2005M07|1.349|\n",
      "|Bananas per kg.|2005M08|1.344|\n",
      "|Bananas per kg.|2005M09|1.318|\n",
      "|Bananas per kg.|2005M10|1.332|\n",
      "|Bananas per kg.|2005M11|1.32 |\n",
      "|Bananas per kg.|2005M12|1.338|\n",
      "|Bananas per kg.|2006M01|1.344|\n",
      "|Bananas per kg.|2006M02|1.345|\n",
      "|Bananas per kg.|2006M03|1.337|\n",
      "|Bananas per kg.|2006M04|1.339|\n",
      "|Bananas per kg.|2006M05|1.326|\n",
      "|Bananas per kg.|2006M06|1.34 |\n",
      "|Bananas per kg.|2006M07|1.349|\n",
      "|Bananas per kg.|2006M08|1.348|\n",
      "|Bananas per kg.|2006M09|1.32 |\n",
      "|Bananas per kg.|2006M10|1.319|\n",
      "|Bananas per kg.|2006M11|1.391|\n",
      "|Bananas per kg.|2006M12|1.441|\n",
      "|Bananas per kg.|2007M01|1.423|\n",
      "|Bananas per kg.|2007M02|1.437|\n",
      "|Bananas per kg.|2007M03|1.444|\n",
      "|Bananas per kg.|2007M04|1.453|\n",
      "|Bananas per kg.|2007M05|1.469|\n",
      "|Bananas per kg.|2007M06|1.487|\n",
      "|Bananas per kg.|2007M07|1.469|\n",
      "|Bananas per kg.|2007M08|1.468|\n",
      "|Bananas per kg.|2007M09|1.432|\n",
      "|Bananas per kg.|2007M10|1.444|\n",
      "|Bananas per kg.|2007M11|1.454|\n",
      "|Bananas per kg.|2007M12|1.442|\n",
      "|Bananas per kg.|2008M01|1.446|\n",
      "|Bananas per kg.|2008M02|1.435|\n",
      "|Bananas per kg.|2008M03|1.459|\n",
      "|Bananas per kg.|2008M04|1.462|\n",
      "|Bananas per kg.|2008M05|1.465|\n",
      "|Bananas per kg.|2008M06|1.467|\n",
      "|Bananas per kg.|2008M07|1.484|\n",
      "|Bananas per kg.|2008M08|1.478|\n",
      "|Bananas per kg.|2008M09|1.468|\n",
      "|Bananas per kg.|2008M10|1.468|\n",
      "|Bananas per kg.|2008M11|1.54 |\n",
      "|Bananas per kg.|2008M12|1.557|\n",
      "|Bananas per kg.|2009M01|1.563|\n",
      "|Bananas per kg.|2009M02|1.567|\n",
      "|Bananas per kg.|2009M03|1.548|\n",
      "|Bananas per kg.|2009M04|1.534|\n",
      "|Bananas per kg.|2009M05|1.473|\n",
      "|Bananas per kg.|2009M06|1.337|\n",
      "|Bananas per kg.|2009M07|1.32 |\n",
      "|Bananas per kg.|2009M08|1.332|\n",
      "|Bananas per kg.|2009M09|1.322|\n",
      "|Bananas per kg.|2009M10|1.305|\n",
      "|Bananas per kg.|2009M11|1.092|\n",
      "|Bananas per kg.|2009M12|1.072|\n",
      "|Bananas per kg.|2010M01|1.06 |\n",
      "|Bananas per kg.|2010M02|1.111|\n",
      "|Bananas per kg.|2010M03|1.104|\n",
      "|Bananas per kg.|2010M04|1.122|\n",
      "|Bananas per kg.|2010M05|1.129|\n",
      "|Bananas per kg.|2010M06|1.228|\n",
      "|Bananas per kg.|2010M07|1.266|\n",
      "|Bananas per kg.|2010M08|1.263|\n",
      "|Bananas per kg.|2010M09|1.259|\n",
      "|Bananas per kg.|2010M10|1.257|\n",
      "|Bananas per kg.|2010M11|1.267|\n",
      "|Bananas per kg.|2010M12|1.242|\n",
      "|Bananas per kg.|2011M01|1.238|\n",
      "|Bananas per kg.|2011M02|1.323|\n",
      "|Bananas per kg.|2011M03|1.35 |\n",
      "|Bananas per kg.|2011M04|1.335|\n",
      "|Bananas per kg.|2011M05|1.343|\n",
      "|Bananas per kg.|2011M06|1.339|\n",
      "|Bananas per kg.|2011M07|1.355|\n",
      "|Bananas per kg.|2011M08|1.357|\n",
      "|Bananas per kg.|2011M09|1.343|\n",
      "|Bananas per kg.|2011M10|1.345|\n",
      "|Bananas per kg.|2011M11|1.359|\n",
      "|Bananas per kg.|2011M12|1.32 |\n",
      "+---------------+-------+-----+\n",
      "\n",
      "+--------------+--------------+-----+\n",
      "|Month         |Consumer Item |VALUE|\n",
      "+--------------+--------------+-----+\n",
      "|2011 December |Bananas per kg|null |\n",
      "|2012 January  |Bananas per kg|1.33 |\n",
      "|2012 February |Bananas per kg|1.359|\n",
      "|2012 March    |Bananas per kg|1.371|\n",
      "|2012 April    |Bananas per kg|1.362|\n",
      "|2012 May      |Bananas per kg|1.375|\n",
      "|2012 June     |Bananas per kg|1.364|\n",
      "|2012 July     |Bananas per kg|1.355|\n",
      "|2012 August   |Bananas per kg|1.369|\n",
      "|2012 September|Bananas per kg|1.38 |\n",
      "|2012 October  |Bananas per kg|1.356|\n",
      "|2012 November |Bananas per kg|1.368|\n",
      "|2012 December |Bananas per kg|1.373|\n",
      "|2013 January  |Bananas per kg|1.369|\n",
      "|2013 February |Bananas per kg|1.368|\n",
      "|2013 March    |Bananas per kg|1.394|\n",
      "|2013 April    |Bananas per kg|1.375|\n",
      "|2013 May      |Bananas per kg|1.377|\n",
      "|2013 June     |Bananas per kg|1.374|\n",
      "|2013 July     |Bananas per kg|1.376|\n",
      "|2013 August   |Bananas per kg|1.38 |\n",
      "|2013 September|Bananas per kg|1.378|\n",
      "|2013 October  |Bananas per kg|1.373|\n",
      "|2013 November |Bananas per kg|1.367|\n",
      "|2013 December |Bananas per kg|1.374|\n",
      "|2014 January  |Bananas per kg|1.366|\n",
      "|2014 February |Bananas per kg|1.371|\n",
      "|2014 March    |Bananas per kg|1.375|\n",
      "|2014 April    |Bananas per kg|1.374|\n",
      "|2014 May      |Bananas per kg|1.372|\n",
      "|2014 June     |Bananas per kg|1.37 |\n",
      "|2014 July     |Bananas per kg|1.373|\n",
      "|2014 August   |Bananas per kg|1.371|\n",
      "|2014 September|Bananas per kg|1.357|\n",
      "|2014 October  |Bananas per kg|1.361|\n",
      "|2014 November |Bananas per kg|1.362|\n",
      "|2014 December |Bananas per kg|1.363|\n",
      "|2015 January  |Bananas per kg|1.363|\n",
      "|2015 February |Bananas per kg|1.362|\n",
      "|2015 March    |Bananas per kg|1.361|\n",
      "|2015 April    |Bananas per kg|1.369|\n",
      "|2015 May      |Bananas per kg|1.362|\n",
      "|2015 June     |Bananas per kg|1.361|\n",
      "|2015 July     |Bananas per kg|1.363|\n",
      "|2015 August   |Bananas per kg|1.365|\n",
      "|2015 September|Bananas per kg|1.37 |\n",
      "|2015 October  |Bananas per kg|1.378|\n",
      "|2015 November |Bananas per kg|1.387|\n",
      "|2015 December |Bananas per kg|1.382|\n",
      "|2016 January  |Bananas per kg|1.389|\n",
      "|2016 February |Bananas per kg|1.382|\n",
      "|2016 March    |Bananas per kg|1.385|\n",
      "|2016 April    |Bananas per kg|1.393|\n",
      "|2016 May      |Bananas per kg|1.396|\n",
      "|2016 June     |Bananas per kg|1.393|\n",
      "|2016 July     |Bananas per kg|1.399|\n",
      "|2016 August   |Bananas per kg|1.405|\n",
      "|2016 September|Bananas per kg|1.41 |\n",
      "|2016 October  |Bananas per kg|1.411|\n",
      "|2016 November |Bananas per kg|1.403|\n",
      "|2016 December |Bananas per kg|1.406|\n",
      "|2017 January  |Bananas per kg|1.411|\n",
      "|2017 February |Bananas per kg|1.414|\n",
      "|2017 March    |Bananas per kg|1.407|\n",
      "|2017 April    |Bananas per kg|1.405|\n",
      "|2017 May      |Bananas per kg|1.413|\n",
      "|2017 June     |Bananas per kg|1.404|\n",
      "|2017 July     |Bananas per kg|1.406|\n",
      "|2017 August   |Bananas per kg|1.411|\n",
      "|2017 September|Bananas per kg|1.412|\n",
      "|2017 October  |Bananas per kg|1.411|\n",
      "|2017 November |Bananas per kg|1.412|\n",
      "|2017 December |Bananas per kg|1.411|\n",
      "|2018 January  |Bananas per kg|1.405|\n",
      "|2018 February |Bananas per kg|1.406|\n",
      "|2018 March    |Bananas per kg|1.405|\n",
      "|2018 April    |Bananas per kg|1.4  |\n",
      "|2018 May      |Bananas per kg|1.399|\n",
      "|2018 June     |Bananas per kg|1.404|\n",
      "|2018 July     |Bananas per kg|1.404|\n",
      "|2018 August   |Bananas per kg|1.403|\n",
      "|2018 September|Bananas per kg|1.404|\n",
      "|2018 October  |Bananas per kg|1.401|\n",
      "|2018 November |Bananas per kg|1.406|\n",
      "|2018 December |Bananas per kg|1.396|\n",
      "|2019 January  |Bananas per kg|1.388|\n",
      "|2019 February |Bananas per kg|1.402|\n",
      "|2019 March    |Bananas per kg|1.401|\n",
      "|2019 April    |Bananas per kg|1.407|\n",
      "|2019 May      |Bananas per kg|1.407|\n",
      "|2019 June     |Bananas per kg|1.403|\n",
      "|2019 July     |Bananas per kg|1.404|\n",
      "|2019 August   |Bananas per kg|1.404|\n",
      "|2019 September|Bananas per kg|1.401|\n",
      "|2019 October  |Bananas per kg|1.402|\n",
      "|2019 November |Bananas per kg|1.398|\n",
      "|2019 December |Bananas per kg|1.402|\n",
      "|2020 January  |Bananas per kg|1.405|\n",
      "|2020 February |Bananas per kg|1.414|\n",
      "|2020 March    |Bananas per kg|1.418|\n",
      "|2020 April    |Bananas per kg|1.399|\n",
      "|2020 May      |Bananas per kg|1.373|\n",
      "|2020 June     |Bananas per kg|1.336|\n",
      "|2020 July     |Bananas per kg|1.476|\n",
      "|2020 August   |Bananas per kg|1.377|\n",
      "|2020 September|Bananas per kg|1.408|\n",
      "|2020 October  |Bananas per kg|1.463|\n",
      "|2020 November |Bananas per kg|1.464|\n",
      "|2020 December |Bananas per kg|1.465|\n",
      "|2021 January  |Bananas per kg|1.293|\n",
      "|2021 February |Bananas per kg|1.443|\n",
      "|2021 March    |Bananas per kg|1.443|\n",
      "|2021 April    |Bananas per kg|1.422|\n",
      "|2021 May      |Bananas per kg|1.531|\n",
      "|2021 June     |Bananas per kg|1.531|\n",
      "|2021 July     |Bananas per kg|1.531|\n",
      "|2021 August   |Bananas per kg|1.493|\n",
      "|2021 September|Bananas per kg|1.435|\n",
      "|2021 October  |Bananas per kg|1.494|\n",
      "|2021 November |Bananas per kg|1.531|\n",
      "|2021 December |Bananas per kg|1.531|\n",
      "|2022 January  |Bananas per kg|1.395|\n",
      "|2022 February |Bananas per kg|1.495|\n",
      "|2022 March    |Bananas per kg|1.484|\n",
      "|2022 April    |Bananas per kg|1.503|\n",
      "|2022 May      |Bananas per kg|1.519|\n",
      "|2022 June     |Bananas per kg|1.525|\n",
      "|2022 July     |Bananas per kg|1.527|\n",
      "|2022 August   |Bananas per kg|1.549|\n",
      "|2022 September|Bananas per kg|1.56 |\n",
      "|2022 October  |Bananas per kg|1.602|\n",
      "|2022 November |Bananas per kg|1.631|\n",
      "|2022 December |Bananas per kg|1.676|\n",
      "|2023 January  |Bananas per kg|1.677|\n",
      "|2023 February |Bananas per kg|1.689|\n",
      "|2023 March    |Bananas per kg|1.689|\n",
      "|2023 April    |Bananas per kg|1.689|\n",
      "|2023 May      |Bananas per kg|1.699|\n",
      "|2023 June     |Bananas per kg|1.699|\n",
      "|2023 July     |Bananas per kg|1.694|\n",
      "|2023 August   |Bananas per kg|1.698|\n",
      "|2023 September|Bananas per kg|1.66 |\n",
      "|2023 October  |Bananas per kg|1.72 |\n",
      "|2023 November |Bananas per kg|1.728|\n",
      "|2023 December |Bananas per kg|1.732|\n",
      "|2024 January  |Bananas per kg|1.733|\n",
      "|2024 February |Bananas per kg|1.732|\n",
      "+--------------+--------------+-----+\n",
      "\n"
     ]
    },
    {
     "data": {
      "text/plain": [
       "(None, None)"
      ]
     },
     "execution_count": 24,
     "metadata": {},
     "output_type": "execute_result"
    }
   ],
   "source": [
    "#Check if the items have been dropped\n",
    "df_one.show(n=df_one.count(), truncate=False), df_two.show(n=df_two.count(), truncate=False)"
   ]
  },
  {
   "cell_type": "markdown",
   "id": "7e1b9b90",
   "metadata": {},
   "source": [
    "## iii) Drop Missing data from the dataframes\n",
    "- check which variables have missing data\n",
    "- Drop the missing Data\n"
   ]
  },
  {
   "cell_type": "code",
   "execution_count": 25,
   "id": "58c27641",
   "metadata": {},
   "outputs": [
    {
     "name": "stdout",
     "output_type": "stream",
     "text": [
      "root\n",
      " |-- Consumer Item: string (nullable = true)\n",
      " |-- Month: string (nullable = true)\n",
      " |-- VALUE: double (nullable = true)\n",
      "\n",
      "root\n",
      " |-- Month: string (nullable = true)\n",
      " |-- Consumer Item: string (nullable = true)\n",
      " |-- VALUE: double (nullable = true)\n",
      "\n"
     ]
    },
    {
     "data": {
      "text/plain": [
       "(None, None)"
      ]
     },
     "execution_count": 25,
     "metadata": {},
     "output_type": "execute_result"
    }
   ],
   "source": [
    "#Checking for Missing data\n",
    "df_one.printSchema(), df_two.printSchema()"
   ]
  },
  {
   "cell_type": "code",
   "execution_count": 26,
   "id": "0f052bda",
   "metadata": {},
   "outputs": [],
   "source": [
    "#Drop null values from df_one\n",
    "df_one = df_one.na.drop(how='any', subset=[\"Consumer Item\", \"Month\", \"VALUE\"],thresh=1)\n",
    "\n",
    "#Drop null values from df_two\n",
    "df_two = df_two.na.drop(how='any', subset=[\"Month\", \"Consumer Item\", \"VALUE\"],thresh=1)"
   ]
  },
  {
   "cell_type": "code",
   "execution_count": 27,
   "id": "1b7a355a",
   "metadata": {},
   "outputs": [
    {
     "name": "stdout",
     "output_type": "stream",
     "text": [
      "+---------------+-------+-----+\n",
      "|Consumer Item  |Month  |VALUE|\n",
      "+---------------+-------+-----+\n",
      "|Bananas per kg.|2001M12|1.685|\n",
      "|Bananas per kg.|2002M01|1.691|\n",
      "|Bananas per kg.|2002M02|1.67 |\n",
      "|Bananas per kg.|2002M03|1.496|\n",
      "|Bananas per kg.|2002M04|1.669|\n",
      "|Bananas per kg.|2002M05|1.623|\n",
      "|Bananas per kg.|2002M06|1.652|\n",
      "|Bananas per kg.|2002M07|1.652|\n",
      "|Bananas per kg.|2002M08|1.664|\n",
      "|Bananas per kg.|2002M09|1.677|\n",
      "|Bananas per kg.|2002M10|1.694|\n",
      "|Bananas per kg.|2002M11|1.694|\n",
      "|Bananas per kg.|2002M12|1.693|\n",
      "|Bananas per kg.|2003M01|1.674|\n",
      "|Bananas per kg.|2003M02|1.671|\n",
      "|Bananas per kg.|2003M03|1.489|\n",
      "|Bananas per kg.|2003M04|1.62 |\n",
      "|Bananas per kg.|2003M05|1.513|\n",
      "|Bananas per kg.|2003M06|1.42 |\n",
      "|Bananas per kg.|2003M07|1.459|\n",
      "|Bananas per kg.|2003M08|1.456|\n",
      "|Bananas per kg.|2003M09|1.466|\n",
      "|Bananas per kg.|2003M10|1.466|\n",
      "|Bananas per kg.|2003M11|1.453|\n",
      "|Bananas per kg.|2003M12|1.438|\n",
      "|Bananas per kg.|2004M01|1.424|\n",
      "|Bananas per kg.|2004M02|1.447|\n",
      "|Bananas per kg.|2004M03|1.428|\n",
      "|Bananas per kg.|2004M04|1.352|\n",
      "|Bananas per kg.|2004M05|1.357|\n",
      "|Bananas per kg.|2004M06|1.349|\n",
      "|Bananas per kg.|2004M07|1.35 |\n",
      "|Bananas per kg.|2004M08|1.373|\n",
      "|Bananas per kg.|2004M09|1.374|\n",
      "|Bananas per kg.|2004M10|1.383|\n",
      "|Bananas per kg.|2004M11|1.377|\n",
      "|Bananas per kg.|2004M12|1.373|\n",
      "|Bananas per kg.|2005M01|1.4  |\n",
      "|Bananas per kg.|2005M02|1.394|\n",
      "|Bananas per kg.|2005M03|1.393|\n",
      "|Bananas per kg.|2005M04|1.366|\n",
      "|Bananas per kg.|2005M05|1.374|\n",
      "|Bananas per kg.|2005M06|1.35 |\n",
      "|Bananas per kg.|2005M07|1.349|\n",
      "|Bananas per kg.|2005M08|1.344|\n",
      "|Bananas per kg.|2005M09|1.318|\n",
      "|Bananas per kg.|2005M10|1.332|\n",
      "|Bananas per kg.|2005M11|1.32 |\n",
      "|Bananas per kg.|2005M12|1.338|\n",
      "|Bananas per kg.|2006M01|1.344|\n",
      "|Bananas per kg.|2006M02|1.345|\n",
      "|Bananas per kg.|2006M03|1.337|\n",
      "|Bananas per kg.|2006M04|1.339|\n",
      "|Bananas per kg.|2006M05|1.326|\n",
      "|Bananas per kg.|2006M06|1.34 |\n",
      "|Bananas per kg.|2006M07|1.349|\n",
      "|Bananas per kg.|2006M08|1.348|\n",
      "|Bananas per kg.|2006M09|1.32 |\n",
      "|Bananas per kg.|2006M10|1.319|\n",
      "|Bananas per kg.|2006M11|1.391|\n",
      "|Bananas per kg.|2006M12|1.441|\n",
      "|Bananas per kg.|2007M01|1.423|\n",
      "|Bananas per kg.|2007M02|1.437|\n",
      "|Bananas per kg.|2007M03|1.444|\n",
      "|Bananas per kg.|2007M04|1.453|\n",
      "|Bananas per kg.|2007M05|1.469|\n",
      "|Bananas per kg.|2007M06|1.487|\n",
      "|Bananas per kg.|2007M07|1.469|\n",
      "|Bananas per kg.|2007M08|1.468|\n",
      "|Bananas per kg.|2007M09|1.432|\n",
      "|Bananas per kg.|2007M10|1.444|\n",
      "|Bananas per kg.|2007M11|1.454|\n",
      "|Bananas per kg.|2007M12|1.442|\n",
      "|Bananas per kg.|2008M01|1.446|\n",
      "|Bananas per kg.|2008M02|1.435|\n",
      "|Bananas per kg.|2008M03|1.459|\n",
      "|Bananas per kg.|2008M04|1.462|\n",
      "|Bananas per kg.|2008M05|1.465|\n",
      "|Bananas per kg.|2008M06|1.467|\n",
      "|Bananas per kg.|2008M07|1.484|\n",
      "|Bananas per kg.|2008M08|1.478|\n",
      "|Bananas per kg.|2008M09|1.468|\n",
      "|Bananas per kg.|2008M10|1.468|\n",
      "|Bananas per kg.|2008M11|1.54 |\n",
      "|Bananas per kg.|2008M12|1.557|\n",
      "|Bananas per kg.|2009M01|1.563|\n",
      "|Bananas per kg.|2009M02|1.567|\n",
      "|Bananas per kg.|2009M03|1.548|\n",
      "|Bananas per kg.|2009M04|1.534|\n",
      "|Bananas per kg.|2009M05|1.473|\n",
      "|Bananas per kg.|2009M06|1.337|\n",
      "|Bananas per kg.|2009M07|1.32 |\n",
      "|Bananas per kg.|2009M08|1.332|\n",
      "|Bananas per kg.|2009M09|1.322|\n",
      "|Bananas per kg.|2009M10|1.305|\n",
      "|Bananas per kg.|2009M11|1.092|\n",
      "|Bananas per kg.|2009M12|1.072|\n",
      "|Bananas per kg.|2010M01|1.06 |\n",
      "|Bananas per kg.|2010M02|1.111|\n",
      "|Bananas per kg.|2010M03|1.104|\n",
      "|Bananas per kg.|2010M04|1.122|\n",
      "|Bananas per kg.|2010M05|1.129|\n",
      "|Bananas per kg.|2010M06|1.228|\n",
      "|Bananas per kg.|2010M07|1.266|\n",
      "|Bananas per kg.|2010M08|1.263|\n",
      "|Bananas per kg.|2010M09|1.259|\n",
      "|Bananas per kg.|2010M10|1.257|\n",
      "|Bananas per kg.|2010M11|1.267|\n",
      "|Bananas per kg.|2010M12|1.242|\n",
      "|Bananas per kg.|2011M01|1.238|\n",
      "|Bananas per kg.|2011M02|1.323|\n",
      "|Bananas per kg.|2011M03|1.35 |\n",
      "|Bananas per kg.|2011M04|1.335|\n",
      "|Bananas per kg.|2011M05|1.343|\n",
      "|Bananas per kg.|2011M06|1.339|\n",
      "|Bananas per kg.|2011M07|1.355|\n",
      "|Bananas per kg.|2011M08|1.357|\n",
      "|Bananas per kg.|2011M09|1.343|\n",
      "|Bananas per kg.|2011M10|1.345|\n",
      "|Bananas per kg.|2011M11|1.359|\n",
      "|Bananas per kg.|2011M12|1.32 |\n",
      "+---------------+-------+-----+\n",
      "\n",
      "+--------------+--------------+-----+\n",
      "|Month         |Consumer Item |VALUE|\n",
      "+--------------+--------------+-----+\n",
      "|2011 December |Bananas per kg|null |\n",
      "|2012 January  |Bananas per kg|1.33 |\n",
      "|2012 February |Bananas per kg|1.359|\n",
      "|2012 March    |Bananas per kg|1.371|\n",
      "|2012 April    |Bananas per kg|1.362|\n",
      "|2012 May      |Bananas per kg|1.375|\n",
      "|2012 June     |Bananas per kg|1.364|\n",
      "|2012 July     |Bananas per kg|1.355|\n",
      "|2012 August   |Bananas per kg|1.369|\n",
      "|2012 September|Bananas per kg|1.38 |\n",
      "|2012 October  |Bananas per kg|1.356|\n",
      "|2012 November |Bananas per kg|1.368|\n",
      "|2012 December |Bananas per kg|1.373|\n",
      "|2013 January  |Bananas per kg|1.369|\n",
      "|2013 February |Bananas per kg|1.368|\n",
      "|2013 March    |Bananas per kg|1.394|\n",
      "|2013 April    |Bananas per kg|1.375|\n",
      "|2013 May      |Bananas per kg|1.377|\n",
      "|2013 June     |Bananas per kg|1.374|\n",
      "|2013 July     |Bananas per kg|1.376|\n",
      "|2013 August   |Bananas per kg|1.38 |\n",
      "|2013 September|Bananas per kg|1.378|\n",
      "|2013 October  |Bananas per kg|1.373|\n",
      "|2013 November |Bananas per kg|1.367|\n",
      "|2013 December |Bananas per kg|1.374|\n",
      "|2014 January  |Bananas per kg|1.366|\n",
      "|2014 February |Bananas per kg|1.371|\n",
      "|2014 March    |Bananas per kg|1.375|\n",
      "|2014 April    |Bananas per kg|1.374|\n",
      "|2014 May      |Bananas per kg|1.372|\n",
      "|2014 June     |Bananas per kg|1.37 |\n",
      "|2014 July     |Bananas per kg|1.373|\n",
      "|2014 August   |Bananas per kg|1.371|\n",
      "|2014 September|Bananas per kg|1.357|\n",
      "|2014 October  |Bananas per kg|1.361|\n",
      "|2014 November |Bananas per kg|1.362|\n",
      "|2014 December |Bananas per kg|1.363|\n",
      "|2015 January  |Bananas per kg|1.363|\n",
      "|2015 February |Bananas per kg|1.362|\n",
      "|2015 March    |Bananas per kg|1.361|\n",
      "|2015 April    |Bananas per kg|1.369|\n",
      "|2015 May      |Bananas per kg|1.362|\n",
      "|2015 June     |Bananas per kg|1.361|\n",
      "|2015 July     |Bananas per kg|1.363|\n",
      "|2015 August   |Bananas per kg|1.365|\n",
      "|2015 September|Bananas per kg|1.37 |\n",
      "|2015 October  |Bananas per kg|1.378|\n",
      "|2015 November |Bananas per kg|1.387|\n",
      "|2015 December |Bananas per kg|1.382|\n",
      "|2016 January  |Bananas per kg|1.389|\n",
      "|2016 February |Bananas per kg|1.382|\n",
      "|2016 March    |Bananas per kg|1.385|\n",
      "|2016 April    |Bananas per kg|1.393|\n",
      "|2016 May      |Bananas per kg|1.396|\n",
      "|2016 June     |Bananas per kg|1.393|\n",
      "|2016 July     |Bananas per kg|1.399|\n",
      "|2016 August   |Bananas per kg|1.405|\n",
      "|2016 September|Bananas per kg|1.41 |\n",
      "|2016 October  |Bananas per kg|1.411|\n",
      "|2016 November |Bananas per kg|1.403|\n",
      "|2016 December |Bananas per kg|1.406|\n",
      "|2017 January  |Bananas per kg|1.411|\n",
      "|2017 February |Bananas per kg|1.414|\n",
      "|2017 March    |Bananas per kg|1.407|\n",
      "|2017 April    |Bananas per kg|1.405|\n",
      "|2017 May      |Bananas per kg|1.413|\n",
      "|2017 June     |Bananas per kg|1.404|\n",
      "|2017 July     |Bananas per kg|1.406|\n",
      "|2017 August   |Bananas per kg|1.411|\n",
      "|2017 September|Bananas per kg|1.412|\n",
      "|2017 October  |Bananas per kg|1.411|\n",
      "|2017 November |Bananas per kg|1.412|\n",
      "|2017 December |Bananas per kg|1.411|\n",
      "|2018 January  |Bananas per kg|1.405|\n",
      "|2018 February |Bananas per kg|1.406|\n",
      "|2018 March    |Bananas per kg|1.405|\n",
      "|2018 April    |Bananas per kg|1.4  |\n",
      "|2018 May      |Bananas per kg|1.399|\n",
      "|2018 June     |Bananas per kg|1.404|\n",
      "|2018 July     |Bananas per kg|1.404|\n",
      "|2018 August   |Bananas per kg|1.403|\n",
      "|2018 September|Bananas per kg|1.404|\n",
      "|2018 October  |Bananas per kg|1.401|\n",
      "|2018 November |Bananas per kg|1.406|\n",
      "|2018 December |Bananas per kg|1.396|\n",
      "|2019 January  |Bananas per kg|1.388|\n",
      "|2019 February |Bananas per kg|1.402|\n",
      "|2019 March    |Bananas per kg|1.401|\n",
      "|2019 April    |Bananas per kg|1.407|\n",
      "|2019 May      |Bananas per kg|1.407|\n",
      "|2019 June     |Bananas per kg|1.403|\n",
      "|2019 July     |Bananas per kg|1.404|\n",
      "|2019 August   |Bananas per kg|1.404|\n",
      "|2019 September|Bananas per kg|1.401|\n",
      "|2019 October  |Bananas per kg|1.402|\n",
      "|2019 November |Bananas per kg|1.398|\n",
      "|2019 December |Bananas per kg|1.402|\n",
      "|2020 January  |Bananas per kg|1.405|\n",
      "|2020 February |Bananas per kg|1.414|\n",
      "|2020 March    |Bananas per kg|1.418|\n",
      "|2020 April    |Bananas per kg|1.399|\n",
      "|2020 May      |Bananas per kg|1.373|\n",
      "|2020 June     |Bananas per kg|1.336|\n",
      "|2020 July     |Bananas per kg|1.476|\n",
      "|2020 August   |Bananas per kg|1.377|\n",
      "|2020 September|Bananas per kg|1.408|\n",
      "|2020 October  |Bananas per kg|1.463|\n",
      "|2020 November |Bananas per kg|1.464|\n",
      "|2020 December |Bananas per kg|1.465|\n",
      "|2021 January  |Bananas per kg|1.293|\n",
      "|2021 February |Bananas per kg|1.443|\n",
      "|2021 March    |Bananas per kg|1.443|\n",
      "|2021 April    |Bananas per kg|1.422|\n",
      "|2021 May      |Bananas per kg|1.531|\n",
      "|2021 June     |Bananas per kg|1.531|\n",
      "|2021 July     |Bananas per kg|1.531|\n",
      "|2021 August   |Bananas per kg|1.493|\n",
      "|2021 September|Bananas per kg|1.435|\n",
      "|2021 October  |Bananas per kg|1.494|\n",
      "|2021 November |Bananas per kg|1.531|\n",
      "|2021 December |Bananas per kg|1.531|\n",
      "|2022 January  |Bananas per kg|1.395|\n",
      "|2022 February |Bananas per kg|1.495|\n",
      "|2022 March    |Bananas per kg|1.484|\n",
      "|2022 April    |Bananas per kg|1.503|\n",
      "|2022 May      |Bananas per kg|1.519|\n",
      "|2022 June     |Bananas per kg|1.525|\n",
      "|2022 July     |Bananas per kg|1.527|\n",
      "|2022 August   |Bananas per kg|1.549|\n",
      "|2022 September|Bananas per kg|1.56 |\n",
      "|2022 October  |Bananas per kg|1.602|\n",
      "|2022 November |Bananas per kg|1.631|\n",
      "|2022 December |Bananas per kg|1.676|\n",
      "|2023 January  |Bananas per kg|1.677|\n",
      "|2023 February |Bananas per kg|1.689|\n",
      "|2023 March    |Bananas per kg|1.689|\n",
      "|2023 April    |Bananas per kg|1.689|\n",
      "|2023 May      |Bananas per kg|1.699|\n",
      "|2023 June     |Bananas per kg|1.699|\n",
      "|2023 July     |Bananas per kg|1.694|\n",
      "|2023 August   |Bananas per kg|1.698|\n",
      "|2023 September|Bananas per kg|1.66 |\n",
      "|2023 October  |Bananas per kg|1.72 |\n",
      "|2023 November |Bananas per kg|1.728|\n",
      "|2023 December |Bananas per kg|1.732|\n",
      "|2024 January  |Bananas per kg|1.733|\n",
      "|2024 February |Bananas per kg|1.732|\n",
      "+--------------+--------------+-----+\n",
      "\n"
     ]
    },
    {
     "data": {
      "text/plain": [
       "(None, None)"
      ]
     },
     "execution_count": 27,
     "metadata": {},
     "output_type": "execute_result"
    }
   ],
   "source": [
    "#Checking if Missing data have been dropped\n",
    "df_one.show(n=df_one.count(), truncate=False), df_two.show(n=df_two.count(), truncate=False)"
   ]
  },
  {
   "cell_type": "markdown",
   "id": "8cd88cb5",
   "metadata": {},
   "source": [
    "## Findings\n",
    "- The missing data is still ther in df_two"
   ]
  },
  {
   "cell_type": "code",
   "execution_count": 28,
   "id": "2b546166",
   "metadata": {},
   "outputs": [
    {
     "name": "stdout",
     "output_type": "stream",
     "text": [
      "+--------------+--------------+-----+\n",
      "|Month         |Consumer Item |VALUE|\n",
      "+--------------+--------------+-----+\n",
      "|2012 January  |Bananas per kg|1.33 |\n",
      "|2012 February |Bananas per kg|1.359|\n",
      "|2012 March    |Bananas per kg|1.371|\n",
      "|2012 April    |Bananas per kg|1.362|\n",
      "|2012 May      |Bananas per kg|1.375|\n",
      "|2012 June     |Bananas per kg|1.364|\n",
      "|2012 July     |Bananas per kg|1.355|\n",
      "|2012 August   |Bananas per kg|1.369|\n",
      "|2012 September|Bananas per kg|1.38 |\n",
      "|2012 October  |Bananas per kg|1.356|\n",
      "|2012 November |Bananas per kg|1.368|\n",
      "|2012 December |Bananas per kg|1.373|\n",
      "|2013 January  |Bananas per kg|1.369|\n",
      "|2013 February |Bananas per kg|1.368|\n",
      "|2013 March    |Bananas per kg|1.394|\n",
      "|2013 April    |Bananas per kg|1.375|\n",
      "|2013 May      |Bananas per kg|1.377|\n",
      "|2013 June     |Bananas per kg|1.374|\n",
      "|2013 July     |Bananas per kg|1.376|\n",
      "|2013 August   |Bananas per kg|1.38 |\n",
      "|2013 September|Bananas per kg|1.378|\n",
      "|2013 October  |Bananas per kg|1.373|\n",
      "|2013 November |Bananas per kg|1.367|\n",
      "|2013 December |Bananas per kg|1.374|\n",
      "|2014 January  |Bananas per kg|1.366|\n",
      "|2014 February |Bananas per kg|1.371|\n",
      "|2014 March    |Bananas per kg|1.375|\n",
      "|2014 April    |Bananas per kg|1.374|\n",
      "|2014 May      |Bananas per kg|1.372|\n",
      "|2014 June     |Bananas per kg|1.37 |\n",
      "|2014 July     |Bananas per kg|1.373|\n",
      "|2014 August   |Bananas per kg|1.371|\n",
      "|2014 September|Bananas per kg|1.357|\n",
      "|2014 October  |Bananas per kg|1.361|\n",
      "|2014 November |Bananas per kg|1.362|\n",
      "|2014 December |Bananas per kg|1.363|\n",
      "|2015 January  |Bananas per kg|1.363|\n",
      "|2015 February |Bananas per kg|1.362|\n",
      "|2015 March    |Bananas per kg|1.361|\n",
      "|2015 April    |Bananas per kg|1.369|\n",
      "|2015 May      |Bananas per kg|1.362|\n",
      "|2015 June     |Bananas per kg|1.361|\n",
      "|2015 July     |Bananas per kg|1.363|\n",
      "|2015 August   |Bananas per kg|1.365|\n",
      "|2015 September|Bananas per kg|1.37 |\n",
      "|2015 October  |Bananas per kg|1.378|\n",
      "|2015 November |Bananas per kg|1.387|\n",
      "|2015 December |Bananas per kg|1.382|\n",
      "|2016 January  |Bananas per kg|1.389|\n",
      "|2016 February |Bananas per kg|1.382|\n",
      "|2016 March    |Bananas per kg|1.385|\n",
      "|2016 April    |Bananas per kg|1.393|\n",
      "|2016 May      |Bananas per kg|1.396|\n",
      "|2016 June     |Bananas per kg|1.393|\n",
      "|2016 July     |Bananas per kg|1.399|\n",
      "|2016 August   |Bananas per kg|1.405|\n",
      "|2016 September|Bananas per kg|1.41 |\n",
      "|2016 October  |Bananas per kg|1.411|\n",
      "|2016 November |Bananas per kg|1.403|\n",
      "|2016 December |Bananas per kg|1.406|\n",
      "|2017 January  |Bananas per kg|1.411|\n",
      "|2017 February |Bananas per kg|1.414|\n",
      "|2017 March    |Bananas per kg|1.407|\n",
      "|2017 April    |Bananas per kg|1.405|\n",
      "|2017 May      |Bananas per kg|1.413|\n",
      "|2017 June     |Bananas per kg|1.404|\n",
      "|2017 July     |Bananas per kg|1.406|\n",
      "|2017 August   |Bananas per kg|1.411|\n",
      "|2017 September|Bananas per kg|1.412|\n",
      "|2017 October  |Bananas per kg|1.411|\n",
      "|2017 November |Bananas per kg|1.412|\n",
      "|2017 December |Bananas per kg|1.411|\n",
      "|2018 January  |Bananas per kg|1.405|\n",
      "|2018 February |Bananas per kg|1.406|\n",
      "|2018 March    |Bananas per kg|1.405|\n",
      "|2018 April    |Bananas per kg|1.4  |\n",
      "|2018 May      |Bananas per kg|1.399|\n",
      "|2018 June     |Bananas per kg|1.404|\n",
      "|2018 July     |Bananas per kg|1.404|\n",
      "|2018 August   |Bananas per kg|1.403|\n",
      "|2018 September|Bananas per kg|1.404|\n",
      "|2018 October  |Bananas per kg|1.401|\n",
      "|2018 November |Bananas per kg|1.406|\n",
      "|2018 December |Bananas per kg|1.396|\n",
      "|2019 January  |Bananas per kg|1.388|\n",
      "|2019 February |Bananas per kg|1.402|\n",
      "|2019 March    |Bananas per kg|1.401|\n",
      "|2019 April    |Bananas per kg|1.407|\n",
      "|2019 May      |Bananas per kg|1.407|\n",
      "|2019 June     |Bananas per kg|1.403|\n",
      "|2019 July     |Bananas per kg|1.404|\n",
      "|2019 August   |Bananas per kg|1.404|\n",
      "|2019 September|Bananas per kg|1.401|\n",
      "|2019 October  |Bananas per kg|1.402|\n",
      "|2019 November |Bananas per kg|1.398|\n",
      "|2019 December |Bananas per kg|1.402|\n",
      "|2020 January  |Bananas per kg|1.405|\n",
      "|2020 February |Bananas per kg|1.414|\n",
      "|2020 March    |Bananas per kg|1.418|\n",
      "|2020 April    |Bananas per kg|1.399|\n",
      "|2020 May      |Bananas per kg|1.373|\n",
      "|2020 June     |Bananas per kg|1.336|\n",
      "|2020 July     |Bananas per kg|1.476|\n",
      "|2020 August   |Bananas per kg|1.377|\n",
      "|2020 September|Bananas per kg|1.408|\n",
      "|2020 October  |Bananas per kg|1.463|\n",
      "|2020 November |Bananas per kg|1.464|\n",
      "|2020 December |Bananas per kg|1.465|\n",
      "|2021 January  |Bananas per kg|1.293|\n",
      "|2021 February |Bananas per kg|1.443|\n",
      "|2021 March    |Bananas per kg|1.443|\n",
      "|2021 April    |Bananas per kg|1.422|\n",
      "|2021 May      |Bananas per kg|1.531|\n",
      "|2021 June     |Bananas per kg|1.531|\n",
      "|2021 July     |Bananas per kg|1.531|\n",
      "|2021 August   |Bananas per kg|1.493|\n",
      "|2021 September|Bananas per kg|1.435|\n",
      "|2021 October  |Bananas per kg|1.494|\n",
      "|2021 November |Bananas per kg|1.531|\n",
      "|2021 December |Bananas per kg|1.531|\n",
      "|2022 January  |Bananas per kg|1.395|\n",
      "|2022 February |Bananas per kg|1.495|\n",
      "|2022 March    |Bananas per kg|1.484|\n",
      "|2022 April    |Bananas per kg|1.503|\n",
      "|2022 May      |Bananas per kg|1.519|\n",
      "|2022 June     |Bananas per kg|1.525|\n",
      "|2022 July     |Bananas per kg|1.527|\n",
      "|2022 August   |Bananas per kg|1.549|\n",
      "|2022 September|Bananas per kg|1.56 |\n",
      "|2022 October  |Bananas per kg|1.602|\n",
      "|2022 November |Bananas per kg|1.631|\n",
      "|2022 December |Bananas per kg|1.676|\n",
      "|2023 January  |Bananas per kg|1.677|\n",
      "|2023 February |Bananas per kg|1.689|\n",
      "|2023 March    |Bananas per kg|1.689|\n",
      "|2023 April    |Bananas per kg|1.689|\n",
      "|2023 May      |Bananas per kg|1.699|\n",
      "|2023 June     |Bananas per kg|1.699|\n",
      "|2023 July     |Bananas per kg|1.694|\n",
      "|2023 August   |Bananas per kg|1.698|\n",
      "|2023 September|Bananas per kg|1.66 |\n",
      "|2023 October  |Bananas per kg|1.72 |\n",
      "|2023 November |Bananas per kg|1.728|\n",
      "|2023 December |Bananas per kg|1.732|\n",
      "|2024 January  |Bananas per kg|1.733|\n",
      "|2024 February |Bananas per kg|1.732|\n",
      "+--------------+--------------+-----+\n",
      "\n"
     ]
    }
   ],
   "source": [
    "#Drop rows with null values\n",
    "df_two = df_two.dropna()\n",
    "\n",
    "\n",
    "#Checking for Missing data have been dropped\n",
    "df_two.show(n=df_two.count(), truncate=False)\n"
   ]
  },
  {
   "cell_type": "markdown",
   "id": "3bd17eb1",
   "metadata": {},
   "source": [
    "## Drop date 2001M12 from the month variable because its the only value for that whole year in dataframe df_one and 2024, because it only has 2months in dataframe_two"
   ]
  },
  {
   "cell_type": "code",
   "execution_count": 29,
   "id": "b909ab6e",
   "metadata": {},
   "outputs": [],
   "source": [
    "from pyspark.sql.functions import col\n",
    "\n",
    "#Filter out rows with Month equal to \"2001M12\"\n",
    "df_one = df_one.filter(col(\"Month\") != \"2001M12\")"
   ]
  },
  {
   "cell_type": "code",
   "execution_count": 30,
   "id": "f58aa22f",
   "metadata": {
    "scrolled": false
   },
   "outputs": [
    {
     "name": "stdout",
     "output_type": "stream",
     "text": [
      "+---------------+-------+-----+\n",
      "|Consumer Item  |Month  |VALUE|\n",
      "+---------------+-------+-----+\n",
      "|Bananas per kg.|2002M01|1.691|\n",
      "|Bananas per kg.|2002M02|1.67 |\n",
      "|Bananas per kg.|2002M03|1.496|\n",
      "|Bananas per kg.|2002M04|1.669|\n",
      "|Bananas per kg.|2002M05|1.623|\n",
      "|Bananas per kg.|2002M06|1.652|\n",
      "|Bananas per kg.|2002M07|1.652|\n",
      "|Bananas per kg.|2002M08|1.664|\n",
      "|Bananas per kg.|2002M09|1.677|\n",
      "|Bananas per kg.|2002M10|1.694|\n",
      "|Bananas per kg.|2002M11|1.694|\n",
      "|Bananas per kg.|2002M12|1.693|\n",
      "|Bananas per kg.|2003M01|1.674|\n",
      "|Bananas per kg.|2003M02|1.671|\n",
      "|Bananas per kg.|2003M03|1.489|\n",
      "|Bananas per kg.|2003M04|1.62 |\n",
      "|Bananas per kg.|2003M05|1.513|\n",
      "|Bananas per kg.|2003M06|1.42 |\n",
      "|Bananas per kg.|2003M07|1.459|\n",
      "|Bananas per kg.|2003M08|1.456|\n",
      "|Bananas per kg.|2003M09|1.466|\n",
      "|Bananas per kg.|2003M10|1.466|\n",
      "|Bananas per kg.|2003M11|1.453|\n",
      "|Bananas per kg.|2003M12|1.438|\n",
      "|Bananas per kg.|2004M01|1.424|\n",
      "|Bananas per kg.|2004M02|1.447|\n",
      "|Bananas per kg.|2004M03|1.428|\n",
      "|Bananas per kg.|2004M04|1.352|\n",
      "|Bananas per kg.|2004M05|1.357|\n",
      "|Bananas per kg.|2004M06|1.349|\n",
      "|Bananas per kg.|2004M07|1.35 |\n",
      "|Bananas per kg.|2004M08|1.373|\n",
      "|Bananas per kg.|2004M09|1.374|\n",
      "|Bananas per kg.|2004M10|1.383|\n",
      "|Bananas per kg.|2004M11|1.377|\n",
      "|Bananas per kg.|2004M12|1.373|\n",
      "|Bananas per kg.|2005M01|1.4  |\n",
      "|Bananas per kg.|2005M02|1.394|\n",
      "|Bananas per kg.|2005M03|1.393|\n",
      "|Bananas per kg.|2005M04|1.366|\n",
      "|Bananas per kg.|2005M05|1.374|\n",
      "|Bananas per kg.|2005M06|1.35 |\n",
      "|Bananas per kg.|2005M07|1.349|\n",
      "|Bananas per kg.|2005M08|1.344|\n",
      "|Bananas per kg.|2005M09|1.318|\n",
      "|Bananas per kg.|2005M10|1.332|\n",
      "|Bananas per kg.|2005M11|1.32 |\n",
      "|Bananas per kg.|2005M12|1.338|\n",
      "|Bananas per kg.|2006M01|1.344|\n",
      "|Bananas per kg.|2006M02|1.345|\n",
      "|Bananas per kg.|2006M03|1.337|\n",
      "|Bananas per kg.|2006M04|1.339|\n",
      "|Bananas per kg.|2006M05|1.326|\n",
      "|Bananas per kg.|2006M06|1.34 |\n",
      "|Bananas per kg.|2006M07|1.349|\n",
      "|Bananas per kg.|2006M08|1.348|\n",
      "|Bananas per kg.|2006M09|1.32 |\n",
      "|Bananas per kg.|2006M10|1.319|\n",
      "|Bananas per kg.|2006M11|1.391|\n",
      "|Bananas per kg.|2006M12|1.441|\n",
      "|Bananas per kg.|2007M01|1.423|\n",
      "|Bananas per kg.|2007M02|1.437|\n",
      "|Bananas per kg.|2007M03|1.444|\n",
      "|Bananas per kg.|2007M04|1.453|\n",
      "|Bananas per kg.|2007M05|1.469|\n",
      "|Bananas per kg.|2007M06|1.487|\n",
      "|Bananas per kg.|2007M07|1.469|\n",
      "|Bananas per kg.|2007M08|1.468|\n",
      "|Bananas per kg.|2007M09|1.432|\n",
      "|Bananas per kg.|2007M10|1.444|\n",
      "|Bananas per kg.|2007M11|1.454|\n",
      "|Bananas per kg.|2007M12|1.442|\n",
      "|Bananas per kg.|2008M01|1.446|\n",
      "|Bananas per kg.|2008M02|1.435|\n",
      "|Bananas per kg.|2008M03|1.459|\n",
      "|Bananas per kg.|2008M04|1.462|\n",
      "|Bananas per kg.|2008M05|1.465|\n",
      "|Bananas per kg.|2008M06|1.467|\n",
      "|Bananas per kg.|2008M07|1.484|\n",
      "|Bananas per kg.|2008M08|1.478|\n",
      "|Bananas per kg.|2008M09|1.468|\n",
      "|Bananas per kg.|2008M10|1.468|\n",
      "|Bananas per kg.|2008M11|1.54 |\n",
      "|Bananas per kg.|2008M12|1.557|\n",
      "|Bananas per kg.|2009M01|1.563|\n",
      "|Bananas per kg.|2009M02|1.567|\n",
      "|Bananas per kg.|2009M03|1.548|\n",
      "|Bananas per kg.|2009M04|1.534|\n",
      "|Bananas per kg.|2009M05|1.473|\n",
      "|Bananas per kg.|2009M06|1.337|\n",
      "|Bananas per kg.|2009M07|1.32 |\n",
      "|Bananas per kg.|2009M08|1.332|\n",
      "|Bananas per kg.|2009M09|1.322|\n",
      "|Bananas per kg.|2009M10|1.305|\n",
      "|Bananas per kg.|2009M11|1.092|\n",
      "|Bananas per kg.|2009M12|1.072|\n",
      "|Bananas per kg.|2010M01|1.06 |\n",
      "|Bananas per kg.|2010M02|1.111|\n",
      "|Bananas per kg.|2010M03|1.104|\n",
      "|Bananas per kg.|2010M04|1.122|\n",
      "|Bananas per kg.|2010M05|1.129|\n",
      "|Bananas per kg.|2010M06|1.228|\n",
      "|Bananas per kg.|2010M07|1.266|\n",
      "|Bananas per kg.|2010M08|1.263|\n",
      "|Bananas per kg.|2010M09|1.259|\n",
      "|Bananas per kg.|2010M10|1.257|\n",
      "|Bananas per kg.|2010M11|1.267|\n",
      "|Bananas per kg.|2010M12|1.242|\n",
      "|Bananas per kg.|2011M01|1.238|\n",
      "|Bananas per kg.|2011M02|1.323|\n",
      "|Bananas per kg.|2011M03|1.35 |\n",
      "|Bananas per kg.|2011M04|1.335|\n",
      "|Bananas per kg.|2011M05|1.343|\n",
      "|Bananas per kg.|2011M06|1.339|\n",
      "|Bananas per kg.|2011M07|1.355|\n",
      "|Bananas per kg.|2011M08|1.357|\n",
      "|Bananas per kg.|2011M09|1.343|\n",
      "|Bananas per kg.|2011M10|1.345|\n",
      "|Bananas per kg.|2011M11|1.359|\n",
      "|Bananas per kg.|2011M12|1.32 |\n",
      "+---------------+-------+-----+\n",
      "\n"
     ]
    }
   ],
   "source": [
    "#Check if the date has been dropped\n",
    "df_one.show(n=df_one.count(), truncate=False)"
   ]
  },
  {
   "cell_type": "markdown",
   "id": "6d01cd05",
   "metadata": {},
   "source": [
    "## Findings\n",
    "- the date has been dropped"
   ]
  },
  {
   "cell_type": "code",
   "execution_count": 31,
   "id": "606dad13",
   "metadata": {},
   "outputs": [],
   "source": [
    "#Filter out rows with month equal to 2024 January and 2023 February\n",
    "df_two = df_two.filter(col(\"Month\") != \"2024 January\")\n",
    "df_two = df_two.filter(col(\"Month\") != \"2024 February\")"
   ]
  },
  {
   "cell_type": "code",
   "execution_count": 32,
   "id": "0b6c18cc",
   "metadata": {},
   "outputs": [
    {
     "name": "stdout",
     "output_type": "stream",
     "text": [
      "+--------------+--------------+-----+\n",
      "|Month         |Consumer Item |VALUE|\n",
      "+--------------+--------------+-----+\n",
      "|2012 January  |Bananas per kg|1.33 |\n",
      "|2012 February |Bananas per kg|1.359|\n",
      "|2012 March    |Bananas per kg|1.371|\n",
      "|2012 April    |Bananas per kg|1.362|\n",
      "|2012 May      |Bananas per kg|1.375|\n",
      "|2012 June     |Bananas per kg|1.364|\n",
      "|2012 July     |Bananas per kg|1.355|\n",
      "|2012 August   |Bananas per kg|1.369|\n",
      "|2012 September|Bananas per kg|1.38 |\n",
      "|2012 October  |Bananas per kg|1.356|\n",
      "|2012 November |Bananas per kg|1.368|\n",
      "|2012 December |Bananas per kg|1.373|\n",
      "|2013 January  |Bananas per kg|1.369|\n",
      "|2013 February |Bananas per kg|1.368|\n",
      "|2013 March    |Bananas per kg|1.394|\n",
      "|2013 April    |Bananas per kg|1.375|\n",
      "|2013 May      |Bananas per kg|1.377|\n",
      "|2013 June     |Bananas per kg|1.374|\n",
      "|2013 July     |Bananas per kg|1.376|\n",
      "|2013 August   |Bananas per kg|1.38 |\n",
      "|2013 September|Bananas per kg|1.378|\n",
      "|2013 October  |Bananas per kg|1.373|\n",
      "|2013 November |Bananas per kg|1.367|\n",
      "|2013 December |Bananas per kg|1.374|\n",
      "|2014 January  |Bananas per kg|1.366|\n",
      "|2014 February |Bananas per kg|1.371|\n",
      "|2014 March    |Bananas per kg|1.375|\n",
      "|2014 April    |Bananas per kg|1.374|\n",
      "|2014 May      |Bananas per kg|1.372|\n",
      "|2014 June     |Bananas per kg|1.37 |\n",
      "|2014 July     |Bananas per kg|1.373|\n",
      "|2014 August   |Bananas per kg|1.371|\n",
      "|2014 September|Bananas per kg|1.357|\n",
      "|2014 October  |Bananas per kg|1.361|\n",
      "|2014 November |Bananas per kg|1.362|\n",
      "|2014 December |Bananas per kg|1.363|\n",
      "|2015 January  |Bananas per kg|1.363|\n",
      "|2015 February |Bananas per kg|1.362|\n",
      "|2015 March    |Bananas per kg|1.361|\n",
      "|2015 April    |Bananas per kg|1.369|\n",
      "|2015 May      |Bananas per kg|1.362|\n",
      "|2015 June     |Bananas per kg|1.361|\n",
      "|2015 July     |Bananas per kg|1.363|\n",
      "|2015 August   |Bananas per kg|1.365|\n",
      "|2015 September|Bananas per kg|1.37 |\n",
      "|2015 October  |Bananas per kg|1.378|\n",
      "|2015 November |Bananas per kg|1.387|\n",
      "|2015 December |Bananas per kg|1.382|\n",
      "|2016 January  |Bananas per kg|1.389|\n",
      "|2016 February |Bananas per kg|1.382|\n",
      "|2016 March    |Bananas per kg|1.385|\n",
      "|2016 April    |Bananas per kg|1.393|\n",
      "|2016 May      |Bananas per kg|1.396|\n",
      "|2016 June     |Bananas per kg|1.393|\n",
      "|2016 July     |Bananas per kg|1.399|\n",
      "|2016 August   |Bananas per kg|1.405|\n",
      "|2016 September|Bananas per kg|1.41 |\n",
      "|2016 October  |Bananas per kg|1.411|\n",
      "|2016 November |Bananas per kg|1.403|\n",
      "|2016 December |Bananas per kg|1.406|\n",
      "|2017 January  |Bananas per kg|1.411|\n",
      "|2017 February |Bananas per kg|1.414|\n",
      "|2017 March    |Bananas per kg|1.407|\n",
      "|2017 April    |Bananas per kg|1.405|\n",
      "|2017 May      |Bananas per kg|1.413|\n",
      "|2017 June     |Bananas per kg|1.404|\n",
      "|2017 July     |Bananas per kg|1.406|\n",
      "|2017 August   |Bananas per kg|1.411|\n",
      "|2017 September|Bananas per kg|1.412|\n",
      "|2017 October  |Bananas per kg|1.411|\n",
      "|2017 November |Bananas per kg|1.412|\n",
      "|2017 December |Bananas per kg|1.411|\n",
      "|2018 January  |Bananas per kg|1.405|\n",
      "|2018 February |Bananas per kg|1.406|\n",
      "|2018 March    |Bananas per kg|1.405|\n",
      "|2018 April    |Bananas per kg|1.4  |\n",
      "|2018 May      |Bananas per kg|1.399|\n",
      "|2018 June     |Bananas per kg|1.404|\n",
      "|2018 July     |Bananas per kg|1.404|\n",
      "|2018 August   |Bananas per kg|1.403|\n",
      "|2018 September|Bananas per kg|1.404|\n",
      "|2018 October  |Bananas per kg|1.401|\n",
      "|2018 November |Bananas per kg|1.406|\n",
      "|2018 December |Bananas per kg|1.396|\n",
      "|2019 January  |Bananas per kg|1.388|\n",
      "|2019 February |Bananas per kg|1.402|\n",
      "|2019 March    |Bananas per kg|1.401|\n",
      "|2019 April    |Bananas per kg|1.407|\n",
      "|2019 May      |Bananas per kg|1.407|\n",
      "|2019 June     |Bananas per kg|1.403|\n",
      "|2019 July     |Bananas per kg|1.404|\n",
      "|2019 August   |Bananas per kg|1.404|\n",
      "|2019 September|Bananas per kg|1.401|\n",
      "|2019 October  |Bananas per kg|1.402|\n",
      "|2019 November |Bananas per kg|1.398|\n",
      "|2019 December |Bananas per kg|1.402|\n",
      "|2020 January  |Bananas per kg|1.405|\n",
      "|2020 February |Bananas per kg|1.414|\n",
      "|2020 March    |Bananas per kg|1.418|\n",
      "|2020 April    |Bananas per kg|1.399|\n",
      "|2020 May      |Bananas per kg|1.373|\n",
      "|2020 June     |Bananas per kg|1.336|\n",
      "|2020 July     |Bananas per kg|1.476|\n",
      "|2020 August   |Bananas per kg|1.377|\n",
      "|2020 September|Bananas per kg|1.408|\n",
      "|2020 October  |Bananas per kg|1.463|\n",
      "|2020 November |Bananas per kg|1.464|\n",
      "|2020 December |Bananas per kg|1.465|\n",
      "|2021 January  |Bananas per kg|1.293|\n",
      "|2021 February |Bananas per kg|1.443|\n",
      "|2021 March    |Bananas per kg|1.443|\n",
      "|2021 April    |Bananas per kg|1.422|\n",
      "|2021 May      |Bananas per kg|1.531|\n",
      "|2021 June     |Bananas per kg|1.531|\n",
      "|2021 July     |Bananas per kg|1.531|\n",
      "|2021 August   |Bananas per kg|1.493|\n",
      "|2021 September|Bananas per kg|1.435|\n",
      "|2021 October  |Bananas per kg|1.494|\n",
      "|2021 November |Bananas per kg|1.531|\n",
      "|2021 December |Bananas per kg|1.531|\n",
      "|2022 January  |Bananas per kg|1.395|\n",
      "|2022 February |Bananas per kg|1.495|\n",
      "|2022 March    |Bananas per kg|1.484|\n",
      "|2022 April    |Bananas per kg|1.503|\n",
      "|2022 May      |Bananas per kg|1.519|\n",
      "|2022 June     |Bananas per kg|1.525|\n",
      "|2022 July     |Bananas per kg|1.527|\n",
      "|2022 August   |Bananas per kg|1.549|\n",
      "|2022 September|Bananas per kg|1.56 |\n",
      "|2022 October  |Bananas per kg|1.602|\n",
      "|2022 November |Bananas per kg|1.631|\n",
      "|2022 December |Bananas per kg|1.676|\n",
      "|2023 January  |Bananas per kg|1.677|\n",
      "|2023 February |Bananas per kg|1.689|\n",
      "|2023 March    |Bananas per kg|1.689|\n",
      "|2023 April    |Bananas per kg|1.689|\n",
      "|2023 May      |Bananas per kg|1.699|\n",
      "|2023 June     |Bananas per kg|1.699|\n",
      "|2023 July     |Bananas per kg|1.694|\n",
      "|2023 August   |Bananas per kg|1.698|\n",
      "|2023 September|Bananas per kg|1.66 |\n",
      "|2023 October  |Bananas per kg|1.72 |\n",
      "|2023 November |Bananas per kg|1.728|\n",
      "|2023 December |Bananas per kg|1.732|\n",
      "+--------------+--------------+-----+\n",
      "\n"
     ]
    }
   ],
   "source": [
    "#Check if the date has been dropped\n",
    "df_two.show(n=df_two.count(), truncate=False)"
   ]
  },
  {
   "cell_type": "markdown",
   "id": "22d33df6",
   "metadata": {},
   "source": [
    "## Findings\n",
    "- the date has been dropped"
   ]
  },
  {
   "cell_type": "markdown",
   "id": "00d201f9",
   "metadata": {},
   "source": [
    "# iv) Change the data types to the correct data type for the variables\n",
    "- the value is a float, this is okay\n",
    "- the date variable is a string needs to be a date-time type\n",
    "- consumer item is string which is okay"
   ]
  },
  {
   "cell_type": "code",
   "execution_count": 33,
   "id": "74b27e41",
   "metadata": {},
   "outputs": [
    {
     "name": "stdout",
     "output_type": "stream",
     "text": [
      "+---------------+--------------+-----+\n",
      "|Consumer Item  |Month         |VALUE|\n",
      "+---------------+--------------+-----+\n",
      "|Bananas per kg.|2002 January  |1.691|\n",
      "|Bananas per kg.|2002 February |1.67 |\n",
      "|Bananas per kg.|2002 March    |1.496|\n",
      "|Bananas per kg.|2002 April    |1.669|\n",
      "|Bananas per kg.|2002 May      |1.623|\n",
      "|Bananas per kg.|2002 June     |1.652|\n",
      "|Bananas per kg.|2002 July     |1.652|\n",
      "|Bananas per kg.|2002 August   |1.664|\n",
      "|Bananas per kg.|2002 September|1.677|\n",
      "|Bananas per kg.|2002 October  |1.694|\n",
      "|Bananas per kg.|2002 November |1.694|\n",
      "|Bananas per kg.|2002 December |1.693|\n",
      "|Bananas per kg.|2003 January  |1.674|\n",
      "|Bananas per kg.|2003 February |1.671|\n",
      "|Bananas per kg.|2003 March    |1.489|\n",
      "|Bananas per kg.|2003 April    |1.62 |\n",
      "|Bananas per kg.|2003 May      |1.513|\n",
      "|Bananas per kg.|2003 June     |1.42 |\n",
      "|Bananas per kg.|2003 July     |1.459|\n",
      "|Bananas per kg.|2003 August   |1.456|\n",
      "|Bananas per kg.|2003 September|1.466|\n",
      "|Bananas per kg.|2003 October  |1.466|\n",
      "|Bananas per kg.|2003 November |1.453|\n",
      "|Bananas per kg.|2003 December |1.438|\n",
      "|Bananas per kg.|2004 January  |1.424|\n",
      "|Bananas per kg.|2004 February |1.447|\n",
      "|Bananas per kg.|2004 March    |1.428|\n",
      "|Bananas per kg.|2004 April    |1.352|\n",
      "|Bananas per kg.|2004 May      |1.357|\n",
      "|Bananas per kg.|2004 June     |1.349|\n",
      "|Bananas per kg.|2004 July     |1.35 |\n",
      "|Bananas per kg.|2004 August   |1.373|\n",
      "|Bananas per kg.|2004 September|1.374|\n",
      "|Bananas per kg.|2004 October  |1.383|\n",
      "|Bananas per kg.|2004 November |1.377|\n",
      "|Bananas per kg.|2004 December |1.373|\n",
      "|Bananas per kg.|2005 January  |1.4  |\n",
      "|Bananas per kg.|2005 February |1.394|\n",
      "|Bananas per kg.|2005 March    |1.393|\n",
      "|Bananas per kg.|2005 April    |1.366|\n",
      "|Bananas per kg.|2005 May      |1.374|\n",
      "|Bananas per kg.|2005 June     |1.35 |\n",
      "|Bananas per kg.|2005 July     |1.349|\n",
      "|Bananas per kg.|2005 August   |1.344|\n",
      "|Bananas per kg.|2005 September|1.318|\n",
      "|Bananas per kg.|2005 October  |1.332|\n",
      "|Bananas per kg.|2005 November |1.32 |\n",
      "|Bananas per kg.|2005 December |1.338|\n",
      "|Bananas per kg.|2006 January  |1.344|\n",
      "|Bananas per kg.|2006 February |1.345|\n",
      "|Bananas per kg.|2006 March    |1.337|\n",
      "|Bananas per kg.|2006 April    |1.339|\n",
      "|Bananas per kg.|2006 May      |1.326|\n",
      "|Bananas per kg.|2006 June     |1.34 |\n",
      "|Bananas per kg.|2006 July     |1.349|\n",
      "|Bananas per kg.|2006 August   |1.348|\n",
      "|Bananas per kg.|2006 September|1.32 |\n",
      "|Bananas per kg.|2006 October  |1.319|\n",
      "|Bananas per kg.|2006 November |1.391|\n",
      "|Bananas per kg.|2006 December |1.441|\n",
      "|Bananas per kg.|2007 January  |1.423|\n",
      "|Bananas per kg.|2007 February |1.437|\n",
      "|Bananas per kg.|2007 March    |1.444|\n",
      "|Bananas per kg.|2007 April    |1.453|\n",
      "|Bananas per kg.|2007 May      |1.469|\n",
      "|Bananas per kg.|2007 June     |1.487|\n",
      "|Bananas per kg.|2007 July     |1.469|\n",
      "|Bananas per kg.|2007 August   |1.468|\n",
      "|Bananas per kg.|2007 September|1.432|\n",
      "|Bananas per kg.|2007 October  |1.444|\n",
      "|Bananas per kg.|2007 November |1.454|\n",
      "|Bananas per kg.|2007 December |1.442|\n",
      "|Bananas per kg.|2008 January  |1.446|\n",
      "|Bananas per kg.|2008 February |1.435|\n",
      "|Bananas per kg.|2008 March    |1.459|\n",
      "|Bananas per kg.|2008 April    |1.462|\n",
      "|Bananas per kg.|2008 May      |1.465|\n",
      "|Bananas per kg.|2008 June     |1.467|\n",
      "|Bananas per kg.|2008 July     |1.484|\n",
      "|Bananas per kg.|2008 August   |1.478|\n",
      "|Bananas per kg.|2008 September|1.468|\n",
      "|Bananas per kg.|2008 October  |1.468|\n",
      "|Bananas per kg.|2008 November |1.54 |\n",
      "|Bananas per kg.|2008 December |1.557|\n",
      "|Bananas per kg.|2009 January  |1.563|\n",
      "|Bananas per kg.|2009 February |1.567|\n",
      "|Bananas per kg.|2009 March    |1.548|\n",
      "|Bananas per kg.|2009 April    |1.534|\n",
      "|Bananas per kg.|2009 May      |1.473|\n",
      "|Bananas per kg.|2009 June     |1.337|\n",
      "|Bananas per kg.|2009 July     |1.32 |\n",
      "|Bananas per kg.|2009 August   |1.332|\n",
      "|Bananas per kg.|2009 September|1.322|\n",
      "|Bananas per kg.|2009 October  |1.305|\n",
      "|Bananas per kg.|2009 November |1.092|\n",
      "|Bananas per kg.|2009 December |1.072|\n",
      "|Bananas per kg.|2010 January  |1.06 |\n",
      "|Bananas per kg.|2010 February |1.111|\n",
      "|Bananas per kg.|2010 March    |1.104|\n",
      "|Bananas per kg.|2010 April    |1.122|\n",
      "|Bananas per kg.|2010 May      |1.129|\n",
      "|Bananas per kg.|2010 June     |1.228|\n",
      "|Bananas per kg.|2010 July     |1.266|\n",
      "|Bananas per kg.|2010 August   |1.263|\n",
      "|Bananas per kg.|2010 September|1.259|\n",
      "|Bananas per kg.|2010 October  |1.257|\n",
      "|Bananas per kg.|2010 November |1.267|\n",
      "|Bananas per kg.|2010 December |1.242|\n",
      "|Bananas per kg.|2011 January  |1.238|\n",
      "|Bananas per kg.|2011 February |1.323|\n",
      "|Bananas per kg.|2011 March    |1.35 |\n",
      "|Bananas per kg.|2011 April    |1.335|\n",
      "|Bananas per kg.|2011 May      |1.343|\n",
      "|Bananas per kg.|2011 June     |1.339|\n",
      "|Bananas per kg.|2011 July     |1.355|\n",
      "|Bananas per kg.|2011 August   |1.357|\n",
      "|Bananas per kg.|2011 September|1.343|\n",
      "|Bananas per kg.|2011 October  |1.345|\n",
      "|Bananas per kg.|2011 November |1.359|\n",
      "|Bananas per kg.|2011 December |1.32 |\n",
      "+---------------+--------------+-----+\n",
      "\n"
     ]
    }
   ],
   "source": [
    "#Change the data type of month to date format in the two data frames\n",
    "from pyspark.sql.functions import regexp_replace\n",
    "\n",
    "# Define a dictionary mapping abbreviated month names to full month names\n",
    "month_mapping = {\n",
    "    \"M01\": \" January\",\n",
    "    \"M02\": \" February\",\n",
    "    \"M03\": \" March\",\n",
    "    \"M04\": \" April\",\n",
    "    \"M05\": \" May\",\n",
    "    \"M06\": \" June\",\n",
    "    \"M07\": \" July\",\n",
    "    \"M08\": \" August\",\n",
    "    \"M09\": \" September\",\n",
    "    \"M10\": \" October\",\n",
    "    \"M11\": \" November\",\n",
    "    \"M12\": \" December\"\n",
    "}\n",
    "\n",
    "#Create a regular expression pattern to match abbreviated month names\n",
    "pattern = \"|\".join(month_mapping.keys())\n",
    "\n",
    "#Replace abbreviated month names with full month names using regexp_replace\n",
    "for abbrev, full_name in month_mapping.items():\n",
    "    df_one = df_one.withColumn(\"Month\", regexp_replace(df_one[\"Month\"], abbrev, full_name))\n",
    "\n",
    "#Show the DataFrame\n",
    "df_one.show(n=df_one.count(), truncate=False)"
   ]
  },
  {
   "cell_type": "code",
   "execution_count": 34,
   "id": "9275fd5c",
   "metadata": {},
   "outputs": [
    {
     "name": "stdout",
     "output_type": "stream",
     "text": [
      "root\n",
      " |-- Consumer Item: string (nullable = true)\n",
      " |-- Month: string (nullable = true)\n",
      " |-- VALUE: double (nullable = true)\n",
      "\n",
      "root\n",
      " |-- Month: string (nullable = true)\n",
      " |-- Consumer Item: string (nullable = true)\n",
      " |-- VALUE: double (nullable = true)\n",
      "\n"
     ]
    },
    {
     "data": {
      "text/plain": [
       "(None, None)"
      ]
     },
     "execution_count": 34,
     "metadata": {},
     "output_type": "execute_result"
    }
   ],
   "source": [
    "#Checking the data type\n",
    "df_one.printSchema(), df_two.printSchema()"
   ]
  },
  {
   "cell_type": "code",
   "execution_count": 35,
   "id": "467dcb6c",
   "metadata": {},
   "outputs": [
    {
     "name": "stdout",
     "output_type": "stream",
     "text": [
      "+---------------+-----+--------------+\n",
      "|  Consumer Item|VALUE|          date|\n",
      "+---------------+-----+--------------+\n",
      "|Bananas per kg.|1.691|  2002 January|\n",
      "|Bananas per kg.| 1.67| 2002 February|\n",
      "|Bananas per kg.|1.496|    2002 March|\n",
      "|Bananas per kg.|1.669|    2002 April|\n",
      "|Bananas per kg.|1.623|      2002 May|\n",
      "|Bananas per kg.|1.652|     2002 June|\n",
      "|Bananas per kg.|1.652|     2002 July|\n",
      "|Bananas per kg.|1.664|   2002 August|\n",
      "|Bananas per kg.|1.677|2002 September|\n",
      "|Bananas per kg.|1.694|  2002 October|\n",
      "|Bananas per kg.|1.694| 2002 November|\n",
      "|Bananas per kg.|1.693| 2002 December|\n",
      "|Bananas per kg.|1.674|  2003 January|\n",
      "|Bananas per kg.|1.671| 2003 February|\n",
      "|Bananas per kg.|1.489|    2003 March|\n",
      "|Bananas per kg.| 1.62|    2003 April|\n",
      "|Bananas per kg.|1.513|      2003 May|\n",
      "|Bananas per kg.| 1.42|     2003 June|\n",
      "|Bananas per kg.|1.459|     2003 July|\n",
      "|Bananas per kg.|1.456|   2003 August|\n",
      "+---------------+-----+--------------+\n",
      "only showing top 20 rows\n",
      "\n"
     ]
    }
   ],
   "source": [
    "from pyspark.sql.functions import concat, lit\n",
    "\n",
    "# Extract year and month from the string column and concatenate them to form 'yyyy-MM' format\n",
    "df_one = df_one.withColumn(\"year\", df_one[\"Month\"].substr(1, 4))\n",
    "df_one = df_one.withColumn(\"month\", df_one[\"Month\"].substr(6, 100))  # Assuming the month part can be of varying length\n",
    "df_one = df_one.withColumn(\"date\", concat(df_one[\"year\"], lit(\" \"), df_one[\"month\"]))\n",
    "\n",
    "#Drop the intermediate columns if needed\n",
    "df_one = df_one.drop(\"year\", \"month\")\n",
    "\n",
    "#Show the DataFrame\n",
    "df_one.show()\n",
    "\n"
   ]
  },
  {
   "cell_type": "code",
   "execution_count": 36,
   "id": "ec403c77",
   "metadata": {},
   "outputs": [
    {
     "name": "stdout",
     "output_type": "stream",
     "text": [
      "root\n",
      " |-- Consumer Item: string (nullable = true)\n",
      " |-- VALUE: double (nullable = true)\n",
      " |-- date: string (nullable = true)\n",
      "\n",
      "root\n",
      " |-- Month: string (nullable = true)\n",
      " |-- Consumer Item: string (nullable = true)\n",
      " |-- VALUE: double (nullable = true)\n",
      "\n"
     ]
    },
    {
     "data": {
      "text/plain": [
       "(None, None)"
      ]
     },
     "execution_count": 36,
     "metadata": {},
     "output_type": "execute_result"
    }
   ],
   "source": [
    "df_one.printSchema(),df_two.printSchema()"
   ]
  },
  {
   "cell_type": "markdown",
   "id": "264b8779",
   "metadata": {},
   "source": [
    "## Step Three: Data Integration. Merging the two datasets into one"
   ]
  },
  {
   "cell_type": "code",
   "execution_count": 37,
   "id": "e7bcd774",
   "metadata": {},
   "outputs": [],
   "source": [
    "#Rename columns in df_one to match columns in df_two\n",
    "rename_mapping = {\"date_str\": \"date\", \"VALUE\": \"National Average Price(Euros)\"}\n",
    "for old_col, new_col in rename_mapping.items():\n",
    "    df_one = df_one.withColumnRenamed(old_col, new_col)"
   ]
  },
  {
   "cell_type": "code",
   "execution_count": 38,
   "id": "bbae316e",
   "metadata": {},
   "outputs": [],
   "source": [
    "#Rename columns in df_two to match columns in df_one\n",
    "rename_mapping = {\"Month\": \"date\", \"VALUE\": \"National Average Price(Euros)\"}\n",
    "for old_col, new_col in rename_mapping.items():\n",
    "    df_two = df_two.withColumnRenamed(old_col, new_col)"
   ]
  },
  {
   "cell_type": "code",
   "execution_count": 39,
   "id": "052b0a53",
   "metadata": {},
   "outputs": [
    {
     "name": "stdout",
     "output_type": "stream",
     "text": [
      "+---------------+-----------------------------+--------------+\n",
      "|  Consumer Item|National Average Price(Euros)|          date|\n",
      "+---------------+-----------------------------+--------------+\n",
      "|Bananas per kg.|                        1.691|  2002 January|\n",
      "|Bananas per kg.|                         1.67| 2002 February|\n",
      "|Bananas per kg.|                        1.496|    2002 March|\n",
      "|Bananas per kg.|                        1.669|    2002 April|\n",
      "|Bananas per kg.|                        1.623|      2002 May|\n",
      "|Bananas per kg.|                        1.652|     2002 June|\n",
      "|Bananas per kg.|                        1.652|     2002 July|\n",
      "|Bananas per kg.|                        1.664|   2002 August|\n",
      "|Bananas per kg.|                        1.677|2002 September|\n",
      "|Bananas per kg.|                        1.694|  2002 October|\n",
      "|Bananas per kg.|                        1.694| 2002 November|\n",
      "|Bananas per kg.|                        1.693| 2002 December|\n",
      "|Bananas per kg.|                        1.674|  2003 January|\n",
      "|Bananas per kg.|                        1.671| 2003 February|\n",
      "|Bananas per kg.|                        1.489|    2003 March|\n",
      "|Bananas per kg.|                         1.62|    2003 April|\n",
      "|Bananas per kg.|                        1.513|      2003 May|\n",
      "|Bananas per kg.|                         1.42|     2003 June|\n",
      "|Bananas per kg.|                        1.459|     2003 July|\n",
      "|Bananas per kg.|                        1.456|   2003 August|\n",
      "+---------------+-----------------------------+--------------+\n",
      "only showing top 20 rows\n",
      "\n",
      "+--------------+--------------+-----------------------------+\n",
      "|          date| Consumer Item|National Average Price(Euros)|\n",
      "+--------------+--------------+-----------------------------+\n",
      "|  2012 January|Bananas per kg|                         1.33|\n",
      "| 2012 February|Bananas per kg|                        1.359|\n",
      "|    2012 March|Bananas per kg|                        1.371|\n",
      "|    2012 April|Bananas per kg|                        1.362|\n",
      "|      2012 May|Bananas per kg|                        1.375|\n",
      "|     2012 June|Bananas per kg|                        1.364|\n",
      "|     2012 July|Bananas per kg|                        1.355|\n",
      "|   2012 August|Bananas per kg|                        1.369|\n",
      "|2012 September|Bananas per kg|                         1.38|\n",
      "|  2012 October|Bananas per kg|                        1.356|\n",
      "| 2012 November|Bananas per kg|                        1.368|\n",
      "| 2012 December|Bananas per kg|                        1.373|\n",
      "|  2013 January|Bananas per kg|                        1.369|\n",
      "| 2013 February|Bananas per kg|                        1.368|\n",
      "|    2013 March|Bananas per kg|                        1.394|\n",
      "|    2013 April|Bananas per kg|                        1.375|\n",
      "|      2013 May|Bananas per kg|                        1.377|\n",
      "|     2013 June|Bananas per kg|                        1.374|\n",
      "|     2013 July|Bananas per kg|                        1.376|\n",
      "|   2013 August|Bananas per kg|                         1.38|\n",
      "+--------------+--------------+-----------------------------+\n",
      "only showing top 20 rows\n",
      "\n"
     ]
    },
    {
     "data": {
      "text/plain": [
       "(None, None)"
      ]
     },
     "execution_count": 39,
     "metadata": {},
     "output_type": "execute_result"
    }
   ],
   "source": [
    "#Checking if the label have been updated\n",
    "df_one.show(), df_two.show()"
   ]
  },
  {
   "cell_type": "code",
   "execution_count": 40,
   "id": "3fc07eed",
   "metadata": {},
   "outputs": [
    {
     "name": "stdout",
     "output_type": "stream",
     "text": [
      "+---------------+--------------+-----------------------------+\n",
      "|Consumer Item  |date          |National Average Price(Euros)|\n",
      "+---------------+--------------+-----------------------------+\n",
      "|Bananas per kg.|2002 January  |1.691                        |\n",
      "|Bananas per kg.|2002 February |1.67                         |\n",
      "|Bananas per kg.|2002 March    |1.496                        |\n",
      "|Bananas per kg.|2002 April    |1.669                        |\n",
      "|Bananas per kg.|2002 May      |1.623                        |\n",
      "|Bananas per kg.|2002 June     |1.652                        |\n",
      "|Bananas per kg.|2002 July     |1.652                        |\n",
      "|Bananas per kg.|2002 August   |1.664                        |\n",
      "|Bananas per kg.|2002 September|1.677                        |\n",
      "|Bananas per kg.|2002 October  |1.694                        |\n",
      "|Bananas per kg.|2002 November |1.694                        |\n",
      "|Bananas per kg.|2002 December |1.693                        |\n",
      "|Bananas per kg.|2003 January  |1.674                        |\n",
      "|Bananas per kg.|2003 February |1.671                        |\n",
      "|Bananas per kg.|2003 March    |1.489                        |\n",
      "|Bananas per kg.|2003 April    |1.62                         |\n",
      "|Bananas per kg.|2003 May      |1.513                        |\n",
      "|Bananas per kg.|2003 June     |1.42                         |\n",
      "|Bananas per kg.|2003 July     |1.459                        |\n",
      "|Bananas per kg.|2003 August   |1.456                        |\n",
      "|Bananas per kg.|2003 September|1.466                        |\n",
      "|Bananas per kg.|2003 October  |1.466                        |\n",
      "|Bananas per kg.|2003 November |1.453                        |\n",
      "|Bananas per kg.|2003 December |1.438                        |\n",
      "|Bananas per kg.|2004 January  |1.424                        |\n",
      "|Bananas per kg.|2004 February |1.447                        |\n",
      "|Bananas per kg.|2004 March    |1.428                        |\n",
      "|Bananas per kg.|2004 April    |1.352                        |\n",
      "|Bananas per kg.|2004 May      |1.357                        |\n",
      "|Bananas per kg.|2004 June     |1.349                        |\n",
      "|Bananas per kg.|2004 July     |1.35                         |\n",
      "|Bananas per kg.|2004 August   |1.373                        |\n",
      "|Bananas per kg.|2004 September|1.374                        |\n",
      "|Bananas per kg.|2004 October  |1.383                        |\n",
      "|Bananas per kg.|2004 November |1.377                        |\n",
      "|Bananas per kg.|2004 December |1.373                        |\n",
      "|Bananas per kg.|2005 January  |1.4                          |\n",
      "|Bananas per kg.|2005 February |1.394                        |\n",
      "|Bananas per kg.|2005 March    |1.393                        |\n",
      "|Bananas per kg.|2005 April    |1.366                        |\n",
      "|Bananas per kg.|2005 May      |1.374                        |\n",
      "|Bananas per kg.|2005 June     |1.35                         |\n",
      "|Bananas per kg.|2005 July     |1.349                        |\n",
      "|Bananas per kg.|2005 August   |1.344                        |\n",
      "|Bananas per kg.|2005 September|1.318                        |\n",
      "|Bananas per kg.|2005 October  |1.332                        |\n",
      "|Bananas per kg.|2005 November |1.32                         |\n",
      "|Bananas per kg.|2005 December |1.338                        |\n",
      "|Bananas per kg.|2006 January  |1.344                        |\n",
      "|Bananas per kg.|2006 February |1.345                        |\n",
      "|Bananas per kg.|2006 March    |1.337                        |\n",
      "|Bananas per kg.|2006 April    |1.339                        |\n",
      "|Bananas per kg.|2006 May      |1.326                        |\n",
      "|Bananas per kg.|2006 June     |1.34                         |\n",
      "|Bananas per kg.|2006 July     |1.349                        |\n",
      "|Bananas per kg.|2006 August   |1.348                        |\n",
      "|Bananas per kg.|2006 September|1.32                         |\n",
      "|Bananas per kg.|2006 October  |1.319                        |\n",
      "|Bananas per kg.|2006 November |1.391                        |\n",
      "|Bananas per kg.|2006 December |1.441                        |\n",
      "|Bananas per kg.|2007 January  |1.423                        |\n",
      "|Bananas per kg.|2007 February |1.437                        |\n",
      "|Bananas per kg.|2007 March    |1.444                        |\n",
      "|Bananas per kg.|2007 April    |1.453                        |\n",
      "|Bananas per kg.|2007 May      |1.469                        |\n",
      "|Bananas per kg.|2007 June     |1.487                        |\n",
      "|Bananas per kg.|2007 July     |1.469                        |\n",
      "|Bananas per kg.|2007 August   |1.468                        |\n",
      "|Bananas per kg.|2007 September|1.432                        |\n",
      "|Bananas per kg.|2007 October  |1.444                        |\n",
      "|Bananas per kg.|2007 November |1.454                        |\n",
      "|Bananas per kg.|2007 December |1.442                        |\n",
      "|Bananas per kg.|2008 January  |1.446                        |\n",
      "|Bananas per kg.|2008 February |1.435                        |\n",
      "|Bananas per kg.|2008 March    |1.459                        |\n",
      "|Bananas per kg.|2008 April    |1.462                        |\n",
      "|Bananas per kg.|2008 May      |1.465                        |\n",
      "|Bananas per kg.|2008 June     |1.467                        |\n",
      "|Bananas per kg.|2008 July     |1.484                        |\n",
      "|Bananas per kg.|2008 August   |1.478                        |\n",
      "|Bananas per kg.|2008 September|1.468                        |\n",
      "|Bananas per kg.|2008 October  |1.468                        |\n",
      "|Bananas per kg.|2008 November |1.54                         |\n",
      "|Bananas per kg.|2008 December |1.557                        |\n",
      "|Bananas per kg.|2009 January  |1.563                        |\n",
      "|Bananas per kg.|2009 February |1.567                        |\n",
      "|Bananas per kg.|2009 March    |1.548                        |\n",
      "|Bananas per kg.|2009 April    |1.534                        |\n",
      "|Bananas per kg.|2009 May      |1.473                        |\n",
      "|Bananas per kg.|2009 June     |1.337                        |\n",
      "|Bananas per kg.|2009 July     |1.32                         |\n",
      "|Bananas per kg.|2009 August   |1.332                        |\n",
      "|Bananas per kg.|2009 September|1.322                        |\n",
      "|Bananas per kg.|2009 October  |1.305                        |\n",
      "|Bananas per kg.|2009 November |1.092                        |\n",
      "|Bananas per kg.|2009 December |1.072                        |\n",
      "|Bananas per kg.|2010 January  |1.06                         |\n",
      "|Bananas per kg.|2010 February |1.111                        |\n",
      "|Bananas per kg.|2010 March    |1.104                        |\n",
      "|Bananas per kg.|2010 April    |1.122                        |\n",
      "|Bananas per kg.|2010 May      |1.129                        |\n",
      "|Bananas per kg.|2010 June     |1.228                        |\n",
      "|Bananas per kg.|2010 July     |1.266                        |\n",
      "|Bananas per kg.|2010 August   |1.263                        |\n",
      "|Bananas per kg.|2010 September|1.259                        |\n",
      "|Bananas per kg.|2010 October  |1.257                        |\n",
      "|Bananas per kg.|2010 November |1.267                        |\n",
      "|Bananas per kg.|2010 December |1.242                        |\n",
      "|Bananas per kg.|2011 January  |1.238                        |\n",
      "|Bananas per kg.|2011 February |1.323                        |\n",
      "|Bananas per kg.|2011 March    |1.35                         |\n",
      "|Bananas per kg.|2011 April    |1.335                        |\n",
      "|Bananas per kg.|2011 May      |1.343                        |\n",
      "|Bananas per kg.|2011 June     |1.339                        |\n",
      "|Bananas per kg.|2011 July     |1.355                        |\n",
      "|Bananas per kg.|2011 August   |1.357                        |\n",
      "|Bananas per kg.|2011 September|1.343                        |\n",
      "|Bananas per kg.|2011 October  |1.345                        |\n",
      "|Bananas per kg.|2011 November |1.359                        |\n",
      "|Bananas per kg.|2011 December |1.32                         |\n",
      "|Bananas per kg |2012 January  |1.33                         |\n",
      "|Bananas per kg |2012 February |1.359                        |\n",
      "|Bananas per kg |2012 March    |1.371                        |\n",
      "|Bananas per kg |2012 April    |1.362                        |\n",
      "|Bananas per kg |2012 May      |1.375                        |\n",
      "|Bananas per kg |2012 June     |1.364                        |\n",
      "|Bananas per kg |2012 July     |1.355                        |\n",
      "|Bananas per kg |2012 August   |1.369                        |\n",
      "|Bananas per kg |2012 September|1.38                         |\n",
      "|Bananas per kg |2012 October  |1.356                        |\n",
      "|Bananas per kg |2012 November |1.368                        |\n",
      "|Bananas per kg |2012 December |1.373                        |\n",
      "|Bananas per kg |2013 January  |1.369                        |\n",
      "|Bananas per kg |2013 February |1.368                        |\n",
      "|Bananas per kg |2013 March    |1.394                        |\n",
      "|Bananas per kg |2013 April    |1.375                        |\n",
      "|Bananas per kg |2013 May      |1.377                        |\n",
      "|Bananas per kg |2013 June     |1.374                        |\n",
      "|Bananas per kg |2013 July     |1.376                        |\n",
      "|Bananas per kg |2013 August   |1.38                         |\n",
      "|Bananas per kg |2013 September|1.378                        |\n",
      "|Bananas per kg |2013 October  |1.373                        |\n",
      "|Bananas per kg |2013 November |1.367                        |\n",
      "|Bananas per kg |2013 December |1.374                        |\n",
      "|Bananas per kg |2014 January  |1.366                        |\n",
      "|Bananas per kg |2014 February |1.371                        |\n",
      "|Bananas per kg |2014 March    |1.375                        |\n",
      "|Bananas per kg |2014 April    |1.374                        |\n",
      "|Bananas per kg |2014 May      |1.372                        |\n",
      "|Bananas per kg |2014 June     |1.37                         |\n",
      "|Bananas per kg |2014 July     |1.373                        |\n",
      "|Bananas per kg |2014 August   |1.371                        |\n",
      "|Bananas per kg |2014 September|1.357                        |\n",
      "|Bananas per kg |2014 October  |1.361                        |\n",
      "|Bananas per kg |2014 November |1.362                        |\n",
      "|Bananas per kg |2014 December |1.363                        |\n",
      "|Bananas per kg |2015 January  |1.363                        |\n",
      "|Bananas per kg |2015 February |1.362                        |\n",
      "|Bananas per kg |2015 March    |1.361                        |\n",
      "|Bananas per kg |2015 April    |1.369                        |\n",
      "|Bananas per kg |2015 May      |1.362                        |\n",
      "|Bananas per kg |2015 June     |1.361                        |\n",
      "|Bananas per kg |2015 July     |1.363                        |\n",
      "|Bananas per kg |2015 August   |1.365                        |\n",
      "|Bananas per kg |2015 September|1.37                         |\n",
      "|Bananas per kg |2015 October  |1.378                        |\n",
      "|Bananas per kg |2015 November |1.387                        |\n",
      "|Bananas per kg |2015 December |1.382                        |\n",
      "|Bananas per kg |2016 January  |1.389                        |\n",
      "|Bananas per kg |2016 February |1.382                        |\n",
      "|Bananas per kg |2016 March    |1.385                        |\n",
      "|Bananas per kg |2016 April    |1.393                        |\n",
      "|Bananas per kg |2016 May      |1.396                        |\n",
      "|Bananas per kg |2016 June     |1.393                        |\n",
      "|Bananas per kg |2016 July     |1.399                        |\n",
      "|Bananas per kg |2016 August   |1.405                        |\n",
      "|Bananas per kg |2016 September|1.41                         |\n",
      "|Bananas per kg |2016 October  |1.411                        |\n",
      "|Bananas per kg |2016 November |1.403                        |\n",
      "|Bananas per kg |2016 December |1.406                        |\n",
      "|Bananas per kg |2017 January  |1.411                        |\n",
      "|Bananas per kg |2017 February |1.414                        |\n",
      "|Bananas per kg |2017 March    |1.407                        |\n",
      "|Bananas per kg |2017 April    |1.405                        |\n",
      "|Bananas per kg |2017 May      |1.413                        |\n",
      "|Bananas per kg |2017 June     |1.404                        |\n",
      "|Bananas per kg |2017 July     |1.406                        |\n",
      "|Bananas per kg |2017 August   |1.411                        |\n",
      "|Bananas per kg |2017 September|1.412                        |\n",
      "|Bananas per kg |2017 October  |1.411                        |\n",
      "|Bananas per kg |2017 November |1.412                        |\n",
      "|Bananas per kg |2017 December |1.411                        |\n",
      "|Bananas per kg |2018 January  |1.405                        |\n",
      "|Bananas per kg |2018 February |1.406                        |\n",
      "|Bananas per kg |2018 March    |1.405                        |\n",
      "|Bananas per kg |2018 April    |1.4                          |\n",
      "|Bananas per kg |2018 May      |1.399                        |\n",
      "|Bananas per kg |2018 June     |1.404                        |\n",
      "|Bananas per kg |2018 July     |1.404                        |\n",
      "|Bananas per kg |2018 August   |1.403                        |\n",
      "|Bananas per kg |2018 September|1.404                        |\n",
      "|Bananas per kg |2018 October  |1.401                        |\n",
      "|Bananas per kg |2018 November |1.406                        |\n",
      "|Bananas per kg |2018 December |1.396                        |\n",
      "|Bananas per kg |2019 January  |1.388                        |\n",
      "|Bananas per kg |2019 February |1.402                        |\n",
      "|Bananas per kg |2019 March    |1.401                        |\n",
      "|Bananas per kg |2019 April    |1.407                        |\n",
      "|Bananas per kg |2019 May      |1.407                        |\n",
      "|Bananas per kg |2019 June     |1.403                        |\n",
      "|Bananas per kg |2019 July     |1.404                        |\n",
      "|Bananas per kg |2019 August   |1.404                        |\n",
      "|Bananas per kg |2019 September|1.401                        |\n",
      "|Bananas per kg |2019 October  |1.402                        |\n",
      "|Bananas per kg |2019 November |1.398                        |\n",
      "|Bananas per kg |2019 December |1.402                        |\n",
      "|Bananas per kg |2020 January  |1.405                        |\n",
      "|Bananas per kg |2020 February |1.414                        |\n",
      "|Bananas per kg |2020 March    |1.418                        |\n",
      "|Bananas per kg |2020 April    |1.399                        |\n",
      "|Bananas per kg |2020 May      |1.373                        |\n",
      "|Bananas per kg |2020 June     |1.336                        |\n",
      "|Bananas per kg |2020 July     |1.476                        |\n",
      "|Bananas per kg |2020 August   |1.377                        |\n",
      "|Bananas per kg |2020 September|1.408                        |\n",
      "|Bananas per kg |2020 October  |1.463                        |\n",
      "|Bananas per kg |2020 November |1.464                        |\n",
      "|Bananas per kg |2020 December |1.465                        |\n",
      "|Bananas per kg |2021 January  |1.293                        |\n",
      "|Bananas per kg |2021 February |1.443                        |\n",
      "|Bananas per kg |2021 March    |1.443                        |\n",
      "|Bananas per kg |2021 April    |1.422                        |\n",
      "|Bananas per kg |2021 May      |1.531                        |\n",
      "|Bananas per kg |2021 June     |1.531                        |\n",
      "|Bananas per kg |2021 July     |1.531                        |\n",
      "|Bananas per kg |2021 August   |1.493                        |\n",
      "|Bananas per kg |2021 September|1.435                        |\n",
      "|Bananas per kg |2021 October  |1.494                        |\n",
      "|Bananas per kg |2021 November |1.531                        |\n",
      "|Bananas per kg |2021 December |1.531                        |\n",
      "|Bananas per kg |2022 January  |1.395                        |\n",
      "|Bananas per kg |2022 February |1.495                        |\n",
      "|Bananas per kg |2022 March    |1.484                        |\n",
      "|Bananas per kg |2022 April    |1.503                        |\n",
      "|Bananas per kg |2022 May      |1.519                        |\n",
      "|Bananas per kg |2022 June     |1.525                        |\n",
      "|Bananas per kg |2022 July     |1.527                        |\n",
      "|Bananas per kg |2022 August   |1.549                        |\n",
      "|Bananas per kg |2022 September|1.56                         |\n",
      "|Bananas per kg |2022 October  |1.602                        |\n",
      "|Bananas per kg |2022 November |1.631                        |\n",
      "|Bananas per kg |2022 December |1.676                        |\n",
      "|Bananas per kg |2023 January  |1.677                        |\n",
      "|Bananas per kg |2023 February |1.689                        |\n",
      "|Bananas per kg |2023 March    |1.689                        |\n",
      "|Bananas per kg |2023 April    |1.689                        |\n",
      "|Bananas per kg |2023 May      |1.699                        |\n",
      "|Bananas per kg |2023 June     |1.699                        |\n",
      "|Bananas per kg |2023 July     |1.694                        |\n",
      "|Bananas per kg |2023 August   |1.698                        |\n",
      "|Bananas per kg |2023 September|1.66                         |\n",
      "|Bananas per kg |2023 October  |1.72                         |\n",
      "|Bananas per kg |2023 November |1.728                        |\n",
      "|Bananas per kg |2023 December |1.732                        |\n",
      "+---------------+--------------+-----------------------------+\n",
      "\n"
     ]
    }
   ],
   "source": [
    "#Selecting columns in the same order\n",
    "df_one = df_one.select(\"Consumer Item\", \"date\", \"National Average Price(Euros)\")\n",
    "df_two = df_two.select(\"Consumer Item\", \"date\", \"National Average Price(Euros)\")\n",
    "\n",
    "#Performing the union operation\n",
    "merged_df = df_one.union(df_two)\n",
    "\n",
    "#Displaying the results\n",
    "merged_df.show(n=merged_df.count(), truncate=False)\n"
   ]
  },
  {
   "cell_type": "markdown",
   "id": "4ca6d453",
   "metadata": {},
   "source": [
    "## Perform EDA and Data cleaning on the merged dataframe\n",
    "- check for missing data\n",
    "- check for duplicates\n",
    "- check for outliers\n",
    "- check data types \n",
    "- check the number of observations and variables\n"
   ]
  },
  {
   "cell_type": "code",
   "execution_count": 41,
   "id": "a778c694",
   "metadata": {},
   "outputs": [
    {
     "name": "stdout",
     "output_type": "stream",
     "text": [
      "root\n",
      " |-- Consumer Item: string (nullable = true)\n",
      " |-- date: string (nullable = true)\n",
      " |-- National Average Price(Euros): double (nullable = true)\n",
      "\n"
     ]
    }
   ],
   "source": [
    "#Check for missing data\n",
    "merged_df.printSchema()"
   ]
  },
  {
   "cell_type": "code",
   "execution_count": 42,
   "id": "37a984ec",
   "metadata": {},
   "outputs": [
    {
     "name": "stderr",
     "output_type": "stream",
     "text": [
      "\r",
      "[Stage 106:============================>                            (1 + 1) / 2]\r"
     ]
    },
    {
     "name": "stdout",
     "output_type": "stream",
     "text": [
      "Count of rows: 264\n"
     ]
    },
    {
     "name": "stderr",
     "output_type": "stream",
     "text": [
      "[Stage 109:============================>                            (1 + 1) / 2]\r"
     ]
    },
    {
     "name": "stdout",
     "output_type": "stream",
     "text": [
      "Count of distinct rows: 264\n"
     ]
    },
    {
     "name": "stderr",
     "output_type": "stream",
     "text": [
      "\r",
      "                                                                                \r"
     ]
    }
   ],
   "source": [
    "#check for duplicates\n",
    "print('Count of rows: {0}'.format(merged_df.count()))\n",
    "print('Count of distinct rows: {0}'.format(merged_df.distinct().count()))"
   ]
  },
  {
   "cell_type": "markdown",
   "id": "efc4c6d8",
   "metadata": {},
   "source": [
    "## Findings\n",
    "- No duplicates in merged dataframe"
   ]
  },
  {
   "cell_type": "code",
   "execution_count": 43,
   "id": "0530d86d",
   "metadata": {},
   "outputs": [
    {
     "name": "stdout",
     "output_type": "stream",
     "text": [
      "+--------------+---------------+-------------------------------+\n",
      "|          date|  Consumer Item|National Average Price(Euros)_o|\n",
      "+--------------+---------------+-------------------------------+\n",
      "|  2002 January|Bananas per kg.|                           true|\n",
      "| 2002 February|Bananas per kg.|                           true|\n",
      "|    2002 March|Bananas per kg.|                          false|\n",
      "|    2002 April|Bananas per kg.|                           true|\n",
      "|      2002 May|Bananas per kg.|                           true|\n",
      "|     2002 June|Bananas per kg.|                           true|\n",
      "|     2002 July|Bananas per kg.|                           true|\n",
      "|   2002 August|Bananas per kg.|                           true|\n",
      "|2002 September|Bananas per kg.|                           true|\n",
      "|  2002 October|Bananas per kg.|                           true|\n",
      "| 2002 November|Bananas per kg.|                           true|\n",
      "| 2002 December|Bananas per kg.|                           true|\n",
      "|  2003 January|Bananas per kg.|                           true|\n",
      "| 2003 February|Bananas per kg.|                           true|\n",
      "|    2003 March|Bananas per kg.|                          false|\n",
      "|    2003 April|Bananas per kg.|                           true|\n",
      "|      2003 May|Bananas per kg.|                          false|\n",
      "|     2003 June|Bananas per kg.|                          false|\n",
      "|     2003 July|Bananas per kg.|                          false|\n",
      "|   2003 August|Bananas per kg.|                          false|\n",
      "+--------------+---------------+-------------------------------+\n",
      "only showing top 20 rows\n",
      "\n",
      "+-------------------------------+-----+\n",
      "|National Average Price(Euros)_o|count|\n",
      "+-------------------------------+-----+\n",
      "|                           true|   37|\n",
      "|                          false|  227|\n",
      "+-------------------------------+-----+\n",
      "\n"
     ]
    }
   ],
   "source": [
    "#check for outliers\n",
    "#compute outlier bounds using the IQR method for the VALUE variable in the df_two DataFrame.\n",
    "cols = ['National Average Price(Euros)']\n",
    "bounds = {}\n",
    "\n",
    "for col in cols:\n",
    "    quantiles = merged_df.approxQuantile(col, [0.25, 0.75], 0.05)\n",
    "    IQR = quantiles[1] - quantiles[0]\n",
    "    bounds[col] = [quantiles[0] - 1.5 * IQR, quantiles[1] + 1.5 * IQR]\n",
    "bounds\n",
    "\n",
    "\n",
    "#creates a DataFrame outliers_one that flags outliers in merged_Df based on the outlier bounds calculated using the IQR method above.\n",
    "outliers_merged = merged_df.select(*['date','Consumer Item'] + [\n",
    "    (\n",
    "        (merged_df[c] < bounds[c][0]) | \n",
    "        (merged_df[c] > bounds[c][1])\n",
    "    ).alias(c + '_o') for c in cols\n",
    "])\n",
    "outliers_merged.show()\n",
    "\n",
    "\n",
    "#Count number of outliers in DataFrame df_two\n",
    "outliers_merged.groupby('National Average Price(Euros)_o').count().show()"
   ]
  },
  {
   "cell_type": "markdown",
   "id": "a058e69c",
   "metadata": {},
   "source": [
    "## Findings\n",
    "- there are 39 outliers and 1 null value"
   ]
  },
  {
   "cell_type": "code",
   "execution_count": 44,
   "id": "17edfa15",
   "metadata": {},
   "outputs": [
    {
     "data": {
      "text/plain": [
       "DataFrame[summary: string, Consumer Item: string, date: string, National Average Price(Euros): string]"
      ]
     },
     "execution_count": 44,
     "metadata": {},
     "output_type": "execute_result"
    }
   ],
   "source": [
    "#check the characteristics of the data frame and data types\n",
    "merged_df.describe()"
   ]
  },
  {
   "cell_type": "code",
   "execution_count": 45,
   "id": "4902ee19",
   "metadata": {},
   "outputs": [
    {
     "name": "stdout",
     "output_type": "stream",
     "text": [
      "Number of observations: 264\n"
     ]
    }
   ],
   "source": [
    "#Count the number of observations\n",
    "mergeddata_count = merged_df.count()\n",
    "\n",
    "print(\"Number of observations:\", mergeddata_count)"
   ]
  },
  {
   "cell_type": "markdown",
   "id": "bd8e0bc7",
   "metadata": {},
   "source": [
    "## Data Cleaning of Merged_df DataFrame\n",
    "- Remove null values\n",
    "- Handle outliers\n",
    "- change date data type to date-time data type from string"
   ]
  },
  {
   "cell_type": "markdown",
   "id": "41c0a8ad",
   "metadata": {},
   "source": [
    "### Remove Missing data"
   ]
  },
  {
   "cell_type": "code",
   "execution_count": 46,
   "id": "cada6ec7",
   "metadata": {},
   "outputs": [],
   "source": [
    "#Remove rows with missing values\n",
    "merged_df = merged_df.na.drop()"
   ]
  },
  {
   "cell_type": "code",
   "execution_count": 47,
   "id": "dac89fcf",
   "metadata": {},
   "outputs": [
    {
     "name": "stdout",
     "output_type": "stream",
     "text": [
      "+--------------+---------------+-------------------------------+\n",
      "|          date|  Consumer Item|National Average Price(Euros)_o|\n",
      "+--------------+---------------+-------------------------------+\n",
      "|  2002 January|Bananas per kg.|                           true|\n",
      "| 2002 February|Bananas per kg.|                           true|\n",
      "|    2002 March|Bananas per kg.|                          false|\n",
      "|    2002 April|Bananas per kg.|                           true|\n",
      "|      2002 May|Bananas per kg.|                           true|\n",
      "|     2002 June|Bananas per kg.|                           true|\n",
      "|     2002 July|Bananas per kg.|                           true|\n",
      "|   2002 August|Bananas per kg.|                           true|\n",
      "|2002 September|Bananas per kg.|                           true|\n",
      "|  2002 October|Bananas per kg.|                           true|\n",
      "| 2002 November|Bananas per kg.|                           true|\n",
      "| 2002 December|Bananas per kg.|                           true|\n",
      "|  2003 January|Bananas per kg.|                           true|\n",
      "| 2003 February|Bananas per kg.|                           true|\n",
      "|    2003 March|Bananas per kg.|                          false|\n",
      "|    2003 April|Bananas per kg.|                           true|\n",
      "|      2003 May|Bananas per kg.|                          false|\n",
      "|     2003 June|Bananas per kg.|                          false|\n",
      "|     2003 July|Bananas per kg.|                          false|\n",
      "|   2003 August|Bananas per kg.|                          false|\n",
      "+--------------+---------------+-------------------------------+\n",
      "only showing top 20 rows\n",
      "\n",
      "+-------------------------------+-----+\n",
      "|National Average Price(Euros)_o|count|\n",
      "+-------------------------------+-----+\n",
      "|                           true|   37|\n",
      "|                          false|  227|\n",
      "+-------------------------------+-----+\n",
      "\n"
     ]
    }
   ],
   "source": [
    "#check for outliers\n",
    "#compute outlier bounds using the IQR method for the VALUE variable in the df_two DataFrame.\n",
    "cols = ['National Average Price(Euros)']\n",
    "bounds = {}\n",
    "\n",
    "for col in cols:\n",
    "    quantiles = merged_df.approxQuantile(col, [0.25, 0.75], 0.05)\n",
    "    IQR = quantiles[1] - quantiles[0]\n",
    "    bounds[col] = [quantiles[0] - 1.5 * IQR, quantiles[1] + 1.5 * IQR]\n",
    "bounds\n",
    "\n",
    "\n",
    "#creates a DataFrame outliers_one that flags outliers in merged_Df based on the outlier bounds calculated using the IQR method above.\n",
    "outliers_merged = merged_df.select(*['date','Consumer Item'] + [\n",
    "    (\n",
    "        (merged_df[c] < bounds[c][0]) | \n",
    "        (merged_df[c] > bounds[c][1])\n",
    "    ).alias(c + '_o') for c in cols\n",
    "])\n",
    "outliers_merged.show()\n",
    "\n",
    "\n",
    "#Count number of outliers in DataFrame df_two\n",
    "outliers_merged.groupby('National Average Price(Euros)_o').count().show()"
   ]
  },
  {
   "cell_type": "markdown",
   "id": "578254ff",
   "metadata": {},
   "source": [
    "## Findings\n",
    "- The null value has been dropped\n",
    "- 37 outliers present"
   ]
  },
  {
   "cell_type": "code",
   "execution_count": 48,
   "id": "19ab5e35",
   "metadata": {},
   "outputs": [
    {
     "name": "stdout",
     "output_type": "stream",
     "text": [
      "Number of observations: 264\n"
     ]
    }
   ],
   "source": [
    "#Count the number of observations\n",
    "mergeddata_count = merged_df.count()\n",
    "\n",
    "print(\"Number of observations:\", mergeddata_count)"
   ]
  },
  {
   "cell_type": "markdown",
   "id": "d32b7817",
   "metadata": {},
   "source": [
    "## Handling outliers\n",
    "- outliers were retained in the data cause they were information outliers, and further information will be gained from them.\n",
    "- Outliers were handled by scaling the data using MinMax scaler"
   ]
  },
  {
   "cell_type": "code",
   "execution_count": 49,
   "id": "b9e21038",
   "metadata": {},
   "outputs": [
    {
     "name": "stdout",
     "output_type": "stream",
     "text": [
      "+---------------+--------------+-----------------------------+\n",
      "|  Consumer Item|          date|National Average Price(Euros)|\n",
      "+---------------+--------------+-----------------------------+\n",
      "|Bananas per kg.|  2002 January|                        1.691|\n",
      "|Bananas per kg.| 2002 February|                         1.67|\n",
      "|Bananas per kg.|    2002 March|                        1.496|\n",
      "|Bananas per kg.|    2002 April|                        1.669|\n",
      "|Bananas per kg.|      2002 May|                        1.623|\n",
      "|Bananas per kg.|     2002 June|                        1.652|\n",
      "|Bananas per kg.|     2002 July|                        1.652|\n",
      "|Bananas per kg.|   2002 August|                        1.664|\n",
      "|Bananas per kg.|2002 September|                        1.677|\n",
      "|Bananas per kg.|  2002 October|                        1.694|\n",
      "|Bananas per kg.| 2002 November|                        1.694|\n",
      "|Bananas per kg.| 2002 December|                        1.693|\n",
      "|Bananas per kg.|  2003 January|                        1.674|\n",
      "|Bananas per kg.| 2003 February|                        1.671|\n",
      "|Bananas per kg.|    2003 March|                        1.489|\n",
      "|Bananas per kg.|    2003 April|                         1.62|\n",
      "|Bananas per kg.|      2003 May|                        1.513|\n",
      "|Bananas per kg.|     2003 June|                         1.42|\n",
      "|Bananas per kg.|     2003 July|                        1.459|\n",
      "|Bananas per kg.|   2003 August|                        1.456|\n",
      "+---------------+--------------+-----------------------------+\n",
      "only showing top 20 rows\n",
      "\n"
     ]
    }
   ],
   "source": [
    "#Check the merged_df data\n",
    "merged_df.show()"
   ]
  },
  {
   "cell_type": "markdown",
   "id": "636d1d4f",
   "metadata": {},
   "source": [
    "# STATISTICS\n",
    "- Measures of central Tendency and measured of dispersion for variable National Average Price(Euros)\n",
    "- Mean\n",
    "- Median\n",
    "- Mode\n",
    "- Skewness\n",
    "- Variance\n",
    "- Frequency\n",
    "- min\n",
    "- max\n",
    "- kurtosis\n",
    "- standard deviation"
   ]
  },
  {
   "cell_type": "code",
   "execution_count": 50,
   "id": "68e08e9a",
   "metadata": {
    "scrolled": true
   },
   "outputs": [
    {
     "name": "stdout",
     "output_type": "stream",
     "text": [
      "+-------+-----------------------------+\n",
      "|summary|National Average Price(Euros)|\n",
      "+-------+-----------------------------+\n",
      "|  count|                          264|\n",
      "|   mean|            1.422564393939394|\n",
      "| stddev|          0.11825430008183309|\n",
      "|    min|                         1.06|\n",
      "|    max|                        1.732|\n",
      "+-------+-----------------------------+\n",
      "\n"
     ]
    }
   ],
   "source": [
    "#Calculate the measures of tendency and spread\n",
    "measures_df = merged_df.describe('National Average Price(Euros)')\n",
    "measures_df.show()"
   ]
  },
  {
   "cell_type": "code",
   "execution_count": 51,
   "id": "83990dd1",
   "metadata": {},
   "outputs": [
    {
     "name": "stdout",
     "output_type": "stream",
     "text": [
      "+-----+-----+-----+-------------------+\n",
      "|   q1|   q2|   q3|                IQR|\n",
      "+-----+-----+-----+-------------------+\n",
      "|1.362|1.401|1.465|0.10299999999999998|\n",
      "+-----+-----+-----+-------------------+\n",
      "\n"
     ]
    }
   ],
   "source": [
    "#calculate the interquartile ranges\n",
    "from pyspark.sql.functions import expr\n",
    "\n",
    "# Calculate quartiles\n",
    "quartiles = merged_df.agg(\n",
    "    expr(\"percentile_approx(`National Average Price(Euros)`, 0.25)\").alias(\"q1\"),\n",
    "    expr(\"percentile_approx(`National Average Price(Euros)`, 0.50)\").alias(\"q2\"),\n",
    "    expr(\"percentile_approx(`National Average Price(Euros)`, 0.75)\").alias(\"q3\")\n",
    ")\n",
    "\n",
    "#Calculate IQR\n",
    "quartiles = quartiles.withColumn(\"IQR\", quartiles.q3 - quartiles.q1)\n",
    "\n",
    "# Show the quartiles and IQR\n",
    "quartiles.show()\n"
   ]
  },
  {
   "cell_type": "markdown",
   "id": "39011cd4",
   "metadata": {},
   "source": [
    "### Findings\n",
    "- The mean is 1.423\n",
    "- min- max is 1.06-1.732"
   ]
  },
  {
   "cell_type": "code",
   "execution_count": 52,
   "id": "e7909ba0",
   "metadata": {},
   "outputs": [
    {
     "name": "stdout",
     "output_type": "stream",
     "text": [
      "+------------------+\n",
      "|          Skewness|\n",
      "+------------------+\n",
      "|0.4846803696891129|\n",
      "+------------------+\n",
      "\n",
      "+------------------+\n",
      "|          Kurtosis|\n",
      "+------------------+\n",
      "|1.3796545820428214|\n",
      "+------------------+\n",
      "\n"
     ]
    }
   ],
   "source": [
    "#Calculate the skewness and kurtosis\n",
    "from pyspark.sql import functions as F\n",
    "\n",
    "#Compute skewness\n",
    "skewness_result = merged_df.agg(F.skewness('National Average Price(Euros)').alias('Skewness'))\n",
    "\n",
    "#Compute kurtosis\n",
    "kurtosis_result = merged_df.agg(F.kurtosis('National Average Price(Euros)').alias('Kurtosis'))\n",
    "\n",
    "#Show results\n",
    "skewness_result.show()\n",
    "kurtosis_result.show()\n"
   ]
  },
  {
   "cell_type": "code",
   "execution_count": 53,
   "id": "01cd8c84",
   "metadata": {},
   "outputs": [
    {
     "name": "stderr",
     "output_type": "stream",
     "text": [
      "                                                                                \r"
     ]
    }
   ],
   "source": [
    "#Histogram\n",
    "data_driver = {'obs': merged_df.select('National Average Price(Euros)').rdd.flatMap(lambda row: row).collect()}\n"
   ]
  },
  {
   "cell_type": "code",
   "execution_count": 54,
   "id": "0ad80745",
   "metadata": {},
   "outputs": [
    {
     "data": {
      "image/png": "[encoded data removed]",
      "text/plain": [
       "<Figure size 864x648 with 1 Axes>"
      ]
     },
     "metadata": {
      "needs_background": "light"
     },
     "output_type": "display_data"
    }
   ],
   "source": [
    "# Plot a Histogram\n",
    "data_driver = {'obs': merged_df.select('National Average Price(Euros)').rdd.flatMap(lambda row: row).collect()}\n",
    "\n",
    "# Filter out None values from the data\n",
    "data_filtered = [x for x in data_driver['obs'] if x is not None]\n",
    "\n",
    "# Create histogram\n",
    "plt.figure(figsize=(12, 9))\n",
    "plt.hist(data_filtered, bins=20, edgecolor='black')\n",
    "plt.title('Histogram of National Average Price(Euros)')\n",
    "plt.xlabel('National Average Price of Bananas(Euros)')\n",
    "plt.ylabel('Frequency')\n",
    "\n",
    "# Save the histogram as an image\n",
    "plt.savefig('B05793_05_22.png', dpi=300)\n",
    "plt.show()"
   ]
  },
  {
   "cell_type": "markdown",
   "id": "9c1a4e87",
   "metadata": {},
   "source": [
    "## EXPORT THE PREPROCESSED DATA TO HADOOP FOR STORAGE"
   ]
  },
  {
   "cell_type": "code",
   "execution_count": 55,
   "id": "e493f244",
   "metadata": {},
   "outputs": [
    {
     "name": "stderr",
     "output_type": "stream",
     "text": [
      "                                                                                \r"
     ]
    }
   ],
   "source": [
    "# Export preprocessed data\n",
    "preprocessed_data_path = \"hdfs://localhost:9000/preprocessed_data.csv\"\n",
    "merged_df.write.csv(preprocessed_data_path, mode=\"overwrite\", header=True)"
   ]
  },
  {
   "cell_type": "markdown",
   "id": "f00f93ec",
   "metadata": {},
   "source": [
    "# Convert the data to pandas"
   ]
  },
  {
   "cell_type": "code",
   "execution_count": 56,
   "id": "38b98cbe",
   "metadata": {},
   "outputs": [],
   "source": [
    "#Convert the merged_df spark DataFrame to Pandas\n",
    "banana_price = merged_df.toPandas()"
   ]
  },
  {
   "cell_type": "code",
   "execution_count": 57,
   "id": "2f3daef3",
   "metadata": {},
   "outputs": [
    {
     "data": {
      "text/plain": [
       "pandas.core.frame.DataFrame"
      ]
     },
     "execution_count": 57,
     "metadata": {},
     "output_type": "execute_result"
    }
   ],
   "source": [
    "#Check the data type\n",
    "type(banana_price)"
   ]
  },
  {
   "cell_type": "code",
   "execution_count": 58,
   "id": "1ca46136",
   "metadata": {},
   "outputs": [
    {
     "data": {
      "text/html": [
       "<div>\n",
       "<style scoped>\n",
       "    .dataframe tbody tr th:only-of-type {\n",
       "        vertical-align: middle;\n",
       "    }\n",
       "\n",
       "    .dataframe tbody tr th {\n",
       "        vertical-align: top;\n",
       "    }\n",
       "\n",
       "    .dataframe thead th {\n",
       "        text-align: right;\n",
       "    }\n",
       "</style>\n",
       "<table border=\"1\" class=\"dataframe\">\n",
       "  <thead>\n",
       "    <tr style=\"text-align: right;\">\n",
       "      <th></th>\n",
       "      <th>Consumer Item</th>\n",
       "      <th>date</th>\n",
       "      <th>National Average Price(Euros)</th>\n",
       "    </tr>\n",
       "  </thead>\n",
       "  <tbody>\n",
       "    <tr>\n",
       "      <th>0</th>\n",
       "      <td>Bananas per kg.</td>\n",
       "      <td>2002 January</td>\n",
       "      <td>1.691</td>\n",
       "    </tr>\n",
       "    <tr>\n",
       "      <th>1</th>\n",
       "      <td>Bananas per kg.</td>\n",
       "      <td>2002 February</td>\n",
       "      <td>1.670</td>\n",
       "    </tr>\n",
       "    <tr>\n",
       "      <th>2</th>\n",
       "      <td>Bananas per kg.</td>\n",
       "      <td>2002 March</td>\n",
       "      <td>1.496</td>\n",
       "    </tr>\n",
       "    <tr>\n",
       "      <th>3</th>\n",
       "      <td>Bananas per kg.</td>\n",
       "      <td>2002 April</td>\n",
       "      <td>1.669</td>\n",
       "    </tr>\n",
       "    <tr>\n",
       "      <th>4</th>\n",
       "      <td>Bananas per kg.</td>\n",
       "      <td>2002 May</td>\n",
       "      <td>1.623</td>\n",
       "    </tr>\n",
       "  </tbody>\n",
       "</table>\n",
       "</div>"
      ],
      "text/plain": [
       "     Consumer Item           date  National Average Price(Euros)\n",
       "0  Bananas per kg.   2002 January                          1.691\n",
       "1  Bananas per kg.  2002 February                          1.670\n",
       "2  Bananas per kg.     2002 March                          1.496\n",
       "3  Bananas per kg.     2002 April                          1.669\n",
       "4  Bananas per kg.       2002 May                          1.623"
      ]
     },
     "execution_count": 58,
     "metadata": {},
     "output_type": "execute_result"
    }
   ],
   "source": [
    "#Check the head of the DataFrame\n",
    "banana_price.head()"
   ]
  },
  {
   "cell_type": "code",
   "execution_count": 59,
   "id": "29c9b574",
   "metadata": {},
   "outputs": [
    {
     "name": "stdout",
     "output_type": "stream",
     "text": [
      "<class 'pandas.core.frame.DataFrame'>\n",
      "RangeIndex: 264 entries, 0 to 263\n",
      "Data columns (total 3 columns):\n",
      " #   Column                         Non-Null Count  Dtype  \n",
      "---  ------                         --------------  -----  \n",
      " 0   Consumer Item                  264 non-null    object \n",
      " 1   date                           264 non-null    object \n",
      " 2   National Average Price(Euros)  264 non-null    float64\n",
      "dtypes: float64(1), object(2)\n",
      "memory usage: 6.3+ KB\n"
     ]
    }
   ],
   "source": [
    "#Check the characteristics of the DataFrame\n",
    "banana_price.info()"
   ]
  },
  {
   "cell_type": "code",
   "execution_count": 60,
   "id": "2a1e7200",
   "metadata": {},
   "outputs": [],
   "source": [
    "# Save the DataFrame to a CSV file\n",
    "banana_price.to_csv(\"/home/hduser/Documents/Advanced-Data-Analytics-and-BIg-Data-Analytics-Project/banana_price.csv\", index=False)"
   ]
  },
  {
   "cell_type": "markdown",
   "id": "d3f25562",
   "metadata": {},
   "source": [
    "# Import the Libraries required"
   ]
  },
  {
   "cell_type": "code",
   "execution_count": 61,
   "id": "a2c3b80a",
   "metadata": {},
   "outputs": [],
   "source": [
    "import numpy as np\n",
    "import matplotlib.pyplot as plt\n",
    "from pandas import read_csv\n",
    "import math\n",
    "import tensorflow as tf\n",
    "from tensorflow.keras.models import Sequential\n",
    "from tensorflow.keras.layers import Dense\n",
    "from tensorflow.keras.layers import LSTM\n",
    "from sklearn.preprocessing import MinMaxScaler\n",
    "from sklearn.metrics import mean_squared_error"
   ]
  },
  {
   "cell_type": "code",
   "execution_count": 62,
   "id": "bde66091",
   "metadata": {},
   "outputs": [],
   "source": [
    "def create_dataset(dataset, look_back=1):\n",
    "    dataX, dataY = [], []\n",
    "    for i in range(len(dataset)-look_back-1):\n",
    "        a = dataset[i:(i+look_back), 0]\n",
    "        dataX.append(a)\n",
    "        dataY.append(dataset[i + look_back, 0])\n",
    "    return np.array(dataX), np.array(dataY)"
   ]
  },
  {
   "cell_type": "markdown",
   "id": "b498733f",
   "metadata": {},
   "source": [
    "# Import the banana_price csv as a pandas"
   ]
  },
  {
   "cell_type": "code",
   "execution_count": 63,
   "id": "cf718e18",
   "metadata": {},
   "outputs": [],
   "source": [
    "#Import the banana_price csv\n",
    "banana_price = read_csv(\"banana_price.csv\")"
   ]
  },
  {
   "cell_type": "code",
   "execution_count": 64,
   "id": "06726022",
   "metadata": {},
   "outputs": [
    {
     "data": {
      "text/html": [
       "<div>\n",
       "<style scoped>\n",
       "    .dataframe tbody tr th:only-of-type {\n",
       "        vertical-align: middle;\n",
       "    }\n",
       "\n",
       "    .dataframe tbody tr th {\n",
       "        vertical-align: top;\n",
       "    }\n",
       "\n",
       "    .dataframe thead th {\n",
       "        text-align: right;\n",
       "    }\n",
       "</style>\n",
       "<table border=\"1\" class=\"dataframe\">\n",
       "  <thead>\n",
       "    <tr style=\"text-align: right;\">\n",
       "      <th></th>\n",
       "      <th>Consumer Item</th>\n",
       "      <th>date</th>\n",
       "      <th>National Average Price(Euros)</th>\n",
       "    </tr>\n",
       "  </thead>\n",
       "  <tbody>\n",
       "    <tr>\n",
       "      <th>0</th>\n",
       "      <td>Bananas per kg.</td>\n",
       "      <td>2002 January</td>\n",
       "      <td>1.691</td>\n",
       "    </tr>\n",
       "    <tr>\n",
       "      <th>1</th>\n",
       "      <td>Bananas per kg.</td>\n",
       "      <td>2002 February</td>\n",
       "      <td>1.670</td>\n",
       "    </tr>\n",
       "  </tbody>\n",
       "</table>\n",
       "</div>"
      ],
      "text/plain": [
       "     Consumer Item           date  National Average Price(Euros)\n",
       "0  Bananas per kg.   2002 January                          1.691\n",
       "1  Bananas per kg.  2002 February                          1.670"
      ]
     },
     "execution_count": 64,
     "metadata": {},
     "output_type": "execute_result"
    }
   ],
   "source": [
    "#View the first few observations\n",
    "banana_price.head(2)"
   ]
  },
  {
   "cell_type": "code",
   "execution_count": 65,
   "id": "88cfa44a",
   "metadata": {},
   "outputs": [
    {
     "data": {
      "text/html": [
       "<div>\n",
       "<style scoped>\n",
       "    .dataframe tbody tr th:only-of-type {\n",
       "        vertical-align: middle;\n",
       "    }\n",
       "\n",
       "    .dataframe tbody tr th {\n",
       "        vertical-align: top;\n",
       "    }\n",
       "\n",
       "    .dataframe thead th {\n",
       "        text-align: right;\n",
       "    }\n",
       "</style>\n",
       "<table border=\"1\" class=\"dataframe\">\n",
       "  <thead>\n",
       "    <tr style=\"text-align: right;\">\n",
       "      <th></th>\n",
       "      <th>Consumer Item</th>\n",
       "      <th>date</th>\n",
       "      <th>National Average Price(Euros)</th>\n",
       "    </tr>\n",
       "  </thead>\n",
       "  <tbody>\n",
       "    <tr>\n",
       "      <th>262</th>\n",
       "      <td>Bananas per kg</td>\n",
       "      <td>2023 November</td>\n",
       "      <td>1.728</td>\n",
       "    </tr>\n",
       "    <tr>\n",
       "      <th>263</th>\n",
       "      <td>Bananas per kg</td>\n",
       "      <td>2023 December</td>\n",
       "      <td>1.732</td>\n",
       "    </tr>\n",
       "  </tbody>\n",
       "</table>\n",
       "</div>"
      ],
      "text/plain": [
       "      Consumer Item           date  National Average Price(Euros)\n",
       "262  Bananas per kg  2023 November                          1.728\n",
       "263  Bananas per kg  2023 December                          1.732"
      ]
     },
     "execution_count": 65,
     "metadata": {},
     "output_type": "execute_result"
    }
   ],
   "source": [
    "#View the last few observations\n",
    "banana_price.tail(2)"
   ]
  },
  {
   "cell_type": "code",
   "execution_count": 66,
   "id": "6a8dd630",
   "metadata": {},
   "outputs": [
    {
     "name": "stdout",
     "output_type": "stream",
     "text": [
      "<class 'pandas.core.frame.DataFrame'>\n",
      "RangeIndex: 264 entries, 0 to 263\n",
      "Data columns (total 3 columns):\n",
      " #   Column                         Non-Null Count  Dtype  \n",
      "---  ------                         --------------  -----  \n",
      " 0   Consumer Item                  264 non-null    object \n",
      " 1   date                           264 non-null    object \n",
      " 2   National Average Price(Euros)  264 non-null    float64\n",
      "dtypes: float64(1), object(2)\n",
      "memory usage: 6.3+ KB\n"
     ]
    }
   ],
   "source": [
    "#View the characteristics of the dataset\n",
    "banana_price.info()"
   ]
  },
  {
   "cell_type": "code",
   "execution_count": 67,
   "id": "f1b3a13c",
   "metadata": {},
   "outputs": [
    {
     "data": {
      "text/html": [
       "<div>\n",
       "<style scoped>\n",
       "    .dataframe tbody tr th:only-of-type {\n",
       "        vertical-align: middle;\n",
       "    }\n",
       "\n",
       "    .dataframe tbody tr th {\n",
       "        vertical-align: top;\n",
       "    }\n",
       "\n",
       "    .dataframe thead th {\n",
       "        text-align: right;\n",
       "    }\n",
       "</style>\n",
       "<table border=\"1\" class=\"dataframe\">\n",
       "  <thead>\n",
       "    <tr style=\"text-align: right;\">\n",
       "      <th></th>\n",
       "      <th>National Average Price(Euros)</th>\n",
       "    </tr>\n",
       "  </thead>\n",
       "  <tbody>\n",
       "    <tr>\n",
       "      <th>count</th>\n",
       "      <td>264.000000</td>\n",
       "    </tr>\n",
       "    <tr>\n",
       "      <th>mean</th>\n",
       "      <td>1.422564</td>\n",
       "    </tr>\n",
       "    <tr>\n",
       "      <th>std</th>\n",
       "      <td>0.118254</td>\n",
       "    </tr>\n",
       "    <tr>\n",
       "      <th>min</th>\n",
       "      <td>1.060000</td>\n",
       "    </tr>\n",
       "    <tr>\n",
       "      <th>25%</th>\n",
       "      <td>1.362750</td>\n",
       "    </tr>\n",
       "    <tr>\n",
       "      <th>50%</th>\n",
       "      <td>1.401500</td>\n",
       "    </tr>\n",
       "    <tr>\n",
       "      <th>75%</th>\n",
       "      <td>1.465250</td>\n",
       "    </tr>\n",
       "    <tr>\n",
       "      <th>max</th>\n",
       "      <td>1.732000</td>\n",
       "    </tr>\n",
       "  </tbody>\n",
       "</table>\n",
       "</div>"
      ],
      "text/plain": [
       "       National Average Price(Euros)\n",
       "count                     264.000000\n",
       "mean                        1.422564\n",
       "std                         0.118254\n",
       "min                         1.060000\n",
       "25%                         1.362750\n",
       "50%                         1.401500\n",
       "75%                         1.465250\n",
       "max                         1.732000"
      ]
     },
     "execution_count": 67,
     "metadata": {},
     "output_type": "execute_result"
    }
   ],
   "source": [
    "#View the statistics of the dataset\n",
    "banana_price.describe()"
   ]
  },
  {
   "cell_type": "code",
   "execution_count": 68,
   "id": "3d46c4ff",
   "metadata": {},
   "outputs": [],
   "source": [
    "import pandas as pd\n",
    "# Convert 'Date' to datetime format\n",
    "banana_price['date'] = pd.to_datetime(banana_price['date'], format='%Y %B')"
   ]
  },
  {
   "cell_type": "markdown",
   "id": "b939ae01",
   "metadata": {},
   "source": [
    "# Data Visualization\n",
    "- Plot line plot for National Average price vs  Date\n",
    "- Plot line plot for National Average price vs Month"
   ]
  },
  {
   "cell_type": "markdown",
   "id": "2b8d5665",
   "metadata": {},
   "source": [
    "## Scatter Plot for the Natonal Average Banana Price Vs Date"
   ]
  },
  {
   "cell_type": "code",
   "execution_count": 69,
   "id": "6615ec74",
   "metadata": {},
   "outputs": [
    {
     "data": {
      "application/vnd.plotly.v1+json": {
       "config": {
        "plotlyServerURL": "https://plot.ly"
       },
       "data": [
        {
         "hovertemplate": "date=%{x}<br>National Average Price(Euros)=%{y}<extra></extra>",
         "legendgroup": "",
         "marker": {
          "color": "#636efa",
          "symbol": "circle"
         },
         "mode": "markers",
         "name": "",
         "orientation": "v",
         "showlegend": false,
         "type": "scatter",
         "x": [
          "2002-01-01T00:00:00",
          "2002-02-01T00:00:00",
          "2002-03-01T00:00:00",
          "2002-04-01T00:00:00",
          "2002-05-01T00:00:00",
          "2002-06-01T00:00:00",
          "2002-07-01T00:00:00",
          "2002-08-01T00:00:00",
          "2002-09-01T00:00:00",
          "2002-10-01T00:00:00",
          "2002-11-01T00:00:00",
          "2002-12-01T00:00:00",
          "2003-01-01T00:00:00",
          "2003-02-01T00:00:00",
          "2003-03-01T00:00:00",
          "2003-04-01T00:00:00",
          "2003-05-01T00:00:00",
          "2003-06-01T00:00:00",
          "2003-07-01T00:00:00",
          "2003-08-01T00:00:00",
          "2003-09-01T00:00:00",
          "2003-10-01T00:00:00",
          "2003-11-01T00:00:00",
          "2003-12-01T00:00:00",
          "2004-01-01T00:00:00",
          "2004-02-01T00:00:00",
          "2004-03-01T00:00:00",
          "2004-04-01T00:00:00",
          "2004-05-01T00:00:00",
          "2004-06-01T00:00:00",
          "2004-07-01T00:00:00",
          "2004-08-01T00:00:00",
          "2004-09-01T00:00:00",
          "2004-10-01T00:00:00",
          "2004-11-01T00:00:00",
          "2004-12-01T00:00:00",
          "2005-01-01T00:00:00",
          "2005-02-01T00:00:00",
          "2005-03-01T00:00:00",
          "2005-04-01T00:00:00",
          "2005-05-01T00:00:00",
          "2005-06-01T00:00:00",
          "2005-07-01T00:00:00",
          "2005-08-01T00:00:00",
          "2005-09-01T00:00:00",
          "2005-10-01T00:00:00",
          "2005-11-01T00:00:00",
          "2005-12-01T00:00:00",
          "2006-01-01T00:00:00",
          "2006-02-01T00:00:00",
          "2006-03-01T00:00:00",
          "2006-04-01T00:00:00",
          "2006-05-01T00:00:00",
          "2006-06-01T00:00:00",
          "2006-07-01T00:00:00",
          "2006-08-01T00:00:00",
          "2006-09-01T00:00:00",
          "2006-10-01T00:00:00",
          "2006-11-01T00:00:00",
          "2006-12-01T00:00:00",
          "2007-01-01T00:00:00",
          "2007-02-01T00:00:00",
          "2007-03-01T00:00:00",
          "2007-04-01T00:00:00",
          "2007-05-01T00:00:00",
          "2007-06-01T00:00:00",
          "2007-07-01T00:00:00",
          "2007-08-01T00:00:00",
          "2007-09-01T00:00:00",
          "2007-10-01T00:00:00",
          "2007-11-01T00:00:00",
          "2007-12-01T00:00:00",
          "2008-01-01T00:00:00",
          "2008-02-01T00:00:00",
          "2008-03-01T00:00:00",
          "2008-04-01T00:00:00",
          "2008-05-01T00:00:00",
          "2008-06-01T00:00:00",
          "2008-07-01T00:00:00",
          "2008-08-01T00:00:00",
          "2008-09-01T00:00:00",
          "2008-10-01T00:00:00",
          "2008-11-01T00:00:00",
          "2008-12-01T00:00:00",
          "2009-01-01T00:00:00",
          "2009-02-01T00:00:00",
          "2009-03-01T00:00:00",
          "2009-04-01T00:00:00",
          "2009-05-01T00:00:00",
          "2009-06-01T00:00:00",
          "2009-07-01T00:00:00",
          "2009-08-01T00:00:00",
          "2009-09-01T00:00:00",
          "2009-10-01T00:00:00",
          "2009-11-01T00:00:00",
          "2009-12-01T00:00:00",
          "2010-01-01T00:00:00",
          "2010-02-01T00:00:00",
          "2010-03-01T00:00:00",
          "2010-04-01T00:00:00",
          "2010-05-01T00:00:00",
          "2010-06-01T00:00:00",
          "2010-07-01T00:00:00",
          "2010-08-01T00:00:00",
          "2010-09-01T00:00:00",
          "2010-10-01T00:00:00",
          "2010-11-01T00:00:00",
          "2010-12-01T00:00:00",
          "2011-01-01T00:00:00",
          "2011-02-01T00:00:00",
          "2011-03-01T00:00:00",
          "2011-04-01T00:00:00",
          "2011-05-01T00:00:00",
          "2011-06-01T00:00:00",
          "2011-07-01T00:00:00",
          "2011-08-01T00:00:00",
          "2011-09-01T00:00:00",
          "2011-10-01T00:00:00",
          "2011-11-01T00:00:00",
          "2011-12-01T00:00:00",
          "2012-01-01T00:00:00",
          "2012-02-01T00:00:00",
          "2012-03-01T00:00:00",
          "2012-04-01T00:00:00",
          "2012-05-01T00:00:00",
          "2012-06-01T00:00:00",
          "2012-07-01T00:00:00",
          "2012-08-01T00:00:00",
          "2012-09-01T00:00:00",
          "2012-10-01T00:00:00",
          "2012-11-01T00:00:00",
          "2012-12-01T00:00:00",
          "2013-01-01T00:00:00",
          "2013-02-01T00:00:00",
          "2013-03-01T00:00:00",
          "2013-04-01T00:00:00",
          "2013-05-01T00:00:00",
          "2013-06-01T00:00:00",
          "2013-07-01T00:00:00",
          "2013-08-01T00:00:00",
          "2013-09-01T00:00:00",
          "2013-10-01T00:00:00",
          "2013-11-01T00:00:00",
          "2013-12-01T00:00:00",
          "2014-01-01T00:00:00",
          "2014-02-01T00:00:00",
          "2014-03-01T00:00:00",
          "2014-04-01T00:00:00",
          "2014-05-01T00:00:00",
          "2014-06-01T00:00:00",
          "2014-07-01T00:00:00",
          "2014-08-01T00:00:00",
          "2014-09-01T00:00:00",
          "2014-10-01T00:00:00",
          "2014-11-01T00:00:00",
          "2014-12-01T00:00:00",
          "2015-01-01T00:00:00",
          "2015-02-01T00:00:00",
          "2015-03-01T00:00:00",
          "2015-04-01T00:00:00",
          "2015-05-01T00:00:00",
          "2015-06-01T00:00:00",
          "2015-07-01T00:00:00",
          "2015-08-01T00:00:00",
          "2015-09-01T00:00:00",
          "2015-10-01T00:00:00",
          "2015-11-01T00:00:00",
          "2015-12-01T00:00:00",
          "2016-01-01T00:00:00",
          "2016-02-01T00:00:00",
          "2016-03-01T00:00:00",
          "2016-04-01T00:00:00",
          "2016-05-01T00:00:00",
          "2016-06-01T00:00:00",
          "2016-07-01T00:00:00",
          "2016-08-01T00:00:00",
          "2016-09-01T00:00:00",
          "2016-10-01T00:00:00",
          "2016-11-01T00:00:00",
          "2016-12-01T00:00:00",
          "2017-01-01T00:00:00",
          "2017-02-01T00:00:00",
          "2017-03-01T00:00:00",
          "2017-04-01T00:00:00",
          "2017-05-01T00:00:00",
          "2017-06-01T00:00:00",
          "2017-07-01T00:00:00",
          "2017-08-01T00:00:00",
          "2017-09-01T00:00:00",
          "2017-10-01T00:00:00",
          "2017-11-01T00:00:00",
          "2017-12-01T00:00:00",
          "2018-01-01T00:00:00",
          "2018-02-01T00:00:00",
          "2018-03-01T00:00:00",
          "2018-04-01T00:00:00",
          "2018-05-01T00:00:00",
          "2018-06-01T00:00:00",
          "2018-07-01T00:00:00",
          "2018-08-01T00:00:00",
          "2018-09-01T00:00:00",
          "2018-10-01T00:00:00",
          "2018-11-01T00:00:00",
          "2018-12-01T00:00:00",
          "2019-01-01T00:00:00",
          "2019-02-01T00:00:00",
          "2019-03-01T00:00:00",
          "2019-04-01T00:00:00",
          "2019-05-01T00:00:00",
          "2019-06-01T00:00:00",
          "2019-07-01T00:00:00",
          "2019-08-01T00:00:00",
          "2019-09-01T00:00:00",
          "2019-10-01T00:00:00",
          "2019-11-01T00:00:00",
          "2019-12-01T00:00:00",
          "2020-01-01T00:00:00",
          "2020-02-01T00:00:00",
          "2020-03-01T00:00:00",
          "2020-04-01T00:00:00",
          "2020-05-01T00:00:00",
          "2020-06-01T00:00:00",
          "2020-07-01T00:00:00",
          "2020-08-01T00:00:00",
          "2020-09-01T00:00:00",
          "2020-10-01T00:00:00",
          "2020-11-01T00:00:00",
          "2020-12-01T00:00:00",
          "2021-01-01T00:00:00",
          "2021-02-01T00:00:00",
          "2021-03-01T00:00:00",
          "2021-04-01T00:00:00",
          "2021-05-01T00:00:00",
          "2021-06-01T00:00:00",
          "2021-07-01T00:00:00",
          "2021-08-01T00:00:00",
          "2021-09-01T00:00:00",
          "2021-10-01T00:00:00",
          "2021-11-01T00:00:00",
          "2021-12-01T00:00:00",
          "2022-01-01T00:00:00",
          "2022-02-01T00:00:00",
          "2022-03-01T00:00:00",
          "2022-04-01T00:00:00",
          "2022-05-01T00:00:00",
          "2022-06-01T00:00:00",
          "2022-07-01T00:00:00",
          "2022-08-01T00:00:00",
          "2022-09-01T00:00:00",
          "2022-10-01T00:00:00",
          "2022-11-01T00:00:00",
          "2022-12-01T00:00:00",
          "2023-01-01T00:00:00",
          "2023-02-01T00:00:00",
          "2023-03-01T00:00:00",
          "2023-04-01T00:00:00",
          "2023-05-01T00:00:00",
          "2023-06-01T00:00:00",
          "2023-07-01T00:00:00",
          "2023-08-01T00:00:00",
          "2023-09-01T00:00:00",
          "2023-10-01T00:00:00",
          "2023-11-01T00:00:00",
          "2023-12-01T00:00:00"
         ],
         "xaxis": "x",
         "y": [
          1.691,
          1.67,
          1.496,
          1.669,
          1.623,
          1.652,
          1.652,
          1.664,
          1.677,
          1.694,
          1.694,
          1.693,
          1.674,
          1.671,
          1.489,
          1.62,
          1.513,
          1.42,
          1.459,
          1.456,
          1.466,
          1.466,
          1.453,
          1.438,
          1.424,
          1.447,
          1.428,
          1.352,
          1.357,
          1.349,
          1.35,
          1.373,
          1.374,
          1.383,
          1.377,
          1.373,
          1.4,
          1.394,
          1.393,
          1.366,
          1.374,
          1.35,
          1.349,
          1.344,
          1.318,
          1.332,
          1.32,
          1.338,
          1.344,
          1.345,
          1.337,
          1.339,
          1.326,
          1.34,
          1.349,
          1.348,
          1.32,
          1.319,
          1.391,
          1.441,
          1.423,
          1.437,
          1.444,
          1.453,
          1.469,
          1.487,
          1.469,
          1.468,
          1.432,
          1.444,
          1.454,
          1.442,
          1.446,
          1.435,
          1.459,
          1.462,
          1.465,
          1.467,
          1.484,
          1.478,
          1.468,
          1.468,
          1.54,
          1.557,
          1.563,
          1.567,
          1.548,
          1.534,
          1.473,
          1.337,
          1.32,
          1.332,
          1.322,
          1.305,
          1.092,
          1.072,
          1.06,
          1.111,
          1.104,
          1.122,
          1.129,
          1.228,
          1.266,
          1.263,
          1.259,
          1.257,
          1.267,
          1.242,
          1.238,
          1.323,
          1.35,
          1.335,
          1.343,
          1.339,
          1.355,
          1.357,
          1.343,
          1.345,
          1.359,
          1.32,
          1.33,
          1.359,
          1.371,
          1.362,
          1.375,
          1.364,
          1.355,
          1.369,
          1.38,
          1.356,
          1.368,
          1.373,
          1.369,
          1.368,
          1.394,
          1.375,
          1.377,
          1.374,
          1.376,
          1.38,
          1.378,
          1.373,
          1.367,
          1.374,
          1.366,
          1.371,
          1.375,
          1.374,
          1.372,
          1.37,
          1.373,
          1.371,
          1.357,
          1.361,
          1.362,
          1.363,
          1.363,
          1.362,
          1.361,
          1.369,
          1.362,
          1.361,
          1.363,
          1.365,
          1.37,
          1.378,
          1.387,
          1.382,
          1.389,
          1.382,
          1.385,
          1.393,
          1.396,
          1.393,
          1.399,
          1.405,
          1.41,
          1.411,
          1.403,
          1.406,
          1.411,
          1.414,
          1.407,
          1.405,
          1.413,
          1.404,
          1.406,
          1.411,
          1.412,
          1.411,
          1.412,
          1.411,
          1.405,
          1.406,
          1.405,
          1.4,
          1.399,
          1.404,
          1.404,
          1.403,
          1.404,
          1.401,
          1.406,
          1.396,
          1.388,
          1.402,
          1.401,
          1.407,
          1.407,
          1.403,
          1.404,
          1.404,
          1.401,
          1.402,
          1.398,
          1.402,
          1.405,
          1.414,
          1.418,
          1.399,
          1.373,
          1.336,
          1.476,
          1.377,
          1.408,
          1.463,
          1.464,
          1.465,
          1.293,
          1.443,
          1.443,
          1.422,
          1.531,
          1.531,
          1.531,
          1.493,
          1.435,
          1.494,
          1.531,
          1.531,
          1.395,
          1.495,
          1.484,
          1.503,
          1.519,
          1.525,
          1.527,
          1.549,
          1.56,
          1.602,
          1.631,
          1.676,
          1.677,
          1.689,
          1.689,
          1.689,
          1.699,
          1.699,
          1.694,
          1.698,
          1.66,
          1.72,
          1.728,
          1.732
         ],
         "yaxis": "y"
        },
        {
         "hovertemplate": "<b>OLS trendline</b><br>National Average Price(Euros) = -0.000137643 * date + 1.42257<br>R<sup>2</sup>=0.000002<br><br>date=%{x}<br>National Average Price(Euros)=%{y} <b>(trend)</b><extra></extra>",
         "legendgroup": "",
         "marker": {
          "color": "#636efa",
          "symbol": "circle"
         },
         "mode": "lines",
         "name": "",
         "showlegend": false,
         "type": "scatter",
         "x": [
          "2002-01-01T00:00:00",
          "2002-02-01T00:00:00",
          "2002-03-01T00:00:00",
          "2002-04-01T00:00:00",
          "2002-05-01T00:00:00",
          "2002-06-01T00:00:00",
          "2002-07-01T00:00:00",
          "2002-08-01T00:00:00",
          "2002-09-01T00:00:00",
          "2002-10-01T00:00:00",
          "2002-11-01T00:00:00",
          "2002-12-01T00:00:00",
          "2003-01-01T00:00:00",
          "2003-02-01T00:00:00",
          "2003-03-01T00:00:00",
          "2003-04-01T00:00:00",
          "2003-05-01T00:00:00",
          "2003-06-01T00:00:00",
          "2003-07-01T00:00:00",
          "2003-08-01T00:00:00",
          "2003-09-01T00:00:00",
          "2003-10-01T00:00:00",
          "2003-11-01T00:00:00",
          "2003-12-01T00:00:00",
          "2004-01-01T00:00:00",
          "2004-02-01T00:00:00",
          "2004-03-01T00:00:00",
          "2004-04-01T00:00:00",
          "2004-05-01T00:00:00",
          "2004-06-01T00:00:00",
          "2004-07-01T00:00:00",
          "2004-08-01T00:00:00",
          "2004-09-01T00:00:00",
          "2004-10-01T00:00:00",
          "2004-11-01T00:00:00",
          "2004-12-01T00:00:00",
          "2005-01-01T00:00:00",
          "2005-02-01T00:00:00",
          "2005-03-01T00:00:00",
          "2005-04-01T00:00:00",
          "2005-05-01T00:00:00",
          "2005-06-01T00:00:00",
          "2005-07-01T00:00:00",
          "2005-08-01T00:00:00",
          "2005-09-01T00:00:00",
          "2005-10-01T00:00:00",
          "2005-11-01T00:00:00",
          "2005-12-01T00:00:00",
          "2006-01-01T00:00:00",
          "2006-02-01T00:00:00",
          "2006-03-01T00:00:00",
          "2006-04-01T00:00:00",
          "2006-05-01T00:00:00",
          "2006-06-01T00:00:00",
          "2006-07-01T00:00:00",
          "2006-08-01T00:00:00",
          "2006-09-01T00:00:00",
          "2006-10-01T00:00:00",
          "2006-11-01T00:00:00",
          "2006-12-01T00:00:00",
          "2007-01-01T00:00:00",
          "2007-02-01T00:00:00",
          "2007-03-01T00:00:00",
          "2007-04-01T00:00:00",
          "2007-05-01T00:00:00",
          "2007-06-01T00:00:00",
          "2007-07-01T00:00:00",
          "2007-08-01T00:00:00",
          "2007-09-01T00:00:00",
          "2007-10-01T00:00:00",
          "2007-11-01T00:00:00",
          "2007-12-01T00:00:00",
          "2008-01-01T00:00:00",
          "2008-02-01T00:00:00",
          "2008-03-01T00:00:00",
          "2008-04-01T00:00:00",
          "2008-05-01T00:00:00",
          "2008-06-01T00:00:00",
          "2008-07-01T00:00:00",
          "2008-08-01T00:00:00",
          "2008-09-01T00:00:00",
          "2008-10-01T00:00:00",
          "2008-11-01T00:00:00",
          "2008-12-01T00:00:00",
          "2009-01-01T00:00:00",
          "2009-02-01T00:00:00",
          "2009-03-01T00:00:00",
          "2009-04-01T00:00:00",
          "2009-05-01T00:00:00",
          "2009-06-01T00:00:00",
          "2009-07-01T00:00:00",
          "2009-08-01T00:00:00",
          "2009-09-01T00:00:00",
          "2009-10-01T00:00:00",
          "2009-11-01T00:00:00",
          "2009-12-01T00:00:00",
          "2010-01-01T00:00:00",
          "2010-02-01T00:00:00",
          "2010-03-01T00:00:00",
          "2010-04-01T00:00:00",
          "2010-05-01T00:00:00",
          "2010-06-01T00:00:00",
          "2010-07-01T00:00:00",
          "2010-08-01T00:00:00",
          "2010-09-01T00:00:00",
          "2010-10-01T00:00:00",
          "2010-11-01T00:00:00",
          "2010-12-01T00:00:00",
          "2011-01-01T00:00:00",
          "2011-02-01T00:00:00",
          "2011-03-01T00:00:00",
          "2011-04-01T00:00:00",
          "2011-05-01T00:00:00",
          "2011-06-01T00:00:00",
          "2011-07-01T00:00:00",
          "2011-08-01T00:00:00",
          "2011-09-01T00:00:00",
          "2011-10-01T00:00:00",
          "2011-11-01T00:00:00",
          "2011-12-01T00:00:00",
          "2012-01-01T00:00:00",
          "2012-02-01T00:00:00",
          "2012-03-01T00:00:00",
          "2012-04-01T00:00:00",
          "2012-05-01T00:00:00",
          "2012-06-01T00:00:00",
          "2012-07-01T00:00:00",
          "2012-08-01T00:00:00",
          "2012-09-01T00:00:00",
          "2012-10-01T00:00:00",
          "2012-11-01T00:00:00",
          "2012-12-01T00:00:00",
          "2013-01-01T00:00:00",
          "2013-02-01T00:00:00",
          "2013-03-01T00:00:00",
          "2013-04-01T00:00:00",
          "2013-05-01T00:00:00",
          "2013-06-01T00:00:00",
          "2013-07-01T00:00:00",
          "2013-08-01T00:00:00",
          "2013-09-01T00:00:00",
          "2013-10-01T00:00:00",
          "2013-11-01T00:00:00",
          "2013-12-01T00:00:00",
          "2014-01-01T00:00:00",
          "2014-02-01T00:00:00",
          "2014-03-01T00:00:00",
          "2014-04-01T00:00:00",
          "2014-05-01T00:00:00",
          "2014-06-01T00:00:00",
          "2014-07-01T00:00:00",
          "2014-08-01T00:00:00",
          "2014-09-01T00:00:00",
          "2014-10-01T00:00:00",
          "2014-11-01T00:00:00",
          "2014-12-01T00:00:00",
          "2015-01-01T00:00:00",
          "2015-02-01T00:00:00",
          "2015-03-01T00:00:00",
          "2015-04-01T00:00:00",
          "2015-05-01T00:00:00",
          "2015-06-01T00:00:00",
          "2015-07-01T00:00:00",
          "2015-08-01T00:00:00",
          "2015-09-01T00:00:00",
          "2015-10-01T00:00:00",
          "2015-11-01T00:00:00",
          "2015-12-01T00:00:00",
          "2016-01-01T00:00:00",
          "2016-02-01T00:00:00",
          "2016-03-01T00:00:00",
          "2016-04-01T00:00:00",
          "2016-05-01T00:00:00",
          "2016-06-01T00:00:00",
          "2016-07-01T00:00:00",
          "2016-08-01T00:00:00",
          "2016-09-01T00:00:00",
          "2016-10-01T00:00:00",
          "2016-11-01T00:00:00",
          "2016-12-01T00:00:00",
          "2017-01-01T00:00:00",
          "2017-02-01T00:00:00",
          "2017-03-01T00:00:00",
          "2017-04-01T00:00:00",
          "2017-05-01T00:00:00",
          "2017-06-01T00:00:00",
          "2017-07-01T00:00:00",
          "2017-08-01T00:00:00",
          "2017-09-01T00:00:00",
          "2017-10-01T00:00:00",
          "2017-11-01T00:00:00",
          "2017-12-01T00:00:00",
          "2018-01-01T00:00:00",
          "2018-02-01T00:00:00",
          "2018-03-01T00:00:00",
          "2018-04-01T00:00:00",
          "2018-05-01T00:00:00",
          "2018-06-01T00:00:00",
          "2018-07-01T00:00:00",
          "2018-08-01T00:00:00",
          "2018-09-01T00:00:00",
          "2018-10-01T00:00:00",
          "2018-11-01T00:00:00",
          "2018-12-01T00:00:00",
          "2019-01-01T00:00:00",
          "2019-02-01T00:00:00",
          "2019-03-01T00:00:00",
          "2019-04-01T00:00:00",
          "2019-05-01T00:00:00",
          "2019-06-01T00:00:00",
          "2019-07-01T00:00:00",
          "2019-08-01T00:00:00",
          "2019-09-01T00:00:00",
          "2019-10-01T00:00:00",
          "2019-11-01T00:00:00",
          "2019-12-01T00:00:00",
          "2020-01-01T00:00:00",
          "2020-02-01T00:00:00",
          "2020-03-01T00:00:00",
          "2020-04-01T00:00:00",
          "2020-05-01T00:00:00",
          "2020-06-01T00:00:00",
          "2020-07-01T00:00:00",
          "2020-08-01T00:00:00",
          "2020-09-01T00:00:00",
          "2020-10-01T00:00:00",
          "2020-11-01T00:00:00",
          "2020-12-01T00:00:00",
          "2021-01-01T00:00:00",
          "2021-02-01T00:00:00",
          "2021-03-01T00:00:00",
          "2021-04-01T00:00:00",
          "2021-05-01T00:00:00",
          "2021-06-01T00:00:00",
          "2021-07-01T00:00:00",
          "2021-08-01T00:00:00",
          "2021-09-01T00:00:00",
          "2021-10-01T00:00:00",
          "2021-11-01T00:00:00",
          "2021-12-01T00:00:00",
          "2022-01-01T00:00:00",
          "2022-02-01T00:00:00",
          "2022-03-01T00:00:00",
          "2022-04-01T00:00:00",
          "2022-05-01T00:00:00",
          "2022-06-01T00:00:00",
          "2022-07-01T00:00:00",
          "2022-08-01T00:00:00",
          "2022-09-01T00:00:00",
          "2022-10-01T00:00:00",
          "2022-11-01T00:00:00",
          "2022-12-01T00:00:00",
          "2023-01-01T00:00:00",
          "2023-02-01T00:00:00",
          "2023-03-01T00:00:00",
          "2023-04-01T00:00:00",
          "2023-05-01T00:00:00",
          "2023-06-01T00:00:00",
          "2023-07-01T00:00:00",
          "2023-08-01T00:00:00",
          "2023-09-01T00:00:00",
          "2023-10-01T00:00:00",
          "2023-11-01T00:00:00",
          "2023-12-01T00:00:00"
         ],
         "xaxis": "x",
         "y": [
          1.4224213121588825,
          1.422660168334417,
          1.4227233485396154,
          1.422371031395922,
          1.4223542711416017,
          1.4225931273171364,
          1.4225763670628164,
          1.422815223238351,
          1.4224629060946576,
          1.4224461458403375,
          1.4226850020158721,
          1.422668241761552,
          1.4223159246178585,
          1.4225547807933931,
          1.4226179609985914,
          1.422856817174126,
          1.422840056919806,
          1.4224877397761126,
          1.4224709795217925,
          1.4227098356973271,
          1.4223575185536337,
          1.4223407582993135,
          1.4225796144748482,
          1.422562854220528,
          1.4228017103960626,
          1.4224493932523694,
          1.4227681898874225,
          1.422415872743729,
          1.4223991124894089,
          1.4226379686649435,
          1.4226212084106233,
          1.422860064586158,
          1.4225077474424646,
          1.4224909871881446,
          1.4227298433636792,
          1.422713083109359,
          1.4223607659656656,
          1.4225996221412003,
          1.4226628023463985,
          1.422310485202705,
          1.422293724948385,
          1.4225325811239196,
          1.4225158208695996,
          1.4227546770451343,
          1.4224023599014408,
          1.4223855996471206,
          1.4226244558226553,
          1.422607695568335,
          1.4228465517438698,
          1.4224942346001763,
          1.4225574148053746,
          1.4227962709809092,
          1.422779510726589,
          1.4224271935828958,
          1.4224104333285756,
          1.4226492895041103,
          1.4222969723604169,
          1.4222802121060967,
          1.4225190682816313,
          1.4225023080273111,
          1.4227411642028458,
          1.4223888470591526,
          1.4224520272643508,
          1.4226908834398855,
          1.4226741231855653,
          1.4223218060418719,
          1.4223050457875517,
          1.4225439019630863,
          1.422782758138621,
          1.4227659978843008,
          1.4224136807406076,
          1.4223969204862874,
          1.422635776661822,
          1.4222834595181286,
          1.4226022561531817,
          1.4228411123287164,
          1.4228243520743962,
          1.4224720349307027,
          1.4224552746763826,
          1.4226941308519172,
          1.422341813708224,
          1.4223250534539038,
          1.4225639096294385,
          1.4225471493751183,
          1.422786005550653,
          1.4224336884069595,
          1.4224968686121577,
          1.4227357247876924,
          1.4227189645333722,
          1.422366647389679,
          1.4223498871353588,
          1.4225887433108935,
          1.4228275994864281,
          1.422810839232108,
          1.4224585220884145,
          1.4224417618340943,
          1.422680618009629,
          1.4223283008659358,
          1.422391481071134,
          1.4226303372466687,
          1.4226135769923485,
          1.4228524331678831,
          1.422835672913563,
          1.4224833557698695,
          1.4227222119454042,
          1.422705451691084,
          1.4223531345473908,
          1.4223363742930706,
          1.4225752304686052,
          1.4228140866441399,
          1.42228609353011,
          1.4225249497056447,
          1.4225081894513245,
          1.4227470456268592,
          1.422730285372539,
          1.4223779682288458,
          1.4226168244043804,
          1.4226000641500602,
          1.422838920325595,
          1.4228221600712747,
          1.4224698429275813,
          1.422708699103116,
          1.422436322418941,
          1.4226751785944756,
          1.4226584183401554,
          1.4223061011964622,
          1.422289340942142,
          1.4225281971176766,
          1.4227670532932113,
          1.4227502930388911,
          1.4223979758951977,
          1.4223812156408775,
          1.4226200718164121,
          1.4228589279919468,
          1.4223309348779172,
          1.4225697910534518,
          1.4225530307991316,
          1.4227918869746663,
          1.4227751267203461,
          1.4224228095766527,
          1.4226616657521873,
          1.4226449054978672,
          1.422292588354174,
          1.4222758280998538,
          1.4225146842753884,
          1.422753540450923,
          1.4228167206561213,
          1.4224644035124279,
          1.4224476432581077,
          1.4226864994336423,
          1.4226697391793222,
          1.422317422035629,
          1.4225562782111636,
          1.4225395179568434,
          1.422778374132378,
          1.4227616138780579,
          1.4224092967343644,
          1.422648152909899,
          1.4227113331150973,
          1.422359015971404,
          1.4223422557170837,
          1.4225811118926184,
          1.4225643516382984,
          1.422803207813833,
          1.4224508906701396,
          1.4224341304158195,
          1.422672986591354,
          1.422656226337034,
          1.4223039091933405,
          1.4225427653688751,
          1.4228615620039282,
          1.422509244860235,
          1.4224924846059148,
          1.4227313407814495,
          1.4227145805271293,
          1.4223622633834359,
          1.4226011195589705,
          1.4225843593046503,
          1.422823215480185,
          1.4228064552258648,
          1.4224541380821716,
          1.4226929942577062,
          1.4227561744629045,
          1.422403857319211,
          1.4223870970648909,
          1.4226259532404255,
          1.4226091929861053,
          1.42284804916164,
          1.4224957320179465,
          1.4224789717636266,
          1.4227178279391612,
          1.422701067684841,
          1.4223487505411476,
          1.4225876067166823,
          1.4226507869218805,
          1.422298469778187,
          1.422281709523867,
          1.4225205656994016,
          1.4225038054450816,
          1.4227426616206162,
          1.4223903444769228,
          1.4223735842226026,
          1.4226124403981373,
          1.422595680143817,
          1.4228345363193518,
          1.4224822191756583,
          1.4225453993808566,
          1.4227842555563912,
          1.4227674953020713,
          1.4224151781583778,
          1.4223984179040576,
          1.4226372740795923,
          1.4222849569358988,
          1.4228593700008068,
          1.4225070528571133,
          1.4224902926027931,
          1.4227291487783278,
          1.4223768316346346,
          1.4226956282696877,
          1.4223433111259942,
          1.422326550871674,
          1.4225654070472087,
          1.4225486467928885,
          1.4227875029684232,
          1.4224351858247297,
          1.4224184255704098,
          1.4226572817459444,
          1.4226405214916242,
          1.4222882043479308,
          1.4225270605234654,
          1.4225902407286637,
          1.4228290969041983,
          1.4228123366498782,
          1.4224600195061847,
          1.4224432592518648,
          1.4226821154273992,
          1.422329798283706,
          1.4223130380293858,
          1.4225518942049205,
          1.4225351339506003,
          1.422773990126135,
          1.4224216729824415,
          1.4224848531876397,
          1.4227237093631744,
          1.4227069491088542,
          1.422354631965161,
          1.4223378717108408,
          1.4225767278863755,
          1.42281558406191,
          1.42279882380759,
          1.4224465066638965,
          1.4224297464095763,
          1.422668602585111,
          1.4223162854414177,
          1.422379465646616,
          1.4226183218221506,
          1.4226015615678305,
          1.4228404177433651,
          1.422823657489045,
          1.4224713403453515,
          1.4227101965208862,
          1.422693436266566,
          1.4223411191228728,
          1.4223243588685526
         ],
         "yaxis": "y"
        }
       ],
       "layout": {
        "legend": {
         "tracegroupgap": 0
        },
        "template": {
         "data": {
          "bar": [
           {
            "error_x": {
             "color": "#2a3f5f"
            },
            "error_y": {
             "color": "#2a3f5f"
            },
            "marker": {
             "line": {
              "color": "#E5ECF6",
              "width": 0.5
             },
             "pattern": {
              "fillmode": "overlay",
              "size": 10,
              "solidity": 0.2
             }
            },
            "type": "bar"
           }
          ],
          "barpolar": [
           {
            "marker": {
             "line": {
              "color": "#E5ECF6",
              "width": 0.5
             },
             "pattern": {
              "fillmode": "overlay",
              "size": 10,
              "solidity": 0.2
             }
            },
            "type": "barpolar"
           }
          ],
          "carpet": [
           {
            "aaxis": {
             "endlinecolor": "#2a3f5f",
             "gridcolor": "white",
             "linecolor": "white",
             "minorgridcolor": "white",
             "startlinecolor": "#2a3f5f"
            },
            "baxis": {
             "endlinecolor": "#2a3f5f",
             "gridcolor": "white",
             "linecolor": "white",
             "minorgridcolor": "white",
             "startlinecolor": "#2a3f5f"
            },
            "type": "carpet"
           }
          ],
          "choropleth": [
           {
            "colorbar": {
             "outlinewidth": 0,
             "ticks": ""
            },
            "type": "choropleth"
           }
          ],
          "contour": [
           {
            "colorbar": {
             "outlinewidth": 0,
             "ticks": ""
            },
            "colorscale": [
             [
              0,
              "#0d0887"
             ],
             [
              0.1111111111111111,
              "#46039f"
             ],
             [
              0.2222222222222222,
              "#7201a8"
             ],
             [
              0.3333333333333333,
              "#9c179e"
             ],
             [
              0.4444444444444444,
              "#bd3786"
             ],
             [
              0.5555555555555556,
              "#d8576b"
             ],
             [
              0.6666666666666666,
              "#ed7953"
             ],
             [
              0.7777777777777778,
              "#fb9f3a"
             ],
             [
              0.8888888888888888,
              "#fdca26"
             ],
             [
              1,
              "#f0f921"
             ]
            ],
            "type": "contour"
           }
          ],
          "contourcarpet": [
           {
            "colorbar": {
             "outlinewidth": 0,
             "ticks": ""
            },
            "type": "contourcarpet"
           }
          ],
          "heatmap": [
           {
            "colorbar": {
             "outlinewidth": 0,
             "ticks": ""
            },
            "colorscale": [
             [
              0,
              "#0d0887"
             ],
             [
              0.1111111111111111,
              "#46039f"
             ],
             [
              0.2222222222222222,
              "#7201a8"
             ],
             [
              0.3333333333333333,
              "#9c179e"
             ],
             [
              0.4444444444444444,
              "#bd3786"
             ],
             [
              0.5555555555555556,
              "#d8576b"
             ],
             [
              0.6666666666666666,
              "#ed7953"
             ],
             [
              0.7777777777777778,
              "#fb9f3a"
             ],
             [
              0.8888888888888888,
              "#fdca26"
             ],
             [
              1,
              "#f0f921"
             ]
            ],
            "type": "heatmap"
           }
          ],
          "heatmapgl": [
           {
            "colorbar": {
             "outlinewidth": 0,
             "ticks": ""
            },
            "colorscale": [
             [
              0,
              "#0d0887"
             ],
             [
              0.1111111111111111,
              "#46039f"
             ],
             [
              0.2222222222222222,
              "#7201a8"
             ],
             [
              0.3333333333333333,
              "#9c179e"
             ],
             [
              0.4444444444444444,
              "#bd3786"
             ],
             [
              0.5555555555555556,
              "#d8576b"
             ],
             [
              0.6666666666666666,
              "#ed7953"
             ],
             [
              0.7777777777777778,
              "#fb9f3a"
             ],
             [
              0.8888888888888888,
              "#fdca26"
             ],
             [
              1,
              "#f0f921"
             ]
            ],
            "type": "heatmapgl"
           }
          ],
          "histogram": [
           {
            "marker": {
             "pattern": {
              "fillmode": "overlay",
              "size": 10,
              "solidity": 0.2
             }
            },
            "type": "histogram"
           }
          ],
          "histogram2d": [
           {
            "colorbar": {
             "outlinewidth": 0,
             "ticks": ""
            },
            "colorscale": [
             [
              0,
              "#0d0887"
             ],
             [
              0.1111111111111111,
              "#46039f"
             ],
             [
              0.2222222222222222,
              "#7201a8"
             ],
             [
              0.3333333333333333,
              "#9c179e"
             ],
             [
              0.4444444444444444,
              "#bd3786"
             ],
             [
              0.5555555555555556,
              "#d8576b"
             ],
             [
              0.6666666666666666,
              "#ed7953"
             ],
             [
              0.7777777777777778,
              "#fb9f3a"
             ],
             [
              0.8888888888888888,
              "#fdca26"
             ],
             [
              1,
              "#f0f921"
             ]
            ],
            "type": "histogram2d"
           }
          ],
          "histogram2dcontour": [
           {
            "colorbar": {
             "outlinewidth": 0,
             "ticks": ""
            },
            "colorscale": [
             [
              0,
              "#0d0887"
             ],
             [
              0.1111111111111111,
              "#46039f"
             ],
             [
              0.2222222222222222,
              "#7201a8"
             ],
             [
              0.3333333333333333,
              "#9c179e"
             ],
             [
              0.4444444444444444,
              "#bd3786"
             ],
             [
              0.5555555555555556,
              "#d8576b"
             ],
             [
              0.6666666666666666,
              "#ed7953"
             ],
             [
              0.7777777777777778,
              "#fb9f3a"
             ],
             [
              0.8888888888888888,
              "#fdca26"
             ],
             [
              1,
              "#f0f921"
             ]
            ],
            "type": "histogram2dcontour"
           }
          ],
          "mesh3d": [
           {
            "colorbar": {
             "outlinewidth": 0,
             "ticks": ""
            },
            "type": "mesh3d"
           }
          ],
          "parcoords": [
           {
            "line": {
             "colorbar": {
              "outlinewidth": 0,
              "ticks": ""
             }
            },
            "type": "parcoords"
           }
          ],
          "pie": [
           {
            "automargin": true,
            "type": "pie"
           }
          ],
          "scatter": [
           {
            "fillpattern": {
             "fillmode": "overlay",
             "size": 10,
             "solidity": 0.2
            },
            "type": "scatter"
           }
          ],
          "scatter3d": [
           {
            "line": {
             "colorbar": {
              "outlinewidth": 0,
              "ticks": ""
             }
            },
            "marker": {
             "colorbar": {
              "outlinewidth": 0,
              "ticks": ""
             }
            },
            "type": "scatter3d"
           }
          ],
          "scattercarpet": [
           {
            "marker": {
             "colorbar": {
              "outlinewidth": 0,
              "ticks": ""
             }
            },
            "type": "scattercarpet"
           }
          ],
          "scattergeo": [
           {
            "marker": {
             "colorbar": {
              "outlinewidth": 0,
              "ticks": ""
             }
            },
            "type": "scattergeo"
           }
          ],
          "scattergl": [
           {
            "marker": {
             "colorbar": {
              "outlinewidth": 0,
              "ticks": ""
             }
            },
            "type": "scattergl"
           }
          ],
          "scattermapbox": [
           {
            "marker": {
             "colorbar": {
              "outlinewidth": 0,
              "ticks": ""
             }
            },
            "type": "scattermapbox"
           }
          ],
          "scatterpolar": [
           {
            "marker": {
             "colorbar": {
              "outlinewidth": 0,
              "ticks": ""
             }
            },
            "type": "scatterpolar"
           }
          ],
          "scatterpolargl": [
           {
            "marker": {
             "colorbar": {
              "outlinewidth": 0,
              "ticks": ""
             }
            },
            "type": "scatterpolargl"
           }
          ],
          "scatterternary": [
           {
            "marker": {
             "colorbar": {
              "outlinewidth": 0,
              "ticks": ""
             }
            },
            "type": "scatterternary"
           }
          ],
          "surface": [
           {
            "colorbar": {
             "outlinewidth": 0,
             "ticks": ""
            },
            "colorscale": [
             [
              0,
              "#0d0887"
             ],
             [
              0.1111111111111111,
              "#46039f"
             ],
             [
              0.2222222222222222,
              "#7201a8"
             ],
             [
              0.3333333333333333,
              "#9c179e"
             ],
             [
              0.4444444444444444,
              "#bd3786"
             ],
             [
              0.5555555555555556,
              "#d8576b"
             ],
             [
              0.6666666666666666,
              "#ed7953"
             ],
             [
              0.7777777777777778,
              "#fb9f3a"
             ],
             [
              0.8888888888888888,
              "#fdca26"
             ],
             [
              1,
              "#f0f921"
             ]
            ],
            "type": "surface"
           }
          ],
          "table": [
           {
            "cells": {
             "fill": {
              "color": "#EBF0F8"
             },
             "line": {
              "color": "white"
             }
            },
            "header": {
             "fill": {
              "color": "#C8D4E3"
             },
             "line": {
              "color": "white"
             }
            },
            "type": "table"
           }
          ]
         },
         "layout": {
          "annotationdefaults": {
           "arrowcolor": "#2a3f5f",
           "arrowhead": 0,
           "arrowwidth": 1
          },
          "autotypenumbers": "strict",
          "coloraxis": {
           "colorbar": {
            "outlinewidth": 0,
            "ticks": ""
           }
          },
          "colorscale": {
           "diverging": [
            [
             0,
             "#8e0152"
            ],
            [
             0.1,
             "#c51b7d"
            ],
            [
             0.2,
             "#de77ae"
            ],
            [
             0.3,
             "#f1b6da"
            ],
            [
             0.4,
             "#fde0ef"
            ],
            [
             0.5,
             "#f7f7f7"
            ],
            [
             0.6,
             "#e6f5d0"
            ],
            [
             0.7,
             "#b8e186"
            ],
            [
             0.8,
             "#7fbc41"
            ],
            [
             0.9,
             "#4d9221"
            ],
            [
             1,
             "#276419"
            ]
           ],
           "sequential": [
            [
             0,
             "#0d0887"
            ],
            [
             0.1111111111111111,
             "#46039f"
            ],
            [
             0.2222222222222222,
             "#7201a8"
            ],
            [
             0.3333333333333333,
             "#9c179e"
            ],
            [
             0.4444444444444444,
             "#bd3786"
            ],
            [
             0.5555555555555556,
             "#d8576b"
            ],
            [
             0.6666666666666666,
             "#ed7953"
            ],
            [
             0.7777777777777778,
             "#fb9f3a"
            ],
            [
             0.8888888888888888,
             "#fdca26"
            ],
            [
             1,
             "#f0f921"
            ]
           ],
           "sequentialminus": [
            [
             0,
             "#0d0887"
            ],
            [
             0.1111111111111111,
             "#46039f"
            ],
            [
             0.2222222222222222,
             "#7201a8"
            ],
            [
             0.3333333333333333,
             "#9c179e"
            ],
            [
             0.4444444444444444,
             "#bd3786"
            ],
            [
             0.5555555555555556,
             "#d8576b"
            ],
            [
             0.6666666666666666,
             "#ed7953"
            ],
            [
             0.7777777777777778,
             "#fb9f3a"
            ],
            [
             0.8888888888888888,
             "#fdca26"
            ],
            [
             1,
             "#f0f921"
            ]
           ]
          },
          "colorway": [
           "#636efa",
           "#EF553B",
           "#00cc96",
           "#ab63fa",
           "#FFA15A",
           "#19d3f3",
           "#FF6692",
           "#B6E880",
           "#FF97FF",
           "#FECB52"
          ],
          "font": {
           "color": "#2a3f5f"
          },
          "geo": {
           "bgcolor": "white",
           "lakecolor": "white",
           "landcolor": "#E5ECF6",
           "showlakes": true,
           "showland": true,
           "subunitcolor": "white"
          },
          "hoverlabel": {
           "align": "left"
          },
          "hovermode": "closest",
          "mapbox": {
           "style": "light"
          },
          "paper_bgcolor": "white",
          "plot_bgcolor": "#E5ECF6",
          "polar": {
           "angularaxis": {
            "gridcolor": "white",
            "linecolor": "white",
            "ticks": ""
           },
           "bgcolor": "#E5ECF6",
           "radialaxis": {
            "gridcolor": "white",
            "linecolor": "white",
            "ticks": ""
           }
          },
          "scene": {
           "xaxis": {
            "backgroundcolor": "#E5ECF6",
            "gridcolor": "white",
            "gridwidth": 2,
            "linecolor": "white",
            "showbackground": true,
            "ticks": "",
            "zerolinecolor": "white"
           },
           "yaxis": {
            "backgroundcolor": "#E5ECF6",
            "gridcolor": "white",
            "gridwidth": 2,
            "linecolor": "white",
            "showbackground": true,
            "ticks": "",
            "zerolinecolor": "white"
           },
           "zaxis": {
            "backgroundcolor": "#E5ECF6",
            "gridcolor": "white",
            "gridwidth": 2,
            "linecolor": "white",
            "showbackground": true,
            "ticks": "",
            "zerolinecolor": "white"
           }
          },
          "shapedefaults": {
           "line": {
            "color": "#2a3f5f"
           }
          },
          "ternary": {
           "aaxis": {
            "gridcolor": "white",
            "linecolor": "white",
            "ticks": ""
           },
           "baxis": {
            "gridcolor": "white",
            "linecolor": "white",
            "ticks": ""
           },
           "bgcolor": "#E5ECF6",
           "caxis": {
            "gridcolor": "white",
            "linecolor": "white",
            "ticks": ""
           }
          },
          "title": {
           "x": 0.05
          },
          "xaxis": {
           "automargin": true,
           "gridcolor": "white",
           "linecolor": "white",
           "ticks": "",
           "title": {
            "standoff": 15
           },
           "zerolinecolor": "white",
           "zerolinewidth": 2
          },
          "yaxis": {
           "automargin": true,
           "gridcolor": "white",
           "linecolor": "white",
           "ticks": "",
           "title": {
            "standoff": 15
           },
           "zerolinecolor": "white",
           "zerolinewidth": 2
          }
         }
        },
        "title": {
         "text": "Scatter Plot of Date vs. National Average Price(Euros) with Trend Line"
        },
        "xaxis": {
         "anchor": "y",
         "domain": [
          0,
          1
         ],
         "title": {
          "text": "Date"
         }
        },
        "yaxis": {
         "anchor": "x",
         "domain": [
          0,
          1
         ],
         "range": [
          0.5,
          1.8
         ],
         "title": {
          "text": "National Average Price(Euros)"
         }
        }
       }
      },
      "text/html": [
       "<div>                            <div id=\"bd8504ec-f4e8-4a25-a10c-e7c517295619\" class=\"plotly-graph-div\" style=\"height:525px; width:100%;\"></div>            <script type=\"text/javascript\">                require([\"plotly\"], function(Plotly) {                    window.PLOTLYENV=window.PLOTLYENV || {};                                    if (document.getElementById(\"bd8504ec-f4e8-4a25-a10c-e7c517295619\")) {                    Plotly.newPlot(                        \"bd8504ec-f4e8-4a25-a10c-e7c517295619\",                        [{\"hovertemplate\":\"date=%{x}<br>National Average Price(Euros)=%{y}<extra></extra>\",\"legendgroup\":\"\",\"marker\":{\"color\":\"#636efa\",\"symbol\":\"circle\"},\"mode\":\"markers\",\"name\":\"\",\"orientation\":\"v\",\"showlegend\":false,\"x\":[\"2002-01-01T00:00:00\",\"2002-02-01T00:00:00\",\"2002-03-01T00:00:00\",\"2002-04-01T00:00:00\",\"2002-05-01T00:00:00\",\"2002-06-01T00:00:00\",\"2002-07-01T00:00:00\",\"2002-08-01T00:00:00\",\"2002-09-01T00:00:00\",\"2002-10-01T00:00:00\",\"2002-11-01T00:00:00\",\"2002-12-01T00:00:00\",\"2003-01-01T00:00:00\",\"2003-02-01T00:00:00\",\"2003-03-01T00:00:00\",\"2003-04-01T00:00:00\",\"2003-05-01T00:00:00\",\"2003-06-01T00:00:00\",\"2003-07-01T00:00:00\",\"2003-08-01T00:00:00\",\"2003-09-01T00:00:00\",\"2003-10-01T00:00:00\",\"2003-11-01T00:00:00\",\"2003-12-01T00:00:00\",\"2004-01-01T00:00:00\",\"2004-02-01T00:00:00\",\"2004-03-01T00:00:00\",\"2004-04-01T00:00:00\",\"2004-05-01T00:00:00\",\"2004-06-01T00:00:00\",\"2004-07-01T00:00:00\",\"2004-08-01T00:00:00\",\"2004-09-01T00:00:00\",\"2004-10-01T00:00:00\",\"2004-11-01T00:00:00\",\"2004-12-01T00:00:00\",\"2005-01-01T00:00:00\",\"2005-02-01T00:00:00\",\"2005-03-01T00:00:00\",\"2005-04-01T00:00:00\",\"2005-05-01T00:00:00\",\"2005-06-01T00:00:00\",\"2005-07-01T00:00:00\",\"2005-08-01T00:00:00\",\"2005-09-01T00:00:00\",\"2005-10-01T00:00:00\",\"2005-11-01T00:00:00\",\"2005-12-01T00:00:00\",\"2006-01-01T00:00:00\",\"2006-02-01T00:00:00\",\"2006-03-01T00:00:00\",\"2006-04-01T00:00:00\",\"2006-05-01T00:00:00\",\"2006-06-01T00:00:00\",\"2006-07-01T00:00:00\",\"2006-08-01T00:00:00\",\"2006-09-01T00:00:00\",\"2006-10-01T00:00:00\",\"2006-11-01T00:00:00\",\"2006-12-01T00:00:00\",\"2007-01-01T00:00:00\",\"2007-02-01T00:00:00\",\"2007-03-01T00:00:00\",\"2007-04-01T00:00:00\",\"2007-05-01T00:00:00\",\"2007-06-01T00:00:00\",\"2007-07-01T00:00:00\",\"2007-08-01T00:00:00\",\"2007-09-01T00:00:00\",\"2007-10-01T00:00:00\",\"2007-11-01T00:00:00\",\"2007-12-01T00:00:00\",\"2008-01-01T00:00:00\",\"2008-02-01T00:00:00\",\"2008-03-01T00:00:00\",\"2008-04-01T00:00:00\",\"2008-05-01T00:00:00\",\"2008-06-01T00:00:00\",\"2008-07-01T00:00:00\",\"2008-08-01T00:00:00\",\"2008-09-01T00:00:00\",\"2008-10-01T00:00:00\",\"2008-11-01T00:00:00\",\"2008-12-01T00:00:00\",\"2009-01-01T00:00:00\",\"2009-02-01T00:00:00\",\"2009-03-01T00:00:00\",\"2009-04-01T00:00:00\",\"2009-05-01T00:00:00\",\"2009-06-01T00:00:00\",\"2009-07-01T00:00:00\",\"2009-08-01T00:00:00\",\"2009-09-01T00:00:00\",\"2009-10-01T00:00:00\",\"2009-11-01T00:00:00\",\"2009-12-01T00:00:00\",\"2010-01-01T00:00:00\",\"2010-02-01T00:00:00\",\"2010-03-01T00:00:00\",\"2010-04-01T00:00:00\",\"2010-05-01T00:00:00\",\"2010-06-01T00:00:00\",\"2010-07-01T00:00:00\",\"2010-08-01T00:00:00\",\"2010-09-01T00:00:00\",\"2010-10-01T00:00:00\",\"2010-11-01T00:00:00\",\"2010-12-01T00:00:00\",\"2011-01-01T00:00:00\",\"2011-02-01T00:00:00\",\"2011-03-01T00:00:00\",\"2011-04-01T00:00:00\",\"2011-05-01T00:00:00\",\"2011-06-01T00:00:00\",\"2011-07-01T00:00:00\",\"2011-08-01T00:00:00\",\"2011-09-01T00:00:00\",\"2011-10-01T00:00:00\",\"2011-11-01T00:00:00\",\"2011-12-01T00:00:00\",\"2012-01-01T00:00:00\",\"2012-02-01T00:00:00\",\"2012-03-01T00:00:00\",\"2012-04-01T00:00:00\",\"2012-05-01T00:00:00\",\"2012-06-01T00:00:00\",\"2012-07-01T00:00:00\",\"2012-08-01T00:00:00\",\"2012-09-01T00:00:00\",\"2012-10-01T00:00:00\",\"2012-11-01T00:00:00\",\"2012-12-01T00:00:00\",\"2013-01-01T00:00:00\",\"2013-02-01T00:00:00\",\"2013-03-01T00:00:00\",\"2013-04-01T00:00:00\",\"2013-05-01T00:00:00\",\"2013-06-01T00:00:00\",\"2013-07-01T00:00:00\",\"2013-08-01T00:00:00\",\"2013-09-01T00:00:00\",\"2013-10-01T00:00:00\",\"2013-11-01T00:00:00\",\"2013-12-01T00:00:00\",\"2014-01-01T00:00:00\",\"2014-02-01T00:00:00\",\"2014-03-01T00:00:00\",\"2014-04-01T00:00:00\",\"2014-05-01T00:00:00\",\"2014-06-01T00:00:00\",\"2014-07-01T00:00:00\",\"2014-08-01T00:00:00\",\"2014-09-01T00:00:00\",\"2014-10-01T00:00:00\",\"2014-11-01T00:00:00\",\"2014-12-01T00:00:00\",\"2015-01-01T00:00:00\",\"2015-02-01T00:00:00\",\"2015-03-01T00:00:00\",\"2015-04-01T00:00:00\",\"2015-05-01T00:00:00\",\"2015-06-01T00:00:00\",\"2015-07-01T00:00:00\",\"2015-08-01T00:00:00\",\"2015-09-01T00:00:00\",\"2015-10-01T00:00:00\",\"2015-11-01T00:00:00\",\"2015-12-01T00:00:00\",\"2016-01-01T00:00:00\",\"2016-02-01T00:00:00\",\"2016-03-01T00:00:00\",\"2016-04-01T00:00:00\",\"2016-05-01T00:00:00\",\"2016-06-01T00:00:00\",\"2016-07-01T00:00:00\",\"2016-08-01T00:00:00\",\"2016-09-01T00:00:00\",\"2016-10-01T00:00:00\",\"2016-11-01T00:00:00\",\"2016-12-01T00:00:00\",\"2017-01-01T00:00:00\",\"2017-02-01T00:00:00\",\"2017-03-01T00:00:00\",\"2017-04-01T00:00:00\",\"2017-05-01T00:00:00\",\"2017-06-01T00:00:00\",\"2017-07-01T00:00:00\",\"2017-08-01T00:00:00\",\"2017-09-01T00:00:00\",\"2017-10-01T00:00:00\",\"2017-11-01T00:00:00\",\"2017-12-01T00:00:00\",\"2018-01-01T00:00:00\",\"2018-02-01T00:00:00\",\"2018-03-01T00:00:00\",\"2018-04-01T00:00:00\",\"2018-05-01T00:00:00\",\"2018-06-01T00:00:00\",\"2018-07-01T00:00:00\",\"2018-08-01T00:00:00\",\"2018-09-01T00:00:00\",\"2018-10-01T00:00:00\",\"2018-11-01T00:00:00\",\"2018-12-01T00:00:00\",\"2019-01-01T00:00:00\",\"2019-02-01T00:00:00\",\"2019-03-01T00:00:00\",\"2019-04-01T00:00:00\",\"2019-05-01T00:00:00\",\"2019-06-01T00:00:00\",\"2019-07-01T00:00:00\",\"2019-08-01T00:00:00\",\"2019-09-01T00:00:00\",\"2019-10-01T00:00:00\",\"2019-11-01T00:00:00\",\"2019-12-01T00:00:00\",\"2020-01-01T00:00:00\",\"2020-02-01T00:00:00\",\"2020-03-01T00:00:00\",\"2020-04-01T00:00:00\",\"2020-05-01T00:00:00\",\"2020-06-01T00:00:00\",\"2020-07-01T00:00:00\",\"2020-08-01T00:00:00\",\"2020-09-01T00:00:00\",\"2020-10-01T00:00:00\",\"2020-11-01T00:00:00\",\"2020-12-01T00:00:00\",\"2021-01-01T00:00:00\",\"2021-02-01T00:00:00\",\"2021-03-01T00:00:00\",\"2021-04-01T00:00:00\",\"2021-05-01T00:00:00\",\"2021-06-01T00:00:00\",\"2021-07-01T00:00:00\",\"2021-08-01T00:00:00\",\"2021-09-01T00:00:00\",\"2021-10-01T00:00:00\",\"2021-11-01T00:00:00\",\"2021-12-01T00:00:00\",\"2022-01-01T00:00:00\",\"2022-02-01T00:00:00\",\"2022-03-01T00:00:00\",\"2022-04-01T00:00:00\",\"2022-05-01T00:00:00\",\"2022-06-01T00:00:00\",\"2022-07-01T00:00:00\",\"2022-08-01T00:00:00\",\"2022-09-01T00:00:00\",\"2022-10-01T00:00:00\",\"2022-11-01T00:00:00\",\"2022-12-01T00:00:00\",\"2023-01-01T00:00:00\",\"2023-02-01T00:00:00\",\"2023-03-01T00:00:00\",\"2023-04-01T00:00:00\",\"2023-05-01T00:00:00\",\"2023-06-01T00:00:00\",\"2023-07-01T00:00:00\",\"2023-08-01T00:00:00\",\"2023-09-01T00:00:00\",\"2023-10-01T00:00:00\",\"2023-11-01T00:00:00\",\"2023-12-01T00:00:00\"],\"xaxis\":\"x\",\"y\":[1.691,1.67,1.496,1.669,1.623,1.652,1.652,1.664,1.677,1.694,1.694,1.693,1.674,1.671,1.489,1.62,1.513,1.42,1.459,1.456,1.466,1.466,1.453,1.438,1.424,1.447,1.428,1.352,1.357,1.349,1.35,1.373,1.374,1.383,1.377,1.373,1.4,1.394,1.393,1.366,1.374,1.35,1.349,1.344,1.318,1.332,1.32,1.338,1.344,1.345,1.337,1.339,1.326,1.34,1.349,1.348,1.32,1.319,1.391,1.441,1.423,1.437,1.444,1.453,1.469,1.487,1.469,1.468,1.432,1.444,1.454,1.442,1.446,1.435,1.459,1.462,1.465,1.467,1.484,1.478,1.468,1.468,1.54,1.557,1.563,1.567,1.548,1.534,1.473,1.337,1.32,1.332,1.322,1.305,1.092,1.072,1.06,1.111,1.104,1.122,1.129,1.228,1.266,1.263,1.259,1.257,1.267,1.242,1.238,1.323,1.35,1.335,1.343,1.339,1.355,1.357,1.343,1.345,1.359,1.32,1.33,1.359,1.371,1.362,1.375,1.364,1.355,1.369,1.38,1.356,1.368,1.373,1.369,1.368,1.394,1.375,1.377,1.374,1.376,1.38,1.378,1.373,1.367,1.374,1.366,1.371,1.375,1.374,1.372,1.37,1.373,1.371,1.357,1.361,1.362,1.363,1.363,1.362,1.361,1.369,1.362,1.361,1.363,1.365,1.37,1.378,1.387,1.382,1.389,1.382,1.385,1.393,1.396,1.393,1.399,1.405,1.41,1.411,1.403,1.406,1.411,1.414,1.407,1.405,1.413,1.404,1.406,1.411,1.412,1.411,1.412,1.411,1.405,1.406,1.405,1.4,1.399,1.404,1.404,1.403,1.404,1.401,1.406,1.396,1.388,1.402,1.401,1.407,1.407,1.403,1.404,1.404,1.401,1.402,1.398,1.402,1.405,1.414,1.418,1.399,1.373,1.336,1.476,1.377,1.408,1.463,1.464,1.465,1.293,1.443,1.443,1.422,1.531,1.531,1.531,1.493,1.435,1.494,1.531,1.531,1.395,1.495,1.484,1.503,1.519,1.525,1.527,1.549,1.56,1.602,1.631,1.676,1.677,1.689,1.689,1.689,1.699,1.699,1.694,1.698,1.66,1.72,1.728,1.732],\"yaxis\":\"y\",\"type\":\"scatter\"},{\"hovertemplate\":\"<b>OLS trendline</b><br>National Average Price(Euros) = -0.000137643 * date + 1.42257<br>R<sup>2</sup>=0.000002<br><br>date=%{x}<br>National Average Price(Euros)=%{y} <b>(trend)</b><extra></extra>\",\"legendgroup\":\"\",\"marker\":{\"color\":\"#636efa\",\"symbol\":\"circle\"},\"mode\":\"lines\",\"name\":\"\",\"showlegend\":false,\"x\":[\"2002-01-01T00:00:00\",\"2002-02-01T00:00:00\",\"2002-03-01T00:00:00\",\"2002-04-01T00:00:00\",\"2002-05-01T00:00:00\",\"2002-06-01T00:00:00\",\"2002-07-01T00:00:00\",\"2002-08-01T00:00:00\",\"2002-09-01T00:00:00\",\"2002-10-01T00:00:00\",\"2002-11-01T00:00:00\",\"2002-12-01T00:00:00\",\"2003-01-01T00:00:00\",\"2003-02-01T00:00:00\",\"2003-03-01T00:00:00\",\"2003-04-01T00:00:00\",\"2003-05-01T00:00:00\",\"2003-06-01T00:00:00\",\"2003-07-01T00:00:00\",\"2003-08-01T00:00:00\",\"2003-09-01T00:00:00\",\"2003-10-01T00:00:00\",\"2003-11-01T00:00:00\",\"2003-12-01T00:00:00\",\"2004-01-01T00:00:00\",\"2004-02-01T00:00:00\",\"2004-03-01T00:00:00\",\"2004-04-01T00:00:00\",\"2004-05-01T00:00:00\",\"2004-06-01T00:00:00\",\"2004-07-01T00:00:00\",\"2004-08-01T00:00:00\",\"2004-09-01T00:00:00\",\"2004-10-01T00:00:00\",\"2004-11-01T00:00:00\",\"2004-12-01T00:00:00\",\"2005-01-01T00:00:00\",\"2005-02-01T00:00:00\",\"2005-03-01T00:00:00\",\"2005-04-01T00:00:00\",\"2005-05-01T00:00:00\",\"2005-06-01T00:00:00\",\"2005-07-01T00:00:00\",\"2005-08-01T00:00:00\",\"2005-09-01T00:00:00\",\"2005-10-01T00:00:00\",\"2005-11-01T00:00:00\",\"2005-12-01T00:00:00\",\"2006-01-01T00:00:00\",\"2006-02-01T00:00:00\",\"2006-03-01T00:00:00\",\"2006-04-01T00:00:00\",\"2006-05-01T00:00:00\",\"2006-06-01T00:00:00\",\"2006-07-01T00:00:00\",\"2006-08-01T00:00:00\",\"2006-09-01T00:00:00\",\"2006-10-01T00:00:00\",\"2006-11-01T00:00:00\",\"2006-12-01T00:00:00\",\"2007-01-01T00:00:00\",\"2007-02-01T00:00:00\",\"2007-03-01T00:00:00\",\"2007-04-01T00:00:00\",\"2007-05-01T00:00:00\",\"2007-06-01T00:00:00\",\"2007-07-01T00:00:00\",\"2007-08-01T00:00:00\",\"2007-09-01T00:00:00\",\"2007-10-01T00:00:00\",\"2007-11-01T00:00:00\",\"2007-12-01T00:00:00\",\"2008-01-01T00:00:00\",\"2008-02-01T00:00:00\",\"2008-03-01T00:00:00\",\"2008-04-01T00:00:00\",\"2008-05-01T00:00:00\",\"2008-06-01T00:00:00\",\"2008-07-01T00:00:00\",\"2008-08-01T00:00:00\",\"2008-09-01T00:00:00\",\"2008-10-01T00:00:00\",\"2008-11-01T00:00:00\",\"2008-12-01T00:00:00\",\"2009-01-01T00:00:00\",\"2009-02-01T00:00:00\",\"2009-03-01T00:00:00\",\"2009-04-01T00:00:00\",\"2009-05-01T00:00:00\",\"2009-06-01T00:00:00\",\"2009-07-01T00:00:00\",\"2009-08-01T00:00:00\",\"2009-09-01T00:00:00\",\"2009-10-01T00:00:00\",\"2009-11-01T00:00:00\",\"2009-12-01T00:00:00\",\"2010-01-01T00:00:00\",\"2010-02-01T00:00:00\",\"2010-03-01T00:00:00\",\"2010-04-01T00:00:00\",\"2010-05-01T00:00:00\",\"2010-06-01T00:00:00\",\"2010-07-01T00:00:00\",\"2010-08-01T00:00:00\",\"2010-09-01T00:00:00\",\"2010-10-01T00:00:00\",\"2010-11-01T00:00:00\",\"2010-12-01T00:00:00\",\"2011-01-01T00:00:00\",\"2011-02-01T00:00:00\",\"2011-03-01T00:00:00\",\"2011-04-01T00:00:00\",\"2011-05-01T00:00:00\",\"2011-06-01T00:00:00\",\"2011-07-01T00:00:00\",\"2011-08-01T00:00:00\",\"2011-09-01T00:00:00\",\"2011-10-01T00:00:00\",\"2011-11-01T00:00:00\",\"2011-12-01T00:00:00\",\"2012-01-01T00:00:00\",\"2012-02-01T00:00:00\",\"2012-03-01T00:00:00\",\"2012-04-01T00:00:00\",\"2012-05-01T00:00:00\",\"2012-06-01T00:00:00\",\"2012-07-01T00:00:00\",\"2012-08-01T00:00:00\",\"2012-09-01T00:00:00\",\"2012-10-01T00:00:00\",\"2012-11-01T00:00:00\",\"2012-12-01T00:00:00\",\"2013-01-01T00:00:00\",\"2013-02-01T00:00:00\",\"2013-03-01T00:00:00\",\"2013-04-01T00:00:00\",\"2013-05-01T00:00:00\",\"2013-06-01T00:00:00\",\"2013-07-01T00:00:00\",\"2013-08-01T00:00:00\",\"2013-09-01T00:00:00\",\"2013-10-01T00:00:00\",\"2013-11-01T00:00:00\",\"2013-12-01T00:00:00\",\"2014-01-01T00:00:00\",\"2014-02-01T00:00:00\",\"2014-03-01T00:00:00\",\"2014-04-01T00:00:00\",\"2014-05-01T00:00:00\",\"2014-06-01T00:00:00\",\"2014-07-01T00:00:00\",\"2014-08-01T00:00:00\",\"2014-09-01T00:00:00\",\"2014-10-01T00:00:00\",\"2014-11-01T00:00:00\",\"2014-12-01T00:00:00\",\"2015-01-01T00:00:00\",\"2015-02-01T00:00:00\",\"2015-03-01T00:00:00\",\"2015-04-01T00:00:00\",\"2015-05-01T00:00:00\",\"2015-06-01T00:00:00\",\"2015-07-01T00:00:00\",\"2015-08-01T00:00:00\",\"2015-09-01T00:00:00\",\"2015-10-01T00:00:00\",\"2015-11-01T00:00:00\",\"2015-12-01T00:00:00\",\"2016-01-01T00:00:00\",\"2016-02-01T00:00:00\",\"2016-03-01T00:00:00\",\"2016-04-01T00:00:00\",\"2016-05-01T00:00:00\",\"2016-06-01T00:00:00\",\"2016-07-01T00:00:00\",\"2016-08-01T00:00:00\",\"2016-09-01T00:00:00\",\"2016-10-01T00:00:00\",\"2016-11-01T00:00:00\",\"2016-12-01T00:00:00\",\"2017-01-01T00:00:00\",\"2017-02-01T00:00:00\",\"2017-03-01T00:00:00\",\"2017-04-01T00:00:00\",\"2017-05-01T00:00:00\",\"2017-06-01T00:00:00\",\"2017-07-01T00:00:00\",\"2017-08-01T00:00:00\",\"2017-09-01T00:00:00\",\"2017-10-01T00:00:00\",\"2017-11-01T00:00:00\",\"2017-12-01T00:00:00\",\"2018-01-01T00:00:00\",\"2018-02-01T00:00:00\",\"2018-03-01T00:00:00\",\"2018-04-01T00:00:00\",\"2018-05-01T00:00:00\",\"2018-06-01T00:00:00\",\"2018-07-01T00:00:00\",\"2018-08-01T00:00:00\",\"2018-09-01T00:00:00\",\"2018-10-01T00:00:00\",\"2018-11-01T00:00:00\",\"2018-12-01T00:00:00\",\"2019-01-01T00:00:00\",\"2019-02-01T00:00:00\",\"2019-03-01T00:00:00\",\"2019-04-01T00:00:00\",\"2019-05-01T00:00:00\",\"2019-06-01T00:00:00\",\"2019-07-01T00:00:00\",\"2019-08-01T00:00:00\",\"2019-09-01T00:00:00\",\"2019-10-01T00:00:00\",\"2019-11-01T00:00:00\",\"2019-12-01T00:00:00\",\"2020-01-01T00:00:00\",\"2020-02-01T00:00:00\",\"2020-03-01T00:00:00\",\"2020-04-01T00:00:00\",\"2020-05-01T00:00:00\",\"2020-06-01T00:00:00\",\"2020-07-01T00:00:00\",\"2020-08-01T00:00:00\",\"2020-09-01T00:00:00\",\"2020-10-01T00:00:00\",\"2020-11-01T00:00:00\",\"2020-12-01T00:00:00\",\"2021-01-01T00:00:00\",\"2021-02-01T00:00:00\",\"2021-03-01T00:00:00\",\"2021-04-01T00:00:00\",\"2021-05-01T00:00:00\",\"2021-06-01T00:00:00\",\"2021-07-01T00:00:00\",\"2021-08-01T00:00:00\",\"2021-09-01T00:00:00\",\"2021-10-01T00:00:00\",\"2021-11-01T00:00:00\",\"2021-12-01T00:00:00\",\"2022-01-01T00:00:00\",\"2022-02-01T00:00:00\",\"2022-03-01T00:00:00\",\"2022-04-01T00:00:00\",\"2022-05-01T00:00:00\",\"2022-06-01T00:00:00\",\"2022-07-01T00:00:00\",\"2022-08-01T00:00:00\",\"2022-09-01T00:00:00\",\"2022-10-01T00:00:00\",\"2022-11-01T00:00:00\",\"2022-12-01T00:00:00\",\"2023-01-01T00:00:00\",\"2023-02-01T00:00:00\",\"2023-03-01T00:00:00\",\"2023-04-01T00:00:00\",\"2023-05-01T00:00:00\",\"2023-06-01T00:00:00\",\"2023-07-01T00:00:00\",\"2023-08-01T00:00:00\",\"2023-09-01T00:00:00\",\"2023-10-01T00:00:00\",\"2023-11-01T00:00:00\",\"2023-12-01T00:00:00\"],\"xaxis\":\"x\",\"y\":[1.4224213121588825,1.422660168334417,1.4227233485396154,1.422371031395922,1.4223542711416017,1.4225931273171364,1.4225763670628164,1.422815223238351,1.4224629060946576,1.4224461458403375,1.4226850020158721,1.422668241761552,1.4223159246178585,1.4225547807933931,1.4226179609985914,1.422856817174126,1.422840056919806,1.4224877397761126,1.4224709795217925,1.4227098356973271,1.4223575185536337,1.4223407582993135,1.4225796144748482,1.422562854220528,1.4228017103960626,1.4224493932523694,1.4227681898874225,1.422415872743729,1.4223991124894089,1.4226379686649435,1.4226212084106233,1.422860064586158,1.4225077474424646,1.4224909871881446,1.4227298433636792,1.422713083109359,1.4223607659656656,1.4225996221412003,1.4226628023463985,1.422310485202705,1.422293724948385,1.4225325811239196,1.4225158208695996,1.4227546770451343,1.4224023599014408,1.4223855996471206,1.4226244558226553,1.422607695568335,1.4228465517438698,1.4224942346001763,1.4225574148053746,1.4227962709809092,1.422779510726589,1.4224271935828958,1.4224104333285756,1.4226492895041103,1.4222969723604169,1.4222802121060967,1.4225190682816313,1.4225023080273111,1.4227411642028458,1.4223888470591526,1.4224520272643508,1.4226908834398855,1.4226741231855653,1.4223218060418719,1.4223050457875517,1.4225439019630863,1.422782758138621,1.4227659978843008,1.4224136807406076,1.4223969204862874,1.422635776661822,1.4222834595181286,1.4226022561531817,1.4228411123287164,1.4228243520743962,1.4224720349307027,1.4224552746763826,1.4226941308519172,1.422341813708224,1.4223250534539038,1.4225639096294385,1.4225471493751183,1.422786005550653,1.4224336884069595,1.4224968686121577,1.4227357247876924,1.4227189645333722,1.422366647389679,1.4223498871353588,1.4225887433108935,1.4228275994864281,1.422810839232108,1.4224585220884145,1.4224417618340943,1.422680618009629,1.4223283008659358,1.422391481071134,1.4226303372466687,1.4226135769923485,1.4228524331678831,1.422835672913563,1.4224833557698695,1.4227222119454042,1.422705451691084,1.4223531345473908,1.4223363742930706,1.4225752304686052,1.4228140866441399,1.42228609353011,1.4225249497056447,1.4225081894513245,1.4227470456268592,1.422730285372539,1.4223779682288458,1.4226168244043804,1.4226000641500602,1.422838920325595,1.4228221600712747,1.4224698429275813,1.422708699103116,1.422436322418941,1.4226751785944756,1.4226584183401554,1.4223061011964622,1.422289340942142,1.4225281971176766,1.4227670532932113,1.4227502930388911,1.4223979758951977,1.4223812156408775,1.4226200718164121,1.4228589279919468,1.4223309348779172,1.4225697910534518,1.4225530307991316,1.4227918869746663,1.4227751267203461,1.4224228095766527,1.4226616657521873,1.4226449054978672,1.422292588354174,1.4222758280998538,1.4225146842753884,1.422753540450923,1.4228167206561213,1.4224644035124279,1.4224476432581077,1.4226864994336423,1.4226697391793222,1.422317422035629,1.4225562782111636,1.4225395179568434,1.422778374132378,1.4227616138780579,1.4224092967343644,1.422648152909899,1.4227113331150973,1.422359015971404,1.4223422557170837,1.4225811118926184,1.4225643516382984,1.422803207813833,1.4224508906701396,1.4224341304158195,1.422672986591354,1.422656226337034,1.4223039091933405,1.4225427653688751,1.4228615620039282,1.422509244860235,1.4224924846059148,1.4227313407814495,1.4227145805271293,1.4223622633834359,1.4226011195589705,1.4225843593046503,1.422823215480185,1.4228064552258648,1.4224541380821716,1.4226929942577062,1.4227561744629045,1.422403857319211,1.4223870970648909,1.4226259532404255,1.4226091929861053,1.42284804916164,1.4224957320179465,1.4224789717636266,1.4227178279391612,1.422701067684841,1.4223487505411476,1.4225876067166823,1.4226507869218805,1.422298469778187,1.422281709523867,1.4225205656994016,1.4225038054450816,1.4227426616206162,1.4223903444769228,1.4223735842226026,1.4226124403981373,1.422595680143817,1.4228345363193518,1.4224822191756583,1.4225453993808566,1.4227842555563912,1.4227674953020713,1.4224151781583778,1.4223984179040576,1.4226372740795923,1.4222849569358988,1.4228593700008068,1.4225070528571133,1.4224902926027931,1.4227291487783278,1.4223768316346346,1.4226956282696877,1.4223433111259942,1.422326550871674,1.4225654070472087,1.4225486467928885,1.4227875029684232,1.4224351858247297,1.4224184255704098,1.4226572817459444,1.4226405214916242,1.4222882043479308,1.4225270605234654,1.4225902407286637,1.4228290969041983,1.4228123366498782,1.4224600195061847,1.4224432592518648,1.4226821154273992,1.422329798283706,1.4223130380293858,1.4225518942049205,1.4225351339506003,1.422773990126135,1.4224216729824415,1.4224848531876397,1.4227237093631744,1.4227069491088542,1.422354631965161,1.4223378717108408,1.4225767278863755,1.42281558406191,1.42279882380759,1.4224465066638965,1.4224297464095763,1.422668602585111,1.4223162854414177,1.422379465646616,1.4226183218221506,1.4226015615678305,1.4228404177433651,1.422823657489045,1.4224713403453515,1.4227101965208862,1.422693436266566,1.4223411191228728,1.4223243588685526],\"yaxis\":\"y\",\"type\":\"scatter\"}],                        {\"template\":{\"data\":{\"histogram2dcontour\":[{\"type\":\"histogram2dcontour\",\"colorbar\":{\"outlinewidth\":0,\"ticks\":\"\"},\"colorscale\":[[0.0,\"#0d0887\"],[0.1111111111111111,\"#46039f\"],[0.2222222222222222,\"#7201a8\"],[0.3333333333333333,\"#9c179e\"],[0.4444444444444444,\"#bd3786\"],[0.5555555555555556,\"#d8576b\"],[0.6666666666666666,\"#ed7953\"],[0.7777777777777778,\"#fb9f3a\"],[0.8888888888888888,\"#fdca26\"],[1.0,\"#f0f921\"]]}],\"choropleth\":[{\"type\":\"choropleth\",\"colorbar\":{\"outlinewidth\":0,\"ticks\":\"\"}}],\"histogram2d\":[{\"type\":\"histogram2d\",\"colorbar\":{\"outlinewidth\":0,\"ticks\":\"\"},\"colorscale\":[[0.0,\"#0d0887\"],[0.1111111111111111,\"#46039f\"],[0.2222222222222222,\"#7201a8\"],[0.3333333333333333,\"#9c179e\"],[0.4444444444444444,\"#bd3786\"],[0.5555555555555556,\"#d8576b\"],[0.6666666666666666,\"#ed7953\"],[0.7777777777777778,\"#fb9f3a\"],[0.8888888888888888,\"#fdca26\"],[1.0,\"#f0f921\"]]}],\"heatmap\":[{\"type\":\"heatmap\",\"colorbar\":{\"outlinewidth\":0,\"ticks\":\"\"},\"colorscale\":[[0.0,\"#0d0887\"],[0.1111111111111111,\"#46039f\"],[0.2222222222222222,\"#7201a8\"],[0.3333333333333333,\"#9c179e\"],[0.4444444444444444,\"#bd3786\"],[0.5555555555555556,\"#d8576b\"],[0.6666666666666666,\"#ed7953\"],[0.7777777777777778,\"#fb9f3a\"],[0.8888888888888888,\"#fdca26\"],[1.0,\"#f0f921\"]]}],\"heatmapgl\":[{\"type\":\"heatmapgl\",\"colorbar\":{\"outlinewidth\":0,\"ticks\":\"\"},\"colorscale\":[[0.0,\"#0d0887\"],[0.1111111111111111,\"#46039f\"],[0.2222222222222222,\"#7201a8\"],[0.3333333333333333,\"#9c179e\"],[0.4444444444444444,\"#bd3786\"],[0.5555555555555556,\"#d8576b\"],[0.6666666666666666,\"#ed7953\"],[0.7777777777777778,\"#fb9f3a\"],[0.8888888888888888,\"#fdca26\"],[1.0,\"#f0f921\"]]}],\"contourcarpet\":[{\"type\":\"contourcarpet\",\"colorbar\":{\"outlinewidth\":0,\"ticks\":\"\"}}],\"contour\":[{\"type\":\"contour\",\"colorbar\":{\"outlinewidth\":0,\"ticks\":\"\"},\"colorscale\":[[0.0,\"#0d0887\"],[0.1111111111111111,\"#46039f\"],[0.2222222222222222,\"#7201a8\"],[0.3333333333333333,\"#9c179e\"],[0.4444444444444444,\"#bd3786\"],[0.5555555555555556,\"#d8576b\"],[0.6666666666666666,\"#ed7953\"],[0.7777777777777778,\"#fb9f3a\"],[0.8888888888888888,\"#fdca26\"],[1.0,\"#f0f921\"]]}],\"surface\":[{\"type\":\"surface\",\"colorbar\":{\"outlinewidth\":0,\"ticks\":\"\"},\"colorscale\":[[0.0,\"#0d0887\"],[0.1111111111111111,\"#46039f\"],[0.2222222222222222,\"#7201a8\"],[0.3333333333333333,\"#9c179e\"],[0.4444444444444444,\"#bd3786\"],[0.5555555555555556,\"#d8576b\"],[0.6666666666666666,\"#ed7953\"],[0.7777777777777778,\"#fb9f3a\"],[0.8888888888888888,\"#fdca26\"],[1.0,\"#f0f921\"]]}],\"mesh3d\":[{\"type\":\"mesh3d\",\"colorbar\":{\"outlinewidth\":0,\"ticks\":\"\"}}],\"scatter\":[{\"fillpattern\":{\"fillmode\":\"overlay\",\"size\":10,\"solidity\":0.2},\"type\":\"scatter\"}],\"parcoords\":[{\"type\":\"parcoords\",\"line\":{\"colorbar\":{\"outlinewidth\":0,\"ticks\":\"\"}}}],\"scatterpolargl\":[{\"type\":\"scatterpolargl\",\"marker\":{\"colorbar\":{\"outlinewidth\":0,\"ticks\":\"\"}}}],\"bar\":[{\"error_x\":{\"color\":\"#2a3f5f\"},\"error_y\":{\"color\":\"#2a3f5f\"},\"marker\":{\"line\":{\"color\":\"#E5ECF6\",\"width\":0.5},\"pattern\":{\"fillmode\":\"overlay\",\"size\":10,\"solidity\":0.2}},\"type\":\"bar\"}],\"scattergeo\":[{\"type\":\"scattergeo\",\"marker\":{\"colorbar\":{\"outlinewidth\":0,\"ticks\":\"\"}}}],\"scatterpolar\":[{\"type\":\"scatterpolar\",\"marker\":{\"colorbar\":{\"outlinewidth\":0,\"ticks\":\"\"}}}],\"histogram\":[{\"marker\":{\"pattern\":{\"fillmode\":\"overlay\",\"size\":10,\"solidity\":0.2}},\"type\":\"histogram\"}],\"scattergl\":[{\"type\":\"scattergl\",\"marker\":{\"colorbar\":{\"outlinewidth\":0,\"ticks\":\"\"}}}],\"scatter3d\":[{\"type\":\"scatter3d\",\"line\":{\"colorbar\":{\"outlinewidth\":0,\"ticks\":\"\"}},\"marker\":{\"colorbar\":{\"outlinewidth\":0,\"ticks\":\"\"}}}],\"scattermapbox\":[{\"type\":\"scattermapbox\",\"marker\":{\"colorbar\":{\"outlinewidth\":0,\"ticks\":\"\"}}}],\"scatterternary\":[{\"type\":\"scatterternary\",\"marker\":{\"colorbar\":{\"outlinewidth\":0,\"ticks\":\"\"}}}],\"scattercarpet\":[{\"type\":\"scattercarpet\",\"marker\":{\"colorbar\":{\"outlinewidth\":0,\"ticks\":\"\"}}}],\"carpet\":[{\"aaxis\":{\"endlinecolor\":\"#2a3f5f\",\"gridcolor\":\"white\",\"linecolor\":\"white\",\"minorgridcolor\":\"white\",\"startlinecolor\":\"#2a3f5f\"},\"baxis\":{\"endlinecolor\":\"#2a3f5f\",\"gridcolor\":\"white\",\"linecolor\":\"white\",\"minorgridcolor\":\"white\",\"startlinecolor\":\"#2a3f5f\"},\"type\":\"carpet\"}],\"table\":[{\"cells\":{\"fill\":{\"color\":\"#EBF0F8\"},\"line\":{\"color\":\"white\"}},\"header\":{\"fill\":{\"color\":\"#C8D4E3\"},\"line\":{\"color\":\"white\"}},\"type\":\"table\"}],\"barpolar\":[{\"marker\":{\"line\":{\"color\":\"#E5ECF6\",\"width\":0.5},\"pattern\":{\"fillmode\":\"overlay\",\"size\":10,\"solidity\":0.2}},\"type\":\"barpolar\"}],\"pie\":[{\"automargin\":true,\"type\":\"pie\"}]},\"layout\":{\"autotypenumbers\":\"strict\",\"colorway\":[\"#636efa\",\"#EF553B\",\"#00cc96\",\"#ab63fa\",\"#FFA15A\",\"#19d3f3\",\"#FF6692\",\"#B6E880\",\"#FF97FF\",\"#FECB52\"],\"font\":{\"color\":\"#2a3f5f\"},\"hovermode\":\"closest\",\"hoverlabel\":{\"align\":\"left\"},\"paper_bgcolor\":\"white\",\"plot_bgcolor\":\"#E5ECF6\",\"polar\":{\"bgcolor\":\"#E5ECF6\",\"angularaxis\":{\"gridcolor\":\"white\",\"linecolor\":\"white\",\"ticks\":\"\"},\"radialaxis\":{\"gridcolor\":\"white\",\"linecolor\":\"white\",\"ticks\":\"\"}},\"ternary\":{\"bgcolor\":\"#E5ECF6\",\"aaxis\":{\"gridcolor\":\"white\",\"linecolor\":\"white\",\"ticks\":\"\"},\"baxis\":{\"gridcolor\":\"white\",\"linecolor\":\"white\",\"ticks\":\"\"},\"caxis\":{\"gridcolor\":\"white\",\"linecolor\":\"white\",\"ticks\":\"\"}},\"coloraxis\":{\"colorbar\":{\"outlinewidth\":0,\"ticks\":\"\"}},\"colorscale\":{\"sequential\":[[0.0,\"#0d0887\"],[0.1111111111111111,\"#46039f\"],[0.2222222222222222,\"#7201a8\"],[0.3333333333333333,\"#9c179e\"],[0.4444444444444444,\"#bd3786\"],[0.5555555555555556,\"#d8576b\"],[0.6666666666666666,\"#ed7953\"],[0.7777777777777778,\"#fb9f3a\"],[0.8888888888888888,\"#fdca26\"],[1.0,\"#f0f921\"]],\"sequentialminus\":[[0.0,\"#0d0887\"],[0.1111111111111111,\"#46039f\"],[0.2222222222222222,\"#7201a8\"],[0.3333333333333333,\"#9c179e\"],[0.4444444444444444,\"#bd3786\"],[0.5555555555555556,\"#d8576b\"],[0.6666666666666666,\"#ed7953\"],[0.7777777777777778,\"#fb9f3a\"],[0.8888888888888888,\"#fdca26\"],[1.0,\"#f0f921\"]],\"diverging\":[[0,\"#8e0152\"],[0.1,\"#c51b7d\"],[0.2,\"#de77ae\"],[0.3,\"#f1b6da\"],[0.4,\"#fde0ef\"],[0.5,\"#f7f7f7\"],[0.6,\"#e6f5d0\"],[0.7,\"#b8e186\"],[0.8,\"#7fbc41\"],[0.9,\"#4d9221\"],[1,\"#276419\"]]},\"xaxis\":{\"gridcolor\":\"white\",\"linecolor\":\"white\",\"ticks\":\"\",\"title\":{\"standoff\":15},\"zerolinecolor\":\"white\",\"automargin\":true,\"zerolinewidth\":2},\"yaxis\":{\"gridcolor\":\"white\",\"linecolor\":\"white\",\"ticks\":\"\",\"title\":{\"standoff\":15},\"zerolinecolor\":\"white\",\"automargin\":true,\"zerolinewidth\":2},\"scene\":{\"xaxis\":{\"backgroundcolor\":\"#E5ECF6\",\"gridcolor\":\"white\",\"linecolor\":\"white\",\"showbackground\":true,\"ticks\":\"\",\"zerolinecolor\":\"white\",\"gridwidth\":2},\"yaxis\":{\"backgroundcolor\":\"#E5ECF6\",\"gridcolor\":\"white\",\"linecolor\":\"white\",\"showbackground\":true,\"ticks\":\"\",\"zerolinecolor\":\"white\",\"gridwidth\":2},\"zaxis\":{\"backgroundcolor\":\"#E5ECF6\",\"gridcolor\":\"white\",\"linecolor\":\"white\",\"showbackground\":true,\"ticks\":\"\",\"zerolinecolor\":\"white\",\"gridwidth\":2}},\"shapedefaults\":{\"line\":{\"color\":\"#2a3f5f\"}},\"annotationdefaults\":{\"arrowcolor\":\"#2a3f5f\",\"arrowhead\":0,\"arrowwidth\":1},\"geo\":{\"bgcolor\":\"white\",\"landcolor\":\"#E5ECF6\",\"subunitcolor\":\"white\",\"showland\":true,\"showlakes\":true,\"lakecolor\":\"white\"},\"title\":{\"x\":0.05},\"mapbox\":{\"style\":\"light\"}}},\"xaxis\":{\"anchor\":\"y\",\"domain\":[0.0,1.0],\"title\":{\"text\":\"Date\"}},\"yaxis\":{\"anchor\":\"x\",\"domain\":[0.0,1.0],\"title\":{\"text\":\"National Average Price(Euros)\"},\"range\":[0.5,1.8]},\"legend\":{\"tracegroupgap\":0},\"title\":{\"text\":\"Scatter Plot of Date vs. National Average Price(Euros) with Trend Line\"}},                        {\"responsive\": true}                    ).then(function(){\n",
       "                            \n",
       "var gd = document.getElementById('bd8504ec-f4e8-4a25-a10c-e7c517295619');\n",
       "var x = new MutationObserver(function (mutations, observer) {{\n",
       "        var display = window.getComputedStyle(gd).display;\n",
       "        if (!display || display === 'none') {{\n",
       "            console.log([gd, 'removed!']);\n",
       "            Plotly.purge(gd);\n",
       "            observer.disconnect();\n",
       "        }}\n",
       "}});\n",
       "\n",
       "// Listen for the removal of the full notebook cells\n",
       "var notebookContainer = gd.closest('#notebook-container');\n",
       "if (notebookContainer) {{\n",
       "    x.observe(notebookContainer, {childList: true});\n",
       "}}\n",
       "\n",
       "// Listen for the clearing of the current output cell\n",
       "var outputEl = gd.closest('.output');\n",
       "if (outputEl) {{\n",
       "    x.observe(outputEl, {childList: true});\n",
       "}}\n",
       "\n",
       "                        })                };                });            </script>        </div>"
      ]
     },
     "metadata": {},
     "output_type": "display_data"
    }
   ],
   "source": [
    "import plotly.express as px\n",
    "\n",
    "# Convert 'date' column to datetime\n",
    "banana_price['date'] = pd.to_datetime(banana_price['date'])\n",
    "\n",
    "# Plotly Express Scatter Plot with Trend Line\n",
    "fig = px.scatter(banana_price, x='date', y='National Average Price(Euros)', \n",
    "                 title='Scatter Plot of Date vs. National Average Price(Euros) with Trend Line',\n",
    "                 labels={'National Average Price(Euros)': 'National Average Price(Euros)'},\n",
    "                 range_y=[0.5, 1.8], trendline=\"ols\")  # Set the y-axis range and add trendline\n",
    "fig.update_xaxes(title_text='Date')\n",
    "fig.show()"
   ]
  },
  {
   "cell_type": "markdown",
   "id": "c00c4d8c",
   "metadata": {},
   "source": [
    "## Dynamic Line Plot of National average banana price vs date"
   ]
  },
  {
   "cell_type": "code",
   "execution_count": 70,
   "id": "a76b4f88",
   "metadata": {},
   "outputs": [
    {
     "data": {
      "application/vnd.plotly.v1+json": {
       "config": {
        "plotlyServerURL": "https://plot.ly"
       },
       "data": [
        {
         "hovertemplate": "Year=2002<br>Month=%{x}<br>National Average Price(Euros)=%{y}<extra></extra>",
         "legendgroup": "",
         "line": {
          "color": "#636efa",
          "dash": "solid"
         },
         "marker": {
          "symbol": "circle"
         },
         "mode": "lines",
         "name": "",
         "orientation": "v",
         "showlegend": false,
         "type": "scatter",
         "x": [
          1,
          2,
          3,
          4,
          5,
          6,
          7,
          8,
          9,
          10,
          11,
          12
         ],
         "xaxis": "x",
         "y": [
          1.691,
          1.67,
          1.496,
          1.669,
          1.623,
          1.652,
          1.652,
          1.664,
          1.677,
          1.694,
          1.694,
          1.693
         ],
         "yaxis": "y"
        }
       ],
       "frames": [
        {
         "data": [
          {
           "hovertemplate": "Year=2002<br>Month=%{x}<br>National Average Price(Euros)=%{y}<extra></extra>",
           "legendgroup": "",
           "line": {
            "color": "#636efa",
            "dash": "solid"
           },
           "marker": {
            "symbol": "circle"
           },
           "mode": "lines",
           "name": "",
           "orientation": "v",
           "showlegend": false,
           "type": "scatter",
           "x": [
            1,
            2,
            3,
            4,
            5,
            6,
            7,
            8,
            9,
            10,
            11,
            12
           ],
           "xaxis": "x",
           "y": [
            1.691,
            1.67,
            1.496,
            1.669,
            1.623,
            1.652,
            1.652,
            1.664,
            1.677,
            1.694,
            1.694,
            1.693
           ],
           "yaxis": "y"
          }
         ],
         "name": "2002"
        },
        {
         "data": [
          {
           "hovertemplate": "Year=2003<br>Month=%{x}<br>National Average Price(Euros)=%{y}<extra></extra>",
           "legendgroup": "",
           "line": {
            "color": "#636efa",
            "dash": "solid"
           },
           "marker": {
            "symbol": "circle"
           },
           "mode": "lines",
           "name": "",
           "orientation": "v",
           "showlegend": false,
           "type": "scatter",
           "x": [
            1,
            2,
            3,
            4,
            5,
            6,
            7,
            8,
            9,
            10,
            11,
            12
           ],
           "xaxis": "x",
           "y": [
            1.674,
            1.671,
            1.489,
            1.62,
            1.513,
            1.42,
            1.459,
            1.456,
            1.466,
            1.466,
            1.453,
            1.438
           ],
           "yaxis": "y"
          }
         ],
         "name": "2003"
        },
        {
         "data": [
          {
           "hovertemplate": "Year=2004<br>Month=%{x}<br>National Average Price(Euros)=%{y}<extra></extra>",
           "legendgroup": "",
           "line": {
            "color": "#636efa",
            "dash": "solid"
           },
           "marker": {
            "symbol": "circle"
           },
           "mode": "lines",
           "name": "",
           "orientation": "v",
           "showlegend": false,
           "type": "scatter",
           "x": [
            1,
            2,
            3,
            4,
            5,
            6,
            7,
            8,
            9,
            10,
            11,
            12
           ],
           "xaxis": "x",
           "y": [
            1.424,
            1.447,
            1.428,
            1.352,
            1.357,
            1.349,
            1.35,
            1.373,
            1.374,
            1.383,
            1.377,
            1.373
           ],
           "yaxis": "y"
          }
         ],
         "name": "2004"
        },
        {
         "data": [
          {
           "hovertemplate": "Year=2005<br>Month=%{x}<br>National Average Price(Euros)=%{y}<extra></extra>",
           "legendgroup": "",
           "line": {
            "color": "#636efa",
            "dash": "solid"
           },
           "marker": {
            "symbol": "circle"
           },
           "mode": "lines",
           "name": "",
           "orientation": "v",
           "showlegend": false,
           "type": "scatter",
           "x": [
            1,
            2,
            3,
            4,
            5,
            6,
            7,
            8,
            9,
            10,
            11,
            12
           ],
           "xaxis": "x",
           "y": [
            1.4,
            1.394,
            1.393,
            1.366,
            1.374,
            1.35,
            1.349,
            1.344,
            1.318,
            1.332,
            1.32,
            1.338
           ],
           "yaxis": "y"
          }
         ],
         "name": "2005"
        },
        {
         "data": [
          {
           "hovertemplate": "Year=2006<br>Month=%{x}<br>National Average Price(Euros)=%{y}<extra></extra>",
           "legendgroup": "",
           "line": {
            "color": "#636efa",
            "dash": "solid"
           },
           "marker": {
            "symbol": "circle"
           },
           "mode": "lines",
           "name": "",
           "orientation": "v",
           "showlegend": false,
           "type": "scatter",
           "x": [
            1,
            2,
            3,
            4,
            5,
            6,
            7,
            8,
            9,
            10,
            11,
            12
           ],
           "xaxis": "x",
           "y": [
            1.344,
            1.345,
            1.337,
            1.339,
            1.326,
            1.34,
            1.349,
            1.348,
            1.32,
            1.319,
            1.391,
            1.441
           ],
           "yaxis": "y"
          }
         ],
         "name": "2006"
        },
        {
         "data": [
          {
           "hovertemplate": "Year=2007<br>Month=%{x}<br>National Average Price(Euros)=%{y}<extra></extra>",
           "legendgroup": "",
           "line": {
            "color": "#636efa",
            "dash": "solid"
           },
           "marker": {
            "symbol": "circle"
           },
           "mode": "lines",
           "name": "",
           "orientation": "v",
           "showlegend": false,
           "type": "scatter",
           "x": [
            1,
            2,
            3,
            4,
            5,
            6,
            7,
            8,
            9,
            10,
            11,
            12
           ],
           "xaxis": "x",
           "y": [
            1.423,
            1.437,
            1.444,
            1.453,
            1.469,
            1.487,
            1.469,
            1.468,
            1.432,
            1.444,
            1.454,
            1.442
           ],
           "yaxis": "y"
          }
         ],
         "name": "2007"
        },
        {
         "data": [
          {
           "hovertemplate": "Year=2008<br>Month=%{x}<br>National Average Price(Euros)=%{y}<extra></extra>",
           "legendgroup": "",
           "line": {
            "color": "#636efa",
            "dash": "solid"
           },
           "marker": {
            "symbol": "circle"
           },
           "mode": "lines",
           "name": "",
           "orientation": "v",
           "showlegend": false,
           "type": "scatter",
           "x": [
            1,
            2,
            3,
            4,
            5,
            6,
            7,
            8,
            9,
            10,
            11,
            12
           ],
           "xaxis": "x",
           "y": [
            1.446,
            1.435,
            1.459,
            1.462,
            1.465,
            1.467,
            1.484,
            1.478,
            1.468,
            1.468,
            1.54,
            1.557
           ],
           "yaxis": "y"
          }
         ],
         "name": "2008"
        },
        {
         "data": [
          {
           "hovertemplate": "Year=2009<br>Month=%{x}<br>National Average Price(Euros)=%{y}<extra></extra>",
           "legendgroup": "",
           "line": {
            "color": "#636efa",
            "dash": "solid"
           },
           "marker": {
            "symbol": "circle"
           },
           "mode": "lines",
           "name": "",
           "orientation": "v",
           "showlegend": false,
           "type": "scatter",
           "x": [
            1,
            2,
            3,
            4,
            5,
            6,
            7,
            8,
            9,
            10,
            11,
            12
           ],
           "xaxis": "x",
           "y": [
            1.563,
            1.567,
            1.548,
            1.534,
            1.473,
            1.337,
            1.32,
            1.332,
            1.322,
            1.305,
            1.092,
            1.072
           ],
           "yaxis": "y"
          }
         ],
         "name": "2009"
        },
        {
         "data": [
          {
           "hovertemplate": "Year=2010<br>Month=%{x}<br>National Average Price(Euros)=%{y}<extra></extra>",
           "legendgroup": "",
           "line": {
            "color": "#636efa",
            "dash": "solid"
           },
           "marker": {
            "symbol": "circle"
           },
           "mode": "lines",
           "name": "",
           "orientation": "v",
           "showlegend": false,
           "type": "scatter",
           "x": [
            1,
            2,
            3,
            4,
            5,
            6,
            7,
            8,
            9,
            10,
            11,
            12
           ],
           "xaxis": "x",
           "y": [
            1.06,
            1.111,
            1.104,
            1.122,
            1.129,
            1.228,
            1.266,
            1.263,
            1.259,
            1.257,
            1.267,
            1.242
           ],
           "yaxis": "y"
          }
         ],
         "name": "2010"
        },
        {
         "data": [
          {
           "hovertemplate": "Year=2011<br>Month=%{x}<br>National Average Price(Euros)=%{y}<extra></extra>",
           "legendgroup": "",
           "line": {
            "color": "#636efa",
            "dash": "solid"
           },
           "marker": {
            "symbol": "circle"
           },
           "mode": "lines",
           "name": "",
           "orientation": "v",
           "showlegend": false,
           "type": "scatter",
           "x": [
            1,
            2,
            3,
            4,
            5,
            6,
            7,
            8,
            9,
            10,
            11,
            12
           ],
           "xaxis": "x",
           "y": [
            1.238,
            1.323,
            1.35,
            1.335,
            1.343,
            1.339,
            1.355,
            1.357,
            1.343,
            1.345,
            1.359,
            1.32
           ],
           "yaxis": "y"
          }
         ],
         "name": "2011"
        },
        {
         "data": [
          {
           "hovertemplate": "Year=2012<br>Month=%{x}<br>National Average Price(Euros)=%{y}<extra></extra>",
           "legendgroup": "",
           "line": {
            "color": "#636efa",
            "dash": "solid"
           },
           "marker": {
            "symbol": "circle"
           },
           "mode": "lines",
           "name": "",
           "orientation": "v",
           "showlegend": false,
           "type": "scatter",
           "x": [
            1,
            2,
            3,
            4,
            5,
            6,
            7,
            8,
            9,
            10,
            11,
            12
           ],
           "xaxis": "x",
           "y": [
            1.33,
            1.359,
            1.371,
            1.362,
            1.375,
            1.364,
            1.355,
            1.369,
            1.38,
            1.356,
            1.368,
            1.373
           ],
           "yaxis": "y"
          }
         ],
         "name": "2012"
        },
        {
         "data": [
          {
           "hovertemplate": "Year=2013<br>Month=%{x}<br>National Average Price(Euros)=%{y}<extra></extra>",
           "legendgroup": "",
           "line": {
            "color": "#636efa",
            "dash": "solid"
           },
           "marker": {
            "symbol": "circle"
           },
           "mode": "lines",
           "name": "",
           "orientation": "v",
           "showlegend": false,
           "type": "scatter",
           "x": [
            1,
            2,
            3,
            4,
            5,
            6,
            7,
            8,
            9,
            10,
            11,
            12
           ],
           "xaxis": "x",
           "y": [
            1.369,
            1.368,
            1.394,
            1.375,
            1.377,
            1.374,
            1.376,
            1.38,
            1.378,
            1.373,
            1.367,
            1.374
           ],
           "yaxis": "y"
          }
         ],
         "name": "2013"
        },
        {
         "data": [
          {
           "hovertemplate": "Year=2014<br>Month=%{x}<br>National Average Price(Euros)=%{y}<extra></extra>",
           "legendgroup": "",
           "line": {
            "color": "#636efa",
            "dash": "solid"
           },
           "marker": {
            "symbol": "circle"
           },
           "mode": "lines",
           "name": "",
           "orientation": "v",
           "showlegend": false,
           "type": "scatter",
           "x": [
            1,
            2,
            3,
            4,
            5,
            6,
            7,
            8,
            9,
            10,
            11,
            12
           ],
           "xaxis": "x",
           "y": [
            1.366,
            1.371,
            1.375,
            1.374,
            1.372,
            1.37,
            1.373,
            1.371,
            1.357,
            1.361,
            1.362,
            1.363
           ],
           "yaxis": "y"
          }
         ],
         "name": "2014"
        },
        {
         "data": [
          {
           "hovertemplate": "Year=2015<br>Month=%{x}<br>National Average Price(Euros)=%{y}<extra></extra>",
           "legendgroup": "",
           "line": {
            "color": "#636efa",
            "dash": "solid"
           },
           "marker": {
            "symbol": "circle"
           },
           "mode": "lines",
           "name": "",
           "orientation": "v",
           "showlegend": false,
           "type": "scatter",
           "x": [
            1,
            2,
            3,
            4,
            5,
            6,
            7,
            8,
            9,
            10,
            11,
            12
           ],
           "xaxis": "x",
           "y": [
            1.363,
            1.362,
            1.361,
            1.369,
            1.362,
            1.361,
            1.363,
            1.365,
            1.37,
            1.378,
            1.387,
            1.382
           ],
           "yaxis": "y"
          }
         ],
         "name": "2015"
        },
        {
         "data": [
          {
           "hovertemplate": "Year=2016<br>Month=%{x}<br>National Average Price(Euros)=%{y}<extra></extra>",
           "legendgroup": "",
           "line": {
            "color": "#636efa",
            "dash": "solid"
           },
           "marker": {
            "symbol": "circle"
           },
           "mode": "lines",
           "name": "",
           "orientation": "v",
           "showlegend": false,
           "type": "scatter",
           "x": [
            1,
            2,
            3,
            4,
            5,
            6,
            7,
            8,
            9,
            10,
            11,
            12
           ],
           "xaxis": "x",
           "y": [
            1.389,
            1.382,
            1.385,
            1.393,
            1.396,
            1.393,
            1.399,
            1.405,
            1.41,
            1.411,
            1.403,
            1.406
           ],
           "yaxis": "y"
          }
         ],
         "name": "2016"
        },
        {
         "data": [
          {
           "hovertemplate": "Year=2017<br>Month=%{x}<br>National Average Price(Euros)=%{y}<extra></extra>",
           "legendgroup": "",
           "line": {
            "color": "#636efa",
            "dash": "solid"
           },
           "marker": {
            "symbol": "circle"
           },
           "mode": "lines",
           "name": "",
           "orientation": "v",
           "showlegend": false,
           "type": "scatter",
           "x": [
            1,
            2,
            3,
            4,
            5,
            6,
            7,
            8,
            9,
            10,
            11,
            12
           ],
           "xaxis": "x",
           "y": [
            1.411,
            1.414,
            1.407,
            1.405,
            1.413,
            1.404,
            1.406,
            1.411,
            1.412,
            1.411,
            1.412,
            1.411
           ],
           "yaxis": "y"
          }
         ],
         "name": "2017"
        },
        {
         "data": [
          {
           "hovertemplate": "Year=2018<br>Month=%{x}<br>National Average Price(Euros)=%{y}<extra></extra>",
           "legendgroup": "",
           "line": {
            "color": "#636efa",
            "dash": "solid"
           },
           "marker": {
            "symbol": "circle"
           },
           "mode": "lines",
           "name": "",
           "orientation": "v",
           "showlegend": false,
           "type": "scatter",
           "x": [
            1,
            2,
            3,
            4,
            5,
            6,
            7,
            8,
            9,
            10,
            11,
            12
           ],
           "xaxis": "x",
           "y": [
            1.405,
            1.406,
            1.405,
            1.4,
            1.399,
            1.404,
            1.404,
            1.403,
            1.404,
            1.401,
            1.406,
            1.396
           ],
           "yaxis": "y"
          }
         ],
         "name": "2018"
        },
        {
         "data": [
          {
           "hovertemplate": "Year=2019<br>Month=%{x}<br>National Average Price(Euros)=%{y}<extra></extra>",
           "legendgroup": "",
           "line": {
            "color": "#636efa",
            "dash": "solid"
           },
           "marker": {
            "symbol": "circle"
           },
           "mode": "lines",
           "name": "",
           "orientation": "v",
           "showlegend": false,
           "type": "scatter",
           "x": [
            1,
            2,
            3,
            4,
            5,
            6,
            7,
            8,
            9,
            10,
            11,
            12
           ],
           "xaxis": "x",
           "y": [
            1.388,
            1.402,
            1.401,
            1.407,
            1.407,
            1.403,
            1.404,
            1.404,
            1.401,
            1.402,
            1.398,
            1.402
           ],
           "yaxis": "y"
          }
         ],
         "name": "2019"
        },
        {
         "data": [
          {
           "hovertemplate": "Year=2020<br>Month=%{x}<br>National Average Price(Euros)=%{y}<extra></extra>",
           "legendgroup": "",
           "line": {
            "color": "#636efa",
            "dash": "solid"
           },
           "marker": {
            "symbol": "circle"
           },
           "mode": "lines",
           "name": "",
           "orientation": "v",
           "showlegend": false,
           "type": "scatter",
           "x": [
            1,
            2,
            3,
            4,
            5,
            6,
            7,
            8,
            9,
            10,
            11,
            12
           ],
           "xaxis": "x",
           "y": [
            1.405,
            1.414,
            1.418,
            1.399,
            1.373,
            1.336,
            1.476,
            1.377,
            1.408,
            1.463,
            1.464,
            1.465
           ],
           "yaxis": "y"
          }
         ],
         "name": "2020"
        },
        {
         "data": [
          {
           "hovertemplate": "Year=2021<br>Month=%{x}<br>National Average Price(Euros)=%{y}<extra></extra>",
           "legendgroup": "",
           "line": {
            "color": "#636efa",
            "dash": "solid"
           },
           "marker": {
            "symbol": "circle"
           },
           "mode": "lines",
           "name": "",
           "orientation": "v",
           "showlegend": false,
           "type": "scatter",
           "x": [
            1,
            2,
            3,
            4,
            5,
            6,
            7,
            8,
            9,
            10,
            11,
            12
           ],
           "xaxis": "x",
           "y": [
            1.293,
            1.443,
            1.443,
            1.422,
            1.531,
            1.531,
            1.531,
            1.493,
            1.435,
            1.494,
            1.531,
            1.531
           ],
           "yaxis": "y"
          }
         ],
         "name": "2021"
        },
        {
         "data": [
          {
           "hovertemplate": "Year=2022<br>Month=%{x}<br>National Average Price(Euros)=%{y}<extra></extra>",
           "legendgroup": "",
           "line": {
            "color": "#636efa",
            "dash": "solid"
           },
           "marker": {
            "symbol": "circle"
           },
           "mode": "lines",
           "name": "",
           "orientation": "v",
           "showlegend": false,
           "type": "scatter",
           "x": [
            1,
            2,
            3,
            4,
            5,
            6,
            7,
            8,
            9,
            10,
            11,
            12
           ],
           "xaxis": "x",
           "y": [
            1.395,
            1.495,
            1.484,
            1.503,
            1.519,
            1.525,
            1.527,
            1.549,
            1.56,
            1.602,
            1.631,
            1.676
           ],
           "yaxis": "y"
          }
         ],
         "name": "2022"
        },
        {
         "data": [
          {
           "hovertemplate": "Year=2023<br>Month=%{x}<br>National Average Price(Euros)=%{y}<extra></extra>",
           "legendgroup": "",
           "line": {
            "color": "#636efa",
            "dash": "solid"
           },
           "marker": {
            "symbol": "circle"
           },
           "mode": "lines",
           "name": "",
           "orientation": "v",
           "showlegend": false,
           "type": "scatter",
           "x": [
            1,
            2,
            3,
            4,
            5,
            6,
            7,
            8,
            9,
            10,
            11,
            12
           ],
           "xaxis": "x",
           "y": [
            1.677,
            1.689,
            1.689,
            1.689,
            1.699,
            1.699,
            1.694,
            1.698,
            1.66,
            1.72,
            1.728,
            1.732
           ],
           "yaxis": "y"
          }
         ],
         "name": "2023"
        }
       ],
       "layout": {
        "legend": {
         "tracegroupgap": 0
        },
        "margin": {
         "t": 60
        },
        "sliders": [
         {
          "active": 0,
          "currentvalue": {
           "prefix": "Year="
          },
          "len": 0.9,
          "pad": {
           "b": 10,
           "t": 60
          },
          "steps": [
           {
            "args": [
             [
              "2002"
             ],
             {
              "frame": {
               "duration": 0,
               "redraw": false
              },
              "fromcurrent": true,
              "mode": "immediate",
              "transition": {
               "duration": 0,
               "easing": "linear"
              }
             }
            ],
            "label": "2002",
            "method": "animate"
           },
           {
            "args": [
             [
              "2003"
             ],
             {
              "frame": {
               "duration": 0,
               "redraw": false
              },
              "fromcurrent": true,
              "mode": "immediate",
              "transition": {
               "duration": 0,
               "easing": "linear"
              }
             }
            ],
            "label": "2003",
            "method": "animate"
           },
           {
            "args": [
             [
              "2004"
             ],
             {
              "frame": {
               "duration": 0,
               "redraw": false
              },
              "fromcurrent": true,
              "mode": "immediate",
              "transition": {
               "duration": 0,
               "easing": "linear"
              }
             }
            ],
            "label": "2004",
            "method": "animate"
           },
           {
            "args": [
             [
              "2005"
             ],
             {
              "frame": {
               "duration": 0,
               "redraw": false
              },
              "fromcurrent": true,
              "mode": "immediate",
              "transition": {
               "duration": 0,
               "easing": "linear"
              }
             }
            ],
            "label": "2005",
            "method": "animate"
           },
           {
            "args": [
             [
              "2006"
             ],
             {
              "frame": {
               "duration": 0,
               "redraw": false
              },
              "fromcurrent": true,
              "mode": "immediate",
              "transition": {
               "duration": 0,
               "easing": "linear"
              }
             }
            ],
            "label": "2006",
            "method": "animate"
           },
           {
            "args": [
             [
              "2007"
             ],
             {
              "frame": {
               "duration": 0,
               "redraw": false
              },
              "fromcurrent": true,
              "mode": "immediate",
              "transition": {
               "duration": 0,
               "easing": "linear"
              }
             }
            ],
            "label": "2007",
            "method": "animate"
           },
           {
            "args": [
             [
              "2008"
             ],
             {
              "frame": {
               "duration": 0,
               "redraw": false
              },
              "fromcurrent": true,
              "mode": "immediate",
              "transition": {
               "duration": 0,
               "easing": "linear"
              }
             }
            ],
            "label": "2008",
            "method": "animate"
           },
           {
            "args": [
             [
              "2009"
             ],
             {
              "frame": {
               "duration": 0,
               "redraw": false
              },
              "fromcurrent": true,
              "mode": "immediate",
              "transition": {
               "duration": 0,
               "easing": "linear"
              }
             }
            ],
            "label": "2009",
            "method": "animate"
           },
           {
            "args": [
             [
              "2010"
             ],
             {
              "frame": {
               "duration": 0,
               "redraw": false
              },
              "fromcurrent": true,
              "mode": "immediate",
              "transition": {
               "duration": 0,
               "easing": "linear"
              }
             }
            ],
            "label": "2010",
            "method": "animate"
           },
           {
            "args": [
             [
              "2011"
             ],
             {
              "frame": {
               "duration": 0,
               "redraw": false
              },
              "fromcurrent": true,
              "mode": "immediate",
              "transition": {
               "duration": 0,
               "easing": "linear"
              }
             }
            ],
            "label": "2011",
            "method": "animate"
           },
           {
            "args": [
             [
              "2012"
             ],
             {
              "frame": {
               "duration": 0,
               "redraw": false
              },
              "fromcurrent": true,
              "mode": "immediate",
              "transition": {
               "duration": 0,
               "easing": "linear"
              }
             }
            ],
            "label": "2012",
            "method": "animate"
           },
           {
            "args": [
             [
              "2013"
             ],
             {
              "frame": {
               "duration": 0,
               "redraw": false
              },
              "fromcurrent": true,
              "mode": "immediate",
              "transition": {
               "duration": 0,
               "easing": "linear"
              }
             }
            ],
            "label": "2013",
            "method": "animate"
           },
           {
            "args": [
             [
              "2014"
             ],
             {
              "frame": {
               "duration": 0,
               "redraw": false
              },
              "fromcurrent": true,
              "mode": "immediate",
              "transition": {
               "duration": 0,
               "easing": "linear"
              }
             }
            ],
            "label": "2014",
            "method": "animate"
           },
           {
            "args": [
             [
              "2015"
             ],
             {
              "frame": {
               "duration": 0,
               "redraw": false
              },
              "fromcurrent": true,
              "mode": "immediate",
              "transition": {
               "duration": 0,
               "easing": "linear"
              }
             }
            ],
            "label": "2015",
            "method": "animate"
           },
           {
            "args": [
             [
              "2016"
             ],
             {
              "frame": {
               "duration": 0,
               "redraw": false
              },
              "fromcurrent": true,
              "mode": "immediate",
              "transition": {
               "duration": 0,
               "easing": "linear"
              }
             }
            ],
            "label": "2016",
            "method": "animate"
           },
           {
            "args": [
             [
              "2017"
             ],
             {
              "frame": {
               "duration": 0,
               "redraw": false
              },
              "fromcurrent": true,
              "mode": "immediate",
              "transition": {
               "duration": 0,
               "easing": "linear"
              }
             }
            ],
            "label": "2017",
            "method": "animate"
           },
           {
            "args": [
             [
              "2018"
             ],
             {
              "frame": {
               "duration": 0,
               "redraw": false
              },
              "fromcurrent": true,
              "mode": "immediate",
              "transition": {
               "duration": 0,
               "easing": "linear"
              }
             }
            ],
            "label": "2018",
            "method": "animate"
           },
           {
            "args": [
             [
              "2019"
             ],
             {
              "frame": {
               "duration": 0,
               "redraw": false
              },
              "fromcurrent": true,
              "mode": "immediate",
              "transition": {
               "duration": 0,
               "easing": "linear"
              }
             }
            ],
            "label": "2019",
            "method": "animate"
           },
           {
            "args": [
             [
              "2020"
             ],
             {
              "frame": {
               "duration": 0,
               "redraw": false
              },
              "fromcurrent": true,
              "mode": "immediate",
              "transition": {
               "duration": 0,
               "easing": "linear"
              }
             }
            ],
            "label": "2020",
            "method": "animate"
           },
           {
            "args": [
             [
              "2021"
             ],
             {
              "frame": {
               "duration": 0,
               "redraw": false
              },
              "fromcurrent": true,
              "mode": "immediate",
              "transition": {
               "duration": 0,
               "easing": "linear"
              }
             }
            ],
            "label": "2021",
            "method": "animate"
           },
           {
            "args": [
             [
              "2022"
             ],
             {
              "frame": {
               "duration": 0,
               "redraw": false
              },
              "fromcurrent": true,
              "mode": "immediate",
              "transition": {
               "duration": 0,
               "easing": "linear"
              }
             }
            ],
            "label": "2022",
            "method": "animate"
           },
           {
            "args": [
             [
              "2023"
             ],
             {
              "frame": {
               "duration": 0,
               "redraw": false
              },
              "fromcurrent": true,
              "mode": "immediate",
              "transition": {
               "duration": 0,
               "easing": "linear"
              }
             }
            ],
            "label": "2023",
            "method": "animate"
           }
          ],
          "x": 0.1,
          "xanchor": "left",
          "y": 0,
          "yanchor": "top"
         }
        ],
        "template": {
         "data": {
          "bar": [
           {
            "error_x": {
             "color": "#2a3f5f"
            },
            "error_y": {
             "color": "#2a3f5f"
            },
            "marker": {
             "line": {
              "color": "#E5ECF6",
              "width": 0.5
             },
             "pattern": {
              "fillmode": "overlay",
              "size": 10,
              "solidity": 0.2
             }
            },
            "type": "bar"
           }
          ],
          "barpolar": [
           {
            "marker": {
             "line": {
              "color": "#E5ECF6",
              "width": 0.5
             },
             "pattern": {
              "fillmode": "overlay",
              "size": 10,
              "solidity": 0.2
             }
            },
            "type": "barpolar"
           }
          ],
          "carpet": [
           {
            "aaxis": {
             "endlinecolor": "#2a3f5f",
             "gridcolor": "white",
             "linecolor": "white",
             "minorgridcolor": "white",
             "startlinecolor": "#2a3f5f"
            },
            "baxis": {
             "endlinecolor": "#2a3f5f",
             "gridcolor": "white",
             "linecolor": "white",
             "minorgridcolor": "white",
             "startlinecolor": "#2a3f5f"
            },
            "type": "carpet"
           }
          ],
          "choropleth": [
           {
            "colorbar": {
             "outlinewidth": 0,
             "ticks": ""
            },
            "type": "choropleth"
           }
          ],
          "contour": [
           {
            "colorbar": {
             "outlinewidth": 0,
             "ticks": ""
            },
            "colorscale": [
             [
              0,
              "#0d0887"
             ],
             [
              0.1111111111111111,
              "#46039f"
             ],
             [
              0.2222222222222222,
              "#7201a8"
             ],
             [
              0.3333333333333333,
              "#9c179e"
             ],
             [
              0.4444444444444444,
              "#bd3786"
             ],
             [
              0.5555555555555556,
              "#d8576b"
             ],
             [
              0.6666666666666666,
              "#ed7953"
             ],
             [
              0.7777777777777778,
              "#fb9f3a"
             ],
             [
              0.8888888888888888,
              "#fdca26"
             ],
             [
              1,
              "#f0f921"
             ]
            ],
            "type": "contour"
           }
          ],
          "contourcarpet": [
           {
            "colorbar": {
             "outlinewidth": 0,
             "ticks": ""
            },
            "type": "contourcarpet"
           }
          ],
          "heatmap": [
           {
            "colorbar": {
             "outlinewidth": 0,
             "ticks": ""
            },
            "colorscale": [
             [
              0,
              "#0d0887"
             ],
             [
              0.1111111111111111,
              "#46039f"
             ],
             [
              0.2222222222222222,
              "#7201a8"
             ],
             [
              0.3333333333333333,
              "#9c179e"
             ],
             [
              0.4444444444444444,
              "#bd3786"
             ],
             [
              0.5555555555555556,
              "#d8576b"
             ],
             [
              0.6666666666666666,
              "#ed7953"
             ],
             [
              0.7777777777777778,
              "#fb9f3a"
             ],
             [
              0.8888888888888888,
              "#fdca26"
             ],
             [
              1,
              "#f0f921"
             ]
            ],
            "type": "heatmap"
           }
          ],
          "heatmapgl": [
           {
            "colorbar": {
             "outlinewidth": 0,
             "ticks": ""
            },
            "colorscale": [
             [
              0,
              "#0d0887"
             ],
             [
              0.1111111111111111,
              "#46039f"
             ],
             [
              0.2222222222222222,
              "#7201a8"
             ],
             [
              0.3333333333333333,
              "#9c179e"
             ],
             [
              0.4444444444444444,
              "#bd3786"
             ],
             [
              0.5555555555555556,
              "#d8576b"
             ],
             [
              0.6666666666666666,
              "#ed7953"
             ],
             [
              0.7777777777777778,
              "#fb9f3a"
             ],
             [
              0.8888888888888888,
              "#fdca26"
             ],
             [
              1,
              "#f0f921"
             ]
            ],
            "type": "heatmapgl"
           }
          ],
          "histogram": [
           {
            "marker": {
             "pattern": {
              "fillmode": "overlay",
              "size": 10,
              "solidity": 0.2
             }
            },
            "type": "histogram"
           }
          ],
          "histogram2d": [
           {
            "colorbar": {
             "outlinewidth": 0,
             "ticks": ""
            },
            "colorscale": [
             [
              0,
              "#0d0887"
             ],
             [
              0.1111111111111111,
              "#46039f"
             ],
             [
              0.2222222222222222,
              "#7201a8"
             ],
             [
              0.3333333333333333,
              "#9c179e"
             ],
             [
              0.4444444444444444,
              "#bd3786"
             ],
             [
              0.5555555555555556,
              "#d8576b"
             ],
             [
              0.6666666666666666,
              "#ed7953"
             ],
             [
              0.7777777777777778,
              "#fb9f3a"
             ],
             [
              0.8888888888888888,
              "#fdca26"
             ],
             [
              1,
              "#f0f921"
             ]
            ],
            "type": "histogram2d"
           }
          ],
          "histogram2dcontour": [
           {
            "colorbar": {
             "outlinewidth": 0,
             "ticks": ""
            },
            "colorscale": [
             [
              0,
              "#0d0887"
             ],
             [
              0.1111111111111111,
              "#46039f"
             ],
             [
              0.2222222222222222,
              "#7201a8"
             ],
             [
              0.3333333333333333,
              "#9c179e"
             ],
             [
              0.4444444444444444,
              "#bd3786"
             ],
             [
              0.5555555555555556,
              "#d8576b"
             ],
             [
              0.6666666666666666,
              "#ed7953"
             ],
             [
              0.7777777777777778,
              "#fb9f3a"
             ],
             [
              0.8888888888888888,
              "#fdca26"
             ],
             [
              1,
              "#f0f921"
             ]
            ],
            "type": "histogram2dcontour"
           }
          ],
          "mesh3d": [
           {
            "colorbar": {
             "outlinewidth": 0,
             "ticks": ""
            },
            "type": "mesh3d"
           }
          ],
          "parcoords": [
           {
            "line": {
             "colorbar": {
              "outlinewidth": 0,
              "ticks": ""
             }
            },
            "type": "parcoords"
           }
          ],
          "pie": [
           {
            "automargin": true,
            "type": "pie"
           }
          ],
          "scatter": [
           {
            "fillpattern": {
             "fillmode": "overlay",
             "size": 10,
             "solidity": 0.2
            },
            "type": "scatter"
           }
          ],
          "scatter3d": [
           {
            "line": {
             "colorbar": {
              "outlinewidth": 0,
              "ticks": ""
             }
            },
            "marker": {
             "colorbar": {
              "outlinewidth": 0,
              "ticks": ""
             }
            },
            "type": "scatter3d"
           }
          ],
          "scattercarpet": [
           {
            "marker": {
             "colorbar": {
              "outlinewidth": 0,
              "ticks": ""
             }
            },
            "type": "scattercarpet"
           }
          ],
          "scattergeo": [
           {
            "marker": {
             "colorbar": {
              "outlinewidth": 0,
              "ticks": ""
             }
            },
            "type": "scattergeo"
           }
          ],
          "scattergl": [
           {
            "marker": {
             "colorbar": {
              "outlinewidth": 0,
              "ticks": ""
             }
            },
            "type": "scattergl"
           }
          ],
          "scattermapbox": [
           {
            "marker": {
             "colorbar": {
              "outlinewidth": 0,
              "ticks": ""
             }
            },
            "type": "scattermapbox"
           }
          ],
          "scatterpolar": [
           {
            "marker": {
             "colorbar": {
              "outlinewidth": 0,
              "ticks": ""
             }
            },
            "type": "scatterpolar"
           }
          ],
          "scatterpolargl": [
           {
            "marker": {
             "colorbar": {
              "outlinewidth": 0,
              "ticks": ""
             }
            },
            "type": "scatterpolargl"
           }
          ],
          "scatterternary": [
           {
            "marker": {
             "colorbar": {
              "outlinewidth": 0,
              "ticks": ""
             }
            },
            "type": "scatterternary"
           }
          ],
          "surface": [
           {
            "colorbar": {
             "outlinewidth": 0,
             "ticks": ""
            },
            "colorscale": [
             [
              0,
              "#0d0887"
             ],
             [
              0.1111111111111111,
              "#46039f"
             ],
             [
              0.2222222222222222,
              "#7201a8"
             ],
             [
              0.3333333333333333,
              "#9c179e"
             ],
             [
              0.4444444444444444,
              "#bd3786"
             ],
             [
              0.5555555555555556,
              "#d8576b"
             ],
             [
              0.6666666666666666,
              "#ed7953"
             ],
             [
              0.7777777777777778,
              "#fb9f3a"
             ],
             [
              0.8888888888888888,
              "#fdca26"
             ],
             [
              1,
              "#f0f921"
             ]
            ],
            "type": "surface"
           }
          ],
          "table": [
           {
            "cells": {
             "fill": {
              "color": "#EBF0F8"
             },
             "line": {
              "color": "white"
             }
            },
            "header": {
             "fill": {
              "color": "#C8D4E3"
             },
             "line": {
              "color": "white"
             }
            },
            "type": "table"
           }
          ]
         },
         "layout": {
          "annotationdefaults": {
           "arrowcolor": "#2a3f5f",
           "arrowhead": 0,
           "arrowwidth": 1
          },
          "autotypenumbers": "strict",
          "coloraxis": {
           "colorbar": {
            "outlinewidth": 0,
            "ticks": ""
           }
          },
          "colorscale": {
           "diverging": [
            [
             0,
             "#8e0152"
            ],
            [
             0.1,
             "#c51b7d"
            ],
            [
             0.2,
             "#de77ae"
            ],
            [
             0.3,
             "#f1b6da"
            ],
            [
             0.4,
             "#fde0ef"
            ],
            [
             0.5,
             "#f7f7f7"
            ],
            [
             0.6,
             "#e6f5d0"
            ],
            [
             0.7,
             "#b8e186"
            ],
            [
             0.8,
             "#7fbc41"
            ],
            [
             0.9,
             "#4d9221"
            ],
            [
             1,
             "#276419"
            ]
           ],
           "sequential": [
            [
             0,
             "#0d0887"
            ],
            [
             0.1111111111111111,
             "#46039f"
            ],
            [
             0.2222222222222222,
             "#7201a8"
            ],
            [
             0.3333333333333333,
             "#9c179e"
            ],
            [
             0.4444444444444444,
             "#bd3786"
            ],
            [
             0.5555555555555556,
             "#d8576b"
            ],
            [
             0.6666666666666666,
             "#ed7953"
            ],
            [
             0.7777777777777778,
             "#fb9f3a"
            ],
            [
             0.8888888888888888,
             "#fdca26"
            ],
            [
             1,
             "#f0f921"
            ]
           ],
           "sequentialminus": [
            [
             0,
             "#0d0887"
            ],
            [
             0.1111111111111111,
             "#46039f"
            ],
            [
             0.2222222222222222,
             "#7201a8"
            ],
            [
             0.3333333333333333,
             "#9c179e"
            ],
            [
             0.4444444444444444,
             "#bd3786"
            ],
            [
             0.5555555555555556,
             "#d8576b"
            ],
            [
             0.6666666666666666,
             "#ed7953"
            ],
            [
             0.7777777777777778,
             "#fb9f3a"
            ],
            [
             0.8888888888888888,
             "#fdca26"
            ],
            [
             1,
             "#f0f921"
            ]
           ]
          },
          "colorway": [
           "#636efa",
           "#EF553B",
           "#00cc96",
           "#ab63fa",
           "#FFA15A",
           "#19d3f3",
           "#FF6692",
           "#B6E880",
           "#FF97FF",
           "#FECB52"
          ],
          "font": {
           "color": "#2a3f5f"
          },
          "geo": {
           "bgcolor": "white",
           "lakecolor": "white",
           "landcolor": "#E5ECF6",
           "showlakes": true,
           "showland": true,
           "subunitcolor": "white"
          },
          "hoverlabel": {
           "align": "left"
          },
          "hovermode": "closest",
          "mapbox": {
           "style": "light"
          },
          "paper_bgcolor": "white",
          "plot_bgcolor": "#E5ECF6",
          "polar": {
           "angularaxis": {
            "gridcolor": "white",
            "linecolor": "white",
            "ticks": ""
           },
           "bgcolor": "#E5ECF6",
           "radialaxis": {
            "gridcolor": "white",
            "linecolor": "white",
            "ticks": ""
           }
          },
          "scene": {
           "xaxis": {
            "backgroundcolor": "#E5ECF6",
            "gridcolor": "white",
            "gridwidth": 2,
            "linecolor": "white",
            "showbackground": true,
            "ticks": "",
            "zerolinecolor": "white"
           },
           "yaxis": {
            "backgroundcolor": "#E5ECF6",
            "gridcolor": "white",
            "gridwidth": 2,
            "linecolor": "white",
            "showbackground": true,
            "ticks": "",
            "zerolinecolor": "white"
           },
           "zaxis": {
            "backgroundcolor": "#E5ECF6",
            "gridcolor": "white",
            "gridwidth": 2,
            "linecolor": "white",
            "showbackground": true,
            "ticks": "",
            "zerolinecolor": "white"
           }
          },
          "shapedefaults": {
           "line": {
            "color": "#2a3f5f"
           }
          },
          "ternary": {
           "aaxis": {
            "gridcolor": "white",
            "linecolor": "white",
            "ticks": ""
           },
           "baxis": {
            "gridcolor": "white",
            "linecolor": "white",
            "ticks": ""
           },
           "bgcolor": "#E5ECF6",
           "caxis": {
            "gridcolor": "white",
            "linecolor": "white",
            "ticks": ""
           }
          },
          "title": {
           "x": 0.05
          },
          "xaxis": {
           "automargin": true,
           "gridcolor": "white",
           "linecolor": "white",
           "ticks": "",
           "title": {
            "standoff": 15
           },
           "zerolinecolor": "white",
           "zerolinewidth": 2
          },
          "yaxis": {
           "automargin": true,
           "gridcolor": "white",
           "linecolor": "white",
           "ticks": "",
           "title": {
            "standoff": 15
           },
           "zerolinecolor": "white",
           "zerolinewidth": 2
          }
         }
        },
        "title": {
         "text": "Line Plot of National Average Price(Euros) over Months"
        },
        "updatemenus": [
         {
          "buttons": [
           {
            "args": [
             null,
             {
              "frame": {
               "duration": 500,
               "redraw": false
              },
              "fromcurrent": true,
              "mode": "immediate",
              "transition": {
               "duration": 500,
               "easing": "linear"
              }
             }
            ],
            "label": "&#9654;",
            "method": "animate"
           },
           {
            "args": [
             [
              null
             ],
             {
              "frame": {
               "duration": 0,
               "redraw": false
              },
              "fromcurrent": true,
              "mode": "immediate",
              "transition": {
               "duration": 0,
               "easing": "linear"
              }
             }
            ],
            "label": "&#9724;",
            "method": "animate"
           }
          ],
          "direction": "left",
          "pad": {
           "r": 10,
           "t": 70
          },
          "showactive": false,
          "type": "buttons",
          "x": 0.1,
          "xanchor": "right",
          "y": 0,
          "yanchor": "top"
         }
        ],
        "xaxis": {
         "anchor": "y",
         "domain": [
          0,
          1
         ],
         "range": [
          0,
          12
         ],
         "title": {
          "text": "Month"
         }
        },
        "yaxis": {
         "anchor": "x",
         "domain": [
          0,
          1
         ],
         "range": [
          0.5,
          1.8
         ],
         "title": {
          "text": "National Average Price(Euros)"
         }
        }
       }
      },
      "text/html": [
       "<div>                            <div id=\"0f91223d-0b1f-4950-8f04-1e4e12853827\" class=\"plotly-graph-div\" style=\"height:525px; width:100%;\"></div>            <script type=\"text/javascript\">                require([\"plotly\"], function(Plotly) {                    window.PLOTLYENV=window.PLOTLYENV || {};                                    if (document.getElementById(\"0f91223d-0b1f-4950-8f04-1e4e12853827\")) {                    Plotly.newPlot(                        \"0f91223d-0b1f-4950-8f04-1e4e12853827\",                        [{\"hovertemplate\":\"Year=2002<br>Month=%{x}<br>National Average Price(Euros)=%{y}<extra></extra>\",\"legendgroup\":\"\",\"line\":{\"color\":\"#636efa\",\"dash\":\"solid\"},\"marker\":{\"symbol\":\"circle\"},\"mode\":\"lines\",\"name\":\"\",\"orientation\":\"v\",\"showlegend\":false,\"x\":[1,2,3,4,5,6,7,8,9,10,11,12],\"xaxis\":\"x\",\"y\":[1.691,1.67,1.496,1.669,1.623,1.652,1.652,1.664,1.677,1.694,1.694,1.693],\"yaxis\":\"y\",\"type\":\"scatter\"}],                        {\"template\":{\"data\":{\"histogram2dcontour\":[{\"type\":\"histogram2dcontour\",\"colorbar\":{\"outlinewidth\":0,\"ticks\":\"\"},\"colorscale\":[[0.0,\"#0d0887\"],[0.1111111111111111,\"#46039f\"],[0.2222222222222222,\"#7201a8\"],[0.3333333333333333,\"#9c179e\"],[0.4444444444444444,\"#bd3786\"],[0.5555555555555556,\"#d8576b\"],[0.6666666666666666,\"#ed7953\"],[0.7777777777777778,\"#fb9f3a\"],[0.8888888888888888,\"#fdca26\"],[1.0,\"#f0f921\"]]}],\"choropleth\":[{\"type\":\"choropleth\",\"colorbar\":{\"outlinewidth\":0,\"ticks\":\"\"}}],\"histogram2d\":[{\"type\":\"histogram2d\",\"colorbar\":{\"outlinewidth\":0,\"ticks\":\"\"},\"colorscale\":[[0.0,\"#0d0887\"],[0.1111111111111111,\"#46039f\"],[0.2222222222222222,\"#7201a8\"],[0.3333333333333333,\"#9c179e\"],[0.4444444444444444,\"#bd3786\"],[0.5555555555555556,\"#d8576b\"],[0.6666666666666666,\"#ed7953\"],[0.7777777777777778,\"#fb9f3a\"],[0.8888888888888888,\"#fdca26\"],[1.0,\"#f0f921\"]]}],\"heatmap\":[{\"type\":\"heatmap\",\"colorbar\":{\"outlinewidth\":0,\"ticks\":\"\"},\"colorscale\":[[0.0,\"#0d0887\"],[0.1111111111111111,\"#46039f\"],[0.2222222222222222,\"#7201a8\"],[0.3333333333333333,\"#9c179e\"],[0.4444444444444444,\"#bd3786\"],[0.5555555555555556,\"#d8576b\"],[0.6666666666666666,\"#ed7953\"],[0.7777777777777778,\"#fb9f3a\"],[0.8888888888888888,\"#fdca26\"],[1.0,\"#f0f921\"]]}],\"heatmapgl\":[{\"type\":\"heatmapgl\",\"colorbar\":{\"outlinewidth\":0,\"ticks\":\"\"},\"colorscale\":[[0.0,\"#0d0887\"],[0.1111111111111111,\"#46039f\"],[0.2222222222222222,\"#7201a8\"],[0.3333333333333333,\"#9c179e\"],[0.4444444444444444,\"#bd3786\"],[0.5555555555555556,\"#d8576b\"],[0.6666666666666666,\"#ed7953\"],[0.7777777777777778,\"#fb9f3a\"],[0.8888888888888888,\"#fdca26\"],[1.0,\"#f0f921\"]]}],\"contourcarpet\":[{\"type\":\"contourcarpet\",\"colorbar\":{\"outlinewidth\":0,\"ticks\":\"\"}}],\"contour\":[{\"type\":\"contour\",\"colorbar\":{\"outlinewidth\":0,\"ticks\":\"\"},\"colorscale\":[[0.0,\"#0d0887\"],[0.1111111111111111,\"#46039f\"],[0.2222222222222222,\"#7201a8\"],[0.3333333333333333,\"#9c179e\"],[0.4444444444444444,\"#bd3786\"],[0.5555555555555556,\"#d8576b\"],[0.6666666666666666,\"#ed7953\"],[0.7777777777777778,\"#fb9f3a\"],[0.8888888888888888,\"#fdca26\"],[1.0,\"#f0f921\"]]}],\"surface\":[{\"type\":\"surface\",\"colorbar\":{\"outlinewidth\":0,\"ticks\":\"\"},\"colorscale\":[[0.0,\"#0d0887\"],[0.1111111111111111,\"#46039f\"],[0.2222222222222222,\"#7201a8\"],[0.3333333333333333,\"#9c179e\"],[0.4444444444444444,\"#bd3786\"],[0.5555555555555556,\"#d8576b\"],[0.6666666666666666,\"#ed7953\"],[0.7777777777777778,\"#fb9f3a\"],[0.8888888888888888,\"#fdca26\"],[1.0,\"#f0f921\"]]}],\"mesh3d\":[{\"type\":\"mesh3d\",\"colorbar\":{\"outlinewidth\":0,\"ticks\":\"\"}}],\"scatter\":[{\"fillpattern\":{\"fillmode\":\"overlay\",\"size\":10,\"solidity\":0.2},\"type\":\"scatter\"}],\"parcoords\":[{\"type\":\"parcoords\",\"line\":{\"colorbar\":{\"outlinewidth\":0,\"ticks\":\"\"}}}],\"scatterpolargl\":[{\"type\":\"scatterpolargl\",\"marker\":{\"colorbar\":{\"outlinewidth\":0,\"ticks\":\"\"}}}],\"bar\":[{\"error_x\":{\"color\":\"#2a3f5f\"},\"error_y\":{\"color\":\"#2a3f5f\"},\"marker\":{\"line\":{\"color\":\"#E5ECF6\",\"width\":0.5},\"pattern\":{\"fillmode\":\"overlay\",\"size\":10,\"solidity\":0.2}},\"type\":\"bar\"}],\"scattergeo\":[{\"type\":\"scattergeo\",\"marker\":{\"colorbar\":{\"outlinewidth\":0,\"ticks\":\"\"}}}],\"scatterpolar\":[{\"type\":\"scatterpolar\",\"marker\":{\"colorbar\":{\"outlinewidth\":0,\"ticks\":\"\"}}}],\"histogram\":[{\"marker\":{\"pattern\":{\"fillmode\":\"overlay\",\"size\":10,\"solidity\":0.2}},\"type\":\"histogram\"}],\"scattergl\":[{\"type\":\"scattergl\",\"marker\":{\"colorbar\":{\"outlinewidth\":0,\"ticks\":\"\"}}}],\"scatter3d\":[{\"type\":\"scatter3d\",\"line\":{\"colorbar\":{\"outlinewidth\":0,\"ticks\":\"\"}},\"marker\":{\"colorbar\":{\"outlinewidth\":0,\"ticks\":\"\"}}}],\"scattermapbox\":[{\"type\":\"scattermapbox\",\"marker\":{\"colorbar\":{\"outlinewidth\":0,\"ticks\":\"\"}}}],\"scatterternary\":[{\"type\":\"scatterternary\",\"marker\":{\"colorbar\":{\"outlinewidth\":0,\"ticks\":\"\"}}}],\"scattercarpet\":[{\"type\":\"scattercarpet\",\"marker\":{\"colorbar\":{\"outlinewidth\":0,\"ticks\":\"\"}}}],\"carpet\":[{\"aaxis\":{\"endlinecolor\":\"#2a3f5f\",\"gridcolor\":\"white\",\"linecolor\":\"white\",\"minorgridcolor\":\"white\",\"startlinecolor\":\"#2a3f5f\"},\"baxis\":{\"endlinecolor\":\"#2a3f5f\",\"gridcolor\":\"white\",\"linecolor\":\"white\",\"minorgridcolor\":\"white\",\"startlinecolor\":\"#2a3f5f\"},\"type\":\"carpet\"}],\"table\":[{\"cells\":{\"fill\":{\"color\":\"#EBF0F8\"},\"line\":{\"color\":\"white\"}},\"header\":{\"fill\":{\"color\":\"#C8D4E3\"},\"line\":{\"color\":\"white\"}},\"type\":\"table\"}],\"barpolar\":[{\"marker\":{\"line\":{\"color\":\"#E5ECF6\",\"width\":0.5},\"pattern\":{\"fillmode\":\"overlay\",\"size\":10,\"solidity\":0.2}},\"type\":\"barpolar\"}],\"pie\":[{\"automargin\":true,\"type\":\"pie\"}]},\"layout\":{\"autotypenumbers\":\"strict\",\"colorway\":[\"#636efa\",\"#EF553B\",\"#00cc96\",\"#ab63fa\",\"#FFA15A\",\"#19d3f3\",\"#FF6692\",\"#B6E880\",\"#FF97FF\",\"#FECB52\"],\"font\":{\"color\":\"#2a3f5f\"},\"hovermode\":\"closest\",\"hoverlabel\":{\"align\":\"left\"},\"paper_bgcolor\":\"white\",\"plot_bgcolor\":\"#E5ECF6\",\"polar\":{\"bgcolor\":\"#E5ECF6\",\"angularaxis\":{\"gridcolor\":\"white\",\"linecolor\":\"white\",\"ticks\":\"\"},\"radialaxis\":{\"gridcolor\":\"white\",\"linecolor\":\"white\",\"ticks\":\"\"}},\"ternary\":{\"bgcolor\":\"#E5ECF6\",\"aaxis\":{\"gridcolor\":\"white\",\"linecolor\":\"white\",\"ticks\":\"\"},\"baxis\":{\"gridcolor\":\"white\",\"linecolor\":\"white\",\"ticks\":\"\"},\"caxis\":{\"gridcolor\":\"white\",\"linecolor\":\"white\",\"ticks\":\"\"}},\"coloraxis\":{\"colorbar\":{\"outlinewidth\":0,\"ticks\":\"\"}},\"colorscale\":{\"sequential\":[[0.0,\"#0d0887\"],[0.1111111111111111,\"#46039f\"],[0.2222222222222222,\"#7201a8\"],[0.3333333333333333,\"#9c179e\"],[0.4444444444444444,\"#bd3786\"],[0.5555555555555556,\"#d8576b\"],[0.6666666666666666,\"#ed7953\"],[0.7777777777777778,\"#fb9f3a\"],[0.8888888888888888,\"#fdca26\"],[1.0,\"#f0f921\"]],\"sequentialminus\":[[0.0,\"#0d0887\"],[0.1111111111111111,\"#46039f\"],[0.2222222222222222,\"#7201a8\"],[0.3333333333333333,\"#9c179e\"],[0.4444444444444444,\"#bd3786\"],[0.5555555555555556,\"#d8576b\"],[0.6666666666666666,\"#ed7953\"],[0.7777777777777778,\"#fb9f3a\"],[0.8888888888888888,\"#fdca26\"],[1.0,\"#f0f921\"]],\"diverging\":[[0,\"#8e0152\"],[0.1,\"#c51b7d\"],[0.2,\"#de77ae\"],[0.3,\"#f1b6da\"],[0.4,\"#fde0ef\"],[0.5,\"#f7f7f7\"],[0.6,\"#e6f5d0\"],[0.7,\"#b8e186\"],[0.8,\"#7fbc41\"],[0.9,\"#4d9221\"],[1,\"#276419\"]]},\"xaxis\":{\"gridcolor\":\"white\",\"linecolor\":\"white\",\"ticks\":\"\",\"title\":{\"standoff\":15},\"zerolinecolor\":\"white\",\"automargin\":true,\"zerolinewidth\":2},\"yaxis\":{\"gridcolor\":\"white\",\"linecolor\":\"white\",\"ticks\":\"\",\"title\":{\"standoff\":15},\"zerolinecolor\":\"white\",\"automargin\":true,\"zerolinewidth\":2},\"scene\":{\"xaxis\":{\"backgroundcolor\":\"#E5ECF6\",\"gridcolor\":\"white\",\"linecolor\":\"white\",\"showbackground\":true,\"ticks\":\"\",\"zerolinecolor\":\"white\",\"gridwidth\":2},\"yaxis\":{\"backgroundcolor\":\"#E5ECF6\",\"gridcolor\":\"white\",\"linecolor\":\"white\",\"showbackground\":true,\"ticks\":\"\",\"zerolinecolor\":\"white\",\"gridwidth\":2},\"zaxis\":{\"backgroundcolor\":\"#E5ECF6\",\"gridcolor\":\"white\",\"linecolor\":\"white\",\"showbackground\":true,\"ticks\":\"\",\"zerolinecolor\":\"white\",\"gridwidth\":2}},\"shapedefaults\":{\"line\":{\"color\":\"#2a3f5f\"}},\"annotationdefaults\":{\"arrowcolor\":\"#2a3f5f\",\"arrowhead\":0,\"arrowwidth\":1},\"geo\":{\"bgcolor\":\"white\",\"landcolor\":\"#E5ECF6\",\"subunitcolor\":\"white\",\"showland\":true,\"showlakes\":true,\"lakecolor\":\"white\"},\"title\":{\"x\":0.05},\"mapbox\":{\"style\":\"light\"}}},\"xaxis\":{\"anchor\":\"y\",\"domain\":[0.0,1.0],\"title\":{\"text\":\"Month\"},\"range\":[0,12]},\"yaxis\":{\"anchor\":\"x\",\"domain\":[0.0,1.0],\"title\":{\"text\":\"National Average Price(Euros)\"},\"range\":[0.5,1.8]},\"legend\":{\"tracegroupgap\":0},\"margin\":{\"t\":60},\"updatemenus\":[{\"buttons\":[{\"args\":[null,{\"frame\":{\"duration\":500,\"redraw\":false},\"mode\":\"immediate\",\"fromcurrent\":true,\"transition\":{\"duration\":500,\"easing\":\"linear\"}}],\"label\":\"&#9654;\",\"method\":\"animate\"},{\"args\":[[null],{\"frame\":{\"duration\":0,\"redraw\":false},\"mode\":\"immediate\",\"fromcurrent\":true,\"transition\":{\"duration\":0,\"easing\":\"linear\"}}],\"label\":\"&#9724;\",\"method\":\"animate\"}],\"direction\":\"left\",\"pad\":{\"r\":10,\"t\":70},\"showactive\":false,\"type\":\"buttons\",\"x\":0.1,\"xanchor\":\"right\",\"y\":0,\"yanchor\":\"top\"}],\"sliders\":[{\"active\":0,\"currentvalue\":{\"prefix\":\"Year=\"},\"len\":0.9,\"pad\":{\"b\":10,\"t\":60},\"steps\":[{\"args\":[[\"2002\"],{\"frame\":{\"duration\":0,\"redraw\":false},\"mode\":\"immediate\",\"fromcurrent\":true,\"transition\":{\"duration\":0,\"easing\":\"linear\"}}],\"label\":\"2002\",\"method\":\"animate\"},{\"args\":[[\"2003\"],{\"frame\":{\"duration\":0,\"redraw\":false},\"mode\":\"immediate\",\"fromcurrent\":true,\"transition\":{\"duration\":0,\"easing\":\"linear\"}}],\"label\":\"2003\",\"method\":\"animate\"},{\"args\":[[\"2004\"],{\"frame\":{\"duration\":0,\"redraw\":false},\"mode\":\"immediate\",\"fromcurrent\":true,\"transition\":{\"duration\":0,\"easing\":\"linear\"}}],\"label\":\"2004\",\"method\":\"animate\"},{\"args\":[[\"2005\"],{\"frame\":{\"duration\":0,\"redraw\":false},\"mode\":\"immediate\",\"fromcurrent\":true,\"transition\":{\"duration\":0,\"easing\":\"linear\"}}],\"label\":\"2005\",\"method\":\"animate\"},{\"args\":[[\"2006\"],{\"frame\":{\"duration\":0,\"redraw\":false},\"mode\":\"immediate\",\"fromcurrent\":true,\"transition\":{\"duration\":0,\"easing\":\"linear\"}}],\"label\":\"2006\",\"method\":\"animate\"},{\"args\":[[\"2007\"],{\"frame\":{\"duration\":0,\"redraw\":false},\"mode\":\"immediate\",\"fromcurrent\":true,\"transition\":{\"duration\":0,\"easing\":\"linear\"}}],\"label\":\"2007\",\"method\":\"animate\"},{\"args\":[[\"2008\"],{\"frame\":{\"duration\":0,\"redraw\":false},\"mode\":\"immediate\",\"fromcurrent\":true,\"transition\":{\"duration\":0,\"easing\":\"linear\"}}],\"label\":\"2008\",\"method\":\"animate\"},{\"args\":[[\"2009\"],{\"frame\":{\"duration\":0,\"redraw\":false},\"mode\":\"immediate\",\"fromcurrent\":true,\"transition\":{\"duration\":0,\"easing\":\"linear\"}}],\"label\":\"2009\",\"method\":\"animate\"},{\"args\":[[\"2010\"],{\"frame\":{\"duration\":0,\"redraw\":false},\"mode\":\"immediate\",\"fromcurrent\":true,\"transition\":{\"duration\":0,\"easing\":\"linear\"}}],\"label\":\"2010\",\"method\":\"animate\"},{\"args\":[[\"2011\"],{\"frame\":{\"duration\":0,\"redraw\":false},\"mode\":\"immediate\",\"fromcurrent\":true,\"transition\":{\"duration\":0,\"easing\":\"linear\"}}],\"label\":\"2011\",\"method\":\"animate\"},{\"args\":[[\"2012\"],{\"frame\":{\"duration\":0,\"redraw\":false},\"mode\":\"immediate\",\"fromcurrent\":true,\"transition\":{\"duration\":0,\"easing\":\"linear\"}}],\"label\":\"2012\",\"method\":\"animate\"},{\"args\":[[\"2013\"],{\"frame\":{\"duration\":0,\"redraw\":false},\"mode\":\"immediate\",\"fromcurrent\":true,\"transition\":{\"duration\":0,\"easing\":\"linear\"}}],\"label\":\"2013\",\"method\":\"animate\"},{\"args\":[[\"2014\"],{\"frame\":{\"duration\":0,\"redraw\":false},\"mode\":\"immediate\",\"fromcurrent\":true,\"transition\":{\"duration\":0,\"easing\":\"linear\"}}],\"label\":\"2014\",\"method\":\"animate\"},{\"args\":[[\"2015\"],{\"frame\":{\"duration\":0,\"redraw\":false},\"mode\":\"immediate\",\"fromcurrent\":true,\"transition\":{\"duration\":0,\"easing\":\"linear\"}}],\"label\":\"2015\",\"method\":\"animate\"},{\"args\":[[\"2016\"],{\"frame\":{\"duration\":0,\"redraw\":false},\"mode\":\"immediate\",\"fromcurrent\":true,\"transition\":{\"duration\":0,\"easing\":\"linear\"}}],\"label\":\"2016\",\"method\":\"animate\"},{\"args\":[[\"2017\"],{\"frame\":{\"duration\":0,\"redraw\":false},\"mode\":\"immediate\",\"fromcurrent\":true,\"transition\":{\"duration\":0,\"easing\":\"linear\"}}],\"label\":\"2017\",\"method\":\"animate\"},{\"args\":[[\"2018\"],{\"frame\":{\"duration\":0,\"redraw\":false},\"mode\":\"immediate\",\"fromcurrent\":true,\"transition\":{\"duration\":0,\"easing\":\"linear\"}}],\"label\":\"2018\",\"method\":\"animate\"},{\"args\":[[\"2019\"],{\"frame\":{\"duration\":0,\"redraw\":false},\"mode\":\"immediate\",\"fromcurrent\":true,\"transition\":{\"duration\":0,\"easing\":\"linear\"}}],\"label\":\"2019\",\"method\":\"animate\"},{\"args\":[[\"2020\"],{\"frame\":{\"duration\":0,\"redraw\":false},\"mode\":\"immediate\",\"fromcurrent\":true,\"transition\":{\"duration\":0,\"easing\":\"linear\"}}],\"label\":\"2020\",\"method\":\"animate\"},{\"args\":[[\"2021\"],{\"frame\":{\"duration\":0,\"redraw\":false},\"mode\":\"immediate\",\"fromcurrent\":true,\"transition\":{\"duration\":0,\"easing\":\"linear\"}}],\"label\":\"2021\",\"method\":\"animate\"},{\"args\":[[\"2022\"],{\"frame\":{\"duration\":0,\"redraw\":false},\"mode\":\"immediate\",\"fromcurrent\":true,\"transition\":{\"duration\":0,\"easing\":\"linear\"}}],\"label\":\"2022\",\"method\":\"animate\"},{\"args\":[[\"2023\"],{\"frame\":{\"duration\":0,\"redraw\":false},\"mode\":\"immediate\",\"fromcurrent\":true,\"transition\":{\"duration\":0,\"easing\":\"linear\"}}],\"label\":\"2023\",\"method\":\"animate\"}],\"x\":0.1,\"xanchor\":\"left\",\"y\":0,\"yanchor\":\"top\"}],\"title\":{\"text\":\"Line Plot of National Average Price(Euros) over Months\"}},                        {\"responsive\": true}                    ).then(function(){\n",
       "                            Plotly.addFrames('0f91223d-0b1f-4950-8f04-1e4e12853827', [{\"data\":[{\"hovertemplate\":\"Year=2002<br>Month=%{x}<br>National Average Price(Euros)=%{y}<extra></extra>\",\"legendgroup\":\"\",\"line\":{\"color\":\"#636efa\",\"dash\":\"solid\"},\"marker\":{\"symbol\":\"circle\"},\"mode\":\"lines\",\"name\":\"\",\"orientation\":\"v\",\"showlegend\":false,\"x\":[1,2,3,4,5,6,7,8,9,10,11,12],\"xaxis\":\"x\",\"y\":[1.691,1.67,1.496,1.669,1.623,1.652,1.652,1.664,1.677,1.694,1.694,1.693],\"yaxis\":\"y\",\"type\":\"scatter\"}],\"name\":\"2002\"},{\"data\":[{\"hovertemplate\":\"Year=2003<br>Month=%{x}<br>National Average Price(Euros)=%{y}<extra></extra>\",\"legendgroup\":\"\",\"line\":{\"color\":\"#636efa\",\"dash\":\"solid\"},\"marker\":{\"symbol\":\"circle\"},\"mode\":\"lines\",\"name\":\"\",\"orientation\":\"v\",\"showlegend\":false,\"x\":[1,2,3,4,5,6,7,8,9,10,11,12],\"xaxis\":\"x\",\"y\":[1.674,1.671,1.489,1.62,1.513,1.42,1.459,1.456,1.466,1.466,1.453,1.438],\"yaxis\":\"y\",\"type\":\"scatter\"}],\"name\":\"2003\"},{\"data\":[{\"hovertemplate\":\"Year=2004<br>Month=%{x}<br>National Average Price(Euros)=%{y}<extra></extra>\",\"legendgroup\":\"\",\"line\":{\"color\":\"#636efa\",\"dash\":\"solid\"},\"marker\":{\"symbol\":\"circle\"},\"mode\":\"lines\",\"name\":\"\",\"orientation\":\"v\",\"showlegend\":false,\"x\":[1,2,3,4,5,6,7,8,9,10,11,12],\"xaxis\":\"x\",\"y\":[1.424,1.447,1.428,1.352,1.357,1.349,1.35,1.373,1.374,1.383,1.377,1.373],\"yaxis\":\"y\",\"type\":\"scatter\"}],\"name\":\"2004\"},{\"data\":[{\"hovertemplate\":\"Year=2005<br>Month=%{x}<br>National Average Price(Euros)=%{y}<extra></extra>\",\"legendgroup\":\"\",\"line\":{\"color\":\"#636efa\",\"dash\":\"solid\"},\"marker\":{\"symbol\":\"circle\"},\"mode\":\"lines\",\"name\":\"\",\"orientation\":\"v\",\"showlegend\":false,\"x\":[1,2,3,4,5,6,7,8,9,10,11,12],\"xaxis\":\"x\",\"y\":[1.4,1.394,1.393,1.366,1.374,1.35,1.349,1.344,1.318,1.332,1.32,1.338],\"yaxis\":\"y\",\"type\":\"scatter\"}],\"name\":\"2005\"},{\"data\":[{\"hovertemplate\":\"Year=2006<br>Month=%{x}<br>National Average Price(Euros)=%{y}<extra></extra>\",\"legendgroup\":\"\",\"line\":{\"color\":\"#636efa\",\"dash\":\"solid\"},\"marker\":{\"symbol\":\"circle\"},\"mode\":\"lines\",\"name\":\"\",\"orientation\":\"v\",\"showlegend\":false,\"x\":[1,2,3,4,5,6,7,8,9,10,11,12],\"xaxis\":\"x\",\"y\":[1.344,1.345,1.337,1.339,1.326,1.34,1.349,1.348,1.32,1.319,1.391,1.441],\"yaxis\":\"y\",\"type\":\"scatter\"}],\"name\":\"2006\"},{\"data\":[{\"hovertemplate\":\"Year=2007<br>Month=%{x}<br>National Average Price(Euros)=%{y}<extra></extra>\",\"legendgroup\":\"\",\"line\":{\"color\":\"#636efa\",\"dash\":\"solid\"},\"marker\":{\"symbol\":\"circle\"},\"mode\":\"lines\",\"name\":\"\",\"orientation\":\"v\",\"showlegend\":false,\"x\":[1,2,3,4,5,6,7,8,9,10,11,12],\"xaxis\":\"x\",\"y\":[1.423,1.437,1.444,1.453,1.469,1.487,1.469,1.468,1.432,1.444,1.454,1.442],\"yaxis\":\"y\",\"type\":\"scatter\"}],\"name\":\"2007\"},{\"data\":[{\"hovertemplate\":\"Year=2008<br>Month=%{x}<br>National Average Price(Euros)=%{y}<extra></extra>\",\"legendgroup\":\"\",\"line\":{\"color\":\"#636efa\",\"dash\":\"solid\"},\"marker\":{\"symbol\":\"circle\"},\"mode\":\"lines\",\"name\":\"\",\"orientation\":\"v\",\"showlegend\":false,\"x\":[1,2,3,4,5,6,7,8,9,10,11,12],\"xaxis\":\"x\",\"y\":[1.446,1.435,1.459,1.462,1.465,1.467,1.484,1.478,1.468,1.468,1.54,1.557],\"yaxis\":\"y\",\"type\":\"scatter\"}],\"name\":\"2008\"},{\"data\":[{\"hovertemplate\":\"Year=2009<br>Month=%{x}<br>National Average Price(Euros)=%{y}<extra></extra>\",\"legendgroup\":\"\",\"line\":{\"color\":\"#636efa\",\"dash\":\"solid\"},\"marker\":{\"symbol\":\"circle\"},\"mode\":\"lines\",\"name\":\"\",\"orientation\":\"v\",\"showlegend\":false,\"x\":[1,2,3,4,5,6,7,8,9,10,11,12],\"xaxis\":\"x\",\"y\":[1.563,1.567,1.548,1.534,1.473,1.337,1.32,1.332,1.322,1.305,1.092,1.072],\"yaxis\":\"y\",\"type\":\"scatter\"}],\"name\":\"2009\"},{\"data\":[{\"hovertemplate\":\"Year=2010<br>Month=%{x}<br>National Average Price(Euros)=%{y}<extra></extra>\",\"legendgroup\":\"\",\"line\":{\"color\":\"#636efa\",\"dash\":\"solid\"},\"marker\":{\"symbol\":\"circle\"},\"mode\":\"lines\",\"name\":\"\",\"orientation\":\"v\",\"showlegend\":false,\"x\":[1,2,3,4,5,6,7,8,9,10,11,12],\"xaxis\":\"x\",\"y\":[1.06,1.111,1.104,1.122,1.129,1.228,1.266,1.263,1.259,1.257,1.267,1.242],\"yaxis\":\"y\",\"type\":\"scatter\"}],\"name\":\"2010\"},{\"data\":[{\"hovertemplate\":\"Year=2011<br>Month=%{x}<br>National Average Price(Euros)=%{y}<extra></extra>\",\"legendgroup\":\"\",\"line\":{\"color\":\"#636efa\",\"dash\":\"solid\"},\"marker\":{\"symbol\":\"circle\"},\"mode\":\"lines\",\"name\":\"\",\"orientation\":\"v\",\"showlegend\":false,\"x\":[1,2,3,4,5,6,7,8,9,10,11,12],\"xaxis\":\"x\",\"y\":[1.238,1.323,1.35,1.335,1.343,1.339,1.355,1.357,1.343,1.345,1.359,1.32],\"yaxis\":\"y\",\"type\":\"scatter\"}],\"name\":\"2011\"},{\"data\":[{\"hovertemplate\":\"Year=2012<br>Month=%{x}<br>National Average Price(Euros)=%{y}<extra></extra>\",\"legendgroup\":\"\",\"line\":{\"color\":\"#636efa\",\"dash\":\"solid\"},\"marker\":{\"symbol\":\"circle\"},\"mode\":\"lines\",\"name\":\"\",\"orientation\":\"v\",\"showlegend\":false,\"x\":[1,2,3,4,5,6,7,8,9,10,11,12],\"xaxis\":\"x\",\"y\":[1.33,1.359,1.371,1.362,1.375,1.364,1.355,1.369,1.38,1.356,1.368,1.373],\"yaxis\":\"y\",\"type\":\"scatter\"}],\"name\":\"2012\"},{\"data\":[{\"hovertemplate\":\"Year=2013<br>Month=%{x}<br>National Average Price(Euros)=%{y}<extra></extra>\",\"legendgroup\":\"\",\"line\":{\"color\":\"#636efa\",\"dash\":\"solid\"},\"marker\":{\"symbol\":\"circle\"},\"mode\":\"lines\",\"name\":\"\",\"orientation\":\"v\",\"showlegend\":false,\"x\":[1,2,3,4,5,6,7,8,9,10,11,12],\"xaxis\":\"x\",\"y\":[1.369,1.368,1.394,1.375,1.377,1.374,1.376,1.38,1.378,1.373,1.367,1.374],\"yaxis\":\"y\",\"type\":\"scatter\"}],\"name\":\"2013\"},{\"data\":[{\"hovertemplate\":\"Year=2014<br>Month=%{x}<br>National Average Price(Euros)=%{y}<extra></extra>\",\"legendgroup\":\"\",\"line\":{\"color\":\"#636efa\",\"dash\":\"solid\"},\"marker\":{\"symbol\":\"circle\"},\"mode\":\"lines\",\"name\":\"\",\"orientation\":\"v\",\"showlegend\":false,\"x\":[1,2,3,4,5,6,7,8,9,10,11,12],\"xaxis\":\"x\",\"y\":[1.366,1.371,1.375,1.374,1.372,1.37,1.373,1.371,1.357,1.361,1.362,1.363],\"yaxis\":\"y\",\"type\":\"scatter\"}],\"name\":\"2014\"},{\"data\":[{\"hovertemplate\":\"Year=2015<br>Month=%{x}<br>National Average Price(Euros)=%{y}<extra></extra>\",\"legendgroup\":\"\",\"line\":{\"color\":\"#636efa\",\"dash\":\"solid\"},\"marker\":{\"symbol\":\"circle\"},\"mode\":\"lines\",\"name\":\"\",\"orientation\":\"v\",\"showlegend\":false,\"x\":[1,2,3,4,5,6,7,8,9,10,11,12],\"xaxis\":\"x\",\"y\":[1.363,1.362,1.361,1.369,1.362,1.361,1.363,1.365,1.37,1.378,1.387,1.382],\"yaxis\":\"y\",\"type\":\"scatter\"}],\"name\":\"2015\"},{\"data\":[{\"hovertemplate\":\"Year=2016<br>Month=%{x}<br>National Average Price(Euros)=%{y}<extra></extra>\",\"legendgroup\":\"\",\"line\":{\"color\":\"#636efa\",\"dash\":\"solid\"},\"marker\":{\"symbol\":\"circle\"},\"mode\":\"lines\",\"name\":\"\",\"orientation\":\"v\",\"showlegend\":false,\"x\":[1,2,3,4,5,6,7,8,9,10,11,12],\"xaxis\":\"x\",\"y\":[1.389,1.382,1.385,1.393,1.396,1.393,1.399,1.405,1.41,1.411,1.403,1.406],\"yaxis\":\"y\",\"type\":\"scatter\"}],\"name\":\"2016\"},{\"data\":[{\"hovertemplate\":\"Year=2017<br>Month=%{x}<br>National Average Price(Euros)=%{y}<extra></extra>\",\"legendgroup\":\"\",\"line\":{\"color\":\"#636efa\",\"dash\":\"solid\"},\"marker\":{\"symbol\":\"circle\"},\"mode\":\"lines\",\"name\":\"\",\"orientation\":\"v\",\"showlegend\":false,\"x\":[1,2,3,4,5,6,7,8,9,10,11,12],\"xaxis\":\"x\",\"y\":[1.411,1.414,1.407,1.405,1.413,1.404,1.406,1.411,1.412,1.411,1.412,1.411],\"yaxis\":\"y\",\"type\":\"scatter\"}],\"name\":\"2017\"},{\"data\":[{\"hovertemplate\":\"Year=2018<br>Month=%{x}<br>National Average Price(Euros)=%{y}<extra></extra>\",\"legendgroup\":\"\",\"line\":{\"color\":\"#636efa\",\"dash\":\"solid\"},\"marker\":{\"symbol\":\"circle\"},\"mode\":\"lines\",\"name\":\"\",\"orientation\":\"v\",\"showlegend\":false,\"x\":[1,2,3,4,5,6,7,8,9,10,11,12],\"xaxis\":\"x\",\"y\":[1.405,1.406,1.405,1.4,1.399,1.404,1.404,1.403,1.404,1.401,1.406,1.396],\"yaxis\":\"y\",\"type\":\"scatter\"}],\"name\":\"2018\"},{\"data\":[{\"hovertemplate\":\"Year=2019<br>Month=%{x}<br>National Average Price(Euros)=%{y}<extra></extra>\",\"legendgroup\":\"\",\"line\":{\"color\":\"#636efa\",\"dash\":\"solid\"},\"marker\":{\"symbol\":\"circle\"},\"mode\":\"lines\",\"name\":\"\",\"orientation\":\"v\",\"showlegend\":false,\"x\":[1,2,3,4,5,6,7,8,9,10,11,12],\"xaxis\":\"x\",\"y\":[1.388,1.402,1.401,1.407,1.407,1.403,1.404,1.404,1.401,1.402,1.398,1.402],\"yaxis\":\"y\",\"type\":\"scatter\"}],\"name\":\"2019\"},{\"data\":[{\"hovertemplate\":\"Year=2020<br>Month=%{x}<br>National Average Price(Euros)=%{y}<extra></extra>\",\"legendgroup\":\"\",\"line\":{\"color\":\"#636efa\",\"dash\":\"solid\"},\"marker\":{\"symbol\":\"circle\"},\"mode\":\"lines\",\"name\":\"\",\"orientation\":\"v\",\"showlegend\":false,\"x\":[1,2,3,4,5,6,7,8,9,10,11,12],\"xaxis\":\"x\",\"y\":[1.405,1.414,1.418,1.399,1.373,1.336,1.476,1.377,1.408,1.463,1.464,1.465],\"yaxis\":\"y\",\"type\":\"scatter\"}],\"name\":\"2020\"},{\"data\":[{\"hovertemplate\":\"Year=2021<br>Month=%{x}<br>National Average Price(Euros)=%{y}<extra></extra>\",\"legendgroup\":\"\",\"line\":{\"color\":\"#636efa\",\"dash\":\"solid\"},\"marker\":{\"symbol\":\"circle\"},\"mode\":\"lines\",\"name\":\"\",\"orientation\":\"v\",\"showlegend\":false,\"x\":[1,2,3,4,5,6,7,8,9,10,11,12],\"xaxis\":\"x\",\"y\":[1.293,1.443,1.443,1.422,1.531,1.531,1.531,1.493,1.435,1.494,1.531,1.531],\"yaxis\":\"y\",\"type\":\"scatter\"}],\"name\":\"2021\"},{\"data\":[{\"hovertemplate\":\"Year=2022<br>Month=%{x}<br>National Average Price(Euros)=%{y}<extra></extra>\",\"legendgroup\":\"\",\"line\":{\"color\":\"#636efa\",\"dash\":\"solid\"},\"marker\":{\"symbol\":\"circle\"},\"mode\":\"lines\",\"name\":\"\",\"orientation\":\"v\",\"showlegend\":false,\"x\":[1,2,3,4,5,6,7,8,9,10,11,12],\"xaxis\":\"x\",\"y\":[1.395,1.495,1.484,1.503,1.519,1.525,1.527,1.549,1.56,1.602,1.631,1.676],\"yaxis\":\"y\",\"type\":\"scatter\"}],\"name\":\"2022\"},{\"data\":[{\"hovertemplate\":\"Year=2023<br>Month=%{x}<br>National Average Price(Euros)=%{y}<extra></extra>\",\"legendgroup\":\"\",\"line\":{\"color\":\"#636efa\",\"dash\":\"solid\"},\"marker\":{\"symbol\":\"circle\"},\"mode\":\"lines\",\"name\":\"\",\"orientation\":\"v\",\"showlegend\":false,\"x\":[1,2,3,4,5,6,7,8,9,10,11,12],\"xaxis\":\"x\",\"y\":[1.677,1.689,1.689,1.689,1.699,1.699,1.694,1.698,1.66,1.72,1.728,1.732],\"yaxis\":\"y\",\"type\":\"scatter\"}],\"name\":\"2023\"}]);\n",
       "                        }).then(function(){\n",
       "                            \n",
       "var gd = document.getElementById('0f91223d-0b1f-4950-8f04-1e4e12853827');\n",
       "var x = new MutationObserver(function (mutations, observer) {{\n",
       "        var display = window.getComputedStyle(gd).display;\n",
       "        if (!display || display === 'none') {{\n",
       "            console.log([gd, 'removed!']);\n",
       "            Plotly.purge(gd);\n",
       "            observer.disconnect();\n",
       "        }}\n",
       "}});\n",
       "\n",
       "// Listen for the removal of the full notebook cells\n",
       "var notebookContainer = gd.closest('#notebook-container');\n",
       "if (notebookContainer) {{\n",
       "    x.observe(notebookContainer, {childList: true});\n",
       "}}\n",
       "\n",
       "// Listen for the clearing of the current output cell\n",
       "var outputEl = gd.closest('.output');\n",
       "if (outputEl) {{\n",
       "    x.observe(outputEl, {childList: true});\n",
       "}}\n",
       "\n",
       "                        })                };                });            </script>        </div>"
      ]
     },
     "metadata": {},
     "output_type": "display_data"
    }
   ],
   "source": [
    "import plotly.express as px\n",
    "\n",
    "#Convert 'date' column to datetime\n",
    "banana_price['date'] = pd.to_datetime(banana_price['date'])\n",
    "\n",
    "#Extract year and month\n",
    "banana_price['Year'] = banana_price['date'].dt.year\n",
    "banana_price['Month'] = banana_price['date'].dt.month\n",
    "\n",
    "#Plotly Express\n",
    "fig = px.line(banana_price, x='Month', y='National Average Price(Euros)', animation_frame='Year', range_x=[0, 12])\n",
    "fig.update_layout(title='Line Plot of National Average Price(Euros) over Months',\n",
    "                  xaxis_title='Month',\n",
    "                  yaxis_title='National Average Price(Euros)',\n",
    "                  yaxis_range=[0.5, 1.8])  \n",
    "fig.show()\n",
    "#Save the plot as an HTML file\n",
    "fig.write_html(\"banana_price_plot.html\")"
   ]
  },
  {
   "cell_type": "markdown",
   "id": "916c4d50",
   "metadata": {},
   "source": [
    "## Line Plot for National Average banana price vs Date"
   ]
  },
  {
   "cell_type": "code",
   "execution_count": 71,
   "id": "8fe5a49c",
   "metadata": {},
   "outputs": [
    {
     "data": {
      "application/vnd.plotly.v1+json": {
       "config": {
        "plotlyServerURL": "https://plot.ly"
       },
       "data": [
        {
         "hovertemplate": "date=%{x}<br>National Average Price(Euros)=%{y}<extra></extra>",
         "legendgroup": "",
         "line": {
          "color": "#636efa",
          "dash": "solid"
         },
         "marker": {
          "symbol": "circle"
         },
         "mode": "lines",
         "name": "",
         "orientation": "v",
         "showlegend": false,
         "type": "scatter",
         "x": [
          "2002-01-01T00:00:00",
          "2002-02-01T00:00:00",
          "2002-03-01T00:00:00",
          "2002-04-01T00:00:00",
          "2002-05-01T00:00:00",
          "2002-06-01T00:00:00",
          "2002-07-01T00:00:00",
          "2002-08-01T00:00:00",
          "2002-09-01T00:00:00",
          "2002-10-01T00:00:00",
          "2002-11-01T00:00:00",
          "2002-12-01T00:00:00",
          "2003-01-01T00:00:00",
          "2003-02-01T00:00:00",
          "2003-03-01T00:00:00",
          "2003-04-01T00:00:00",
          "2003-05-01T00:00:00",
          "2003-06-01T00:00:00",
          "2003-07-01T00:00:00",
          "2003-08-01T00:00:00",
          "2003-09-01T00:00:00",
          "2003-10-01T00:00:00",
          "2003-11-01T00:00:00",
          "2003-12-01T00:00:00",
          "2004-01-01T00:00:00",
          "2004-02-01T00:00:00",
          "2004-03-01T00:00:00",
          "2004-04-01T00:00:00",
          "2004-05-01T00:00:00",
          "2004-06-01T00:00:00",
          "2004-07-01T00:00:00",
          "2004-08-01T00:00:00",
          "2004-09-01T00:00:00",
          "2004-10-01T00:00:00",
          "2004-11-01T00:00:00",
          "2004-12-01T00:00:00",
          "2005-01-01T00:00:00",
          "2005-02-01T00:00:00",
          "2005-03-01T00:00:00",
          "2005-04-01T00:00:00",
          "2005-05-01T00:00:00",
          "2005-06-01T00:00:00",
          "2005-07-01T00:00:00",
          "2005-08-01T00:00:00",
          "2005-09-01T00:00:00",
          "2005-10-01T00:00:00",
          "2005-11-01T00:00:00",
          "2005-12-01T00:00:00",
          "2006-01-01T00:00:00",
          "2006-02-01T00:00:00",
          "2006-03-01T00:00:00",
          "2006-04-01T00:00:00",
          "2006-05-01T00:00:00",
          "2006-06-01T00:00:00",
          "2006-07-01T00:00:00",
          "2006-08-01T00:00:00",
          "2006-09-01T00:00:00",
          "2006-10-01T00:00:00",
          "2006-11-01T00:00:00",
          "2006-12-01T00:00:00",
          "2007-01-01T00:00:00",
          "2007-02-01T00:00:00",
          "2007-03-01T00:00:00",
          "2007-04-01T00:00:00",
          "2007-05-01T00:00:00",
          "2007-06-01T00:00:00",
          "2007-07-01T00:00:00",
          "2007-08-01T00:00:00",
          "2007-09-01T00:00:00",
          "2007-10-01T00:00:00",
          "2007-11-01T00:00:00",
          "2007-12-01T00:00:00",
          "2008-01-01T00:00:00",
          "2008-02-01T00:00:00",
          "2008-03-01T00:00:00",
          "2008-04-01T00:00:00",
          "2008-05-01T00:00:00",
          "2008-06-01T00:00:00",
          "2008-07-01T00:00:00",
          "2008-08-01T00:00:00",
          "2008-09-01T00:00:00",
          "2008-10-01T00:00:00",
          "2008-11-01T00:00:00",
          "2008-12-01T00:00:00",
          "2009-01-01T00:00:00",
          "2009-02-01T00:00:00",
          "2009-03-01T00:00:00",
          "2009-04-01T00:00:00",
          "2009-05-01T00:00:00",
          "2009-06-01T00:00:00",
          "2009-07-01T00:00:00",
          "2009-08-01T00:00:00",
          "2009-09-01T00:00:00",
          "2009-10-01T00:00:00",
          "2009-11-01T00:00:00",
          "2009-12-01T00:00:00",
          "2010-01-01T00:00:00",
          "2010-02-01T00:00:00",
          "2010-03-01T00:00:00",
          "2010-04-01T00:00:00",
          "2010-05-01T00:00:00",
          "2010-06-01T00:00:00",
          "2010-07-01T00:00:00",
          "2010-08-01T00:00:00",
          "2010-09-01T00:00:00",
          "2010-10-01T00:00:00",
          "2010-11-01T00:00:00",
          "2010-12-01T00:00:00",
          "2011-01-01T00:00:00",
          "2011-02-01T00:00:00",
          "2011-03-01T00:00:00",
          "2011-04-01T00:00:00",
          "2011-05-01T00:00:00",
          "2011-06-01T00:00:00",
          "2011-07-01T00:00:00",
          "2011-08-01T00:00:00",
          "2011-09-01T00:00:00",
          "2011-10-01T00:00:00",
          "2011-11-01T00:00:00",
          "2011-12-01T00:00:00",
          "2012-01-01T00:00:00",
          "2012-02-01T00:00:00",
          "2012-03-01T00:00:00",
          "2012-04-01T00:00:00",
          "2012-05-01T00:00:00",
          "2012-06-01T00:00:00",
          "2012-07-01T00:00:00",
          "2012-08-01T00:00:00",
          "2012-09-01T00:00:00",
          "2012-10-01T00:00:00",
          "2012-11-01T00:00:00",
          "2012-12-01T00:00:00",
          "2013-01-01T00:00:00",
          "2013-02-01T00:00:00",
          "2013-03-01T00:00:00",
          "2013-04-01T00:00:00",
          "2013-05-01T00:00:00",
          "2013-06-01T00:00:00",
          "2013-07-01T00:00:00",
          "2013-08-01T00:00:00",
          "2013-09-01T00:00:00",
          "2013-10-01T00:00:00",
          "2013-11-01T00:00:00",
          "2013-12-01T00:00:00",
          "2014-01-01T00:00:00",
          "2014-02-01T00:00:00",
          "2014-03-01T00:00:00",
          "2014-04-01T00:00:00",
          "2014-05-01T00:00:00",
          "2014-06-01T00:00:00",
          "2014-07-01T00:00:00",
          "2014-08-01T00:00:00",
          "2014-09-01T00:00:00",
          "2014-10-01T00:00:00",
          "2014-11-01T00:00:00",
          "2014-12-01T00:00:00",
          "2015-01-01T00:00:00",
          "2015-02-01T00:00:00",
          "2015-03-01T00:00:00",
          "2015-04-01T00:00:00",
          "2015-05-01T00:00:00",
          "2015-06-01T00:00:00",
          "2015-07-01T00:00:00",
          "2015-08-01T00:00:00",
          "2015-09-01T00:00:00",
          "2015-10-01T00:00:00",
          "2015-11-01T00:00:00",
          "2015-12-01T00:00:00",
          "2016-01-01T00:00:00",
          "2016-02-01T00:00:00",
          "2016-03-01T00:00:00",
          "2016-04-01T00:00:00",
          "2016-05-01T00:00:00",
          "2016-06-01T00:00:00",
          "2016-07-01T00:00:00",
          "2016-08-01T00:00:00",
          "2016-09-01T00:00:00",
          "2016-10-01T00:00:00",
          "2016-11-01T00:00:00",
          "2016-12-01T00:00:00",
          "2017-01-01T00:00:00",
          "2017-02-01T00:00:00",
          "2017-03-01T00:00:00",
          "2017-04-01T00:00:00",
          "2017-05-01T00:00:00",
          "2017-06-01T00:00:00",
          "2017-07-01T00:00:00",
          "2017-08-01T00:00:00",
          "2017-09-01T00:00:00",
          "2017-10-01T00:00:00",
          "2017-11-01T00:00:00",
          "2017-12-01T00:00:00",
          "2018-01-01T00:00:00",
          "2018-02-01T00:00:00",
          "2018-03-01T00:00:00",
          "2018-04-01T00:00:00",
          "2018-05-01T00:00:00",
          "2018-06-01T00:00:00",
          "2018-07-01T00:00:00",
          "2018-08-01T00:00:00",
          "2018-09-01T00:00:00",
          "2018-10-01T00:00:00",
          "2018-11-01T00:00:00",
          "2018-12-01T00:00:00",
          "2019-01-01T00:00:00",
          "2019-02-01T00:00:00",
          "2019-03-01T00:00:00",
          "2019-04-01T00:00:00",
          "2019-05-01T00:00:00",
          "2019-06-01T00:00:00",
          "2019-07-01T00:00:00",
          "2019-08-01T00:00:00",
          "2019-09-01T00:00:00",
          "2019-10-01T00:00:00",
          "2019-11-01T00:00:00",
          "2019-12-01T00:00:00",
          "2020-01-01T00:00:00",
          "2020-02-01T00:00:00",
          "2020-03-01T00:00:00",
          "2020-04-01T00:00:00",
          "2020-05-01T00:00:00",
          "2020-06-01T00:00:00",
          "2020-07-01T00:00:00",
          "2020-08-01T00:00:00",
          "2020-09-01T00:00:00",
          "2020-10-01T00:00:00",
          "2020-11-01T00:00:00",
          "2020-12-01T00:00:00",
          "2021-01-01T00:00:00",
          "2021-02-01T00:00:00",
          "2021-03-01T00:00:00",
          "2021-04-01T00:00:00",
          "2021-05-01T00:00:00",
          "2021-06-01T00:00:00",
          "2021-07-01T00:00:00",
          "2021-08-01T00:00:00",
          "2021-09-01T00:00:00",
          "2021-10-01T00:00:00",
          "2021-11-01T00:00:00",
          "2021-12-01T00:00:00",
          "2022-01-01T00:00:00",
          "2022-02-01T00:00:00",
          "2022-03-01T00:00:00",
          "2022-04-01T00:00:00",
          "2022-05-01T00:00:00",
          "2022-06-01T00:00:00",
          "2022-07-01T00:00:00",
          "2022-08-01T00:00:00",
          "2022-09-01T00:00:00",
          "2022-10-01T00:00:00",
          "2022-11-01T00:00:00",
          "2022-12-01T00:00:00",
          "2023-01-01T00:00:00",
          "2023-02-01T00:00:00",
          "2023-03-01T00:00:00",
          "2023-04-01T00:00:00",
          "2023-05-01T00:00:00",
          "2023-06-01T00:00:00",
          "2023-07-01T00:00:00",
          "2023-08-01T00:00:00",
          "2023-09-01T00:00:00",
          "2023-10-01T00:00:00",
          "2023-11-01T00:00:00",
          "2023-12-01T00:00:00"
         ],
         "xaxis": "x",
         "y": [
          1.691,
          1.67,
          1.496,
          1.669,
          1.623,
          1.652,
          1.652,
          1.664,
          1.677,
          1.694,
          1.694,
          1.693,
          1.674,
          1.671,
          1.489,
          1.62,
          1.513,
          1.42,
          1.459,
          1.456,
          1.466,
          1.466,
          1.453,
          1.438,
          1.424,
          1.447,
          1.428,
          1.352,
          1.357,
          1.349,
          1.35,
          1.373,
          1.374,
          1.383,
          1.377,
          1.373,
          1.4,
          1.394,
          1.393,
          1.366,
          1.374,
          1.35,
          1.349,
          1.344,
          1.318,
          1.332,
          1.32,
          1.338,
          1.344,
          1.345,
          1.337,
          1.339,
          1.326,
          1.34,
          1.349,
          1.348,
          1.32,
          1.319,
          1.391,
          1.441,
          1.423,
          1.437,
          1.444,
          1.453,
          1.469,
          1.487,
          1.469,
          1.468,
          1.432,
          1.444,
          1.454,
          1.442,
          1.446,
          1.435,
          1.459,
          1.462,
          1.465,
          1.467,
          1.484,
          1.478,
          1.468,
          1.468,
          1.54,
          1.557,
          1.563,
          1.567,
          1.548,
          1.534,
          1.473,
          1.337,
          1.32,
          1.332,
          1.322,
          1.305,
          1.092,
          1.072,
          1.06,
          1.111,
          1.104,
          1.122,
          1.129,
          1.228,
          1.266,
          1.263,
          1.259,
          1.257,
          1.267,
          1.242,
          1.238,
          1.323,
          1.35,
          1.335,
          1.343,
          1.339,
          1.355,
          1.357,
          1.343,
          1.345,
          1.359,
          1.32,
          1.33,
          1.359,
          1.371,
          1.362,
          1.375,
          1.364,
          1.355,
          1.369,
          1.38,
          1.356,
          1.368,
          1.373,
          1.369,
          1.368,
          1.394,
          1.375,
          1.377,
          1.374,
          1.376,
          1.38,
          1.378,
          1.373,
          1.367,
          1.374,
          1.366,
          1.371,
          1.375,
          1.374,
          1.372,
          1.37,
          1.373,
          1.371,
          1.357,
          1.361,
          1.362,
          1.363,
          1.363,
          1.362,
          1.361,
          1.369,
          1.362,
          1.361,
          1.363,
          1.365,
          1.37,
          1.378,
          1.387,
          1.382,
          1.389,
          1.382,
          1.385,
          1.393,
          1.396,
          1.393,
          1.399,
          1.405,
          1.41,
          1.411,
          1.403,
          1.406,
          1.411,
          1.414,
          1.407,
          1.405,
          1.413,
          1.404,
          1.406,
          1.411,
          1.412,
          1.411,
          1.412,
          1.411,
          1.405,
          1.406,
          1.405,
          1.4,
          1.399,
          1.404,
          1.404,
          1.403,
          1.404,
          1.401,
          1.406,
          1.396,
          1.388,
          1.402,
          1.401,
          1.407,
          1.407,
          1.403,
          1.404,
          1.404,
          1.401,
          1.402,
          1.398,
          1.402,
          1.405,
          1.414,
          1.418,
          1.399,
          1.373,
          1.336,
          1.476,
          1.377,
          1.408,
          1.463,
          1.464,
          1.465,
          1.293,
          1.443,
          1.443,
          1.422,
          1.531,
          1.531,
          1.531,
          1.493,
          1.435,
          1.494,
          1.531,
          1.531,
          1.395,
          1.495,
          1.484,
          1.503,
          1.519,
          1.525,
          1.527,
          1.549,
          1.56,
          1.602,
          1.631,
          1.676,
          1.677,
          1.689,
          1.689,
          1.689,
          1.699,
          1.699,
          1.694,
          1.698,
          1.66,
          1.72,
          1.728,
          1.732
         ],
         "yaxis": "y"
        }
       ],
       "layout": {
        "legend": {
         "tracegroupgap": 0
        },
        "template": {
         "data": {
          "bar": [
           {
            "error_x": {
             "color": "#2a3f5f"
            },
            "error_y": {
             "color": "#2a3f5f"
            },
            "marker": {
             "line": {
              "color": "#E5ECF6",
              "width": 0.5
             },
             "pattern": {
              "fillmode": "overlay",
              "size": 10,
              "solidity": 0.2
             }
            },
            "type": "bar"
           }
          ],
          "barpolar": [
           {
            "marker": {
             "line": {
              "color": "#E5ECF6",
              "width": 0.5
             },
             "pattern": {
              "fillmode": "overlay",
              "size": 10,
              "solidity": 0.2
             }
            },
            "type": "barpolar"
           }
          ],
          "carpet": [
           {
            "aaxis": {
             "endlinecolor": "#2a3f5f",
             "gridcolor": "white",
             "linecolor": "white",
             "minorgridcolor": "white",
             "startlinecolor": "#2a3f5f"
            },
            "baxis": {
             "endlinecolor": "#2a3f5f",
             "gridcolor": "white",
             "linecolor": "white",
             "minorgridcolor": "white",
             "startlinecolor": "#2a3f5f"
            },
            "type": "carpet"
           }
          ],
          "choropleth": [
           {
            "colorbar": {
             "outlinewidth": 0,
             "ticks": ""
            },
            "type": "choropleth"
           }
          ],
          "contour": [
           {
            "colorbar": {
             "outlinewidth": 0,
             "ticks": ""
            },
            "colorscale": [
             [
              0,
              "#0d0887"
             ],
             [
              0.1111111111111111,
              "#46039f"
             ],
             [
              0.2222222222222222,
              "#7201a8"
             ],
             [
              0.3333333333333333,
              "#9c179e"
             ],
             [
              0.4444444444444444,
              "#bd3786"
             ],
             [
              0.5555555555555556,
              "#d8576b"
             ],
             [
              0.6666666666666666,
              "#ed7953"
             ],
             [
              0.7777777777777778,
              "#fb9f3a"
             ],
             [
              0.8888888888888888,
              "#fdca26"
             ],
             [
              1,
              "#f0f921"
             ]
            ],
            "type": "contour"
           }
          ],
          "contourcarpet": [
           {
            "colorbar": {
             "outlinewidth": 0,
             "ticks": ""
            },
            "type": "contourcarpet"
           }
          ],
          "heatmap": [
           {
            "colorbar": {
             "outlinewidth": 0,
             "ticks": ""
            },
            "colorscale": [
             [
              0,
              "#0d0887"
             ],
             [
              0.1111111111111111,
              "#46039f"
             ],
             [
              0.2222222222222222,
              "#7201a8"
             ],
             [
              0.3333333333333333,
              "#9c179e"
             ],
             [
              0.4444444444444444,
              "#bd3786"
             ],
             [
              0.5555555555555556,
              "#d8576b"
             ],
             [
              0.6666666666666666,
              "#ed7953"
             ],
             [
              0.7777777777777778,
              "#fb9f3a"
             ],
             [
              0.8888888888888888,
              "#fdca26"
             ],
             [
              1,
              "#f0f921"
             ]
            ],
            "type": "heatmap"
           }
          ],
          "heatmapgl": [
           {
            "colorbar": {
             "outlinewidth": 0,
             "ticks": ""
            },
            "colorscale": [
             [
              0,
              "#0d0887"
             ],
             [
              0.1111111111111111,
              "#46039f"
             ],
             [
              0.2222222222222222,
              "#7201a8"
             ],
             [
              0.3333333333333333,
              "#9c179e"
             ],
             [
              0.4444444444444444,
              "#bd3786"
             ],
             [
              0.5555555555555556,
              "#d8576b"
             ],
             [
              0.6666666666666666,
              "#ed7953"
             ],
             [
              0.7777777777777778,
              "#fb9f3a"
             ],
             [
              0.8888888888888888,
              "#fdca26"
             ],
             [
              1,
              "#f0f921"
             ]
            ],
            "type": "heatmapgl"
           }
          ],
          "histogram": [
           {
            "marker": {
             "pattern": {
              "fillmode": "overlay",
              "size": 10,
              "solidity": 0.2
             }
            },
            "type": "histogram"
           }
          ],
          "histogram2d": [
           {
            "colorbar": {
             "outlinewidth": 0,
             "ticks": ""
            },
            "colorscale": [
             [
              0,
              "#0d0887"
             ],
             [
              0.1111111111111111,
              "#46039f"
             ],
             [
              0.2222222222222222,
              "#7201a8"
             ],
             [
              0.3333333333333333,
              "#9c179e"
             ],
             [
              0.4444444444444444,
              "#bd3786"
             ],
             [
              0.5555555555555556,
              "#d8576b"
             ],
             [
              0.6666666666666666,
              "#ed7953"
             ],
             [
              0.7777777777777778,
              "#fb9f3a"
             ],
             [
              0.8888888888888888,
              "#fdca26"
             ],
             [
              1,
              "#f0f921"
             ]
            ],
            "type": "histogram2d"
           }
          ],
          "histogram2dcontour": [
           {
            "colorbar": {
             "outlinewidth": 0,
             "ticks": ""
            },
            "colorscale": [
             [
              0,
              "#0d0887"
             ],
             [
              0.1111111111111111,
              "#46039f"
             ],
             [
              0.2222222222222222,
              "#7201a8"
             ],
             [
              0.3333333333333333,
              "#9c179e"
             ],
             [
              0.4444444444444444,
              "#bd3786"
             ],
             [
              0.5555555555555556,
              "#d8576b"
             ],
             [
              0.6666666666666666,
              "#ed7953"
             ],
             [
              0.7777777777777778,
              "#fb9f3a"
             ],
             [
              0.8888888888888888,
              "#fdca26"
             ],
             [
              1,
              "#f0f921"
             ]
            ],
            "type": "histogram2dcontour"
           }
          ],
          "mesh3d": [
           {
            "colorbar": {
             "outlinewidth": 0,
             "ticks": ""
            },
            "type": "mesh3d"
           }
          ],
          "parcoords": [
           {
            "line": {
             "colorbar": {
              "outlinewidth": 0,
              "ticks": ""
             }
            },
            "type": "parcoords"
           }
          ],
          "pie": [
           {
            "automargin": true,
            "type": "pie"
           }
          ],
          "scatter": [
           {
            "fillpattern": {
             "fillmode": "overlay",
             "size": 10,
             "solidity": 0.2
            },
            "type": "scatter"
           }
          ],
          "scatter3d": [
           {
            "line": {
             "colorbar": {
              "outlinewidth": 0,
              "ticks": ""
             }
            },
            "marker": {
             "colorbar": {
              "outlinewidth": 0,
              "ticks": ""
             }
            },
            "type": "scatter3d"
           }
          ],
          "scattercarpet": [
           {
            "marker": {
             "colorbar": {
              "outlinewidth": 0,
              "ticks": ""
             }
            },
            "type": "scattercarpet"
           }
          ],
          "scattergeo": [
           {
            "marker": {
             "colorbar": {
              "outlinewidth": 0,
              "ticks": ""
             }
            },
            "type": "scattergeo"
           }
          ],
          "scattergl": [
           {
            "marker": {
             "colorbar": {
              "outlinewidth": 0,
              "ticks": ""
             }
            },
            "type": "scattergl"
           }
          ],
          "scattermapbox": [
           {
            "marker": {
             "colorbar": {
              "outlinewidth": 0,
              "ticks": ""
             }
            },
            "type": "scattermapbox"
           }
          ],
          "scatterpolar": [
           {
            "marker": {
             "colorbar": {
              "outlinewidth": 0,
              "ticks": ""
             }
            },
            "type": "scatterpolar"
           }
          ],
          "scatterpolargl": [
           {
            "marker": {
             "colorbar": {
              "outlinewidth": 0,
              "ticks": ""
             }
            },
            "type": "scatterpolargl"
           }
          ],
          "scatterternary": [
           {
            "marker": {
             "colorbar": {
              "outlinewidth": 0,
              "ticks": ""
             }
            },
            "type": "scatterternary"
           }
          ],
          "surface": [
           {
            "colorbar": {
             "outlinewidth": 0,
             "ticks": ""
            },
            "colorscale": [
             [
              0,
              "#0d0887"
             ],
             [
              0.1111111111111111,
              "#46039f"
             ],
             [
              0.2222222222222222,
              "#7201a8"
             ],
             [
              0.3333333333333333,
              "#9c179e"
             ],
             [
              0.4444444444444444,
              "#bd3786"
             ],
             [
              0.5555555555555556,
              "#d8576b"
             ],
             [
              0.6666666666666666,
              "#ed7953"
             ],
             [
              0.7777777777777778,
              "#fb9f3a"
             ],
             [
              0.8888888888888888,
              "#fdca26"
             ],
             [
              1,
              "#f0f921"
             ]
            ],
            "type": "surface"
           }
          ],
          "table": [
           {
            "cells": {
             "fill": {
              "color": "#EBF0F8"
             },
             "line": {
              "color": "white"
             }
            },
            "header": {
             "fill": {
              "color": "#C8D4E3"
             },
             "line": {
              "color": "white"
             }
            },
            "type": "table"
           }
          ]
         },
         "layout": {
          "annotationdefaults": {
           "arrowcolor": "#2a3f5f",
           "arrowhead": 0,
           "arrowwidth": 1
          },
          "autotypenumbers": "strict",
          "coloraxis": {
           "colorbar": {
            "outlinewidth": 0,
            "ticks": ""
           }
          },
          "colorscale": {
           "diverging": [
            [
             0,
             "#8e0152"
            ],
            [
             0.1,
             "#c51b7d"
            ],
            [
             0.2,
             "#de77ae"
            ],
            [
             0.3,
             "#f1b6da"
            ],
            [
             0.4,
             "#fde0ef"
            ],
            [
             0.5,
             "#f7f7f7"
            ],
            [
             0.6,
             "#e6f5d0"
            ],
            [
             0.7,
             "#b8e186"
            ],
            [
             0.8,
             "#7fbc41"
            ],
            [
             0.9,
             "#4d9221"
            ],
            [
             1,
             "#276419"
            ]
           ],
           "sequential": [
            [
             0,
             "#0d0887"
            ],
            [
             0.1111111111111111,
             "#46039f"
            ],
            [
             0.2222222222222222,
             "#7201a8"
            ],
            [
             0.3333333333333333,
             "#9c179e"
            ],
            [
             0.4444444444444444,
             "#bd3786"
            ],
            [
             0.5555555555555556,
             "#d8576b"
            ],
            [
             0.6666666666666666,
             "#ed7953"
            ],
            [
             0.7777777777777778,
             "#fb9f3a"
            ],
            [
             0.8888888888888888,
             "#fdca26"
            ],
            [
             1,
             "#f0f921"
            ]
           ],
           "sequentialminus": [
            [
             0,
             "#0d0887"
            ],
            [
             0.1111111111111111,
             "#46039f"
            ],
            [
             0.2222222222222222,
             "#7201a8"
            ],
            [
             0.3333333333333333,
             "#9c179e"
            ],
            [
             0.4444444444444444,
             "#bd3786"
            ],
            [
             0.5555555555555556,
             "#d8576b"
            ],
            [
             0.6666666666666666,
             "#ed7953"
            ],
            [
             0.7777777777777778,
             "#fb9f3a"
            ],
            [
             0.8888888888888888,
             "#fdca26"
            ],
            [
             1,
             "#f0f921"
            ]
           ]
          },
          "colorway": [
           "#636efa",
           "#EF553B",
           "#00cc96",
           "#ab63fa",
           "#FFA15A",
           "#19d3f3",
           "#FF6692",
           "#B6E880",
           "#FF97FF",
           "#FECB52"
          ],
          "font": {
           "color": "#2a3f5f"
          },
          "geo": {
           "bgcolor": "white",
           "lakecolor": "white",
           "landcolor": "#E5ECF6",
           "showlakes": true,
           "showland": true,
           "subunitcolor": "white"
          },
          "hoverlabel": {
           "align": "left"
          },
          "hovermode": "closest",
          "mapbox": {
           "style": "light"
          },
          "paper_bgcolor": "white",
          "plot_bgcolor": "#E5ECF6",
          "polar": {
           "angularaxis": {
            "gridcolor": "white",
            "linecolor": "white",
            "ticks": ""
           },
           "bgcolor": "#E5ECF6",
           "radialaxis": {
            "gridcolor": "white",
            "linecolor": "white",
            "ticks": ""
           }
          },
          "scene": {
           "xaxis": {
            "backgroundcolor": "#E5ECF6",
            "gridcolor": "white",
            "gridwidth": 2,
            "linecolor": "white",
            "showbackground": true,
            "ticks": "",
            "zerolinecolor": "white"
           },
           "yaxis": {
            "backgroundcolor": "#E5ECF6",
            "gridcolor": "white",
            "gridwidth": 2,
            "linecolor": "white",
            "showbackground": true,
            "ticks": "",
            "zerolinecolor": "white"
           },
           "zaxis": {
            "backgroundcolor": "#E5ECF6",
            "gridcolor": "white",
            "gridwidth": 2,
            "linecolor": "white",
            "showbackground": true,
            "ticks": "",
            "zerolinecolor": "white"
           }
          },
          "shapedefaults": {
           "line": {
            "color": "#2a3f5f"
           }
          },
          "ternary": {
           "aaxis": {
            "gridcolor": "white",
            "linecolor": "white",
            "ticks": ""
           },
           "baxis": {
            "gridcolor": "white",
            "linecolor": "white",
            "ticks": ""
           },
           "bgcolor": "#E5ECF6",
           "caxis": {
            "gridcolor": "white",
            "linecolor": "white",
            "ticks": ""
           }
          },
          "title": {
           "x": 0.05
          },
          "xaxis": {
           "automargin": true,
           "gridcolor": "white",
           "linecolor": "white",
           "ticks": "",
           "title": {
            "standoff": 15
           },
           "zerolinecolor": "white",
           "zerolinewidth": 2
          },
          "yaxis": {
           "automargin": true,
           "gridcolor": "white",
           "linecolor": "white",
           "ticks": "",
           "title": {
            "standoff": 15
           },
           "zerolinecolor": "white",
           "zerolinewidth": 2
          }
         }
        },
        "title": {
         "text": "Line Plot of Date vs. National Average Price(Euros)"
        },
        "xaxis": {
         "anchor": "y",
         "domain": [
          0,
          1
         ],
         "title": {
          "text": "Date"
         }
        },
        "yaxis": {
         "anchor": "x",
         "domain": [
          0,
          1
         ],
         "title": {
          "text": "National Average Price(Euros)"
         }
        }
       }
      },
      "text/html": [
       "<div>                            <div id=\"3c4260fc-814f-49d9-bd9e-ad49606f7485\" class=\"plotly-graph-div\" style=\"height:525px; width:100%;\"></div>            <script type=\"text/javascript\">                require([\"plotly\"], function(Plotly) {                    window.PLOTLYENV=window.PLOTLYENV || {};                                    if (document.getElementById(\"3c4260fc-814f-49d9-bd9e-ad49606f7485\")) {                    Plotly.newPlot(                        \"3c4260fc-814f-49d9-bd9e-ad49606f7485\",                        [{\"hovertemplate\":\"date=%{x}<br>National Average Price(Euros)=%{y}<extra></extra>\",\"legendgroup\":\"\",\"line\":{\"color\":\"#636efa\",\"dash\":\"solid\"},\"marker\":{\"symbol\":\"circle\"},\"mode\":\"lines\",\"name\":\"\",\"orientation\":\"v\",\"showlegend\":false,\"x\":[\"2002-01-01T00:00:00\",\"2002-02-01T00:00:00\",\"2002-03-01T00:00:00\",\"2002-04-01T00:00:00\",\"2002-05-01T00:00:00\",\"2002-06-01T00:00:00\",\"2002-07-01T00:00:00\",\"2002-08-01T00:00:00\",\"2002-09-01T00:00:00\",\"2002-10-01T00:00:00\",\"2002-11-01T00:00:00\",\"2002-12-01T00:00:00\",\"2003-01-01T00:00:00\",\"2003-02-01T00:00:00\",\"2003-03-01T00:00:00\",\"2003-04-01T00:00:00\",\"2003-05-01T00:00:00\",\"2003-06-01T00:00:00\",\"2003-07-01T00:00:00\",\"2003-08-01T00:00:00\",\"2003-09-01T00:00:00\",\"2003-10-01T00:00:00\",\"2003-11-01T00:00:00\",\"2003-12-01T00:00:00\",\"2004-01-01T00:00:00\",\"2004-02-01T00:00:00\",\"2004-03-01T00:00:00\",\"2004-04-01T00:00:00\",\"2004-05-01T00:00:00\",\"2004-06-01T00:00:00\",\"2004-07-01T00:00:00\",\"2004-08-01T00:00:00\",\"2004-09-01T00:00:00\",\"2004-10-01T00:00:00\",\"2004-11-01T00:00:00\",\"2004-12-01T00:00:00\",\"2005-01-01T00:00:00\",\"2005-02-01T00:00:00\",\"2005-03-01T00:00:00\",\"2005-04-01T00:00:00\",\"2005-05-01T00:00:00\",\"2005-06-01T00:00:00\",\"2005-07-01T00:00:00\",\"2005-08-01T00:00:00\",\"2005-09-01T00:00:00\",\"2005-10-01T00:00:00\",\"2005-11-01T00:00:00\",\"2005-12-01T00:00:00\",\"2006-01-01T00:00:00\",\"2006-02-01T00:00:00\",\"2006-03-01T00:00:00\",\"2006-04-01T00:00:00\",\"2006-05-01T00:00:00\",\"2006-06-01T00:00:00\",\"2006-07-01T00:00:00\",\"2006-08-01T00:00:00\",\"2006-09-01T00:00:00\",\"2006-10-01T00:00:00\",\"2006-11-01T00:00:00\",\"2006-12-01T00:00:00\",\"2007-01-01T00:00:00\",\"2007-02-01T00:00:00\",\"2007-03-01T00:00:00\",\"2007-04-01T00:00:00\",\"2007-05-01T00:00:00\",\"2007-06-01T00:00:00\",\"2007-07-01T00:00:00\",\"2007-08-01T00:00:00\",\"2007-09-01T00:00:00\",\"2007-10-01T00:00:00\",\"2007-11-01T00:00:00\",\"2007-12-01T00:00:00\",\"2008-01-01T00:00:00\",\"2008-02-01T00:00:00\",\"2008-03-01T00:00:00\",\"2008-04-01T00:00:00\",\"2008-05-01T00:00:00\",\"2008-06-01T00:00:00\",\"2008-07-01T00:00:00\",\"2008-08-01T00:00:00\",\"2008-09-01T00:00:00\",\"2008-10-01T00:00:00\",\"2008-11-01T00:00:00\",\"2008-12-01T00:00:00\",\"2009-01-01T00:00:00\",\"2009-02-01T00:00:00\",\"2009-03-01T00:00:00\",\"2009-04-01T00:00:00\",\"2009-05-01T00:00:00\",\"2009-06-01T00:00:00\",\"2009-07-01T00:00:00\",\"2009-08-01T00:00:00\",\"2009-09-01T00:00:00\",\"2009-10-01T00:00:00\",\"2009-11-01T00:00:00\",\"2009-12-01T00:00:00\",\"2010-01-01T00:00:00\",\"2010-02-01T00:00:00\",\"2010-03-01T00:00:00\",\"2010-04-01T00:00:00\",\"2010-05-01T00:00:00\",\"2010-06-01T00:00:00\",\"2010-07-01T00:00:00\",\"2010-08-01T00:00:00\",\"2010-09-01T00:00:00\",\"2010-10-01T00:00:00\",\"2010-11-01T00:00:00\",\"2010-12-01T00:00:00\",\"2011-01-01T00:00:00\",\"2011-02-01T00:00:00\",\"2011-03-01T00:00:00\",\"2011-04-01T00:00:00\",\"2011-05-01T00:00:00\",\"2011-06-01T00:00:00\",\"2011-07-01T00:00:00\",\"2011-08-01T00:00:00\",\"2011-09-01T00:00:00\",\"2011-10-01T00:00:00\",\"2011-11-01T00:00:00\",\"2011-12-01T00:00:00\",\"2012-01-01T00:00:00\",\"2012-02-01T00:00:00\",\"2012-03-01T00:00:00\",\"2012-04-01T00:00:00\",\"2012-05-01T00:00:00\",\"2012-06-01T00:00:00\",\"2012-07-01T00:00:00\",\"2012-08-01T00:00:00\",\"2012-09-01T00:00:00\",\"2012-10-01T00:00:00\",\"2012-11-01T00:00:00\",\"2012-12-01T00:00:00\",\"2013-01-01T00:00:00\",\"2013-02-01T00:00:00\",\"2013-03-01T00:00:00\",\"2013-04-01T00:00:00\",\"2013-05-01T00:00:00\",\"2013-06-01T00:00:00\",\"2013-07-01T00:00:00\",\"2013-08-01T00:00:00\",\"2013-09-01T00:00:00\",\"2013-10-01T00:00:00\",\"2013-11-01T00:00:00\",\"2013-12-01T00:00:00\",\"2014-01-01T00:00:00\",\"2014-02-01T00:00:00\",\"2014-03-01T00:00:00\",\"2014-04-01T00:00:00\",\"2014-05-01T00:00:00\",\"2014-06-01T00:00:00\",\"2014-07-01T00:00:00\",\"2014-08-01T00:00:00\",\"2014-09-01T00:00:00\",\"2014-10-01T00:00:00\",\"2014-11-01T00:00:00\",\"2014-12-01T00:00:00\",\"2015-01-01T00:00:00\",\"2015-02-01T00:00:00\",\"2015-03-01T00:00:00\",\"2015-04-01T00:00:00\",\"2015-05-01T00:00:00\",\"2015-06-01T00:00:00\",\"2015-07-01T00:00:00\",\"2015-08-01T00:00:00\",\"2015-09-01T00:00:00\",\"2015-10-01T00:00:00\",\"2015-11-01T00:00:00\",\"2015-12-01T00:00:00\",\"2016-01-01T00:00:00\",\"2016-02-01T00:00:00\",\"2016-03-01T00:00:00\",\"2016-04-01T00:00:00\",\"2016-05-01T00:00:00\",\"2016-06-01T00:00:00\",\"2016-07-01T00:00:00\",\"2016-08-01T00:00:00\",\"2016-09-01T00:00:00\",\"2016-10-01T00:00:00\",\"2016-11-01T00:00:00\",\"2016-12-01T00:00:00\",\"2017-01-01T00:00:00\",\"2017-02-01T00:00:00\",\"2017-03-01T00:00:00\",\"2017-04-01T00:00:00\",\"2017-05-01T00:00:00\",\"2017-06-01T00:00:00\",\"2017-07-01T00:00:00\",\"2017-08-01T00:00:00\",\"2017-09-01T00:00:00\",\"2017-10-01T00:00:00\",\"2017-11-01T00:00:00\",\"2017-12-01T00:00:00\",\"2018-01-01T00:00:00\",\"2018-02-01T00:00:00\",\"2018-03-01T00:00:00\",\"2018-04-01T00:00:00\",\"2018-05-01T00:00:00\",\"2018-06-01T00:00:00\",\"2018-07-01T00:00:00\",\"2018-08-01T00:00:00\",\"2018-09-01T00:00:00\",\"2018-10-01T00:00:00\",\"2018-11-01T00:00:00\",\"2018-12-01T00:00:00\",\"2019-01-01T00:00:00\",\"2019-02-01T00:00:00\",\"2019-03-01T00:00:00\",\"2019-04-01T00:00:00\",\"2019-05-01T00:00:00\",\"2019-06-01T00:00:00\",\"2019-07-01T00:00:00\",\"2019-08-01T00:00:00\",\"2019-09-01T00:00:00\",\"2019-10-01T00:00:00\",\"2019-11-01T00:00:00\",\"2019-12-01T00:00:00\",\"2020-01-01T00:00:00\",\"2020-02-01T00:00:00\",\"2020-03-01T00:00:00\",\"2020-04-01T00:00:00\",\"2020-05-01T00:00:00\",\"2020-06-01T00:00:00\",\"2020-07-01T00:00:00\",\"2020-08-01T00:00:00\",\"2020-09-01T00:00:00\",\"2020-10-01T00:00:00\",\"2020-11-01T00:00:00\",\"2020-12-01T00:00:00\",\"2021-01-01T00:00:00\",\"2021-02-01T00:00:00\",\"2021-03-01T00:00:00\",\"2021-04-01T00:00:00\",\"2021-05-01T00:00:00\",\"2021-06-01T00:00:00\",\"2021-07-01T00:00:00\",\"2021-08-01T00:00:00\",\"2021-09-01T00:00:00\",\"2021-10-01T00:00:00\",\"2021-11-01T00:00:00\",\"2021-12-01T00:00:00\",\"2022-01-01T00:00:00\",\"2022-02-01T00:00:00\",\"2022-03-01T00:00:00\",\"2022-04-01T00:00:00\",\"2022-05-01T00:00:00\",\"2022-06-01T00:00:00\",\"2022-07-01T00:00:00\",\"2022-08-01T00:00:00\",\"2022-09-01T00:00:00\",\"2022-10-01T00:00:00\",\"2022-11-01T00:00:00\",\"2022-12-01T00:00:00\",\"2023-01-01T00:00:00\",\"2023-02-01T00:00:00\",\"2023-03-01T00:00:00\",\"2023-04-01T00:00:00\",\"2023-05-01T00:00:00\",\"2023-06-01T00:00:00\",\"2023-07-01T00:00:00\",\"2023-08-01T00:00:00\",\"2023-09-01T00:00:00\",\"2023-10-01T00:00:00\",\"2023-11-01T00:00:00\",\"2023-12-01T00:00:00\"],\"xaxis\":\"x\",\"y\":[1.691,1.67,1.496,1.669,1.623,1.652,1.652,1.664,1.677,1.694,1.694,1.693,1.674,1.671,1.489,1.62,1.513,1.42,1.459,1.456,1.466,1.466,1.453,1.438,1.424,1.447,1.428,1.352,1.357,1.349,1.35,1.373,1.374,1.383,1.377,1.373,1.4,1.394,1.393,1.366,1.374,1.35,1.349,1.344,1.318,1.332,1.32,1.338,1.344,1.345,1.337,1.339,1.326,1.34,1.349,1.348,1.32,1.319,1.391,1.441,1.423,1.437,1.444,1.453,1.469,1.487,1.469,1.468,1.432,1.444,1.454,1.442,1.446,1.435,1.459,1.462,1.465,1.467,1.484,1.478,1.468,1.468,1.54,1.557,1.563,1.567,1.548,1.534,1.473,1.337,1.32,1.332,1.322,1.305,1.092,1.072,1.06,1.111,1.104,1.122,1.129,1.228,1.266,1.263,1.259,1.257,1.267,1.242,1.238,1.323,1.35,1.335,1.343,1.339,1.355,1.357,1.343,1.345,1.359,1.32,1.33,1.359,1.371,1.362,1.375,1.364,1.355,1.369,1.38,1.356,1.368,1.373,1.369,1.368,1.394,1.375,1.377,1.374,1.376,1.38,1.378,1.373,1.367,1.374,1.366,1.371,1.375,1.374,1.372,1.37,1.373,1.371,1.357,1.361,1.362,1.363,1.363,1.362,1.361,1.369,1.362,1.361,1.363,1.365,1.37,1.378,1.387,1.382,1.389,1.382,1.385,1.393,1.396,1.393,1.399,1.405,1.41,1.411,1.403,1.406,1.411,1.414,1.407,1.405,1.413,1.404,1.406,1.411,1.412,1.411,1.412,1.411,1.405,1.406,1.405,1.4,1.399,1.404,1.404,1.403,1.404,1.401,1.406,1.396,1.388,1.402,1.401,1.407,1.407,1.403,1.404,1.404,1.401,1.402,1.398,1.402,1.405,1.414,1.418,1.399,1.373,1.336,1.476,1.377,1.408,1.463,1.464,1.465,1.293,1.443,1.443,1.422,1.531,1.531,1.531,1.493,1.435,1.494,1.531,1.531,1.395,1.495,1.484,1.503,1.519,1.525,1.527,1.549,1.56,1.602,1.631,1.676,1.677,1.689,1.689,1.689,1.699,1.699,1.694,1.698,1.66,1.72,1.728,1.732],\"yaxis\":\"y\",\"type\":\"scatter\"}],                        {\"template\":{\"data\":{\"histogram2dcontour\":[{\"type\":\"histogram2dcontour\",\"colorbar\":{\"outlinewidth\":0,\"ticks\":\"\"},\"colorscale\":[[0.0,\"#0d0887\"],[0.1111111111111111,\"#46039f\"],[0.2222222222222222,\"#7201a8\"],[0.3333333333333333,\"#9c179e\"],[0.4444444444444444,\"#bd3786\"],[0.5555555555555556,\"#d8576b\"],[0.6666666666666666,\"#ed7953\"],[0.7777777777777778,\"#fb9f3a\"],[0.8888888888888888,\"#fdca26\"],[1.0,\"#f0f921\"]]}],\"choropleth\":[{\"type\":\"choropleth\",\"colorbar\":{\"outlinewidth\":0,\"ticks\":\"\"}}],\"histogram2d\":[{\"type\":\"histogram2d\",\"colorbar\":{\"outlinewidth\":0,\"ticks\":\"\"},\"colorscale\":[[0.0,\"#0d0887\"],[0.1111111111111111,\"#46039f\"],[0.2222222222222222,\"#7201a8\"],[0.3333333333333333,\"#9c179e\"],[0.4444444444444444,\"#bd3786\"],[0.5555555555555556,\"#d8576b\"],[0.6666666666666666,\"#ed7953\"],[0.7777777777777778,\"#fb9f3a\"],[0.8888888888888888,\"#fdca26\"],[1.0,\"#f0f921\"]]}],\"heatmap\":[{\"type\":\"heatmap\",\"colorbar\":{\"outlinewidth\":0,\"ticks\":\"\"},\"colorscale\":[[0.0,\"#0d0887\"],[0.1111111111111111,\"#46039f\"],[0.2222222222222222,\"#7201a8\"],[0.3333333333333333,\"#9c179e\"],[0.4444444444444444,\"#bd3786\"],[0.5555555555555556,\"#d8576b\"],[0.6666666666666666,\"#ed7953\"],[0.7777777777777778,\"#fb9f3a\"],[0.8888888888888888,\"#fdca26\"],[1.0,\"#f0f921\"]]}],\"heatmapgl\":[{\"type\":\"heatmapgl\",\"colorbar\":{\"outlinewidth\":0,\"ticks\":\"\"},\"colorscale\":[[0.0,\"#0d0887\"],[0.1111111111111111,\"#46039f\"],[0.2222222222222222,\"#7201a8\"],[0.3333333333333333,\"#9c179e\"],[0.4444444444444444,\"#bd3786\"],[0.5555555555555556,\"#d8576b\"],[0.6666666666666666,\"#ed7953\"],[0.7777777777777778,\"#fb9f3a\"],[0.8888888888888888,\"#fdca26\"],[1.0,\"#f0f921\"]]}],\"contourcarpet\":[{\"type\":\"contourcarpet\",\"colorbar\":{\"outlinewidth\":0,\"ticks\":\"\"}}],\"contour\":[{\"type\":\"contour\",\"colorbar\":{\"outlinewidth\":0,\"ticks\":\"\"},\"colorscale\":[[0.0,\"#0d0887\"],[0.1111111111111111,\"#46039f\"],[0.2222222222222222,\"#7201a8\"],[0.3333333333333333,\"#9c179e\"],[0.4444444444444444,\"#bd3786\"],[0.5555555555555556,\"#d8576b\"],[0.6666666666666666,\"#ed7953\"],[0.7777777777777778,\"#fb9f3a\"],[0.8888888888888888,\"#fdca26\"],[1.0,\"#f0f921\"]]}],\"surface\":[{\"type\":\"surface\",\"colorbar\":{\"outlinewidth\":0,\"ticks\":\"\"},\"colorscale\":[[0.0,\"#0d0887\"],[0.1111111111111111,\"#46039f\"],[0.2222222222222222,\"#7201a8\"],[0.3333333333333333,\"#9c179e\"],[0.4444444444444444,\"#bd3786\"],[0.5555555555555556,\"#d8576b\"],[0.6666666666666666,\"#ed7953\"],[0.7777777777777778,\"#fb9f3a\"],[0.8888888888888888,\"#fdca26\"],[1.0,\"#f0f921\"]]}],\"mesh3d\":[{\"type\":\"mesh3d\",\"colorbar\":{\"outlinewidth\":0,\"ticks\":\"\"}}],\"scatter\":[{\"fillpattern\":{\"fillmode\":\"overlay\",\"size\":10,\"solidity\":0.2},\"type\":\"scatter\"}],\"parcoords\":[{\"type\":\"parcoords\",\"line\":{\"colorbar\":{\"outlinewidth\":0,\"ticks\":\"\"}}}],\"scatterpolargl\":[{\"type\":\"scatterpolargl\",\"marker\":{\"colorbar\":{\"outlinewidth\":0,\"ticks\":\"\"}}}],\"bar\":[{\"error_x\":{\"color\":\"#2a3f5f\"},\"error_y\":{\"color\":\"#2a3f5f\"},\"marker\":{\"line\":{\"color\":\"#E5ECF6\",\"width\":0.5},\"pattern\":{\"fillmode\":\"overlay\",\"size\":10,\"solidity\":0.2}},\"type\":\"bar\"}],\"scattergeo\":[{\"type\":\"scattergeo\",\"marker\":{\"colorbar\":{\"outlinewidth\":0,\"ticks\":\"\"}}}],\"scatterpolar\":[{\"type\":\"scatterpolar\",\"marker\":{\"colorbar\":{\"outlinewidth\":0,\"ticks\":\"\"}}}],\"histogram\":[{\"marker\":{\"pattern\":{\"fillmode\":\"overlay\",\"size\":10,\"solidity\":0.2}},\"type\":\"histogram\"}],\"scattergl\":[{\"type\":\"scattergl\",\"marker\":{\"colorbar\":{\"outlinewidth\":0,\"ticks\":\"\"}}}],\"scatter3d\":[{\"type\":\"scatter3d\",\"line\":{\"colorbar\":{\"outlinewidth\":0,\"ticks\":\"\"}},\"marker\":{\"colorbar\":{\"outlinewidth\":0,\"ticks\":\"\"}}}],\"scattermapbox\":[{\"type\":\"scattermapbox\",\"marker\":{\"colorbar\":{\"outlinewidth\":0,\"ticks\":\"\"}}}],\"scatterternary\":[{\"type\":\"scatterternary\",\"marker\":{\"colorbar\":{\"outlinewidth\":0,\"ticks\":\"\"}}}],\"scattercarpet\":[{\"type\":\"scattercarpet\",\"marker\":{\"colorbar\":{\"outlinewidth\":0,\"ticks\":\"\"}}}],\"carpet\":[{\"aaxis\":{\"endlinecolor\":\"#2a3f5f\",\"gridcolor\":\"white\",\"linecolor\":\"white\",\"minorgridcolor\":\"white\",\"startlinecolor\":\"#2a3f5f\"},\"baxis\":{\"endlinecolor\":\"#2a3f5f\",\"gridcolor\":\"white\",\"linecolor\":\"white\",\"minorgridcolor\":\"white\",\"startlinecolor\":\"#2a3f5f\"},\"type\":\"carpet\"}],\"table\":[{\"cells\":{\"fill\":{\"color\":\"#EBF0F8\"},\"line\":{\"color\":\"white\"}},\"header\":{\"fill\":{\"color\":\"#C8D4E3\"},\"line\":{\"color\":\"white\"}},\"type\":\"table\"}],\"barpolar\":[{\"marker\":{\"line\":{\"color\":\"#E5ECF6\",\"width\":0.5},\"pattern\":{\"fillmode\":\"overlay\",\"size\":10,\"solidity\":0.2}},\"type\":\"barpolar\"}],\"pie\":[{\"automargin\":true,\"type\":\"pie\"}]},\"layout\":{\"autotypenumbers\":\"strict\",\"colorway\":[\"#636efa\",\"#EF553B\",\"#00cc96\",\"#ab63fa\",\"#FFA15A\",\"#19d3f3\",\"#FF6692\",\"#B6E880\",\"#FF97FF\",\"#FECB52\"],\"font\":{\"color\":\"#2a3f5f\"},\"hovermode\":\"closest\",\"hoverlabel\":{\"align\":\"left\"},\"paper_bgcolor\":\"white\",\"plot_bgcolor\":\"#E5ECF6\",\"polar\":{\"bgcolor\":\"#E5ECF6\",\"angularaxis\":{\"gridcolor\":\"white\",\"linecolor\":\"white\",\"ticks\":\"\"},\"radialaxis\":{\"gridcolor\":\"white\",\"linecolor\":\"white\",\"ticks\":\"\"}},\"ternary\":{\"bgcolor\":\"#E5ECF6\",\"aaxis\":{\"gridcolor\":\"white\",\"linecolor\":\"white\",\"ticks\":\"\"},\"baxis\":{\"gridcolor\":\"white\",\"linecolor\":\"white\",\"ticks\":\"\"},\"caxis\":{\"gridcolor\":\"white\",\"linecolor\":\"white\",\"ticks\":\"\"}},\"coloraxis\":{\"colorbar\":{\"outlinewidth\":0,\"ticks\":\"\"}},\"colorscale\":{\"sequential\":[[0.0,\"#0d0887\"],[0.1111111111111111,\"#46039f\"],[0.2222222222222222,\"#7201a8\"],[0.3333333333333333,\"#9c179e\"],[0.4444444444444444,\"#bd3786\"],[0.5555555555555556,\"#d8576b\"],[0.6666666666666666,\"#ed7953\"],[0.7777777777777778,\"#fb9f3a\"],[0.8888888888888888,\"#fdca26\"],[1.0,\"#f0f921\"]],\"sequentialminus\":[[0.0,\"#0d0887\"],[0.1111111111111111,\"#46039f\"],[0.2222222222222222,\"#7201a8\"],[0.3333333333333333,\"#9c179e\"],[0.4444444444444444,\"#bd3786\"],[0.5555555555555556,\"#d8576b\"],[0.6666666666666666,\"#ed7953\"],[0.7777777777777778,\"#fb9f3a\"],[0.8888888888888888,\"#fdca26\"],[1.0,\"#f0f921\"]],\"diverging\":[[0,\"#8e0152\"],[0.1,\"#c51b7d\"],[0.2,\"#de77ae\"],[0.3,\"#f1b6da\"],[0.4,\"#fde0ef\"],[0.5,\"#f7f7f7\"],[0.6,\"#e6f5d0\"],[0.7,\"#b8e186\"],[0.8,\"#7fbc41\"],[0.9,\"#4d9221\"],[1,\"#276419\"]]},\"xaxis\":{\"gridcolor\":\"white\",\"linecolor\":\"white\",\"ticks\":\"\",\"title\":{\"standoff\":15},\"zerolinecolor\":\"white\",\"automargin\":true,\"zerolinewidth\":2},\"yaxis\":{\"gridcolor\":\"white\",\"linecolor\":\"white\",\"ticks\":\"\",\"title\":{\"standoff\":15},\"zerolinecolor\":\"white\",\"automargin\":true,\"zerolinewidth\":2},\"scene\":{\"xaxis\":{\"backgroundcolor\":\"#E5ECF6\",\"gridcolor\":\"white\",\"linecolor\":\"white\",\"showbackground\":true,\"ticks\":\"\",\"zerolinecolor\":\"white\",\"gridwidth\":2},\"yaxis\":{\"backgroundcolor\":\"#E5ECF6\",\"gridcolor\":\"white\",\"linecolor\":\"white\",\"showbackground\":true,\"ticks\":\"\",\"zerolinecolor\":\"white\",\"gridwidth\":2},\"zaxis\":{\"backgroundcolor\":\"#E5ECF6\",\"gridcolor\":\"white\",\"linecolor\":\"white\",\"showbackground\":true,\"ticks\":\"\",\"zerolinecolor\":\"white\",\"gridwidth\":2}},\"shapedefaults\":{\"line\":{\"color\":\"#2a3f5f\"}},\"annotationdefaults\":{\"arrowcolor\":\"#2a3f5f\",\"arrowhead\":0,\"arrowwidth\":1},\"geo\":{\"bgcolor\":\"white\",\"landcolor\":\"#E5ECF6\",\"subunitcolor\":\"white\",\"showland\":true,\"showlakes\":true,\"lakecolor\":\"white\"},\"title\":{\"x\":0.05},\"mapbox\":{\"style\":\"light\"}}},\"xaxis\":{\"anchor\":\"y\",\"domain\":[0.0,1.0],\"title\":{\"text\":\"Date\"}},\"yaxis\":{\"anchor\":\"x\",\"domain\":[0.0,1.0],\"title\":{\"text\":\"National Average Price(Euros)\"}},\"legend\":{\"tracegroupgap\":0},\"title\":{\"text\":\"Line Plot of Date vs. National Average Price(Euros)\"}},                        {\"responsive\": true}                    ).then(function(){\n",
       "                            \n",
       "var gd = document.getElementById('3c4260fc-814f-49d9-bd9e-ad49606f7485');\n",
       "var x = new MutationObserver(function (mutations, observer) {{\n",
       "        var display = window.getComputedStyle(gd).display;\n",
       "        if (!display || display === 'none') {{\n",
       "            console.log([gd, 'removed!']);\n",
       "            Plotly.purge(gd);\n",
       "            observer.disconnect();\n",
       "        }}\n",
       "}});\n",
       "\n",
       "// Listen for the removal of the full notebook cells\n",
       "var notebookContainer = gd.closest('#notebook-container');\n",
       "if (notebookContainer) {{\n",
       "    x.observe(notebookContainer, {childList: true});\n",
       "}}\n",
       "\n",
       "// Listen for the clearing of the current output cell\n",
       "var outputEl = gd.closest('.output');\n",
       "if (outputEl) {{\n",
       "    x.observe(outputEl, {childList: true});\n",
       "}}\n",
       "\n",
       "                        })                };                });            </script>        </div>"
      ]
     },
     "metadata": {},
     "output_type": "display_data"
    }
   ],
   "source": [
    "import plotly.express as px\n",
    "\n",
    "# Convert 'date' column to datetime\n",
    "banana_price['date'] = pd.to_datetime(banana_price['date'])\n",
    "\n",
    "# Plotly Express Line Plot\n",
    "fig = px.line(banana_price, x='date', y='National Average Price(Euros)', \n",
    "              title='Line Plot of Date vs. National Average Price(Euros)',\n",
    "              labels={'National Average Price(Euros)': 'National Average Price(Euros)'})\n",
    "\n",
    "# Update x-axis title\n",
    "fig.update_xaxes(title_text='Date')\n",
    "\n",
    "# Show the plot\n",
    "fig.show()"
   ]
  },
  {
   "cell_type": "code",
   "execution_count": 72,
   "id": "de0380c5",
   "metadata": {},
   "outputs": [
    {
     "data": {
      "image/png": "[encoded data removed]",
      "text/plain": [
       "<Figure size 640x480 with 4 Axes>"
      ]
     },
     "execution_count": 72,
     "metadata": {},
     "output_type": "execute_result"
    },
    {
     "data": {
      "image/png": "[encoded data removed]",
      "text/plain": [
       "<Figure size 640x480 with 4 Axes>"
      ]
     },
     "metadata": {},
     "output_type": "display_data"
    }
   ],
   "source": [
    "from statsmodels.tsa.seasonal import seasonal_decompose\n",
    "df = banana_price.set_index('date')\n",
    "results = seasonal_decompose(df['National Average Price(Euros)'])\n",
    "results.plot()"
   ]
  },
  {
   "cell_type": "markdown",
   "id": "85e88e5c",
   "metadata": {},
   "source": [
    "# STATISTICS"
   ]
  },
  {
   "cell_type": "markdown",
   "id": "723b2128",
   "metadata": {},
   "source": [
    "## Normality Test\n",
    "Kolmogrov Sminorv was used because the observations were more than 30"
   ]
  },
  {
   "cell_type": "markdown",
   "id": "841e95f1",
   "metadata": {},
   "source": [
    "## Kolmogorov-Sminorv Test"
   ]
  },
  {
   "cell_type": "code",
   "execution_count": 73,
   "id": "4fda9dd2",
   "metadata": {},
   "outputs": [
    {
     "name": "stdout",
     "output_type": "stream",
     "text": [
      "Kolmogorov-Smirnov Test Statistic: 0.8637613644958709\n",
      "p-value: 1.4644995238989183e-228\n",
      "Reject H0: which states that data are taken from normal distributed population and accept H1:which states that data are not taken from normal distributed population \n"
     ]
    }
   ],
   "source": [
    "from scipy.stats import kstest\n",
    "\n",
    "#Extract the 'price_variable' column from the dataset\n",
    "national_price = banana_price['National Average Price(Euros)']\n",
    "\n",
    "#Perform Kolmogorov-Smirnov test for normality\n",
    "statistic, p_value = kstest(national_price, 'norm')\n",
    "\n",
    "#Print the results\n",
    "print(\"Kolmogorov-Smirnov Test Statistic:\", statistic)\n",
    "print(\"p-value:\", p_value)\n",
    "\n",
    "#Interpret the results\n",
    "alpha = 0.05  # significance level\n",
    "if p_value < alpha:\n",
    "    print(\"Reject H0: which states that data are taken from normal distributed population and accept H1:which states that data are not taken from normal distributed population \")\n",
    "else:\n",
    "    print(\"Accept H0: which states that data are taken from normal distributed population and reject H1: which states that data are not taken from normal distributed population \")"
   ]
  },
  {
   "cell_type": "markdown",
   "id": "5652d9a0",
   "metadata": {},
   "source": [
    "## Findings\n",
    "- The data is not taken from a normally distributed population, i.e data is not normally distributed."
   ]
  },
  {
   "cell_type": "markdown",
   "id": "6a563338",
   "metadata": {},
   "source": [
    "# LSTM FOR BANANA PRICES"
   ]
  },
  {
   "cell_type": "code",
   "execution_count": 74,
   "id": "3c2e6b3c",
   "metadata": {},
   "outputs": [],
   "source": [
    "# fix random seed for reproducibility\n",
    "tf.random.set_seed(7)\n",
    "# load the dataset\n",
    "dataframe = read_csv('banana_price.csv', usecols=[2])"
   ]
  },
  {
   "cell_type": "code",
   "execution_count": 75,
   "id": "b566f774",
   "metadata": {},
   "outputs": [
    {
     "data": {
      "text/html": [
       "<div>\n",
       "<style scoped>\n",
       "    .dataframe tbody tr th:only-of-type {\n",
       "        vertical-align: middle;\n",
       "    }\n",
       "\n",
       "    .dataframe tbody tr th {\n",
       "        vertical-align: top;\n",
       "    }\n",
       "\n",
       "    .dataframe thead th {\n",
       "        text-align: right;\n",
       "    }\n",
       "</style>\n",
       "<table border=\"1\" class=\"dataframe\">\n",
       "  <thead>\n",
       "    <tr style=\"text-align: right;\">\n",
       "      <th></th>\n",
       "      <th>National Average Price(Euros)</th>\n",
       "    </tr>\n",
       "  </thead>\n",
       "  <tbody>\n",
       "    <tr>\n",
       "      <th>0</th>\n",
       "      <td>1.691</td>\n",
       "    </tr>\n",
       "    <tr>\n",
       "      <th>1</th>\n",
       "      <td>1.670</td>\n",
       "    </tr>\n",
       "    <tr>\n",
       "      <th>2</th>\n",
       "      <td>1.496</td>\n",
       "    </tr>\n",
       "  </tbody>\n",
       "</table>\n",
       "</div>"
      ],
      "text/plain": [
       "   National Average Price(Euros)\n",
       "0                          1.691\n",
       "1                          1.670\n",
       "2                          1.496"
      ]
     },
     "execution_count": 75,
     "metadata": {},
     "output_type": "execute_result"
    }
   ],
   "source": [
    "#View the first few observations of the dataframe\n",
    "dataframe.head(3)"
   ]
  },
  {
   "cell_type": "code",
   "execution_count": 76,
   "id": "abffbd55",
   "metadata": {},
   "outputs": [
    {
     "name": "stdout",
     "output_type": "stream",
     "text": [
      "<class 'pandas.core.frame.DataFrame'>\n",
      "RangeIndex: 264 entries, 0 to 263\n",
      "Data columns (total 1 columns):\n",
      " #   Column                         Non-Null Count  Dtype  \n",
      "---  ------                         --------------  -----  \n",
      " 0   National Average Price(Euros)  264 non-null    float64\n",
      "dtypes: float64(1)\n",
      "memory usage: 2.2 KB\n"
     ]
    }
   ],
   "source": [
    "#Check the characteristics of the dataframe\n",
    "dataframe.info()"
   ]
  },
  {
   "cell_type": "code",
   "execution_count": 77,
   "id": "5be02087",
   "metadata": {},
   "outputs": [],
   "source": [
    "#Get the values of the dataframe (excluding any index or column labels)\n",
    "dataset = dataframe.values\n",
    "\n",
    "# Convert the data type of the dataset to float32\n",
    "dataset = dataset.astype('float32')"
   ]
  },
  {
   "cell_type": "markdown",
   "id": "b90fc2c5",
   "metadata": {},
   "source": [
    "## Normalize the Data Using MinMax Scaler"
   ]
  },
  {
   "cell_type": "code",
   "execution_count": 78,
   "id": "42faf333",
   "metadata": {},
   "outputs": [],
   "source": [
    "#Normalize the dataset using the MinMax Scaler\n",
    "scaler = MinMaxScaler(feature_range=(0, 1))\n",
    "dataset = scaler.fit_transform(dataset)"
   ]
  },
  {
   "cell_type": "markdown",
   "id": "aab74d62",
   "metadata": {},
   "source": [
    "## Split the Data into Test and Train set"
   ]
  },
  {
   "cell_type": "code",
   "execution_count": 79,
   "id": "3991ce9e",
   "metadata": {},
   "outputs": [],
   "source": [
    "#Exclude the last 12 observations for training\n",
    "train_size = len(dataset) - 12 \n",
    "\n",
    "#Last 12 observations for testing\n",
    "test_size = 12  \n",
    "\n",
    "train = dataset[:-12]  # Exclude the last 12 observations\n",
    "test = dataset[-12:] "
   ]
  },
  {
   "cell_type": "code",
   "execution_count": 80,
   "id": "d359c68f",
   "metadata": {},
   "outputs": [
    {
     "data": {
      "text/plain": [
       "((252, 1), (12, 1))"
      ]
     },
     "execution_count": 80,
     "metadata": {},
     "output_type": "execute_result"
    }
   ],
   "source": [
    "#View the shape of the train and test dataset\n",
    "train.shape, test.shape"
   ]
  },
  {
   "cell_type": "code",
   "execution_count": 81,
   "id": "d1f6384b",
   "metadata": {},
   "outputs": [],
   "source": [
    "#Reshape into X=t and Y=t+1\n",
    "look_back = 1\n",
    "trainX, trainY = create_dataset(train, look_back)\n",
    "testX, testY = create_dataset(test, look_back)"
   ]
  },
  {
   "cell_type": "code",
   "execution_count": 82,
   "id": "7a4d9030",
   "metadata": {},
   "outputs": [],
   "source": [
    "#Reshape input to be [samples, time steps, features]\n",
    "trainX = np.reshape(trainX, (trainX.shape[0], 1, trainX.shape[1]))\n",
    "testX = np.reshape(testX, (testX.shape[0], 1, testX.shape[1]))"
   ]
  },
  {
   "cell_type": "code",
   "execution_count": 83,
   "id": "7513f160",
   "metadata": {},
   "outputs": [
    {
     "data": {
      "text/plain": [
       "((250, 1, 1), (10, 1, 1))"
      ]
     },
     "execution_count": 83,
     "metadata": {},
     "output_type": "execute_result"
    }
   ],
   "source": [
    "#View the shape of trainX and testx\n",
    "trainX.shape, testX.shape"
   ]
  },
  {
   "cell_type": "markdown",
   "id": "1c6127de",
   "metadata": {},
   "source": [
    "# CREATE AND TRAIN THE LSTM MODEL"
   ]
  },
  {
   "cell_type": "code",
   "execution_count": 84,
   "id": "6976037a",
   "metadata": {},
   "outputs": [
    {
     "name": "stdout",
     "output_type": "stream",
     "text": [
      "Epoch 1/100\n",
      "250/250 - 2s - loss: 0.0313 - 2s/epoch - 7ms/step\n",
      "Epoch 2/100\n",
      "250/250 - 0s - loss: 0.0071 - 277ms/epoch - 1ms/step\n",
      "Epoch 3/100\n",
      "250/250 - 0s - loss: 0.0061 - 309ms/epoch - 1ms/step\n",
      "Epoch 4/100\n",
      "250/250 - 0s - loss: 0.0054 - 339ms/epoch - 1ms/step\n",
      "Epoch 5/100\n",
      "250/250 - 0s - loss: 0.0047 - 335ms/epoch - 1ms/step\n",
      "Epoch 6/100\n",
      "250/250 - 0s - loss: 0.0042 - 296ms/epoch - 1ms/step\n",
      "Epoch 7/100\n",
      "250/250 - 0s - loss: 0.0040 - 327ms/epoch - 1ms/step\n",
      "Epoch 8/100\n",
      "250/250 - 0s - loss: 0.0038 - 333ms/epoch - 1ms/step\n",
      "Epoch 9/100\n",
      "250/250 - 0s - loss: 0.0037 - 326ms/epoch - 1ms/step\n",
      "Epoch 10/100\n",
      "250/250 - 0s - loss: 0.0037 - 272ms/epoch - 1ms/step\n",
      "Epoch 11/100\n",
      "250/250 - 0s - loss: 0.0036 - 327ms/epoch - 1ms/step\n",
      "Epoch 12/100\n",
      "250/250 - 0s - loss: 0.0036 - 332ms/epoch - 1ms/step\n",
      "Epoch 13/100\n",
      "250/250 - 0s - loss: 0.0036 - 302ms/epoch - 1ms/step\n",
      "Epoch 14/100\n",
      "250/250 - 0s - loss: 0.0037 - 308ms/epoch - 1ms/step\n",
      "Epoch 15/100\n",
      "250/250 - 0s - loss: 0.0036 - 298ms/epoch - 1ms/step\n",
      "Epoch 16/100\n",
      "250/250 - 0s - loss: 0.0035 - 332ms/epoch - 1ms/step\n",
      "Epoch 17/100\n",
      "250/250 - 0s - loss: 0.0035 - 301ms/epoch - 1ms/step\n",
      "Epoch 18/100\n",
      "250/250 - 0s - loss: 0.0037 - 312ms/epoch - 1ms/step\n",
      "Epoch 19/100\n",
      "250/250 - 0s - loss: 0.0036 - 342ms/epoch - 1ms/step\n",
      "Epoch 20/100\n",
      "250/250 - 0s - loss: 0.0036 - 341ms/epoch - 1ms/step\n",
      "Epoch 21/100\n",
      "250/250 - 0s - loss: 0.0036 - 304ms/epoch - 1ms/step\n",
      "Epoch 22/100\n",
      "250/250 - 0s - loss: 0.0036 - 398ms/epoch - 2ms/step\n",
      "Epoch 23/100\n",
      "250/250 - 0s - loss: 0.0036 - 348ms/epoch - 1ms/step\n",
      "Epoch 24/100\n",
      "250/250 - 0s - loss: 0.0036 - 281ms/epoch - 1ms/step\n",
      "Epoch 25/100\n",
      "250/250 - 0s - loss: 0.0036 - 314ms/epoch - 1ms/step\n",
      "Epoch 26/100\n",
      "250/250 - 0s - loss: 0.0036 - 323ms/epoch - 1ms/step\n",
      "Epoch 27/100\n",
      "250/250 - 0s - loss: 0.0036 - 331ms/epoch - 1ms/step\n",
      "Epoch 28/100\n",
      "250/250 - 0s - loss: 0.0037 - 292ms/epoch - 1ms/step\n",
      "Epoch 29/100\n",
      "250/250 - 0s - loss: 0.0035 - 284ms/epoch - 1ms/step\n",
      "Epoch 30/100\n",
      "250/250 - 0s - loss: 0.0037 - 306ms/epoch - 1ms/step\n",
      "Epoch 31/100\n",
      "250/250 - 0s - loss: 0.0037 - 323ms/epoch - 1ms/step\n",
      "Epoch 32/100\n",
      "250/250 - 0s - loss: 0.0036 - 297ms/epoch - 1ms/step\n",
      "Epoch 33/100\n",
      "250/250 - 0s - loss: 0.0035 - 274ms/epoch - 1ms/step\n",
      "Epoch 34/100\n",
      "250/250 - 0s - loss: 0.0035 - 346ms/epoch - 1ms/step\n",
      "Epoch 35/100\n",
      "250/250 - 0s - loss: 0.0036 - 308ms/epoch - 1ms/step\n",
      "Epoch 36/100\n",
      "250/250 - 0s - loss: 0.0036 - 291ms/epoch - 1ms/step\n",
      "Epoch 37/100\n",
      "250/250 - 0s - loss: 0.0036 - 272ms/epoch - 1ms/step\n",
      "Epoch 38/100\n",
      "250/250 - 0s - loss: 0.0036 - 317ms/epoch - 1ms/step\n",
      "Epoch 39/100\n",
      "250/250 - 0s - loss: 0.0036 - 339ms/epoch - 1ms/step\n",
      "Epoch 40/100\n",
      "250/250 - 0s - loss: 0.0036 - 329ms/epoch - 1ms/step\n",
      "Epoch 41/100\n",
      "250/250 - 0s - loss: 0.0036 - 329ms/epoch - 1ms/step\n",
      "Epoch 42/100\n",
      "250/250 - 0s - loss: 0.0036 - 338ms/epoch - 1ms/step\n",
      "Epoch 43/100\n",
      "250/250 - 0s - loss: 0.0036 - 359ms/epoch - 1ms/step\n",
      "Epoch 44/100\n",
      "250/250 - 0s - loss: 0.0035 - 358ms/epoch - 1ms/step\n",
      "Epoch 45/100\n",
      "250/250 - 0s - loss: 0.0037 - 364ms/epoch - 1ms/step\n",
      "Epoch 46/100\n",
      "250/250 - 0s - loss: 0.0037 - 357ms/epoch - 1ms/step\n",
      "Epoch 47/100\n",
      "250/250 - 0s - loss: 0.0036 - 367ms/epoch - 1ms/step\n",
      "Epoch 48/100\n",
      "250/250 - 0s - loss: 0.0036 - 342ms/epoch - 1ms/step\n",
      "Epoch 49/100\n",
      "250/250 - 0s - loss: 0.0036 - 282ms/epoch - 1ms/step\n",
      "Epoch 50/100\n",
      "250/250 - 0s - loss: 0.0036 - 274ms/epoch - 1ms/step\n",
      "Epoch 51/100\n",
      "250/250 - 0s - loss: 0.0036 - 306ms/epoch - 1ms/step\n",
      "Epoch 52/100\n",
      "250/250 - 0s - loss: 0.0036 - 322ms/epoch - 1ms/step\n",
      "Epoch 53/100\n",
      "250/250 - 0s - loss: 0.0036 - 309ms/epoch - 1ms/step\n",
      "Epoch 54/100\n",
      "250/250 - 0s - loss: 0.0036 - 295ms/epoch - 1ms/step\n",
      "Epoch 55/100\n",
      "250/250 - 0s - loss: 0.0035 - 277ms/epoch - 1ms/step\n",
      "Epoch 56/100\n",
      "250/250 - 0s - loss: 0.0036 - 298ms/epoch - 1ms/step\n",
      "Epoch 57/100\n",
      "250/250 - 0s - loss: 0.0037 - 293ms/epoch - 1ms/step\n",
      "Epoch 58/100\n",
      "250/250 - 0s - loss: 0.0036 - 382ms/epoch - 2ms/step\n",
      "Epoch 59/100\n",
      "250/250 - 0s - loss: 0.0036 - 305ms/epoch - 1ms/step\n",
      "Epoch 60/100\n",
      "250/250 - 0s - loss: 0.0036 - 336ms/epoch - 1ms/step\n",
      "Epoch 61/100\n",
      "250/250 - 0s - loss: 0.0036 - 280ms/epoch - 1ms/step\n",
      "Epoch 62/100\n",
      "250/250 - 0s - loss: 0.0035 - 307ms/epoch - 1ms/step\n",
      "Epoch 63/100\n",
      "250/250 - 0s - loss: 0.0036 - 308ms/epoch - 1ms/step\n",
      "Epoch 64/100\n",
      "250/250 - 0s - loss: 0.0036 - 290ms/epoch - 1ms/step\n",
      "Epoch 65/100\n",
      "250/250 - 0s - loss: 0.0036 - 294ms/epoch - 1ms/step\n",
      "Epoch 66/100\n",
      "250/250 - 0s - loss: 0.0036 - 300ms/epoch - 1ms/step\n",
      "Epoch 67/100\n",
      "250/250 - 0s - loss: 0.0036 - 388ms/epoch - 2ms/step\n",
      "Epoch 68/100\n",
      "250/250 - 0s - loss: 0.0037 - 320ms/epoch - 1ms/step\n",
      "Epoch 69/100\n",
      "250/250 - 0s - loss: 0.0037 - 273ms/epoch - 1ms/step\n",
      "Epoch 70/100\n",
      "250/250 - 0s - loss: 0.0035 - 271ms/epoch - 1ms/step\n",
      "Epoch 71/100\n",
      "250/250 - 0s - loss: 0.0036 - 280ms/epoch - 1ms/step\n",
      "Epoch 72/100\n",
      "250/250 - 0s - loss: 0.0035 - 264ms/epoch - 1ms/step\n",
      "Epoch 73/100\n",
      "250/250 - 0s - loss: 0.0036 - 269ms/epoch - 1ms/step\n",
      "Epoch 74/100\n",
      "250/250 - 0s - loss: 0.0035 - 341ms/epoch - 1ms/step\n",
      "Epoch 75/100\n",
      "250/250 - 0s - loss: 0.0035 - 306ms/epoch - 1ms/step\n",
      "Epoch 76/100\n",
      "250/250 - 0s - loss: 0.0036 - 275ms/epoch - 1ms/step\n",
      "Epoch 77/100\n",
      "250/250 - 0s - loss: 0.0036 - 259ms/epoch - 1ms/step\n",
      "Epoch 78/100\n",
      "250/250 - 0s - loss: 0.0036 - 275ms/epoch - 1ms/step\n",
      "Epoch 79/100\n",
      "250/250 - 0s - loss: 0.0036 - 267ms/epoch - 1ms/step\n",
      "Epoch 80/100\n",
      "250/250 - 0s - loss: 0.0036 - 263ms/epoch - 1ms/step\n",
      "Epoch 81/100\n",
      "250/250 - 0s - loss: 0.0036 - 267ms/epoch - 1ms/step\n",
      "Epoch 82/100\n",
      "250/250 - 0s - loss: 0.0036 - 261ms/epoch - 1ms/step\n",
      "Epoch 83/100\n",
      "250/250 - 0s - loss: 0.0036 - 274ms/epoch - 1ms/step\n",
      "Epoch 84/100\n",
      "250/250 - 0s - loss: 0.0037 - 287ms/epoch - 1ms/step\n",
      "Epoch 85/100\n",
      "250/250 - 0s - loss: 0.0036 - 281ms/epoch - 1ms/step\n",
      "Epoch 86/100\n",
      "250/250 - 0s - loss: 0.0037 - 278ms/epoch - 1ms/step\n",
      "Epoch 87/100\n",
      "250/250 - 0s - loss: 0.0036 - 273ms/epoch - 1ms/step\n",
      "Epoch 88/100\n",
      "250/250 - 0s - loss: 0.0037 - 298ms/epoch - 1ms/step\n",
      "Epoch 89/100\n",
      "250/250 - 0s - loss: 0.0036 - 347ms/epoch - 1ms/step\n",
      "Epoch 90/100\n",
      "250/250 - 0s - loss: 0.0036 - 356ms/epoch - 1ms/step\n",
      "Epoch 91/100\n",
      "250/250 - 0s - loss: 0.0036 - 327ms/epoch - 1ms/step\n",
      "Epoch 92/100\n",
      "250/250 - 0s - loss: 0.0036 - 385ms/epoch - 2ms/step\n",
      "Epoch 93/100\n",
      "250/250 - 0s - loss: 0.0036 - 392ms/epoch - 2ms/step\n",
      "Epoch 94/100\n",
      "250/250 - 0s - loss: 0.0036 - 406ms/epoch - 2ms/step\n",
      "Epoch 95/100\n",
      "250/250 - 0s - loss: 0.0036 - 407ms/epoch - 2ms/step\n",
      "Epoch 96/100\n",
      "250/250 - 0s - loss: 0.0037 - 451ms/epoch - 2ms/step\n",
      "Epoch 97/100\n",
      "250/250 - 0s - loss: 0.0036 - 410ms/epoch - 2ms/step\n",
      "Epoch 98/100\n",
      "250/250 - 0s - loss: 0.0036 - 452ms/epoch - 2ms/step\n",
      "Epoch 99/100\n",
      "250/250 - 0s - loss: 0.0036 - 430ms/epoch - 2ms/step\n",
      "Epoch 100/100\n",
      "250/250 - 0s - loss: 0.0037 - 414ms/epoch - 2ms/step\n"
     ]
    },
    {
     "data": {
      "text/plain": [
       "<keras.src.callbacks.History at 0x29650112fd0>"
      ]
     },
     "execution_count": 84,
     "metadata": {},
     "output_type": "execute_result"
    }
   ],
   "source": [
    "# create and fit the LSTM network\n",
    "model = Sequential()\n",
    "model.add(LSTM(4, input_shape=(1, look_back)))\n",
    "model.add(Dense(1))\n",
    "model.compile(loss='mean_squared_error', optimizer='adam')\n",
    "model.fit(trainX, trainY, epochs=100, batch_size=1, verbose=2)"
   ]
  },
  {
   "cell_type": "code",
   "execution_count": 85,
   "id": "48fa5e43",
   "metadata": {},
   "outputs": [
    {
     "name": "stdout",
     "output_type": "stream",
     "text": [
      "8/8 [==============================] - 0s 1ms/step\n",
      "1/1 [==============================] - 0s 15ms/step\n"
     ]
    }
   ],
   "source": [
    "#Make predictions for the trainX and testX\n",
    "trainPredict = model.predict(trainX)\n",
    "testPredict = model.predict(testX)"
   ]
  },
  {
   "cell_type": "code",
   "execution_count": 86,
   "id": "b11ca2f0",
   "metadata": {},
   "outputs": [
    {
     "data": {
      "text/plain": [
       "((250, 1), (10, 1))"
      ]
     },
     "execution_count": 86,
     "metadata": {},
     "output_type": "execute_result"
    }
   ],
   "source": [
    "trainPredict.shape, testPredict.shape"
   ]
  },
  {
   "cell_type": "code",
   "execution_count": 87,
   "id": "20985a9d",
   "metadata": {},
   "outputs": [],
   "source": [
    "#Invert predictions\n",
    "trainPredict = scaler.inverse_transform(trainPredict)\n",
    "trainY = scaler.inverse_transform([trainY])\n",
    "testPredict = scaler.inverse_transform(testPredict)\n",
    "testY = scaler.inverse_transform([testY])"
   ]
  },
  {
   "cell_type": "markdown",
   "id": "242907bd",
   "metadata": {},
   "source": [
    "# Evaluate the Model Performance using the following metrics\n",
    "- MSE\n",
    "- MAE"
   ]
  },
  {
   "cell_type": "code",
   "execution_count": 88,
   "id": "a15b9d52",
   "metadata": {},
   "outputs": [
    {
     "name": "stdout",
     "output_type": "stream",
     "text": [
      "Train Score: 0.00 MSE\n",
      "Test Score: 0.00 MSE\n",
      "Train Score: 0.02 MAE\n",
      "Test Score: 0.03 MAE\n"
     ]
    }
   ],
   "source": [
    "from sklearn.metrics import mean_absolute_error, mean_squared_error, mean_absolute_percentage_error\n",
    "\n",
    "# Calculate mean squared error\n",
    "trainScore_mse = mean_squared_error(trainY[0], trainPredict[:,0])\n",
    "print('Train Score: %.2f MSE' % (trainScore_mse))\n",
    "testScore_mse = mean_squared_error(testY[0], testPredict[:,0])\n",
    "print('Test Score: %.2f MSE' % (testScore_mse))\n",
    "\n",
    "\n",
    "# Calculate mean absolute error\n",
    "trainScore_mae = mean_absolute_error(trainY[0], trainPredict[:,0])\n",
    "print('Train Score: %.2f MAE' % (trainScore_mae))\n",
    "testScore_mae = mean_absolute_error(testY[0], testPredict[:,0])\n",
    "print('Test Score: %.2f MAE' % (testScore_mae))"
   ]
  },
  {
   "cell_type": "code",
   "execution_count": 89,
   "id": "4568a362",
   "metadata": {},
   "outputs": [
    {
     "name": "stdout",
     "output_type": "stream",
     "text": [
      "   Actual  Predicted\n",
      "0   1.689   1.652885\n",
      "1   1.689   1.662608\n",
      "2   1.689   1.662608\n",
      "3   1.699   1.662608\n",
      "4   1.699   1.670642\n",
      "5   1.694   1.670642\n",
      "6   1.698   1.666633\n",
      "7   1.660   1.669841\n",
      "8   1.720   1.638959\n",
      "9   1.728   1.687307\n"
     ]
    }
   ],
   "source": [
    "# Create a DataFrame to store actual and predicted values\n",
    "comparison_table = pd.DataFrame({'Actual': testY[0], 'Predicted': testPredict[:,0]})\n",
    "\n",
    "# Print the comparison table\n",
    "print(comparison_table)"
   ]
  },
  {
   "cell_type": "code",
   "execution_count": 90,
   "id": "faa6c5e4",
   "metadata": {},
   "outputs": [],
   "source": [
    "#shift train predictions for plotting\n",
    "trainPredictPlot = np.empty_like(dataset)\n",
    "trainPredictPlot[:, :] = np.nan\n",
    "trainPredictPlot[look_back:len(trainPredict)+look_back, :] = trainPredict\n"
   ]
  },
  {
   "cell_type": "code",
   "execution_count": 91,
   "id": "1f96dfc9",
   "metadata": {},
   "outputs": [],
   "source": [
    "#shift test predictions for plotting\n",
    "testPredictPlot = np.empty_like(dataset)\n",
    "testPredictPlot[:, :] = np.nan\n",
    "testPredictPlot[len(trainPredict)+(look_back*2)+1:len(dataset)-1, :] = testPredict\n"
   ]
  },
  {
   "cell_type": "code",
   "execution_count": 92,
   "id": "6735dd83",
   "metadata": {},
   "outputs": [
    {
     "data": {
      "image/png": "[encoded data removed]",
      "text/plain": [
       "<Figure size 640x480 with 1 Axes>"
      ]
     },
     "metadata": {},
     "output_type": "display_data"
    }
   ],
   "source": [
    "#plot baseline and predictions\n",
    "plt.plot(scaler.inverse_transform(dataset))\n",
    "plt.plot(trainPredictPlot)\n",
    "plt.plot(testPredictPlot)\n",
    "plt.show()"
   ]
  },
  {
   "cell_type": "markdown",
   "id": "08c9873f",
   "metadata": {},
   "source": [
    "## Standardize the data using standard scaler"
   ]
  },
  {
   "cell_type": "code",
   "execution_count": 93,
   "id": "cb99611c",
   "metadata": {},
   "outputs": [],
   "source": [
    "#Use the dataset again \n",
    "dataset = dataframe.values\n",
    "dataset = dataset.astype('float32')"
   ]
  },
  {
   "cell_type": "code",
   "execution_count": 94,
   "id": "39b84e56",
   "metadata": {},
   "outputs": [],
   "source": [
    "#Normalize the dataset using the StandardScaler\n",
    "from sklearn.preprocessing import StandardScaler\n",
    "\n",
    "#Initialize the StandardScaler\n",
    "scaler = StandardScaler()\n",
    "dataset = scaler.fit_transform(dataset)"
   ]
  },
  {
   "cell_type": "markdown",
   "id": "5931b61a",
   "metadata": {},
   "source": [
    "# split the data into train and test"
   ]
  },
  {
   "cell_type": "markdown",
   "id": "ee121347",
   "metadata": {},
   "source": [
    "#split into train and test sets\n",
    "train_size = int(len(dataset) * 0.80)\n",
    "test_size = len(dataset) - train_size\n",
    "train, test = dataset[0:train_size,:], dataset[train_size:len(dataset),:]"
   ]
  },
  {
   "cell_type": "code",
   "execution_count": 95,
   "id": "56c154cb",
   "metadata": {},
   "outputs": [],
   "source": [
    "#Exclude the last 12 observations for training\n",
    "train_size = len(dataset) - 12 \n",
    "\n",
    "#Last 12 observations for testing\n",
    "test_size = 12  \n",
    "\n",
    "train = dataset[:-12]  # Exclude the last 12 observations\n",
    "test = dataset[-12:] "
   ]
  },
  {
   "cell_type": "code",
   "execution_count": 96,
   "id": "33b8971e",
   "metadata": {},
   "outputs": [
    {
     "data": {
      "text/plain": [
       "((252, 1), (12, 1))"
      ]
     },
     "execution_count": 96,
     "metadata": {},
     "output_type": "execute_result"
    }
   ],
   "source": [
    "#View the train and test Shape\n",
    "train.shape, test.shape"
   ]
  },
  {
   "cell_type": "code",
   "execution_count": 97,
   "id": "6e0fc781",
   "metadata": {},
   "outputs": [],
   "source": [
    "# reshape into X=t and Y=t+1\n",
    "look_back = 1\n",
    "trainX, trainY = create_dataset(train, look_back)\n",
    "testX, testY = create_dataset(test, look_back)"
   ]
  },
  {
   "cell_type": "code",
   "execution_count": 98,
   "id": "c2ce71ea",
   "metadata": {},
   "outputs": [],
   "source": [
    "# reshape input to be [samples, time steps, features]\n",
    "trainX = np.reshape(trainX, (trainX.shape[0], 1, trainX.shape[1]))\n",
    "testX = np.reshape(testX, (testX.shape[0], 1, testX.shape[1]))"
   ]
  },
  {
   "cell_type": "markdown",
   "id": "dbc0df38",
   "metadata": {},
   "source": [
    "## TRAIN THE LSTM MODEL USING STANDARDIZED DATA"
   ]
  },
  {
   "cell_type": "code",
   "execution_count": 99,
   "id": "e09411f2",
   "metadata": {},
   "outputs": [
    {
     "name": "stdout",
     "output_type": "stream",
     "text": [
      "Epoch 1/100\n",
      "250/250 - 2s - loss: 0.6532 - 2s/epoch - 8ms/step\n",
      "Epoch 2/100\n",
      "250/250 - 0s - loss: 0.5288 - 277ms/epoch - 1ms/step\n",
      "Epoch 3/100\n",
      "250/250 - 0s - loss: 0.4073 - 291ms/epoch - 1ms/step\n",
      "Epoch 4/100\n",
      "250/250 - 0s - loss: 0.3085 - 319ms/epoch - 1ms/step\n",
      "Epoch 5/100\n",
      "250/250 - 0s - loss: 0.2366 - 316ms/epoch - 1ms/step\n",
      "Epoch 6/100\n",
      "250/250 - 0s - loss: 0.1948 - 310ms/epoch - 1ms/step\n",
      "Epoch 7/100\n",
      "250/250 - 0s - loss: 0.1724 - 343ms/epoch - 1ms/step\n",
      "Epoch 8/100\n",
      "250/250 - 0s - loss: 0.1619 - 351ms/epoch - 1ms/step\n",
      "Epoch 9/100\n",
      "250/250 - 0s - loss: 0.1557 - 366ms/epoch - 1ms/step\n",
      "Epoch 10/100\n",
      "250/250 - 0s - loss: 0.1521 - 343ms/epoch - 1ms/step\n",
      "Epoch 11/100\n",
      "250/250 - 0s - loss: 0.1487 - 315ms/epoch - 1ms/step\n",
      "Epoch 12/100\n",
      "250/250 - 0s - loss: 0.1459 - 377ms/epoch - 2ms/step\n",
      "Epoch 13/100\n",
      "250/250 - 0s - loss: 0.1437 - 317ms/epoch - 1ms/step\n",
      "Epoch 14/100\n",
      "250/250 - 0s - loss: 0.1418 - 304ms/epoch - 1ms/step\n",
      "Epoch 15/100\n",
      "250/250 - 0s - loss: 0.1399 - 304ms/epoch - 1ms/step\n",
      "Epoch 16/100\n",
      "250/250 - 0s - loss: 0.1376 - 301ms/epoch - 1ms/step\n",
      "Epoch 17/100\n",
      "250/250 - 0s - loss: 0.1365 - 309ms/epoch - 1ms/step\n",
      "Epoch 18/100\n",
      "250/250 - 0s - loss: 0.1353 - 318ms/epoch - 1ms/step\n",
      "Epoch 19/100\n",
      "250/250 - 0s - loss: 0.1334 - 298ms/epoch - 1ms/step\n",
      "Epoch 20/100\n",
      "250/250 - 0s - loss: 0.1323 - 299ms/epoch - 1ms/step\n",
      "Epoch 21/100\n",
      "250/250 - 0s - loss: 0.1313 - 299ms/epoch - 1ms/step\n",
      "Epoch 22/100\n",
      "250/250 - 0s - loss: 0.1301 - 296ms/epoch - 1ms/step\n",
      "Epoch 23/100\n",
      "250/250 - 0s - loss: 0.1295 - 317ms/epoch - 1ms/step\n",
      "Epoch 24/100\n",
      "250/250 - 0s - loss: 0.1287 - 329ms/epoch - 1ms/step\n",
      "Epoch 25/100\n",
      "250/250 - 0s - loss: 0.1277 - 334ms/epoch - 1ms/step\n",
      "Epoch 26/100\n",
      "250/250 - 0s - loss: 0.1275 - 337ms/epoch - 1ms/step\n",
      "Epoch 27/100\n",
      "250/250 - 0s - loss: 0.1261 - 326ms/epoch - 1ms/step\n",
      "Epoch 28/100\n",
      "250/250 - 0s - loss: 0.1261 - 350ms/epoch - 1ms/step\n",
      "Epoch 29/100\n",
      "250/250 - 0s - loss: 0.1256 - 313ms/epoch - 1ms/step\n",
      "Epoch 30/100\n",
      "250/250 - 0s - loss: 0.1256 - 321ms/epoch - 1ms/step\n",
      "Epoch 31/100\n",
      "250/250 - 0s - loss: 0.1251 - 433ms/epoch - 2ms/step\n",
      "Epoch 32/100\n",
      "250/250 - 0s - loss: 0.1243 - 389ms/epoch - 2ms/step\n",
      "Epoch 33/100\n",
      "250/250 - 0s - loss: 0.1249 - 435ms/epoch - 2ms/step\n",
      "Epoch 34/100\n",
      "250/250 - 0s - loss: 0.1235 - 422ms/epoch - 2ms/step\n",
      "Epoch 35/100\n",
      "250/250 - 0s - loss: 0.1231 - 406ms/epoch - 2ms/step\n",
      "Epoch 36/100\n",
      "250/250 - 0s - loss: 0.1230 - 389ms/epoch - 2ms/step\n",
      "Epoch 37/100\n",
      "250/250 - 0s - loss: 0.1226 - 392ms/epoch - 2ms/step\n",
      "Epoch 38/100\n",
      "250/250 - 0s - loss: 0.1227 - 426ms/epoch - 2ms/step\n",
      "Epoch 39/100\n",
      "250/250 - 0s - loss: 0.1221 - 369ms/epoch - 1ms/step\n",
      "Epoch 40/100\n",
      "250/250 - 0s - loss: 0.1218 - 350ms/epoch - 1ms/step\n",
      "Epoch 41/100\n",
      "250/250 - 0s - loss: 0.1223 - 318ms/epoch - 1ms/step\n",
      "Epoch 42/100\n",
      "250/250 - 0s - loss: 0.1214 - 307ms/epoch - 1ms/step\n",
      "Epoch 43/100\n",
      "250/250 - 0s - loss: 0.1210 - 299ms/epoch - 1ms/step\n",
      "Epoch 44/100\n",
      "250/250 - 0s - loss: 0.1209 - 305ms/epoch - 1ms/step\n",
      "Epoch 45/100\n",
      "250/250 - 0s - loss: 0.1217 - 296ms/epoch - 1ms/step\n",
      "Epoch 46/100\n",
      "250/250 - 0s - loss: 0.1209 - 312ms/epoch - 1ms/step\n",
      "Epoch 47/100\n",
      "250/250 - 0s - loss: 0.1204 - 312ms/epoch - 1ms/step\n",
      "Epoch 48/100\n",
      "250/250 - 0s - loss: 0.1212 - 302ms/epoch - 1ms/step\n",
      "Epoch 49/100\n",
      "250/250 - 0s - loss: 0.1198 - 312ms/epoch - 1ms/step\n",
      "Epoch 50/100\n",
      "250/250 - 0s - loss: 0.1202 - 311ms/epoch - 1ms/step\n",
      "Epoch 51/100\n",
      "250/250 - 0s - loss: 0.1196 - 301ms/epoch - 1ms/step\n",
      "Epoch 52/100\n",
      "250/250 - 0s - loss: 0.1195 - 331ms/epoch - 1ms/step\n",
      "Epoch 53/100\n",
      "250/250 - 0s - loss: 0.1202 - 333ms/epoch - 1ms/step\n",
      "Epoch 54/100\n",
      "250/250 - 0s - loss: 0.1194 - 297ms/epoch - 1ms/step\n",
      "Epoch 55/100\n",
      "250/250 - 0s - loss: 0.1188 - 289ms/epoch - 1ms/step\n",
      "Epoch 56/100\n",
      "250/250 - 0s - loss: 0.1188 - 292ms/epoch - 1ms/step\n",
      "Epoch 57/100\n",
      "250/250 - 0s - loss: 0.1199 - 341ms/epoch - 1ms/step\n",
      "Epoch 58/100\n",
      "250/250 - 0s - loss: 0.1187 - 287ms/epoch - 1ms/step\n",
      "Epoch 59/100\n",
      "250/250 - 0s - loss: 0.1195 - 282ms/epoch - 1ms/step\n",
      "Epoch 60/100\n",
      "250/250 - 0s - loss: 0.1189 - 297ms/epoch - 1ms/step\n",
      "Epoch 61/100\n",
      "250/250 - 0s - loss: 0.1194 - 307ms/epoch - 1ms/step\n",
      "Epoch 62/100\n",
      "250/250 - 0s - loss: 0.1187 - 339ms/epoch - 1ms/step\n",
      "Epoch 63/100\n",
      "250/250 - 0s - loss: 0.1189 - 310ms/epoch - 1ms/step\n",
      "Epoch 64/100\n",
      "250/250 - 0s - loss: 0.1183 - 314ms/epoch - 1ms/step\n",
      "Epoch 65/100\n",
      "250/250 - 0s - loss: 0.1181 - 320ms/epoch - 1ms/step\n",
      "Epoch 66/100\n",
      "250/250 - 0s - loss: 0.1186 - 299ms/epoch - 1ms/step\n",
      "Epoch 67/100\n",
      "250/250 - 0s - loss: 0.1181 - 318ms/epoch - 1ms/step\n",
      "Epoch 68/100\n",
      "250/250 - 0s - loss: 0.1191 - 328ms/epoch - 1ms/step\n",
      "Epoch 69/100\n",
      "250/250 - 0s - loss: 0.1185 - 301ms/epoch - 1ms/step\n",
      "Epoch 70/100\n",
      "250/250 - 0s - loss: 0.1179 - 353ms/epoch - 1ms/step\n",
      "Epoch 71/100\n",
      "250/250 - 0s - loss: 0.1183 - 348ms/epoch - 1ms/step\n",
      "Epoch 72/100\n",
      "250/250 - 0s - loss: 0.1183 - 314ms/epoch - 1ms/step\n",
      "Epoch 73/100\n",
      "250/250 - 0s - loss: 0.1172 - 312ms/epoch - 1ms/step\n",
      "Epoch 74/100\n",
      "250/250 - 0s - loss: 0.1184 - 372ms/epoch - 1ms/step\n",
      "Epoch 75/100\n",
      "250/250 - 0s - loss: 0.1179 - 318ms/epoch - 1ms/step\n",
      "Epoch 76/100\n",
      "250/250 - 0s - loss: 0.1182 - 316ms/epoch - 1ms/step\n",
      "Epoch 77/100\n",
      "250/250 - 0s - loss: 0.1175 - 317ms/epoch - 1ms/step\n",
      "Epoch 78/100\n",
      "250/250 - 0s - loss: 0.1177 - 321ms/epoch - 1ms/step\n",
      "Epoch 79/100\n",
      "250/250 - 0s - loss: 0.1171 - 393ms/epoch - 2ms/step\n",
      "Epoch 80/100\n",
      "250/250 - 0s - loss: 0.1191 - 405ms/epoch - 2ms/step\n",
      "Epoch 81/100\n",
      "250/250 - 0s - loss: 0.1174 - 414ms/epoch - 2ms/step\n",
      "Epoch 82/100\n",
      "250/250 - 0s - loss: 0.1174 - 412ms/epoch - 2ms/step\n",
      "Epoch 83/100\n",
      "250/250 - 0s - loss: 0.1172 - 407ms/epoch - 2ms/step\n",
      "Epoch 84/100\n",
      "250/250 - 0s - loss: 0.1184 - 428ms/epoch - 2ms/step\n",
      "Epoch 85/100\n",
      "250/250 - 0s - loss: 0.1177 - 451ms/epoch - 2ms/step\n",
      "Epoch 86/100\n",
      "250/250 - 0s - loss: 0.1168 - 406ms/epoch - 2ms/step\n",
      "Epoch 87/100\n",
      "250/250 - 0s - loss: 0.1176 - 409ms/epoch - 2ms/step\n",
      "Epoch 88/100\n",
      "250/250 - 0s - loss: 0.1175 - 376ms/epoch - 2ms/step\n",
      "Epoch 89/100\n",
      "250/250 - 1s - loss: 0.1173 - 629ms/epoch - 3ms/step\n",
      "Epoch 90/100\n",
      "250/250 - 1s - loss: 0.1172 - 599ms/epoch - 2ms/step\n",
      "Epoch 91/100\n",
      "250/250 - 1s - loss: 0.1179 - 590ms/epoch - 2ms/step\n",
      "Epoch 92/100\n",
      "250/250 - 0s - loss: 0.1175 - 472ms/epoch - 2ms/step\n",
      "Epoch 93/100\n",
      "250/250 - 0s - loss: 0.1172 - 473ms/epoch - 2ms/step\n",
      "Epoch 94/100\n",
      "250/250 - 0s - loss: 0.1168 - 494ms/epoch - 2ms/step\n",
      "Epoch 95/100\n",
      "250/250 - 0s - loss: 0.1166 - 498ms/epoch - 2ms/step\n",
      "Epoch 96/100\n",
      "250/250 - 0s - loss: 0.1181 - 449ms/epoch - 2ms/step\n",
      "Epoch 97/100\n",
      "250/250 - 0s - loss: 0.1172 - 276ms/epoch - 1ms/step\n",
      "Epoch 98/100\n",
      "250/250 - 0s - loss: 0.1172 - 293ms/epoch - 1ms/step\n",
      "Epoch 99/100\n",
      "250/250 - 1s - loss: 0.1172 - 638ms/epoch - 3ms/step\n",
      "Epoch 100/100\n",
      "250/250 - 1s - loss: 0.1179 - 742ms/epoch - 3ms/step\n"
     ]
    },
    {
     "data": {
      "text/plain": [
       "<keras.src.callbacks.History at 0x296519c9490>"
      ]
     },
     "execution_count": 99,
     "metadata": {},
     "output_type": "execute_result"
    }
   ],
   "source": [
    "# create and fit the LSTM network\n",
    "model = Sequential()\n",
    "model.add(LSTM(4, input_shape=(1, look_back)))\n",
    "model.add(Dense(1))\n",
    "model.compile(loss='mean_squared_error', optimizer='adam')\n",
    "model.fit(trainX, trainY, epochs=100, batch_size=1, verbose=2)"
   ]
  },
  {
   "cell_type": "code",
   "execution_count": 100,
   "id": "cdf6e09f",
   "metadata": {},
   "outputs": [
    {
     "name": "stdout",
     "output_type": "stream",
     "text": [
      "8/8 [==============================] - 0s 1ms/step\n",
      "1/1 [==============================] - 0s 15ms/step\n"
     ]
    }
   ],
   "source": [
    "# make predictions\n",
    "trainPredict = model.predict(trainX)\n",
    "testPredict = model.predict(testX)"
   ]
  },
  {
   "cell_type": "code",
   "execution_count": 101,
   "id": "e4121b9b",
   "metadata": {},
   "outputs": [],
   "source": [
    "# invert predictions\n",
    "trainPredict = scaler.inverse_transform(trainPredict)\n",
    "trainY = scaler.inverse_transform([trainY])\n",
    "testPredict = scaler.inverse_transform(testPredict)\n",
    "testY = scaler.inverse_transform([testY])"
   ]
  },
  {
   "cell_type": "code",
   "execution_count": 102,
   "id": "2fd4a576",
   "metadata": {},
   "outputs": [
    {
     "name": "stdout",
     "output_type": "stream",
     "text": [
      "Train Score: 0.00 MSE\n",
      "Test Score: 0.00 MSE\n",
      "Train Score: 0.02 MAE\n",
      "Test Score: 0.06 MAE\n"
     ]
    }
   ],
   "source": [
    "from sklearn.metrics import mean_absolute_error, mean_squared_error, mean_absolute_percentage_error\n",
    "\n",
    "# Calculate mean squared error\n",
    "trainScore_mse = mean_squared_error(trainY[0], trainPredict[:,0])\n",
    "print('Train Score: %.2f MSE' % (trainScore_mse))\n",
    "testScore_mse = mean_squared_error(testY[0], testPredict[:,0])\n",
    "print('Test Score: %.2f MSE' % (testScore_mse))\n",
    "\n",
    "# Calculate mean absolute error\n",
    "trainScore_mae = mean_absolute_error(trainY[0], trainPredict[:,0])\n",
    "print('Train Score: %.2f MAE' % (trainScore_mae))\n",
    "testScore_mae = mean_absolute_error(testY[0], testPredict[:,0])\n",
    "print('Test Score: %.2f MAE' % (testScore_mae))\n"
   ]
  },
  {
   "cell_type": "code",
   "execution_count": 103,
   "id": "076ce52f",
   "metadata": {},
   "outputs": [
    {
     "name": "stdout",
     "output_type": "stream",
     "text": [
      "   Actual  Predicted\n",
      "0   1.689   1.632803\n",
      "1   1.689   1.639035\n",
      "2   1.689   1.639035\n",
      "3   1.699   1.639035\n",
      "4   1.699   1.643977\n",
      "5   1.694   1.643977\n",
      "6   1.698   1.641534\n",
      "7   1.660   1.643493\n",
      "8   1.720   1.623398\n",
      "9   1.728   1.653626\n"
     ]
    }
   ],
   "source": [
    "# Create a DataFrame to store actual and predicted values\n",
    "comparison_table = pd.DataFrame({'Actual': testY[0], 'Predicted': testPredict[:,0]})\n",
    "\n",
    "# Print the comparison table\n",
    "print(comparison_table)"
   ]
  },
  {
   "cell_type": "code",
   "execution_count": 104,
   "id": "d598c9c7",
   "metadata": {},
   "outputs": [],
   "source": [
    "#shift train predictions for plotting\n",
    "trainPredictPlot = np.empty_like(dataset)\n",
    "trainPredictPlot[:, :] = np.nan\n",
    "trainPredictPlot[look_back:len(trainPredict)+look_back, :] = trainPredict"
   ]
  },
  {
   "cell_type": "code",
   "execution_count": 105,
   "id": "4835571d",
   "metadata": {},
   "outputs": [],
   "source": [
    "#shift test predictions for plotting\n",
    "testPredictPlot = np.empty_like(dataset)\n",
    "testPredictPlot[:, :] = np.nan\n",
    "testPredictPlot[len(trainPredict)+(look_back*2)+1:len(dataset)-1, :] = testPredict"
   ]
  },
  {
   "cell_type": "code",
   "execution_count": 106,
   "id": "8f9a55fd",
   "metadata": {},
   "outputs": [
    {
     "data": {
      "image/png": "[encoded data removed]",
      "text/plain": [
       "<Figure size 640x480 with 1 Axes>"
      ]
     },
     "metadata": {},
     "output_type": "display_data"
    }
   ],
   "source": [
    "#plot baseline and predictions\n",
    "plt.plot(scaler.inverse_transform(dataset))\n",
    "plt.plot(trainPredictPlot)\n",
    "plt.plot(testPredictPlot)\n",
    "plt.show()"
   ]
  },
  {
   "cell_type": "markdown",
   "id": "a64afc46",
   "metadata": {},
   "source": [
    "## Using Robust Scaler because it can handle outliers"
   ]
  },
  {
   "cell_type": "code",
   "execution_count": 107,
   "id": "f3e995ae",
   "metadata": {},
   "outputs": [],
   "source": [
    "dataset = dataframe.values\n",
    "dataset = dataset.astype('float32')"
   ]
  },
  {
   "cell_type": "code",
   "execution_count": 108,
   "id": "df2997c1",
   "metadata": {},
   "outputs": [],
   "source": [
    "#Scale the data using RobustScaler\n",
    "from sklearn.preprocessing import RobustScaler\n",
    "scaler = RobustScaler()\n",
    "dataset = scaler.fit_transform(dataset)"
   ]
  },
  {
   "cell_type": "markdown",
   "id": "ea579f69",
   "metadata": {},
   "source": [
    "# Split the data into train and test data"
   ]
  },
  {
   "cell_type": "code",
   "execution_count": 109,
   "id": "e565bfc4",
   "metadata": {},
   "outputs": [],
   "source": [
    "#Exclude the last 12 observations for training\n",
    "train_size = len(dataset) - 12 \n",
    "\n",
    "#Last 12 observations for testing\n",
    "test_size = 12  \n",
    "\n",
    "train = dataset[:-12]  # Exclude the last 12 observations\n",
    "test = dataset[-12:] "
   ]
  },
  {
   "cell_type": "code",
   "execution_count": 110,
   "id": "3ad482ee",
   "metadata": {},
   "outputs": [
    {
     "data": {
      "text/plain": [
       "((252, 1), (12, 1))"
      ]
     },
     "execution_count": 110,
     "metadata": {},
     "output_type": "execute_result"
    }
   ],
   "source": [
    "#View the test and train shape\n",
    "train.shape, test.shape"
   ]
  },
  {
   "cell_type": "code",
   "execution_count": 111,
   "id": "681ae561",
   "metadata": {},
   "outputs": [],
   "source": [
    "#Reshape into X=t and Y=t+1\n",
    "look_back = 1\n",
    "trainX, trainY = create_dataset(train, look_back)\n",
    "testX, testY = create_dataset(test, look_back)"
   ]
  },
  {
   "cell_type": "code",
   "execution_count": 112,
   "id": "4c3ae527",
   "metadata": {},
   "outputs": [],
   "source": [
    "#Reshape input to be [samples, time steps, features]\n",
    "trainX = np.reshape(trainX, (trainX.shape[0], 1, trainX.shape[1]))\n",
    "testX = np.reshape(testX, (testX.shape[0], 1, testX.shape[1]))\n"
   ]
  },
  {
   "cell_type": "markdown",
   "id": "d1d64d70",
   "metadata": {},
   "source": [
    "# TRAIN THE LSTM MODEL USING ROBUSTSCALER"
   ]
  },
  {
   "cell_type": "code",
   "execution_count": 113,
   "id": "1ec0bb90",
   "metadata": {},
   "outputs": [
    {
     "name": "stdout",
     "output_type": "stream",
     "text": [
      "Epoch 1/100\n",
      "250/250 - 2s - loss: 0.6398 - 2s/epoch - 7ms/step\n",
      "Epoch 2/100\n",
      "250/250 - 0s - loss: 0.5041 - 311ms/epoch - 1ms/step\n",
      "Epoch 3/100\n",
      "250/250 - 0s - loss: 0.3863 - 288ms/epoch - 1ms/step\n",
      "Epoch 4/100\n",
      "250/250 - 0s - loss: 0.3083 - 277ms/epoch - 1ms/step\n",
      "Epoch 5/100\n",
      "250/250 - 0s - loss: 0.2642 - 289ms/epoch - 1ms/step\n",
      "Epoch 6/100\n",
      "250/250 - 0s - loss: 0.2436 - 280ms/epoch - 1ms/step\n",
      "Epoch 7/100\n",
      "250/250 - 0s - loss: 0.2317 - 269ms/epoch - 1ms/step\n",
      "Epoch 8/100\n",
      "250/250 - 0s - loss: 0.2246 - 275ms/epoch - 1ms/step\n",
      "Epoch 9/100\n",
      "250/250 - 0s - loss: 0.2180 - 276ms/epoch - 1ms/step\n",
      "Epoch 10/100\n",
      "250/250 - 0s - loss: 0.2133 - 284ms/epoch - 1ms/step\n",
      "Epoch 11/100\n",
      "250/250 - 0s - loss: 0.2085 - 268ms/epoch - 1ms/step\n",
      "Epoch 12/100\n",
      "250/250 - 0s - loss: 0.2042 - 314ms/epoch - 1ms/step\n",
      "Epoch 13/100\n",
      "250/250 - 0s - loss: 0.2007 - 342ms/epoch - 1ms/step\n",
      "Epoch 14/100\n",
      "250/250 - 0s - loss: 0.1976 - 323ms/epoch - 1ms/step\n",
      "Epoch 15/100\n",
      "250/250 - 0s - loss: 0.1948 - 328ms/epoch - 1ms/step\n",
      "Epoch 16/100\n",
      "250/250 - 0s - loss: 0.1915 - 335ms/epoch - 1ms/step\n",
      "Epoch 17/100\n",
      "250/250 - 0s - loss: 0.1896 - 323ms/epoch - 1ms/step\n",
      "Epoch 18/100\n",
      "250/250 - 0s - loss: 0.1874 - 338ms/epoch - 1ms/step\n",
      "Epoch 19/100\n",
      "250/250 - 0s - loss: 0.1845 - 401ms/epoch - 2ms/step\n",
      "Epoch 20/100\n",
      "250/250 - 0s - loss: 0.1829 - 422ms/epoch - 2ms/step\n",
      "Epoch 21/100\n",
      "250/250 - 0s - loss: 0.1811 - 436ms/epoch - 2ms/step\n",
      "Epoch 22/100\n",
      "250/250 - 0s - loss: 0.1790 - 363ms/epoch - 1ms/step\n",
      "Epoch 23/100\n",
      "250/250 - 0s - loss: 0.1780 - 322ms/epoch - 1ms/step\n",
      "Epoch 24/100\n",
      "250/250 - 0s - loss: 0.1763 - 318ms/epoch - 1ms/step\n",
      "Epoch 25/100\n",
      "250/250 - 0s - loss: 0.1747 - 324ms/epoch - 1ms/step\n",
      "Epoch 26/100\n",
      "250/250 - 0s - loss: 0.1742 - 319ms/epoch - 1ms/step\n",
      "Epoch 27/100\n",
      "250/250 - 0s - loss: 0.1722 - 326ms/epoch - 1ms/step\n",
      "Epoch 28/100\n",
      "250/250 - 0s - loss: 0.1718 - 377ms/epoch - 2ms/step\n",
      "Epoch 29/100\n",
      "250/250 - 0s - loss: 0.1709 - 327ms/epoch - 1ms/step\n",
      "Epoch 30/100\n",
      "250/250 - 0s - loss: 0.1703 - 324ms/epoch - 1ms/step\n",
      "Epoch 31/100\n",
      "250/250 - 0s - loss: 0.1694 - 313ms/epoch - 1ms/step\n",
      "Epoch 32/100\n",
      "250/250 - 0s - loss: 0.1683 - 311ms/epoch - 1ms/step\n",
      "Epoch 33/100\n",
      "250/250 - 0s - loss: 0.1687 - 377ms/epoch - 2ms/step\n",
      "Epoch 34/100\n",
      "250/250 - 0s - loss: 0.1666 - 321ms/epoch - 1ms/step\n",
      "Epoch 35/100\n",
      "250/250 - 0s - loss: 0.1656 - 322ms/epoch - 1ms/step\n",
      "Epoch 36/100\n",
      "250/250 - 0s - loss: 0.1655 - 370ms/epoch - 1ms/step\n",
      "Epoch 37/100\n",
      "250/250 - 0s - loss: 0.1645 - 336ms/epoch - 1ms/step\n",
      "Epoch 38/100\n",
      "250/250 - 0s - loss: 0.1645 - 325ms/epoch - 1ms/step\n",
      "Epoch 39/100\n",
      "250/250 - 0s - loss: 0.1634 - 310ms/epoch - 1ms/step\n",
      "Epoch 40/100\n",
      "250/250 - 0s - loss: 0.1628 - 312ms/epoch - 1ms/step\n",
      "Epoch 41/100\n",
      "250/250 - 0s - loss: 0.1633 - 320ms/epoch - 1ms/step\n",
      "Epoch 42/100\n",
      "250/250 - 0s - loss: 0.1618 - 313ms/epoch - 1ms/step\n",
      "Epoch 43/100\n",
      "250/250 - 0s - loss: 0.1610 - 305ms/epoch - 1ms/step\n",
      "Epoch 44/100\n",
      "250/250 - 0s - loss: 0.1609 - 351ms/epoch - 1ms/step\n",
      "Epoch 45/100\n",
      "250/250 - 0s - loss: 0.1617 - 313ms/epoch - 1ms/step\n",
      "Epoch 46/100\n",
      "250/250 - 0s - loss: 0.1605 - 320ms/epoch - 1ms/step\n",
      "Epoch 47/100\n",
      "250/250 - 0s - loss: 0.1597 - 290ms/epoch - 1ms/step\n",
      "Epoch 48/100\n",
      "250/250 - 0s - loss: 0.1604 - 356ms/epoch - 1ms/step\n",
      "Epoch 49/100\n",
      "250/250 - 0s - loss: 0.1584 - 321ms/epoch - 1ms/step\n",
      "Epoch 50/100\n",
      "250/250 - 0s - loss: 0.1589 - 380ms/epoch - 2ms/step\n",
      "Epoch 51/100\n",
      "250/250 - 0s - loss: 0.1578 - 314ms/epoch - 1ms/step\n",
      "Epoch 52/100\n",
      "250/250 - 0s - loss: 0.1577 - 311ms/epoch - 1ms/step\n",
      "Epoch 53/100\n",
      "250/250 - 0s - loss: 0.1584 - 305ms/epoch - 1ms/step\n",
      "Epoch 54/100\n",
      "250/250 - 0s - loss: 0.1573 - 311ms/epoch - 1ms/step\n",
      "Epoch 55/100\n",
      "250/250 - 0s - loss: 0.1565 - 353ms/epoch - 1ms/step\n",
      "Epoch 56/100\n",
      "250/250 - 0s - loss: 0.1563 - 363ms/epoch - 1ms/step\n",
      "Epoch 57/100\n",
      "250/250 - 0s - loss: 0.1574 - 318ms/epoch - 1ms/step\n",
      "Epoch 58/100\n",
      "250/250 - 0s - loss: 0.1559 - 346ms/epoch - 1ms/step\n",
      "Epoch 59/100\n",
      "250/250 - 0s - loss: 0.1565 - 408ms/epoch - 2ms/step\n",
      "Epoch 60/100\n",
      "250/250 - 0s - loss: 0.1557 - 446ms/epoch - 2ms/step\n",
      "Epoch 61/100\n",
      "250/250 - 0s - loss: 0.1565 - 467ms/epoch - 2ms/step\n",
      "Epoch 62/100\n",
      "250/250 - 0s - loss: 0.1554 - 427ms/epoch - 2ms/step\n",
      "Epoch 63/100\n",
      "250/250 - 0s - loss: 0.1554 - 454ms/epoch - 2ms/step\n",
      "Epoch 64/100\n",
      "250/250 - 0s - loss: 0.1546 - 411ms/epoch - 2ms/step\n",
      "Epoch 65/100\n",
      "250/250 - 0s - loss: 0.1546 - 432ms/epoch - 2ms/step\n",
      "Epoch 66/100\n",
      "250/250 - 0s - loss: 0.1549 - 418ms/epoch - 2ms/step\n",
      "Epoch 67/100\n",
      "250/250 - 0s - loss: 0.1542 - 432ms/epoch - 2ms/step\n",
      "Epoch 68/100\n",
      "250/250 - 0s - loss: 0.1553 - 444ms/epoch - 2ms/step\n",
      "Epoch 69/100\n",
      "250/250 - 0s - loss: 0.1547 - 447ms/epoch - 2ms/step\n",
      "Epoch 70/100\n",
      "250/250 - 0s - loss: 0.1541 - 402ms/epoch - 2ms/step\n",
      "Epoch 71/100\n",
      "250/250 - 0s - loss: 0.1543 - 347ms/epoch - 1ms/step\n",
      "Epoch 72/100\n",
      "250/250 - 0s - loss: 0.1542 - 370ms/epoch - 1ms/step\n",
      "Epoch 73/100\n",
      "250/250 - 0s - loss: 0.1532 - 328ms/epoch - 1ms/step\n",
      "Epoch 74/100\n",
      "250/250 - 0s - loss: 0.1544 - 394ms/epoch - 2ms/step\n",
      "Epoch 75/100\n",
      "250/250 - 0s - loss: 0.1538 - 367ms/epoch - 1ms/step\n",
      "Epoch 76/100\n",
      "250/250 - 0s - loss: 0.1540 - 329ms/epoch - 1ms/step\n",
      "Epoch 77/100\n",
      "250/250 - 0s - loss: 0.1531 - 315ms/epoch - 1ms/step\n",
      "Epoch 78/100\n",
      "250/250 - 0s - loss: 0.1535 - 318ms/epoch - 1ms/step\n",
      "Epoch 79/100\n",
      "250/250 - 0s - loss: 0.1531 - 281ms/epoch - 1ms/step\n",
      "Epoch 80/100\n",
      "250/250 - 0s - loss: 0.1549 - 289ms/epoch - 1ms/step\n",
      "Epoch 81/100\n",
      "250/250 - 0s - loss: 0.1531 - 333ms/epoch - 1ms/step\n",
      "Epoch 82/100\n",
      "250/250 - 0s - loss: 0.1530 - 300ms/epoch - 1ms/step\n",
      "Epoch 83/100\n",
      "250/250 - 0s - loss: 0.1526 - 298ms/epoch - 1ms/step\n",
      "Epoch 84/100\n",
      "250/250 - 0s - loss: 0.1539 - 359ms/epoch - 1ms/step\n",
      "Epoch 85/100\n",
      "250/250 - 0s - loss: 0.1534 - 328ms/epoch - 1ms/step\n",
      "Epoch 86/100\n",
      "250/250 - 0s - loss: 0.1529 - 305ms/epoch - 1ms/step\n",
      "Epoch 87/100\n",
      "250/250 - 0s - loss: 0.1534 - 341ms/epoch - 1ms/step\n",
      "Epoch 88/100\n",
      "250/250 - 0s - loss: 0.1535 - 368ms/epoch - 1ms/step\n",
      "Epoch 89/100\n",
      "250/250 - 0s - loss: 0.1526 - 382ms/epoch - 2ms/step\n",
      "Epoch 90/100\n",
      "250/250 - 0s - loss: 0.1529 - 381ms/epoch - 2ms/step\n",
      "Epoch 91/100\n",
      "250/250 - 0s - loss: 0.1535 - 347ms/epoch - 1ms/step\n",
      "Epoch 92/100\n",
      "250/250 - 0s - loss: 0.1533 - 400ms/epoch - 2ms/step\n",
      "Epoch 93/100\n",
      "250/250 - 0s - loss: 0.1529 - 337ms/epoch - 1ms/step\n",
      "Epoch 94/100\n",
      "250/250 - 0s - loss: 0.1524 - 331ms/epoch - 1ms/step\n",
      "Epoch 95/100\n",
      "250/250 - 0s - loss: 0.1525 - 321ms/epoch - 1ms/step\n",
      "Epoch 96/100\n",
      "250/250 - 0s - loss: 0.1536 - 323ms/epoch - 1ms/step\n",
      "Epoch 97/100\n",
      "250/250 - 0s - loss: 0.1527 - 323ms/epoch - 1ms/step\n",
      "Epoch 98/100\n",
      "250/250 - 0s - loss: 0.1529 - 341ms/epoch - 1ms/step\n",
      "Epoch 99/100\n",
      "250/250 - 0s - loss: 0.1531 - 349ms/epoch - 1ms/step\n",
      "Epoch 100/100\n",
      "250/250 - 0s - loss: 0.1535 - 316ms/epoch - 1ms/step\n"
     ]
    },
    {
     "data": {
      "text/plain": [
       "<keras.src.callbacks.History at 0x2964e864f90>"
      ]
     },
     "execution_count": 113,
     "metadata": {},
     "output_type": "execute_result"
    }
   ],
   "source": [
    "# create and fit the LSTM network\n",
    "model = Sequential()\n",
    "model.add(LSTM(4, input_shape=(1, look_back)))\n",
    "model.add(Dense(1))\n",
    "model.compile(loss='mean_squared_error', optimizer='adam')\n",
    "model.fit(trainX, trainY, epochs=100, batch_size=1, verbose=2)"
   ]
  },
  {
   "cell_type": "code",
   "execution_count": 114,
   "id": "e6730d33",
   "metadata": {},
   "outputs": [
    {
     "name": "stdout",
     "output_type": "stream",
     "text": [
      "8/8 [==============================] - 1s 2ms/step\n",
      "1/1 [==============================] - 0s 16ms/step\n"
     ]
    }
   ],
   "source": [
    "# make predictions\n",
    "trainPredict = model.predict(trainX)\n",
    "testPredict = model.predict(testX)"
   ]
  },
  {
   "cell_type": "code",
   "execution_count": 115,
   "id": "729caa5b",
   "metadata": {},
   "outputs": [],
   "source": [
    "# invert predictions\n",
    "trainPredict = scaler.inverse_transform(trainPredict)\n",
    "trainY = scaler.inverse_transform([trainY])\n",
    "testPredict = scaler.inverse_transform(testPredict)\n",
    "testY = scaler.inverse_transform([testY])"
   ]
  },
  {
   "cell_type": "code",
   "execution_count": 116,
   "id": "a76b9526",
   "metadata": {},
   "outputs": [
    {
     "name": "stdout",
     "output_type": "stream",
     "text": [
      "Train Score: 0.00 MSE\n",
      "Test Score: 0.00 MSE\n",
      "Train Score: 0.02 MAE\n",
      "Test Score: 0.05 MAE\n"
     ]
    }
   ],
   "source": [
    "from sklearn.metrics import mean_absolute_error, mean_squared_error, mean_absolute_percentage_error\n",
    "\n",
    "# Calculate mean squared error\n",
    "trainScore_mse = mean_squared_error(trainY[0], trainPredict[:,0])\n",
    "print('Train Score: %.2f MSE' % (trainScore_mse))\n",
    "testScore_mse = mean_squared_error(testY[0], testPredict[:,0])\n",
    "print('Test Score: %.2f MSE' % (testScore_mse))\n",
    "\n",
    "# Calculate mean absolute error\n",
    "trainScore_mae = mean_absolute_error(trainY[0], trainPredict[:,0])\n",
    "print('Train Score: %.2f MAE' % (trainScore_mae))\n",
    "testScore_mae = mean_absolute_error(testY[0], testPredict[:,0])\n",
    "print('Test Score: %.2f MAE' % (testScore_mae))\n"
   ]
  },
  {
   "cell_type": "code",
   "execution_count": 117,
   "id": "d115356e",
   "metadata": {},
   "outputs": [
    {
     "name": "stdout",
     "output_type": "stream",
     "text": [
      "   Actual  Predicted\n",
      "0   1.689   1.639696\n",
      "1   1.689   1.645864\n",
      "2   1.689   1.645864\n",
      "3   1.699   1.645864\n",
      "4   1.699   1.650647\n",
      "5   1.694   1.650647\n",
      "6   1.698   1.648296\n",
      "7   1.660   1.650183\n",
      "8   1.720   1.630125\n",
      "9   1.728   1.659685\n"
     ]
    }
   ],
   "source": [
    "# Create a DataFrame to store actual and predicted values\n",
    "comparison_table = pd.DataFrame({'Actual': testY[0], 'Predicted': testPredict[:,0]})\n",
    "\n",
    "# Print the comparison table\n",
    "print(comparison_table)"
   ]
  },
  {
   "cell_type": "code",
   "execution_count": 118,
   "id": "79d4b855",
   "metadata": {},
   "outputs": [],
   "source": [
    "# shift train predictions for plotting\n",
    "trainPredictPlot = np.empty_like(dataset)\n",
    "trainPredictPlot[:, :] = np.nan\n",
    "trainPredictPlot[look_back:len(trainPredict)+look_back, :] = trainPredict"
   ]
  },
  {
   "cell_type": "code",
   "execution_count": 119,
   "id": "cae85d7b",
   "metadata": {},
   "outputs": [],
   "source": [
    "# shift test predictions for plotting\n",
    "testPredictPlot = np.empty_like(dataset)\n",
    "testPredictPlot[:, :] = np.nan\n",
    "testPredictPlot[len(trainPredict)+(look_back*2)+1:len(dataset)-1, :] = testPredict\n"
   ]
  },
  {
   "cell_type": "code",
   "execution_count": 120,
   "id": "98963a56",
   "metadata": {},
   "outputs": [
    {
     "data": {
      "image/png": "[encoded data removed]",
      "text/plain": [
       "<Figure size 640x480 with 1 Axes>"
      ]
     },
     "metadata": {},
     "output_type": "display_data"
    }
   ],
   "source": [
    "# plot baseline and predictions\n",
    "plt.plot(scaler.inverse_transform(dataset))\n",
    "plt.plot(trainPredictPlot)\n",
    "plt.plot(testPredictPlot)\n",
    "plt.show()"
   ]
  }
 ],
 "metadata": {
  "kernelspec": {
   "display_name": "Python 3 (ipykernel)",
   "language": "python",
   "name": "python3"
  },
  "language_info": {
   "codemirror_mode": {
    "name": "ipython",
    "version": 3
   },
   "file_extension": ".py",
   "mimetype": "text/x-python",
   "name": "python",
   "nbconvert_exporter": "python",
   "pygments_lexer": "ipython3",
   "version": "3.11.4"
  }
 },
 "nbformat": 4,
 "nbformat_minor": 5
}
