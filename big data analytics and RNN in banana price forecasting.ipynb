{
 "cells": [
  {
   "cell_type": "markdown",
   "id": "718108ea",
   "metadata": {},
   "source": [
    "# APPLICATION OF APACHE SPARK AND RNN IN BANANA PRICE FORECASTING"
   ]
  },
  {
   "cell_type": "markdown",
   "id": "df6a0171",
   "metadata": {},
   "source": [
    "## STOP ANY ACTIVE SPARK SESSION"
   ]
  },
  {
   "cell_type": "code",
   "execution_count": 1,
   "id": "c374cc5e",
   "metadata": {},
   "outputs": [],
   "source": [
    "from pyspark.sql import SparkSession\n",
    "\n",
    "# Stop all active Spark sessions\n",
    "SparkSession.builder.getOrCreate().stop()\n"
   ]
  },
  {
   "cell_type": "markdown",
   "id": "56c247cb",
   "metadata": {},
   "source": [
    "## Import all the necessary libraries required for loading the data, EDA, Data Cleaning and statistics"
   ]
  },
  {
   "cell_type": "code",
   "execution_count": 2,
   "id": "7dcd2884",
   "metadata": {},
   "outputs": [],
   "source": [
    "import warnings\n",
    "warnings.filterwarnings(\"ignore\")\n",
    "from pyspark.ml import Pipeline\n",
    "import os\n",
    "import numpy as np\n",
    "import pandas as pd\n",
    "import matplotlib.pyplot as plt"
   ]
  },
  {
   "cell_type": "code",
   "execution_count": 3,
   "id": "35fa6031",
   "metadata": {},
   "outputs": [
    {
     "name": "stdout",
     "output_type": "stream",
     "text": [
      "Found 5 items\r\n",
      "-rwxrwxrwx   1 hduser supergroup    1114475 2024-03-31 17:22 /CPM04.20240331170654.csv\r\n",
      "-rwxrwxrwx   1 hduser supergroup    1197604 2024-03-31 17:23 /CPM12.20240331170619.csv\r\n",
      "drwxr-xr-x   - hduser supergroup          0 2024-01-30 23:49 /output1\r\n",
      "drwxr-xr-x   - hduser supergroup          0 2024-04-01 18:23 /preprocessed_data.csv\r\n",
      "drwxr-xr-x   - hduser supergroup          0 2024-01-31 00:57 /user1\r\n"
     ]
    }
   ],
   "source": [
    "#List the contents of the root directory in HDFS\n",
    "!hdfs dfs -ls /"
   ]
  },
  {
   "cell_type": "markdown",
   "id": "7efcc67f",
   "metadata": {},
   "source": [
    "## Preprocessing Data using Spark\n",
    "This process involves a series of steps. They include:-\n",
    "1. Loading 2 CSV files on national average prices of food data stored in hadoop.\n",
    "\n",
    "2. Data Exploration: Perform exploratory data analysis (EDA) \n",
    "- This include- checking missing data, duplicates, oultiers, data types, visualize data to see data pattern\n",
    "3. Data cleaning and preparation: Data integration, merging the two csv datasets, handling duplicates, missing data, outliers, feature selection, changing data types\n",
    "4. Feature engineering, encoding data, splitting data into training and test set, normalizing/standardizing the data\n",
    "5. Training LSTM-RNN model, testing the model, hyper parameter tuning then deploying the model/making a prediciton\n",
    "\n",
    "4. Data Export: Export the preprocessed data to hadoop for storage"
   ]
  },
  {
   "cell_type": "markdown",
   "id": "572265ed",
   "metadata": {},
   "source": [
    "## Initialize Spark Session"
   ]
  },
  {
   "cell_type": "code",
   "execution_count": 4,
   "id": "618da8a4",
   "metadata": {},
   "outputs": [],
   "source": [
    "#A spark sesion for the preprocessing\n",
    "spark = SparkSession.builder \\\n",
    "    .appName(\"Hadoop to python- using apache spark\") \\\n",
    "    .getOrCreate()"
   ]
  },
  {
   "cell_type": "markdown",
   "id": "ceb9031a",
   "metadata": {},
   "source": [
    "## Step one: Load the data from hadoop using spark"
   ]
  },
  {
   "cell_type": "code",
   "execution_count": 5,
   "id": "63145c31",
   "metadata": {},
   "outputs": [
    {
     "name": "stderr",
     "output_type": "stream",
     "text": [
      "\r",
      "[Stage 0:>                                                          (0 + 1) / 1]\r",
      "\r",
      "                                                                                \r"
     ]
    },
    {
     "data": {
      "text/plain": [
       "(DataFrame[STATISTIC: string, Statistic Label: string, C02363V02844: int, Consumer Item: string, TLIST(M1): int, Month: string, UNIT: string, VALUE: double],\n",
       " DataFrame[STATISTIC: string, STATISTIC Label: string, TLIST(M1): int, Month: string, C02363V03422: int, Consumer Item: string, UNIT: string, VALUE: double])"
      ]
     },
     "execution_count": 5,
     "metadata": {},
     "output_type": "execute_result"
    }
   ],
   "source": [
    "#Hadoop path for the two datasets\n",
    "dataset_one = \"hdfs://localhost:9000/CPM04.20240331170654.csv\"\n",
    "dataset_two = \"hdfs://localhost:9000/CPM12.20240331170619.csv\"\n",
    "\n",
    "#Create spark DataFrames for the two datasets\n",
    "df_one = spark.read.csv(dataset_one, header=True, inferSchema=True)\n",
    "df_two = spark.read.csv(dataset_two, header=True, inferSchema=True)\n",
    "\n",
    "#View the two DataFRames\n",
    "df_one, df_two"
   ]
  },
  {
   "cell_type": "markdown",
   "id": "539cccdf",
   "metadata": {},
   "source": [
    "## Step Two: Performing Explorartory Data Analysis (EDA)\n",
    "- EDA involves viewing the first and last few observations and the last.\n",
    "- Checking data types present and variables \n",
    "- Checking for missing data\n",
    "- Checking for outliers\n",
    "- checking for duplicates\n",
    "- Visualization"
   ]
  },
  {
   "cell_type": "markdown",
   "id": "603df743",
   "metadata": {},
   "source": [
    "## i) View the first view observations of the DataFrames"
   ]
  },
  {
   "cell_type": "code",
   "execution_count": 6,
   "id": "59e99a4b",
   "metadata": {},
   "outputs": [
    {
     "data": {
      "text/plain": [
       "[Row(STATISTIC='CPM04', Statistic Label='National Average  Price', C02363V02844=10010, Consumer Item='Round steak per kg.', TLIST(M1)=200112, Month='2001M12', UNIT='Euro', VALUE=8.414),\n",
       " Row(STATISTIC='CPM04', Statistic Label='National Average  Price', C02363V02844=10010, Consumer Item='Round steak per kg.', TLIST(M1)=200201, Month='2002M01', UNIT='Euro', VALUE=8.696)]"
      ]
     },
     "execution_count": 6,
     "metadata": {},
     "output_type": "execute_result"
    }
   ],
   "source": [
    "#View the first two observations of DataFrame one\n",
    "df_one.head(2)"
   ]
  },
  {
   "cell_type": "code",
   "execution_count": 7,
   "id": "fe9027e8",
   "metadata": {},
   "outputs": [
    {
     "data": {
      "text/plain": [
       "[Row(STATISTIC='CPM12', STATISTIC Label='National Average Price', TLIST(M1)=201112, Month='2011 December', C02363V03422=10020, Consumer Item='White, self raising flour per 2 kg', UNIT='Euro', VALUE=None),\n",
       " Row(STATISTIC='CPM12', STATISTIC Label='National Average Price', TLIST(M1)=201112, Month='2011 December', C02363V03422=10030, Consumer Item='Brown, wholemeal flour per 2 kg', UNIT='Euro', VALUE=None)]"
      ]
     },
     "execution_count": 7,
     "metadata": {},
     "output_type": "execute_result"
    }
   ],
   "source": [
    "#View the first two observations fo DataFrame two \n",
    "df_two.head(2)"
   ]
  },
  {
   "cell_type": "markdown",
   "id": "a4ee53cf",
   "metadata": {},
   "source": [
    "## ii) View the last few observations of the DataFrames"
   ]
  },
  {
   "cell_type": "code",
   "execution_count": 8,
   "id": "6d36fa44",
   "metadata": {},
   "outputs": [
    {
     "data": {
      "text/plain": [
       "[Row(STATISTIC='CPM04', Statistic Label='National Average  Price', C02363V02844=80005, Consumer Item='Fine quality wine - take home (75cl bottle)', TLIST(M1)=201111, Month='2011M11', UNIT='Euro', VALUE=None),\n",
       " Row(STATISTIC='CPM04', Statistic Label='National Average  Price', C02363V02844=80005, Consumer Item='Fine quality wine - take home (75cl bottle)', TLIST(M1)=201112, Month='2011M12', UNIT='Euro', VALUE=None)]"
      ]
     },
     "execution_count": 8,
     "metadata": {},
     "output_type": "execute_result"
    }
   ],
   "source": [
    "#View the last two observations of DataFrame one\n",
    "df_one.tail(2)"
   ]
  },
  {
   "cell_type": "code",
   "execution_count": 9,
   "id": "ea4716c1",
   "metadata": {},
   "outputs": [
    {
     "data": {
      "text/plain": [
       "[Row(STATISTIC='CPM12', STATISTIC Label='National Average Price', TLIST(M1)=202402, Month='2024 February', C02363V03422=30700, Consumer Item=\"Gent's wash, cut, and blow dry fee\", UNIT='Euro', VALUE=None),\n",
       " Row(STATISTIC='CPM12', STATISTIC Label='National Average Price', TLIST(M1)=202402, Month='2024 February', C02363V03422=30720, Consumer Item=\"Ladies' wash, cut and blow dry fee\", UNIT='Euro', VALUE=53.175)]"
      ]
     },
     "execution_count": 9,
     "metadata": {},
     "output_type": "execute_result"
    }
   ],
   "source": [
    "#View the last two observations of DataFrame two\n",
    "df_two.tail(2)"
   ]
  },
  {
   "cell_type": "markdown",
   "id": "fbacada3",
   "metadata": {},
   "source": [
    "## iii) Checking for missing data and  data types in the DataFrames"
   ]
  },
  {
   "cell_type": "code",
   "execution_count": 10,
   "id": "c8c162a2",
   "metadata": {},
   "outputs": [
    {
     "name": "stdout",
     "output_type": "stream",
     "text": [
      "root\n",
      " |-- STATISTIC: string (nullable = true)\n",
      " |-- Statistic Label: string (nullable = true)\n",
      " |-- C02363V02844: integer (nullable = true)\n",
      " |-- Consumer Item: string (nullable = true)\n",
      " |-- TLIST(M1): integer (nullable = true)\n",
      " |-- Month: string (nullable = true)\n",
      " |-- UNIT: string (nullable = true)\n",
      " |-- VALUE: double (nullable = true)\n",
      "\n"
     ]
    }
   ],
   "source": [
    "#Get the Schema for DataFrame one\n",
    "df_one.printSchema()"
   ]
  },
  {
   "cell_type": "markdown",
   "id": "c9d5a21c",
   "metadata": {},
   "source": [
    "## Findings\n",
    "- Shows there is missing data (nullable =True) in all the variables\n",
    "- we have several data types, string, integer, double\n",
    "- month which is the time variable is a string"
   ]
  },
  {
   "cell_type": "code",
   "execution_count": 11,
   "id": "94a46c7c",
   "metadata": {},
   "outputs": [
    {
     "name": "stdout",
     "output_type": "stream",
     "text": [
      "root\n",
      " |-- STATISTIC: string (nullable = true)\n",
      " |-- STATISTIC Label: string (nullable = true)\n",
      " |-- TLIST(M1): integer (nullable = true)\n",
      " |-- Month: string (nullable = true)\n",
      " |-- C02363V03422: integer (nullable = true)\n",
      " |-- Consumer Item: string (nullable = true)\n",
      " |-- UNIT: string (nullable = true)\n",
      " |-- VALUE: double (nullable = true)\n",
      "\n"
     ]
    }
   ],
   "source": [
    "#Get the Schema for DataFrame two\n",
    "df_two.printSchema()"
   ]
  },
  {
   "cell_type": "markdown",
   "id": "c640b26e",
   "metadata": {},
   "source": [
    "## Findings\n",
    "- Shows there is missing data (nullable =True) in all the variables\n",
    "- we have several data types, string, integer, double\n",
    "- month which is a time variable is a string"
   ]
  },
  {
   "cell_type": "code",
   "execution_count": 12,
   "id": "919e0ec8",
   "metadata": {},
   "outputs": [
    {
     "name": "stderr",
     "output_type": "stream",
     "text": [
      "                                                                                \r"
     ]
    },
    {
     "data": {
      "text/plain": [
       "(DataFrame[summary: string, STATISTIC: string, Statistic Label: string, C02363V02844: string, Consumer Item: string, TLIST(M1): string, Month: string, UNIT: string, VALUE: string],\n",
       " DataFrame[summary: string, STATISTIC: string, STATISTIC Label: string, TLIST(M1): string, Month: string, C02363V03422: string, Consumer Item: string, UNIT: string, VALUE: string])"
      ]
     },
     "execution_count": 12,
     "metadata": {},
     "output_type": "execute_result"
    }
   ],
   "source": [
    "#Check the chacteristics of the DataFrames\n",
    "df_one.describe(), df_two.describe()"
   ]
  },
  {
   "cell_type": "markdown",
   "id": "b20195de",
   "metadata": {},
   "source": [
    "## iv) Check the Size of the DataFrames to ensure there is no high dimensionality"
   ]
  },
  {
   "cell_type": "code",
   "execution_count": 13,
   "id": "106f81d4",
   "metadata": {},
   "outputs": [
    {
     "name": "stdout",
     "output_type": "stream",
     "text": [
      "Number of observations: 10527\n"
     ]
    }
   ],
   "source": [
    "#Count the number of observations\n",
    "dataone_count = df_one.count()\n",
    "\n",
    "print(\"Number of observations:\", dataone_count)"
   ]
  },
  {
   "cell_type": "markdown",
   "id": "5e59236b",
   "metadata": {},
   "source": [
    "## Findings\n",
    "- The observations are more than the variables, hence data is a low dimension data"
   ]
  },
  {
   "cell_type": "code",
   "execution_count": 14,
   "id": "093f37a6",
   "metadata": {},
   "outputs": [
    {
     "name": "stdout",
     "output_type": "stream",
     "text": [
      "Number of observations: 11172\n"
     ]
    }
   ],
   "source": [
    "#Count the number of observations\n",
    "datatwo_count = df_two.count()\n",
    "\n",
    "print(\"Number of observations:\", datatwo_count)"
   ]
  },
  {
   "cell_type": "markdown",
   "id": "21c573c6",
   "metadata": {},
   "source": [
    "## Findings\n",
    "- The observations are more than the variables, hence data is a low dimension data"
   ]
  },
  {
   "cell_type": "code",
   "execution_count": 15,
   "id": "4f0e1622",
   "metadata": {},
   "outputs": [
    {
     "name": "stdout",
     "output_type": "stream",
     "text": [
      "root\n",
      " |-- STATISTIC: string (nullable = true)\n",
      " |-- Statistic Label: string (nullable = true)\n",
      " |-- C02363V02844: integer (nullable = true)\n",
      " |-- Consumer Item: string (nullable = true)\n",
      " |-- TLIST(M1): integer (nullable = true)\n",
      " |-- Month: string (nullable = true)\n",
      " |-- UNIT: string (nullable = true)\n",
      " |-- VALUE: double (nullable = true)\n",
      "\n",
      "root\n",
      " |-- STATISTIC: string (nullable = true)\n",
      " |-- STATISTIC Label: string (nullable = true)\n",
      " |-- TLIST(M1): integer (nullable = true)\n",
      " |-- Month: string (nullable = true)\n",
      " |-- C02363V03422: integer (nullable = true)\n",
      " |-- Consumer Item: string (nullable = true)\n",
      " |-- UNIT: string (nullable = true)\n",
      " |-- VALUE: double (nullable = true)\n",
      "\n"
     ]
    },
    {
     "data": {
      "text/plain": [
       "(None, None)"
      ]
     },
     "execution_count": 15,
     "metadata": {},
     "output_type": "execute_result"
    }
   ],
   "source": [
    "#Get the Schema for the DataFrames\n",
    "df_one.printSchema(), df_two.printSchema()"
   ]
  },
  {
   "cell_type": "markdown",
   "id": "735eadff",
   "metadata": {},
   "source": [
    "## v) Checking for outliers"
   ]
  },
  {
   "cell_type": "code",
   "execution_count": 16,
   "id": "1b75d310",
   "metadata": {},
   "outputs": [
    {
     "name": "stdout",
     "output_type": "stream",
     "text": [
      "+-------+-------------------+-------+\n",
      "|  Month|      Consumer Item|VALUE_o|\n",
      "+-------+-------------------+-------+\n",
      "|2001M12|Round steak per kg.|  false|\n",
      "|2002M01|Round steak per kg.|  false|\n",
      "|2002M02|Round steak per kg.|  false|\n",
      "|2002M03|Round steak per kg.|  false|\n",
      "|2002M04|Round steak per kg.|  false|\n",
      "|2002M05|Round steak per kg.|  false|\n",
      "|2002M06|Round steak per kg.|  false|\n",
      "|2002M07|Round steak per kg.|  false|\n",
      "|2002M08|Round steak per kg.|  false|\n",
      "|2002M09|Round steak per kg.|  false|\n",
      "|2002M10|Round steak per kg.|  false|\n",
      "|2002M11|Round steak per kg.|  false|\n",
      "|2002M12|Round steak per kg.|  false|\n",
      "|2003M01|Round steak per kg.|  false|\n",
      "|2003M02|Round steak per kg.|  false|\n",
      "|2003M03|Round steak per kg.|  false|\n",
      "|2003M04|Round steak per kg.|  false|\n",
      "|2003M05|Round steak per kg.|  false|\n",
      "|2003M06|Round steak per kg.|  false|\n",
      "|2003M07|Round steak per kg.|  false|\n",
      "+-------+-------------------+-------+\n",
      "only showing top 20 rows\n",
      "\n",
      "+-------+-----+\n",
      "|VALUE_o|count|\n",
      "+-------+-----+\n",
      "|   null| 1047|\n",
      "|   true|  510|\n",
      "|  false| 8970|\n",
      "+-------+-----+\n",
      "\n"
     ]
    }
   ],
   "source": [
    "#compute outlier bounds using the IQR method for the VALUE variable in the df_one DataFrame.\n",
    "\n",
    "cols = ['VALUE']\n",
    "bounds = {}\n",
    "\n",
    "for col in cols:\n",
    "    quantiles = df_one.approxQuantile(col, [0.25, 0.75], 0.05)\n",
    "    IQR = quantiles[1] - quantiles[0]\n",
    "    bounds[col] = [quantiles[0] - 1.5 * IQR, quantiles[1] + 1.5 * IQR]\n",
    "bounds\n",
    "\n",
    "#creates a DataFrame outliers_one that flags outliers in df_one based on the outlier bounds calculated using the IQR method above.\n",
    "outliers_one = df_one.select(*['Month','Consumer Item'] + [\n",
    "    (\n",
    "        (df_one[c] < bounds[c][0]) | \n",
    "        (df_one[c] > bounds[c][1])\n",
    "    ).alias(c + '_o') for c in cols\n",
    "])\n",
    "outliers_one.show()\n",
    "\n",
    "#Count the frequency of outliers in df_one\n",
    "outliers_one.groupby('VALUE_o').count().show()"
   ]
  },
  {
   "cell_type": "markdown",
   "id": "66a8bb23",
   "metadata": {},
   "source": [
    "## Findings\n",
    "- there are 510 outliers in dataframe df_one\n",
    "- there are 1047 null values"
   ]
  },
  {
   "cell_type": "code",
   "execution_count": 17,
   "id": "b5ea09a1",
   "metadata": {},
   "outputs": [
    {
     "name": "stdout",
     "output_type": "stream",
     "text": [
      "+-------------+--------------------+-------+\n",
      "|        Month|       Consumer Item|VALUE_o|\n",
      "+-------------+--------------------+-------+\n",
      "|2011 December|White, self raisi...|   null|\n",
      "|2011 December|Brown, wholemeal ...|   null|\n",
      "|2011 December|Bread, white slic...|   null|\n",
      "|2011 December|Bread, brown slic...|   null|\n",
      "|2011 December|  Spaghetti per 500g|   null|\n",
      "|2011 December|Sirloin steak per kg|   null|\n",
      "|2011 December|Striploin steak p...|   null|\n",
      "|2011 December|Roast beef - tops...|   null|\n",
      "|2011 December|Sliced / diced be...|   null|\n",
      "|2011 December|Pork loin chops p...|   null|\n",
      "|2011 December|   Pork steak per kg|   null|\n",
      "|2011 December|Lamb - whole leg ...|   null|\n",
      "|2011 December|Lamb loin chops p...|   null|\n",
      "|2011 December|Lamb gigot chops ...|   null|\n",
      "|2011 December|Uncooked chicken ...|   null|\n",
      "|2011 December| Lamb's liver per kg|   null|\n",
      "|2011 December|   Ham fillet per kg|   null|\n",
      "|2011 December|   Cooked ham per kg|   null|\n",
      "|2011 December|Best back rashers...|   null|\n",
      "|2011 December|Pork sausages per kg|   null|\n",
      "+-------------+--------------------+-------+\n",
      "only showing top 20 rows\n",
      "\n",
      "+-------+-----+\n",
      "|VALUE_o|count|\n",
      "+-------+-----+\n",
      "|   null| 1077|\n",
      "|   true|  618|\n",
      "|  false| 9477|\n",
      "+-------+-----+\n",
      "\n"
     ]
    }
   ],
   "source": [
    "#compute outlier bounds using the IQR method for the VALUE variable in the df_two DataFrame.\n",
    "cols = ['VALUE']\n",
    "bounds = {}\n",
    "\n",
    "for col in cols:\n",
    "    quantiles = df_two.approxQuantile(col, [0.25, 0.75], 0.05)\n",
    "    IQR = quantiles[1] - quantiles[0]\n",
    "    bounds[col] = [quantiles[0] - 1.5 * IQR, quantiles[1] + 1.5 * IQR]\n",
    "bounds\n",
    "\n",
    "\n",
    "#creates a DataFrame outliers_one that flags outliers in df_one based on the outlier bounds calculated using the IQR method above.\n",
    "outliers_two = df_two.select(*['Month','Consumer Item'] + [\n",
    "    (\n",
    "        (df_two[c] < bounds[c][0]) | \n",
    "        (df_two[c] > bounds[c][1])\n",
    "    ).alias(c + '_o') for c in cols\n",
    "])\n",
    "outliers_two.show()\n",
    "\n",
    "\n",
    "#Count number of outliers in DataFrame df_two\n",
    "outliers_two.groupby('VALUE_o').count().show()"
   ]
  },
  {
   "cell_type": "markdown",
   "id": "f4cb34fe",
   "metadata": {},
   "source": [
    "## Findings\n",
    "- there are 618 outliers\n",
    "- there are 1077 missing data "
   ]
  },
  {
   "cell_type": "markdown",
   "id": "84609086",
   "metadata": {},
   "source": [
    "## vi) Checking for Duplicates\n",
    "- Checking duplicates based on three variables, month, consumer Item and VALUE\n",
    "- Checking duplicates based on the whole data"
   ]
  },
  {
   "cell_type": "code",
   "execution_count": 18,
   "id": "13630843",
   "metadata": {},
   "outputs": [
    {
     "name": "stdout",
     "output_type": "stream",
     "text": [
      "Number of duplicates based on date: 0\n"
     ]
    }
   ],
   "source": [
    "#Drop duplicates based on Month, COnsumer Item and VALUE\n",
    "duplicated_df = df_one.dropDuplicates(['Month', 'Consumer Item','VALUE'])\n",
    "\n",
    "#count the number of duplicates\n",
    "num_duplicates = df_one.count() - duplicated_df.count()\n",
    "\n",
    "#Show the number of duplicates\n",
    "print(\"Number of duplicates based on date:\", num_duplicates)\n"
   ]
  },
  {
   "cell_type": "markdown",
   "id": "84a4a522",
   "metadata": {},
   "source": [
    "## Findings\n",
    "- There are no duplicates present"
   ]
  },
  {
   "cell_type": "code",
   "execution_count": 19,
   "id": "8df34309",
   "metadata": {},
   "outputs": [
    {
     "name": "stdout",
     "output_type": "stream",
     "text": [
      "Number of duplicates based on date: 0\n"
     ]
    }
   ],
   "source": [
    "#Drop duplicates based on Month, COnsumer Item and VALUE\n",
    "duplicated_df = df_two.dropDuplicates(['Month', 'Consumer Item','VALUE'])\n",
    "\n",
    "#Count the number of duplicates\n",
    "num_duplicates = df_two.count() - duplicated_df.count()\n",
    "\n",
    "#show the number of duplicates\n",
    "print(\"Number of duplicates based on date:\", num_duplicates)"
   ]
  },
  {
   "cell_type": "markdown",
   "id": "b4fe471f",
   "metadata": {},
   "source": [
    "## Findings\n",
    "- There are no duplicates present"
   ]
  },
  {
   "cell_type": "code",
   "execution_count": 20,
   "id": "34fc20ba",
   "metadata": {},
   "outputs": [
    {
     "name": "stdout",
     "output_type": "stream",
     "text": [
      "Count of rows: 10527\n",
      "Count of distinct rows: 10527\n"
     ]
    }
   ],
   "source": [
    "#Count for duplicates in the whole df_one DataFrame\n",
    "print('Count of rows: {0}'.format(df_one.count()))\n",
    "print('Count of distinct rows: {0}'.format(df_one.distinct().count()))"
   ]
  },
  {
   "cell_type": "code",
   "execution_count": 21,
   "id": "6ded3fd0",
   "metadata": {},
   "outputs": [
    {
     "name": "stdout",
     "output_type": "stream",
     "text": [
      "Count of rows: 11172\n"
     ]
    },
    {
     "name": "stderr",
     "output_type": "stream",
     "text": [
      "\r",
      "[Stage 60:>                                                         (0 + 1) / 1]\r"
     ]
    },
    {
     "name": "stdout",
     "output_type": "stream",
     "text": [
      "Count of distinct rows: 11172\n"
     ]
    },
    {
     "name": "stderr",
     "output_type": "stream",
     "text": [
      "\r",
      "                                                                                \r"
     ]
    }
   ],
   "source": [
    "#Count the duplicates in the whole df_two DataFrame\n",
    "print('Count of rows: {0}'.format(df_two.count()))\n",
    "print('Count of distinct rows: {0}'.format(df_two.distinct().count()))"
   ]
  },
  {
   "cell_type": "markdown",
   "id": "74205f50",
   "metadata": {},
   "source": [
    "# Step Three: Data Cleaning.\n",
    "- Dropping missing data, duplicates\n",
    "- Drop columns that will not be used.\n",
    "- Drop observations that will not be used, by considering the Consumer Item.My aim is to predict the banana price so any other item is dropped.\n",
    "- Convert the variable (month) to the correct data types which is date-time\n"
   ]
  },
  {
   "cell_type": "markdown",
   "id": "5764db7a",
   "metadata": {},
   "source": [
    "## i) Delete variables that willnot be used"
   ]
  },
  {
   "cell_type": "code",
   "execution_count": 22,
   "id": "f7223359",
   "metadata": {},
   "outputs": [
    {
     "name": "stdout",
     "output_type": "stream",
     "text": [
      "root\n",
      " |-- STATISTIC: string (nullable = true)\n",
      " |-- Statistic Label: string (nullable = true)\n",
      " |-- C02363V02844: integer (nullable = true)\n",
      " |-- Consumer Item: string (nullable = true)\n",
      " |-- TLIST(M1): integer (nullable = true)\n",
      " |-- Month: string (nullable = true)\n",
      " |-- UNIT: string (nullable = true)\n",
      " |-- VALUE: double (nullable = true)\n",
      "\n"
     ]
    }
   ],
   "source": [
    "#View the df_one Variables\n",
    "df_one.printSchema()"
   ]
  },
  {
   "cell_type": "code",
   "execution_count": 23,
   "id": "f5f46cc9",
   "metadata": {},
   "outputs": [
    {
     "name": "stdout",
     "output_type": "stream",
     "text": [
      "root\n",
      " |-- Consumer Item: string (nullable = true)\n",
      " |-- Month: string (nullable = true)\n",
      " |-- VALUE: double (nullable = true)\n",
      "\n"
     ]
    }
   ],
   "source": [
    "#Drop all columns except month, consumer item and VALUE) in df_one\n",
    "df_one = df_one.drop(\"STATISTIC\",\"STATISTIC Label\",\"TLIST(M1)\",\"UNIT\",\"C02363V02844\")\n",
    "\n",
    "#Check if the colmuns have been dropped\n",
    "df_one.printSchema()"
   ]
  },
  {
   "cell_type": "markdown",
   "id": "926c52c4",
   "metadata": {},
   "source": [
    "## Findings\n",
    "- The variables have been dropped"
   ]
  },
  {
   "cell_type": "code",
   "execution_count": 24,
   "id": "558f7039",
   "metadata": {},
   "outputs": [
    {
     "name": "stdout",
     "output_type": "stream",
     "text": [
      "root\n",
      " |-- STATISTIC: string (nullable = true)\n",
      " |-- STATISTIC Label: string (nullable = true)\n",
      " |-- TLIST(M1): integer (nullable = true)\n",
      " |-- Month: string (nullable = true)\n",
      " |-- C02363V03422: integer (nullable = true)\n",
      " |-- Consumer Item: string (nullable = true)\n",
      " |-- UNIT: string (nullable = true)\n",
      " |-- VALUE: double (nullable = true)\n",
      "\n"
     ]
    }
   ],
   "source": [
    "#View the df_two Variables\n",
    "df_two.printSchema()"
   ]
  },
  {
   "cell_type": "code",
   "execution_count": 25,
   "id": "ca03068e",
   "metadata": {},
   "outputs": [
    {
     "name": "stdout",
     "output_type": "stream",
     "text": [
      "root\n",
      " |-- Month: string (nullable = true)\n",
      " |-- Consumer Item: string (nullable = true)\n",
      " |-- VALUE: double (nullable = true)\n",
      "\n"
     ]
    }
   ],
   "source": [
    "#Drop all columns except month, consumer item and VALUE) in df_two\n",
    "df_two = df_two.drop(\"STATISTIC\",\"STATISTIC Label\",\"TLIST(M1)\",\"UNIT\",\"C02363V03422\")\n",
    "\n",
    "\n",
    "#Check if the colmuns have been dropped\n",
    "df_two.printSchema()"
   ]
  },
  {
   "cell_type": "markdown",
   "id": "29c2150c",
   "metadata": {},
   "source": [
    "## Findings\n",
    "- The variables have been dropped"
   ]
  },
  {
   "cell_type": "markdown",
   "id": "310b3c8a",
   "metadata": {},
   "source": [
    "## ii) Drop from consumer Item, everything except bananas"
   ]
  },
  {
   "cell_type": "code",
   "execution_count": 26,
   "id": "cb736f0b",
   "metadata": {},
   "outputs": [],
   "source": [
    "#Drop all other consumer items from the consumer item except bananas per kg\n",
    "df_one = df_one.filter(df_one[\"Consumer Item\"] == \"Bananas per kg.\")\n",
    "df_two = df_two.filter(df_two[\"Consumer Item\"] == \"Bananas per kg\")"
   ]
  },
  {
   "cell_type": "code",
   "execution_count": 27,
   "id": "2faa668a",
   "metadata": {},
   "outputs": [
    {
     "name": "stdout",
     "output_type": "stream",
     "text": [
      "+---------------+-------+-----+\n",
      "|Consumer Item  |Month  |VALUE|\n",
      "+---------------+-------+-----+\n",
      "|Bananas per kg.|2001M12|1.685|\n",
      "|Bananas per kg.|2002M01|1.691|\n",
      "|Bananas per kg.|2002M02|1.67 |\n",
      "|Bananas per kg.|2002M03|1.496|\n",
      "|Bananas per kg.|2002M04|1.669|\n",
      "|Bananas per kg.|2002M05|1.623|\n",
      "|Bananas per kg.|2002M06|1.652|\n",
      "|Bananas per kg.|2002M07|1.652|\n",
      "|Bananas per kg.|2002M08|1.664|\n",
      "|Bananas per kg.|2002M09|1.677|\n",
      "|Bananas per kg.|2002M10|1.694|\n",
      "|Bananas per kg.|2002M11|1.694|\n",
      "|Bananas per kg.|2002M12|1.693|\n",
      "|Bananas per kg.|2003M01|1.674|\n",
      "|Bananas per kg.|2003M02|1.671|\n",
      "|Bananas per kg.|2003M03|1.489|\n",
      "|Bananas per kg.|2003M04|1.62 |\n",
      "|Bananas per kg.|2003M05|1.513|\n",
      "|Bananas per kg.|2003M06|1.42 |\n",
      "|Bananas per kg.|2003M07|1.459|\n",
      "|Bananas per kg.|2003M08|1.456|\n",
      "|Bananas per kg.|2003M09|1.466|\n",
      "|Bananas per kg.|2003M10|1.466|\n",
      "|Bananas per kg.|2003M11|1.453|\n",
      "|Bananas per kg.|2003M12|1.438|\n",
      "|Bananas per kg.|2004M01|1.424|\n",
      "|Bananas per kg.|2004M02|1.447|\n",
      "|Bananas per kg.|2004M03|1.428|\n",
      "|Bananas per kg.|2004M04|1.352|\n",
      "|Bananas per kg.|2004M05|1.357|\n",
      "|Bananas per kg.|2004M06|1.349|\n",
      "|Bananas per kg.|2004M07|1.35 |\n",
      "|Bananas per kg.|2004M08|1.373|\n",
      "|Bananas per kg.|2004M09|1.374|\n",
      "|Bananas per kg.|2004M10|1.383|\n",
      "|Bananas per kg.|2004M11|1.377|\n",
      "|Bananas per kg.|2004M12|1.373|\n",
      "|Bananas per kg.|2005M01|1.4  |\n",
      "|Bananas per kg.|2005M02|1.394|\n",
      "|Bananas per kg.|2005M03|1.393|\n",
      "|Bananas per kg.|2005M04|1.366|\n",
      "|Bananas per kg.|2005M05|1.374|\n",
      "|Bananas per kg.|2005M06|1.35 |\n",
      "|Bananas per kg.|2005M07|1.349|\n",
      "|Bananas per kg.|2005M08|1.344|\n",
      "|Bananas per kg.|2005M09|1.318|\n",
      "|Bananas per kg.|2005M10|1.332|\n",
      "|Bananas per kg.|2005M11|1.32 |\n",
      "|Bananas per kg.|2005M12|1.338|\n",
      "|Bananas per kg.|2006M01|1.344|\n",
      "|Bananas per kg.|2006M02|1.345|\n",
      "|Bananas per kg.|2006M03|1.337|\n",
      "|Bananas per kg.|2006M04|1.339|\n",
      "|Bananas per kg.|2006M05|1.326|\n",
      "|Bananas per kg.|2006M06|1.34 |\n",
      "|Bananas per kg.|2006M07|1.349|\n",
      "|Bananas per kg.|2006M08|1.348|\n",
      "|Bananas per kg.|2006M09|1.32 |\n",
      "|Bananas per kg.|2006M10|1.319|\n",
      "|Bananas per kg.|2006M11|1.391|\n",
      "|Bananas per kg.|2006M12|1.441|\n",
      "|Bananas per kg.|2007M01|1.423|\n",
      "|Bananas per kg.|2007M02|1.437|\n",
      "|Bananas per kg.|2007M03|1.444|\n",
      "|Bananas per kg.|2007M04|1.453|\n",
      "|Bananas per kg.|2007M05|1.469|\n",
      "|Bananas per kg.|2007M06|1.487|\n",
      "|Bananas per kg.|2007M07|1.469|\n",
      "|Bananas per kg.|2007M08|1.468|\n",
      "|Bananas per kg.|2007M09|1.432|\n",
      "|Bananas per kg.|2007M10|1.444|\n",
      "|Bananas per kg.|2007M11|1.454|\n",
      "|Bananas per kg.|2007M12|1.442|\n",
      "|Bananas per kg.|2008M01|1.446|\n",
      "|Bananas per kg.|2008M02|1.435|\n",
      "|Bananas per kg.|2008M03|1.459|\n",
      "|Bananas per kg.|2008M04|1.462|\n",
      "|Bananas per kg.|2008M05|1.465|\n",
      "|Bananas per kg.|2008M06|1.467|\n",
      "|Bananas per kg.|2008M07|1.484|\n",
      "|Bananas per kg.|2008M08|1.478|\n",
      "|Bananas per kg.|2008M09|1.468|\n",
      "|Bananas per kg.|2008M10|1.468|\n",
      "|Bananas per kg.|2008M11|1.54 |\n",
      "|Bananas per kg.|2008M12|1.557|\n",
      "|Bananas per kg.|2009M01|1.563|\n",
      "|Bananas per kg.|2009M02|1.567|\n",
      "|Bananas per kg.|2009M03|1.548|\n",
      "|Bananas per kg.|2009M04|1.534|\n",
      "|Bananas per kg.|2009M05|1.473|\n",
      "|Bananas per kg.|2009M06|1.337|\n",
      "|Bananas per kg.|2009M07|1.32 |\n",
      "|Bananas per kg.|2009M08|1.332|\n",
      "|Bananas per kg.|2009M09|1.322|\n",
      "|Bananas per kg.|2009M10|1.305|\n",
      "|Bananas per kg.|2009M11|1.092|\n",
      "|Bananas per kg.|2009M12|1.072|\n",
      "|Bananas per kg.|2010M01|1.06 |\n",
      "|Bananas per kg.|2010M02|1.111|\n",
      "|Bananas per kg.|2010M03|1.104|\n",
      "|Bananas per kg.|2010M04|1.122|\n",
      "|Bananas per kg.|2010M05|1.129|\n",
      "|Bananas per kg.|2010M06|1.228|\n",
      "|Bananas per kg.|2010M07|1.266|\n",
      "|Bananas per kg.|2010M08|1.263|\n",
      "|Bananas per kg.|2010M09|1.259|\n",
      "|Bananas per kg.|2010M10|1.257|\n",
      "|Bananas per kg.|2010M11|1.267|\n",
      "|Bananas per kg.|2010M12|1.242|\n",
      "|Bananas per kg.|2011M01|1.238|\n",
      "|Bananas per kg.|2011M02|1.323|\n",
      "|Bananas per kg.|2011M03|1.35 |\n",
      "|Bananas per kg.|2011M04|1.335|\n",
      "|Bananas per kg.|2011M05|1.343|\n",
      "|Bananas per kg.|2011M06|1.339|\n",
      "|Bananas per kg.|2011M07|1.355|\n",
      "|Bananas per kg.|2011M08|1.357|\n",
      "|Bananas per kg.|2011M09|1.343|\n",
      "|Bananas per kg.|2011M10|1.345|\n",
      "|Bananas per kg.|2011M11|1.359|\n",
      "|Bananas per kg.|2011M12|1.32 |\n",
      "+---------------+-------+-----+\n",
      "\n",
      "+--------------+--------------+-----+\n",
      "|Month         |Consumer Item |VALUE|\n",
      "+--------------+--------------+-----+\n",
      "|2011 December |Bananas per kg|null |\n",
      "|2012 January  |Bananas per kg|1.33 |\n",
      "|2012 February |Bananas per kg|1.359|\n",
      "|2012 March    |Bananas per kg|1.371|\n",
      "|2012 April    |Bananas per kg|1.362|\n",
      "|2012 May      |Bananas per kg|1.375|\n",
      "|2012 June     |Bananas per kg|1.364|\n",
      "|2012 July     |Bananas per kg|1.355|\n",
      "|2012 August   |Bananas per kg|1.369|\n",
      "|2012 September|Bananas per kg|1.38 |\n",
      "|2012 October  |Bananas per kg|1.356|\n",
      "|2012 November |Bananas per kg|1.368|\n",
      "|2012 December |Bananas per kg|1.373|\n",
      "|2013 January  |Bananas per kg|1.369|\n",
      "|2013 February |Bananas per kg|1.368|\n",
      "|2013 March    |Bananas per kg|1.394|\n",
      "|2013 April    |Bananas per kg|1.375|\n",
      "|2013 May      |Bananas per kg|1.377|\n",
      "|2013 June     |Bananas per kg|1.374|\n",
      "|2013 July     |Bananas per kg|1.376|\n",
      "|2013 August   |Bananas per kg|1.38 |\n",
      "|2013 September|Bananas per kg|1.378|\n",
      "|2013 October  |Bananas per kg|1.373|\n",
      "|2013 November |Bananas per kg|1.367|\n",
      "|2013 December |Bananas per kg|1.374|\n",
      "|2014 January  |Bananas per kg|1.366|\n",
      "|2014 February |Bananas per kg|1.371|\n",
      "|2014 March    |Bananas per kg|1.375|\n",
      "|2014 April    |Bananas per kg|1.374|\n",
      "|2014 May      |Bananas per kg|1.372|\n",
      "|2014 June     |Bananas per kg|1.37 |\n",
      "|2014 July     |Bananas per kg|1.373|\n",
      "|2014 August   |Bananas per kg|1.371|\n",
      "|2014 September|Bananas per kg|1.357|\n",
      "|2014 October  |Bananas per kg|1.361|\n",
      "|2014 November |Bananas per kg|1.362|\n",
      "|2014 December |Bananas per kg|1.363|\n",
      "|2015 January  |Bananas per kg|1.363|\n",
      "|2015 February |Bananas per kg|1.362|\n",
      "|2015 March    |Bananas per kg|1.361|\n",
      "|2015 April    |Bananas per kg|1.369|\n",
      "|2015 May      |Bananas per kg|1.362|\n",
      "|2015 June     |Bananas per kg|1.361|\n",
      "|2015 July     |Bananas per kg|1.363|\n",
      "|2015 August   |Bananas per kg|1.365|\n",
      "|2015 September|Bananas per kg|1.37 |\n",
      "|2015 October  |Bananas per kg|1.378|\n",
      "|2015 November |Bananas per kg|1.387|\n",
      "|2015 December |Bananas per kg|1.382|\n",
      "|2016 January  |Bananas per kg|1.389|\n",
      "|2016 February |Bananas per kg|1.382|\n",
      "|2016 March    |Bananas per kg|1.385|\n",
      "|2016 April    |Bananas per kg|1.393|\n",
      "|2016 May      |Bananas per kg|1.396|\n",
      "|2016 June     |Bananas per kg|1.393|\n",
      "|2016 July     |Bananas per kg|1.399|\n",
      "|2016 August   |Bananas per kg|1.405|\n",
      "|2016 September|Bananas per kg|1.41 |\n",
      "|2016 October  |Bananas per kg|1.411|\n",
      "|2016 November |Bananas per kg|1.403|\n",
      "|2016 December |Bananas per kg|1.406|\n",
      "|2017 January  |Bananas per kg|1.411|\n",
      "|2017 February |Bananas per kg|1.414|\n",
      "|2017 March    |Bananas per kg|1.407|\n",
      "|2017 April    |Bananas per kg|1.405|\n",
      "|2017 May      |Bananas per kg|1.413|\n",
      "|2017 June     |Bananas per kg|1.404|\n",
      "|2017 July     |Bananas per kg|1.406|\n",
      "|2017 August   |Bananas per kg|1.411|\n",
      "|2017 September|Bananas per kg|1.412|\n",
      "|2017 October  |Bananas per kg|1.411|\n",
      "|2017 November |Bananas per kg|1.412|\n",
      "|2017 December |Bananas per kg|1.411|\n",
      "|2018 January  |Bananas per kg|1.405|\n",
      "|2018 February |Bananas per kg|1.406|\n",
      "|2018 March    |Bananas per kg|1.405|\n",
      "|2018 April    |Bananas per kg|1.4  |\n",
      "|2018 May      |Bananas per kg|1.399|\n",
      "|2018 June     |Bananas per kg|1.404|\n",
      "|2018 July     |Bananas per kg|1.404|\n",
      "|2018 August   |Bananas per kg|1.403|\n",
      "|2018 September|Bananas per kg|1.404|\n",
      "|2018 October  |Bananas per kg|1.401|\n",
      "|2018 November |Bananas per kg|1.406|\n",
      "|2018 December |Bananas per kg|1.396|\n",
      "|2019 January  |Bananas per kg|1.388|\n",
      "|2019 February |Bananas per kg|1.402|\n",
      "|2019 March    |Bananas per kg|1.401|\n",
      "|2019 April    |Bananas per kg|1.407|\n",
      "|2019 May      |Bananas per kg|1.407|\n",
      "|2019 June     |Bananas per kg|1.403|\n",
      "|2019 July     |Bananas per kg|1.404|\n",
      "|2019 August   |Bananas per kg|1.404|\n",
      "|2019 September|Bananas per kg|1.401|\n",
      "|2019 October  |Bananas per kg|1.402|\n",
      "|2019 November |Bananas per kg|1.398|\n",
      "|2019 December |Bananas per kg|1.402|\n",
      "|2020 January  |Bananas per kg|1.405|\n",
      "|2020 February |Bananas per kg|1.414|\n",
      "|2020 March    |Bananas per kg|1.418|\n",
      "|2020 April    |Bananas per kg|1.399|\n",
      "|2020 May      |Bananas per kg|1.373|\n",
      "|2020 June     |Bananas per kg|1.336|\n",
      "|2020 July     |Bananas per kg|1.476|\n",
      "|2020 August   |Bananas per kg|1.377|\n",
      "|2020 September|Bananas per kg|1.408|\n",
      "|2020 October  |Bananas per kg|1.463|\n",
      "|2020 November |Bananas per kg|1.464|\n",
      "|2020 December |Bananas per kg|1.465|\n",
      "|2021 January  |Bananas per kg|1.293|\n",
      "|2021 February |Bananas per kg|1.443|\n",
      "|2021 March    |Bananas per kg|1.443|\n",
      "|2021 April    |Bananas per kg|1.422|\n",
      "|2021 May      |Bananas per kg|1.531|\n",
      "|2021 June     |Bananas per kg|1.531|\n",
      "|2021 July     |Bananas per kg|1.531|\n",
      "|2021 August   |Bananas per kg|1.493|\n",
      "|2021 September|Bananas per kg|1.435|\n",
      "|2021 October  |Bananas per kg|1.494|\n",
      "|2021 November |Bananas per kg|1.531|\n",
      "|2021 December |Bananas per kg|1.531|\n",
      "|2022 January  |Bananas per kg|1.395|\n",
      "|2022 February |Bananas per kg|1.495|\n",
      "|2022 March    |Bananas per kg|1.484|\n",
      "|2022 April    |Bananas per kg|1.503|\n",
      "|2022 May      |Bananas per kg|1.519|\n",
      "|2022 June     |Bananas per kg|1.525|\n",
      "|2022 July     |Bananas per kg|1.527|\n",
      "|2022 August   |Bananas per kg|1.549|\n",
      "|2022 September|Bananas per kg|1.56 |\n",
      "|2022 October  |Bananas per kg|1.602|\n",
      "|2022 November |Bananas per kg|1.631|\n",
      "|2022 December |Bananas per kg|1.676|\n",
      "|2023 January  |Bananas per kg|1.677|\n",
      "|2023 February |Bananas per kg|1.689|\n",
      "|2023 March    |Bananas per kg|1.689|\n",
      "|2023 April    |Bananas per kg|1.689|\n",
      "|2023 May      |Bananas per kg|1.699|\n",
      "|2023 June     |Bananas per kg|1.699|\n",
      "|2023 July     |Bananas per kg|1.694|\n",
      "|2023 August   |Bananas per kg|1.698|\n",
      "|2023 September|Bananas per kg|1.66 |\n",
      "|2023 October  |Bananas per kg|1.72 |\n",
      "|2023 November |Bananas per kg|1.728|\n",
      "|2023 December |Bananas per kg|1.732|\n",
      "|2024 January  |Bananas per kg|1.733|\n",
      "|2024 February |Bananas per kg|1.732|\n",
      "+--------------+--------------+-----+\n",
      "\n"
     ]
    },
    {
     "data": {
      "text/plain": [
       "(None, None)"
      ]
     },
     "execution_count": 27,
     "metadata": {},
     "output_type": "execute_result"
    }
   ],
   "source": [
    "#Check if the items have been dropped\n",
    "df_one.show(n=df_one.count(), truncate=False), df_two.show(n=df_two.count(), truncate=False)"
   ]
  },
  {
   "cell_type": "markdown",
   "id": "7e1b9b90",
   "metadata": {},
   "source": [
    "## iii) Drop Missing data from the dataframes\n",
    "- check which variables have missing data\n",
    "- Drop the missing Data\n"
   ]
  },
  {
   "cell_type": "code",
   "execution_count": 28,
   "id": "58c27641",
   "metadata": {},
   "outputs": [
    {
     "name": "stdout",
     "output_type": "stream",
     "text": [
      "root\n",
      " |-- Consumer Item: string (nullable = true)\n",
      " |-- Month: string (nullable = true)\n",
      " |-- VALUE: double (nullable = true)\n",
      "\n",
      "root\n",
      " |-- Month: string (nullable = true)\n",
      " |-- Consumer Item: string (nullable = true)\n",
      " |-- VALUE: double (nullable = true)\n",
      "\n"
     ]
    },
    {
     "data": {
      "text/plain": [
       "(None, None)"
      ]
     },
     "execution_count": 28,
     "metadata": {},
     "output_type": "execute_result"
    }
   ],
   "source": [
    "#Checking for Missing data\n",
    "df_one.printSchema(), df_two.printSchema()"
   ]
  },
  {
   "cell_type": "code",
   "execution_count": 29,
   "id": "0f052bda",
   "metadata": {},
   "outputs": [],
   "source": [
    "# Drop null values from df_one\n",
    "df_one = df_one.na.drop(how='any', subset=[\"Consumer Item\", \"Month\", \"VALUE\"],thresh=1)\n",
    "\n",
    "# Drop null values from df_two\n",
    "df_two = df_two.na.drop(how='any', subset=[\"Month\", \"Consumer Item\", \"VALUE\"],thresh=1)"
   ]
  },
  {
   "cell_type": "code",
   "execution_count": 30,
   "id": "1b7a355a",
   "metadata": {},
   "outputs": [
    {
     "name": "stdout",
     "output_type": "stream",
     "text": [
      "+---------------+-------+-----+\n",
      "|Consumer Item  |Month  |VALUE|\n",
      "+---------------+-------+-----+\n",
      "|Bananas per kg.|2001M12|1.685|\n",
      "|Bananas per kg.|2002M01|1.691|\n",
      "|Bananas per kg.|2002M02|1.67 |\n",
      "|Bananas per kg.|2002M03|1.496|\n",
      "|Bananas per kg.|2002M04|1.669|\n",
      "|Bananas per kg.|2002M05|1.623|\n",
      "|Bananas per kg.|2002M06|1.652|\n",
      "|Bananas per kg.|2002M07|1.652|\n",
      "|Bananas per kg.|2002M08|1.664|\n",
      "|Bananas per kg.|2002M09|1.677|\n",
      "|Bananas per kg.|2002M10|1.694|\n",
      "|Bananas per kg.|2002M11|1.694|\n",
      "|Bananas per kg.|2002M12|1.693|\n",
      "|Bananas per kg.|2003M01|1.674|\n",
      "|Bananas per kg.|2003M02|1.671|\n",
      "|Bananas per kg.|2003M03|1.489|\n",
      "|Bananas per kg.|2003M04|1.62 |\n",
      "|Bananas per kg.|2003M05|1.513|\n",
      "|Bananas per kg.|2003M06|1.42 |\n",
      "|Bananas per kg.|2003M07|1.459|\n",
      "|Bananas per kg.|2003M08|1.456|\n",
      "|Bananas per kg.|2003M09|1.466|\n",
      "|Bananas per kg.|2003M10|1.466|\n",
      "|Bananas per kg.|2003M11|1.453|\n",
      "|Bananas per kg.|2003M12|1.438|\n",
      "|Bananas per kg.|2004M01|1.424|\n",
      "|Bananas per kg.|2004M02|1.447|\n",
      "|Bananas per kg.|2004M03|1.428|\n",
      "|Bananas per kg.|2004M04|1.352|\n",
      "|Bananas per kg.|2004M05|1.357|\n",
      "|Bananas per kg.|2004M06|1.349|\n",
      "|Bananas per kg.|2004M07|1.35 |\n",
      "|Bananas per kg.|2004M08|1.373|\n",
      "|Bananas per kg.|2004M09|1.374|\n",
      "|Bananas per kg.|2004M10|1.383|\n",
      "|Bananas per kg.|2004M11|1.377|\n",
      "|Bananas per kg.|2004M12|1.373|\n",
      "|Bananas per kg.|2005M01|1.4  |\n",
      "|Bananas per kg.|2005M02|1.394|\n",
      "|Bananas per kg.|2005M03|1.393|\n",
      "|Bananas per kg.|2005M04|1.366|\n",
      "|Bananas per kg.|2005M05|1.374|\n",
      "|Bananas per kg.|2005M06|1.35 |\n",
      "|Bananas per kg.|2005M07|1.349|\n",
      "|Bananas per kg.|2005M08|1.344|\n",
      "|Bananas per kg.|2005M09|1.318|\n",
      "|Bananas per kg.|2005M10|1.332|\n",
      "|Bananas per kg.|2005M11|1.32 |\n",
      "|Bananas per kg.|2005M12|1.338|\n",
      "|Bananas per kg.|2006M01|1.344|\n",
      "|Bananas per kg.|2006M02|1.345|\n",
      "|Bananas per kg.|2006M03|1.337|\n",
      "|Bananas per kg.|2006M04|1.339|\n",
      "|Bananas per kg.|2006M05|1.326|\n",
      "|Bananas per kg.|2006M06|1.34 |\n",
      "|Bananas per kg.|2006M07|1.349|\n",
      "|Bananas per kg.|2006M08|1.348|\n",
      "|Bananas per kg.|2006M09|1.32 |\n",
      "|Bananas per kg.|2006M10|1.319|\n",
      "|Bananas per kg.|2006M11|1.391|\n",
      "|Bananas per kg.|2006M12|1.441|\n",
      "|Bananas per kg.|2007M01|1.423|\n",
      "|Bananas per kg.|2007M02|1.437|\n",
      "|Bananas per kg.|2007M03|1.444|\n",
      "|Bananas per kg.|2007M04|1.453|\n",
      "|Bananas per kg.|2007M05|1.469|\n",
      "|Bananas per kg.|2007M06|1.487|\n",
      "|Bananas per kg.|2007M07|1.469|\n",
      "|Bananas per kg.|2007M08|1.468|\n",
      "|Bananas per kg.|2007M09|1.432|\n",
      "|Bananas per kg.|2007M10|1.444|\n",
      "|Bananas per kg.|2007M11|1.454|\n",
      "|Bananas per kg.|2007M12|1.442|\n",
      "|Bananas per kg.|2008M01|1.446|\n",
      "|Bananas per kg.|2008M02|1.435|\n",
      "|Bananas per kg.|2008M03|1.459|\n",
      "|Bananas per kg.|2008M04|1.462|\n",
      "|Bananas per kg.|2008M05|1.465|\n",
      "|Bananas per kg.|2008M06|1.467|\n",
      "|Bananas per kg.|2008M07|1.484|\n",
      "|Bananas per kg.|2008M08|1.478|\n",
      "|Bananas per kg.|2008M09|1.468|\n",
      "|Bananas per kg.|2008M10|1.468|\n",
      "|Bananas per kg.|2008M11|1.54 |\n",
      "|Bananas per kg.|2008M12|1.557|\n",
      "|Bananas per kg.|2009M01|1.563|\n",
      "|Bananas per kg.|2009M02|1.567|\n",
      "|Bananas per kg.|2009M03|1.548|\n",
      "|Bananas per kg.|2009M04|1.534|\n",
      "|Bananas per kg.|2009M05|1.473|\n",
      "|Bananas per kg.|2009M06|1.337|\n",
      "|Bananas per kg.|2009M07|1.32 |\n",
      "|Bananas per kg.|2009M08|1.332|\n",
      "|Bananas per kg.|2009M09|1.322|\n",
      "|Bananas per kg.|2009M10|1.305|\n",
      "|Bananas per kg.|2009M11|1.092|\n",
      "|Bananas per kg.|2009M12|1.072|\n",
      "|Bananas per kg.|2010M01|1.06 |\n",
      "|Bananas per kg.|2010M02|1.111|\n",
      "|Bananas per kg.|2010M03|1.104|\n",
      "|Bananas per kg.|2010M04|1.122|\n",
      "|Bananas per kg.|2010M05|1.129|\n",
      "|Bananas per kg.|2010M06|1.228|\n",
      "|Bananas per kg.|2010M07|1.266|\n",
      "|Bananas per kg.|2010M08|1.263|\n",
      "|Bananas per kg.|2010M09|1.259|\n",
      "|Bananas per kg.|2010M10|1.257|\n",
      "|Bananas per kg.|2010M11|1.267|\n",
      "|Bananas per kg.|2010M12|1.242|\n",
      "|Bananas per kg.|2011M01|1.238|\n",
      "|Bananas per kg.|2011M02|1.323|\n",
      "|Bananas per kg.|2011M03|1.35 |\n",
      "|Bananas per kg.|2011M04|1.335|\n",
      "|Bananas per kg.|2011M05|1.343|\n",
      "|Bananas per kg.|2011M06|1.339|\n",
      "|Bananas per kg.|2011M07|1.355|\n",
      "|Bananas per kg.|2011M08|1.357|\n",
      "|Bananas per kg.|2011M09|1.343|\n",
      "|Bananas per kg.|2011M10|1.345|\n",
      "|Bananas per kg.|2011M11|1.359|\n",
      "|Bananas per kg.|2011M12|1.32 |\n",
      "+---------------+-------+-----+\n",
      "\n",
      "+--------------+--------------+-----+\n",
      "|Month         |Consumer Item |VALUE|\n",
      "+--------------+--------------+-----+\n",
      "|2011 December |Bananas per kg|null |\n",
      "|2012 January  |Bananas per kg|1.33 |\n",
      "|2012 February |Bananas per kg|1.359|\n",
      "|2012 March    |Bananas per kg|1.371|\n",
      "|2012 April    |Bananas per kg|1.362|\n",
      "|2012 May      |Bananas per kg|1.375|\n",
      "|2012 June     |Bananas per kg|1.364|\n",
      "|2012 July     |Bananas per kg|1.355|\n",
      "|2012 August   |Bananas per kg|1.369|\n",
      "|2012 September|Bananas per kg|1.38 |\n",
      "|2012 October  |Bananas per kg|1.356|\n",
      "|2012 November |Bananas per kg|1.368|\n",
      "|2012 December |Bananas per kg|1.373|\n",
      "|2013 January  |Bananas per kg|1.369|\n",
      "|2013 February |Bananas per kg|1.368|\n",
      "|2013 March    |Bananas per kg|1.394|\n",
      "|2013 April    |Bananas per kg|1.375|\n",
      "|2013 May      |Bananas per kg|1.377|\n",
      "|2013 June     |Bananas per kg|1.374|\n",
      "|2013 July     |Bananas per kg|1.376|\n",
      "|2013 August   |Bananas per kg|1.38 |\n",
      "|2013 September|Bananas per kg|1.378|\n",
      "|2013 October  |Bananas per kg|1.373|\n",
      "|2013 November |Bananas per kg|1.367|\n",
      "|2013 December |Bananas per kg|1.374|\n",
      "|2014 January  |Bananas per kg|1.366|\n",
      "|2014 February |Bananas per kg|1.371|\n",
      "|2014 March    |Bananas per kg|1.375|\n",
      "|2014 April    |Bananas per kg|1.374|\n",
      "|2014 May      |Bananas per kg|1.372|\n",
      "|2014 June     |Bananas per kg|1.37 |\n",
      "|2014 July     |Bananas per kg|1.373|\n",
      "|2014 August   |Bananas per kg|1.371|\n",
      "|2014 September|Bananas per kg|1.357|\n",
      "|2014 October  |Bananas per kg|1.361|\n",
      "|2014 November |Bananas per kg|1.362|\n",
      "|2014 December |Bananas per kg|1.363|\n",
      "|2015 January  |Bananas per kg|1.363|\n",
      "|2015 February |Bananas per kg|1.362|\n",
      "|2015 March    |Bananas per kg|1.361|\n",
      "|2015 April    |Bananas per kg|1.369|\n",
      "|2015 May      |Bananas per kg|1.362|\n",
      "|2015 June     |Bananas per kg|1.361|\n",
      "|2015 July     |Bananas per kg|1.363|\n",
      "|2015 August   |Bananas per kg|1.365|\n",
      "|2015 September|Bananas per kg|1.37 |\n",
      "|2015 October  |Bananas per kg|1.378|\n",
      "|2015 November |Bananas per kg|1.387|\n",
      "|2015 December |Bananas per kg|1.382|\n",
      "|2016 January  |Bananas per kg|1.389|\n",
      "|2016 February |Bananas per kg|1.382|\n",
      "|2016 March    |Bananas per kg|1.385|\n",
      "|2016 April    |Bananas per kg|1.393|\n",
      "|2016 May      |Bananas per kg|1.396|\n",
      "|2016 June     |Bananas per kg|1.393|\n",
      "|2016 July     |Bananas per kg|1.399|\n",
      "|2016 August   |Bananas per kg|1.405|\n",
      "|2016 September|Bananas per kg|1.41 |\n",
      "|2016 October  |Bananas per kg|1.411|\n",
      "|2016 November |Bananas per kg|1.403|\n",
      "|2016 December |Bananas per kg|1.406|\n",
      "|2017 January  |Bananas per kg|1.411|\n",
      "|2017 February |Bananas per kg|1.414|\n",
      "|2017 March    |Bananas per kg|1.407|\n",
      "|2017 April    |Bananas per kg|1.405|\n",
      "|2017 May      |Bananas per kg|1.413|\n",
      "|2017 June     |Bananas per kg|1.404|\n",
      "|2017 July     |Bananas per kg|1.406|\n",
      "|2017 August   |Bananas per kg|1.411|\n",
      "|2017 September|Bananas per kg|1.412|\n",
      "|2017 October  |Bananas per kg|1.411|\n",
      "|2017 November |Bananas per kg|1.412|\n",
      "|2017 December |Bananas per kg|1.411|\n",
      "|2018 January  |Bananas per kg|1.405|\n",
      "|2018 February |Bananas per kg|1.406|\n",
      "|2018 March    |Bananas per kg|1.405|\n",
      "|2018 April    |Bananas per kg|1.4  |\n",
      "|2018 May      |Bananas per kg|1.399|\n",
      "|2018 June     |Bananas per kg|1.404|\n",
      "|2018 July     |Bananas per kg|1.404|\n",
      "|2018 August   |Bananas per kg|1.403|\n",
      "|2018 September|Bananas per kg|1.404|\n",
      "|2018 October  |Bananas per kg|1.401|\n",
      "|2018 November |Bananas per kg|1.406|\n",
      "|2018 December |Bananas per kg|1.396|\n",
      "|2019 January  |Bananas per kg|1.388|\n",
      "|2019 February |Bananas per kg|1.402|\n",
      "|2019 March    |Bananas per kg|1.401|\n",
      "|2019 April    |Bananas per kg|1.407|\n",
      "|2019 May      |Bananas per kg|1.407|\n",
      "|2019 June     |Bananas per kg|1.403|\n",
      "|2019 July     |Bananas per kg|1.404|\n",
      "|2019 August   |Bananas per kg|1.404|\n",
      "|2019 September|Bananas per kg|1.401|\n",
      "|2019 October  |Bananas per kg|1.402|\n",
      "|2019 November |Bananas per kg|1.398|\n",
      "|2019 December |Bananas per kg|1.402|\n",
      "|2020 January  |Bananas per kg|1.405|\n",
      "|2020 February |Bananas per kg|1.414|\n",
      "|2020 March    |Bananas per kg|1.418|\n",
      "|2020 April    |Bananas per kg|1.399|\n",
      "|2020 May      |Bananas per kg|1.373|\n",
      "|2020 June     |Bananas per kg|1.336|\n",
      "|2020 July     |Bananas per kg|1.476|\n",
      "|2020 August   |Bananas per kg|1.377|\n",
      "|2020 September|Bananas per kg|1.408|\n",
      "|2020 October  |Bananas per kg|1.463|\n",
      "|2020 November |Bananas per kg|1.464|\n",
      "|2020 December |Bananas per kg|1.465|\n",
      "|2021 January  |Bananas per kg|1.293|\n",
      "|2021 February |Bananas per kg|1.443|\n",
      "|2021 March    |Bananas per kg|1.443|\n",
      "|2021 April    |Bananas per kg|1.422|\n",
      "|2021 May      |Bananas per kg|1.531|\n",
      "|2021 June     |Bananas per kg|1.531|\n",
      "|2021 July     |Bananas per kg|1.531|\n",
      "|2021 August   |Bananas per kg|1.493|\n",
      "|2021 September|Bananas per kg|1.435|\n",
      "|2021 October  |Bananas per kg|1.494|\n",
      "|2021 November |Bananas per kg|1.531|\n",
      "|2021 December |Bananas per kg|1.531|\n",
      "|2022 January  |Bananas per kg|1.395|\n",
      "|2022 February |Bananas per kg|1.495|\n",
      "|2022 March    |Bananas per kg|1.484|\n",
      "|2022 April    |Bananas per kg|1.503|\n",
      "|2022 May      |Bananas per kg|1.519|\n",
      "|2022 June     |Bananas per kg|1.525|\n",
      "|2022 July     |Bananas per kg|1.527|\n",
      "|2022 August   |Bananas per kg|1.549|\n",
      "|2022 September|Bananas per kg|1.56 |\n",
      "|2022 October  |Bananas per kg|1.602|\n",
      "|2022 November |Bananas per kg|1.631|\n",
      "|2022 December |Bananas per kg|1.676|\n",
      "|2023 January  |Bananas per kg|1.677|\n",
      "|2023 February |Bananas per kg|1.689|\n",
      "|2023 March    |Bananas per kg|1.689|\n",
      "|2023 April    |Bananas per kg|1.689|\n",
      "|2023 May      |Bananas per kg|1.699|\n",
      "|2023 June     |Bananas per kg|1.699|\n",
      "|2023 July     |Bananas per kg|1.694|\n",
      "|2023 August   |Bananas per kg|1.698|\n",
      "|2023 September|Bananas per kg|1.66 |\n",
      "|2023 October  |Bananas per kg|1.72 |\n",
      "|2023 November |Bananas per kg|1.728|\n",
      "|2023 December |Bananas per kg|1.732|\n",
      "|2024 January  |Bananas per kg|1.733|\n",
      "|2024 February |Bananas per kg|1.732|\n",
      "+--------------+--------------+-----+\n",
      "\n"
     ]
    },
    {
     "data": {
      "text/plain": [
       "(None, None)"
      ]
     },
     "execution_count": 30,
     "metadata": {},
     "output_type": "execute_result"
    }
   ],
   "source": [
    "#Checking for Missing data have been dropped\n",
    "df_one.show(n=df_one.count(), truncate=False), df_two.show(n=df_two.count(), truncate=False)"
   ]
  },
  {
   "cell_type": "markdown",
   "id": "8cd88cb5",
   "metadata": {},
   "source": [
    "## Findings\n",
    "- The missing data is still ther in df_two"
   ]
  },
  {
   "cell_type": "code",
   "execution_count": 31,
   "id": "2b546166",
   "metadata": {},
   "outputs": [
    {
     "name": "stdout",
     "output_type": "stream",
     "text": [
      "+--------------+--------------+-----+\n",
      "|Month         |Consumer Item |VALUE|\n",
      "+--------------+--------------+-----+\n",
      "|2012 January  |Bananas per kg|1.33 |\n",
      "|2012 February |Bananas per kg|1.359|\n",
      "|2012 March    |Bananas per kg|1.371|\n",
      "|2012 April    |Bananas per kg|1.362|\n",
      "|2012 May      |Bananas per kg|1.375|\n",
      "|2012 June     |Bananas per kg|1.364|\n",
      "|2012 July     |Bananas per kg|1.355|\n",
      "|2012 August   |Bananas per kg|1.369|\n",
      "|2012 September|Bananas per kg|1.38 |\n",
      "|2012 October  |Bananas per kg|1.356|\n",
      "|2012 November |Bananas per kg|1.368|\n",
      "|2012 December |Bananas per kg|1.373|\n",
      "|2013 January  |Bananas per kg|1.369|\n",
      "|2013 February |Bananas per kg|1.368|\n",
      "|2013 March    |Bananas per kg|1.394|\n",
      "|2013 April    |Bananas per kg|1.375|\n",
      "|2013 May      |Bananas per kg|1.377|\n",
      "|2013 June     |Bananas per kg|1.374|\n",
      "|2013 July     |Bananas per kg|1.376|\n",
      "|2013 August   |Bananas per kg|1.38 |\n",
      "|2013 September|Bananas per kg|1.378|\n",
      "|2013 October  |Bananas per kg|1.373|\n",
      "|2013 November |Bananas per kg|1.367|\n",
      "|2013 December |Bananas per kg|1.374|\n",
      "|2014 January  |Bananas per kg|1.366|\n",
      "|2014 February |Bananas per kg|1.371|\n",
      "|2014 March    |Bananas per kg|1.375|\n",
      "|2014 April    |Bananas per kg|1.374|\n",
      "|2014 May      |Bananas per kg|1.372|\n",
      "|2014 June     |Bananas per kg|1.37 |\n",
      "|2014 July     |Bananas per kg|1.373|\n",
      "|2014 August   |Bananas per kg|1.371|\n",
      "|2014 September|Bananas per kg|1.357|\n",
      "|2014 October  |Bananas per kg|1.361|\n",
      "|2014 November |Bananas per kg|1.362|\n",
      "|2014 December |Bananas per kg|1.363|\n",
      "|2015 January  |Bananas per kg|1.363|\n",
      "|2015 February |Bananas per kg|1.362|\n",
      "|2015 March    |Bananas per kg|1.361|\n",
      "|2015 April    |Bananas per kg|1.369|\n",
      "|2015 May      |Bananas per kg|1.362|\n",
      "|2015 June     |Bananas per kg|1.361|\n",
      "|2015 July     |Bananas per kg|1.363|\n",
      "|2015 August   |Bananas per kg|1.365|\n",
      "|2015 September|Bananas per kg|1.37 |\n",
      "|2015 October  |Bananas per kg|1.378|\n",
      "|2015 November |Bananas per kg|1.387|\n",
      "|2015 December |Bananas per kg|1.382|\n",
      "|2016 January  |Bananas per kg|1.389|\n",
      "|2016 February |Bananas per kg|1.382|\n",
      "|2016 March    |Bananas per kg|1.385|\n",
      "|2016 April    |Bananas per kg|1.393|\n",
      "|2016 May      |Bananas per kg|1.396|\n",
      "|2016 June     |Bananas per kg|1.393|\n",
      "|2016 July     |Bananas per kg|1.399|\n",
      "|2016 August   |Bananas per kg|1.405|\n",
      "|2016 September|Bananas per kg|1.41 |\n",
      "|2016 October  |Bananas per kg|1.411|\n",
      "|2016 November |Bananas per kg|1.403|\n",
      "|2016 December |Bananas per kg|1.406|\n",
      "|2017 January  |Bananas per kg|1.411|\n",
      "|2017 February |Bananas per kg|1.414|\n",
      "|2017 March    |Bananas per kg|1.407|\n",
      "|2017 April    |Bananas per kg|1.405|\n",
      "|2017 May      |Bananas per kg|1.413|\n",
      "|2017 June     |Bananas per kg|1.404|\n",
      "|2017 July     |Bananas per kg|1.406|\n",
      "|2017 August   |Bananas per kg|1.411|\n",
      "|2017 September|Bananas per kg|1.412|\n",
      "|2017 October  |Bananas per kg|1.411|\n",
      "|2017 November |Bananas per kg|1.412|\n",
      "|2017 December |Bananas per kg|1.411|\n",
      "|2018 January  |Bananas per kg|1.405|\n",
      "|2018 February |Bananas per kg|1.406|\n",
      "|2018 March    |Bananas per kg|1.405|\n",
      "|2018 April    |Bananas per kg|1.4  |\n",
      "|2018 May      |Bananas per kg|1.399|\n",
      "|2018 June     |Bananas per kg|1.404|\n",
      "|2018 July     |Bananas per kg|1.404|\n",
      "|2018 August   |Bananas per kg|1.403|\n",
      "|2018 September|Bananas per kg|1.404|\n",
      "|2018 October  |Bananas per kg|1.401|\n",
      "|2018 November |Bananas per kg|1.406|\n",
      "|2018 December |Bananas per kg|1.396|\n",
      "|2019 January  |Bananas per kg|1.388|\n",
      "|2019 February |Bananas per kg|1.402|\n",
      "|2019 March    |Bananas per kg|1.401|\n",
      "|2019 April    |Bananas per kg|1.407|\n",
      "|2019 May      |Bananas per kg|1.407|\n",
      "|2019 June     |Bananas per kg|1.403|\n",
      "|2019 July     |Bananas per kg|1.404|\n",
      "|2019 August   |Bananas per kg|1.404|\n",
      "|2019 September|Bananas per kg|1.401|\n",
      "|2019 October  |Bananas per kg|1.402|\n",
      "|2019 November |Bananas per kg|1.398|\n",
      "|2019 December |Bananas per kg|1.402|\n",
      "|2020 January  |Bananas per kg|1.405|\n",
      "|2020 February |Bananas per kg|1.414|\n",
      "|2020 March    |Bananas per kg|1.418|\n",
      "|2020 April    |Bananas per kg|1.399|\n",
      "|2020 May      |Bananas per kg|1.373|\n",
      "|2020 June     |Bananas per kg|1.336|\n",
      "|2020 July     |Bananas per kg|1.476|\n",
      "|2020 August   |Bananas per kg|1.377|\n",
      "|2020 September|Bananas per kg|1.408|\n",
      "|2020 October  |Bananas per kg|1.463|\n",
      "|2020 November |Bananas per kg|1.464|\n",
      "|2020 December |Bananas per kg|1.465|\n",
      "|2021 January  |Bananas per kg|1.293|\n",
      "|2021 February |Bananas per kg|1.443|\n",
      "|2021 March    |Bananas per kg|1.443|\n",
      "|2021 April    |Bananas per kg|1.422|\n",
      "|2021 May      |Bananas per kg|1.531|\n",
      "|2021 June     |Bananas per kg|1.531|\n",
      "|2021 July     |Bananas per kg|1.531|\n",
      "|2021 August   |Bananas per kg|1.493|\n",
      "|2021 September|Bananas per kg|1.435|\n",
      "|2021 October  |Bananas per kg|1.494|\n",
      "|2021 November |Bananas per kg|1.531|\n",
      "|2021 December |Bananas per kg|1.531|\n",
      "|2022 January  |Bananas per kg|1.395|\n",
      "|2022 February |Bananas per kg|1.495|\n",
      "|2022 March    |Bananas per kg|1.484|\n",
      "|2022 April    |Bananas per kg|1.503|\n",
      "|2022 May      |Bananas per kg|1.519|\n",
      "|2022 June     |Bananas per kg|1.525|\n",
      "|2022 July     |Bananas per kg|1.527|\n",
      "|2022 August   |Bananas per kg|1.549|\n",
      "|2022 September|Bananas per kg|1.56 |\n",
      "|2022 October  |Bananas per kg|1.602|\n",
      "|2022 November |Bananas per kg|1.631|\n",
      "|2022 December |Bananas per kg|1.676|\n",
      "|2023 January  |Bananas per kg|1.677|\n",
      "|2023 February |Bananas per kg|1.689|\n",
      "|2023 March    |Bananas per kg|1.689|\n",
      "|2023 April    |Bananas per kg|1.689|\n",
      "|2023 May      |Bananas per kg|1.699|\n",
      "|2023 June     |Bananas per kg|1.699|\n",
      "|2023 July     |Bananas per kg|1.694|\n",
      "|2023 August   |Bananas per kg|1.698|\n",
      "|2023 September|Bananas per kg|1.66 |\n",
      "|2023 October  |Bananas per kg|1.72 |\n",
      "|2023 November |Bananas per kg|1.728|\n",
      "|2023 December |Bananas per kg|1.732|\n",
      "|2024 January  |Bananas per kg|1.733|\n",
      "|2024 February |Bananas per kg|1.732|\n",
      "+--------------+--------------+-----+\n",
      "\n"
     ]
    }
   ],
   "source": [
    "# Drop rows with null values\n",
    "df_two = df_two.dropna()\n",
    "\n",
    "# Show the DataFrame after dropping null values\n",
    "#Checking for Missing data have been dropped\n",
    "df_two.show(n=df_two.count(), truncate=False)\n"
   ]
  },
  {
   "cell_type": "markdown",
   "id": "3bd17eb1",
   "metadata": {},
   "source": [
    "## Drop date 2001M12 from the month variable because its the only value for that whole year in dataframe df_one"
   ]
  },
  {
   "cell_type": "code",
   "execution_count": 32,
   "id": "b909ab6e",
   "metadata": {},
   "outputs": [],
   "source": [
    "from pyspark.sql.functions import col\n",
    "\n",
    "# Filter out rows with Month equal to \"2001M12\"\n",
    "df_one = df_one.filter(col(\"Month\") != \"2001M12\")"
   ]
  },
  {
   "cell_type": "code",
   "execution_count": 33,
   "id": "f58aa22f",
   "metadata": {
    "scrolled": false
   },
   "outputs": [
    {
     "name": "stdout",
     "output_type": "stream",
     "text": [
      "+---------------+-------+-----+\n",
      "|Consumer Item  |Month  |VALUE|\n",
      "+---------------+-------+-----+\n",
      "|Bananas per kg.|2002M01|1.691|\n",
      "|Bananas per kg.|2002M02|1.67 |\n",
      "|Bananas per kg.|2002M03|1.496|\n",
      "|Bananas per kg.|2002M04|1.669|\n",
      "|Bananas per kg.|2002M05|1.623|\n",
      "|Bananas per kg.|2002M06|1.652|\n",
      "|Bananas per kg.|2002M07|1.652|\n",
      "|Bananas per kg.|2002M08|1.664|\n",
      "|Bananas per kg.|2002M09|1.677|\n",
      "|Bananas per kg.|2002M10|1.694|\n",
      "|Bananas per kg.|2002M11|1.694|\n",
      "|Bananas per kg.|2002M12|1.693|\n",
      "|Bananas per kg.|2003M01|1.674|\n",
      "|Bananas per kg.|2003M02|1.671|\n",
      "|Bananas per kg.|2003M03|1.489|\n",
      "|Bananas per kg.|2003M04|1.62 |\n",
      "|Bananas per kg.|2003M05|1.513|\n",
      "|Bananas per kg.|2003M06|1.42 |\n",
      "|Bananas per kg.|2003M07|1.459|\n",
      "|Bananas per kg.|2003M08|1.456|\n",
      "|Bananas per kg.|2003M09|1.466|\n",
      "|Bananas per kg.|2003M10|1.466|\n",
      "|Bananas per kg.|2003M11|1.453|\n",
      "|Bananas per kg.|2003M12|1.438|\n",
      "|Bananas per kg.|2004M01|1.424|\n",
      "|Bananas per kg.|2004M02|1.447|\n",
      "|Bananas per kg.|2004M03|1.428|\n",
      "|Bananas per kg.|2004M04|1.352|\n",
      "|Bananas per kg.|2004M05|1.357|\n",
      "|Bananas per kg.|2004M06|1.349|\n",
      "|Bananas per kg.|2004M07|1.35 |\n",
      "|Bananas per kg.|2004M08|1.373|\n",
      "|Bananas per kg.|2004M09|1.374|\n",
      "|Bananas per kg.|2004M10|1.383|\n",
      "|Bananas per kg.|2004M11|1.377|\n",
      "|Bananas per kg.|2004M12|1.373|\n",
      "|Bananas per kg.|2005M01|1.4  |\n",
      "|Bananas per kg.|2005M02|1.394|\n",
      "|Bananas per kg.|2005M03|1.393|\n",
      "|Bananas per kg.|2005M04|1.366|\n",
      "|Bananas per kg.|2005M05|1.374|\n",
      "|Bananas per kg.|2005M06|1.35 |\n",
      "|Bananas per kg.|2005M07|1.349|\n",
      "|Bananas per kg.|2005M08|1.344|\n",
      "|Bananas per kg.|2005M09|1.318|\n",
      "|Bananas per kg.|2005M10|1.332|\n",
      "|Bananas per kg.|2005M11|1.32 |\n",
      "|Bananas per kg.|2005M12|1.338|\n",
      "|Bananas per kg.|2006M01|1.344|\n",
      "|Bananas per kg.|2006M02|1.345|\n",
      "|Bananas per kg.|2006M03|1.337|\n",
      "|Bananas per kg.|2006M04|1.339|\n",
      "|Bananas per kg.|2006M05|1.326|\n",
      "|Bananas per kg.|2006M06|1.34 |\n",
      "|Bananas per kg.|2006M07|1.349|\n",
      "|Bananas per kg.|2006M08|1.348|\n",
      "|Bananas per kg.|2006M09|1.32 |\n",
      "|Bananas per kg.|2006M10|1.319|\n",
      "|Bananas per kg.|2006M11|1.391|\n",
      "|Bananas per kg.|2006M12|1.441|\n",
      "|Bananas per kg.|2007M01|1.423|\n",
      "|Bananas per kg.|2007M02|1.437|\n",
      "|Bananas per kg.|2007M03|1.444|\n",
      "|Bananas per kg.|2007M04|1.453|\n",
      "|Bananas per kg.|2007M05|1.469|\n",
      "|Bananas per kg.|2007M06|1.487|\n",
      "|Bananas per kg.|2007M07|1.469|\n",
      "|Bananas per kg.|2007M08|1.468|\n",
      "|Bananas per kg.|2007M09|1.432|\n",
      "|Bananas per kg.|2007M10|1.444|\n",
      "|Bananas per kg.|2007M11|1.454|\n",
      "|Bananas per kg.|2007M12|1.442|\n",
      "|Bananas per kg.|2008M01|1.446|\n",
      "|Bananas per kg.|2008M02|1.435|\n",
      "|Bananas per kg.|2008M03|1.459|\n",
      "|Bananas per kg.|2008M04|1.462|\n",
      "|Bananas per kg.|2008M05|1.465|\n",
      "|Bananas per kg.|2008M06|1.467|\n",
      "|Bananas per kg.|2008M07|1.484|\n",
      "|Bananas per kg.|2008M08|1.478|\n",
      "|Bananas per kg.|2008M09|1.468|\n",
      "|Bananas per kg.|2008M10|1.468|\n",
      "|Bananas per kg.|2008M11|1.54 |\n",
      "|Bananas per kg.|2008M12|1.557|\n",
      "|Bananas per kg.|2009M01|1.563|\n",
      "|Bananas per kg.|2009M02|1.567|\n",
      "|Bananas per kg.|2009M03|1.548|\n",
      "|Bananas per kg.|2009M04|1.534|\n",
      "|Bananas per kg.|2009M05|1.473|\n",
      "|Bananas per kg.|2009M06|1.337|\n",
      "|Bananas per kg.|2009M07|1.32 |\n",
      "|Bananas per kg.|2009M08|1.332|\n",
      "|Bananas per kg.|2009M09|1.322|\n",
      "|Bananas per kg.|2009M10|1.305|\n",
      "|Bananas per kg.|2009M11|1.092|\n",
      "|Bananas per kg.|2009M12|1.072|\n",
      "|Bananas per kg.|2010M01|1.06 |\n",
      "|Bananas per kg.|2010M02|1.111|\n",
      "|Bananas per kg.|2010M03|1.104|\n",
      "|Bananas per kg.|2010M04|1.122|\n",
      "|Bananas per kg.|2010M05|1.129|\n",
      "|Bananas per kg.|2010M06|1.228|\n",
      "|Bananas per kg.|2010M07|1.266|\n",
      "|Bananas per kg.|2010M08|1.263|\n",
      "|Bananas per kg.|2010M09|1.259|\n",
      "|Bananas per kg.|2010M10|1.257|\n",
      "|Bananas per kg.|2010M11|1.267|\n",
      "|Bananas per kg.|2010M12|1.242|\n",
      "|Bananas per kg.|2011M01|1.238|\n",
      "|Bananas per kg.|2011M02|1.323|\n",
      "|Bananas per kg.|2011M03|1.35 |\n",
      "|Bananas per kg.|2011M04|1.335|\n",
      "|Bananas per kg.|2011M05|1.343|\n",
      "|Bananas per kg.|2011M06|1.339|\n",
      "|Bananas per kg.|2011M07|1.355|\n",
      "|Bananas per kg.|2011M08|1.357|\n",
      "|Bananas per kg.|2011M09|1.343|\n",
      "|Bananas per kg.|2011M10|1.345|\n",
      "|Bananas per kg.|2011M11|1.359|\n",
      "|Bananas per kg.|2011M12|1.32 |\n",
      "+---------------+-------+-----+\n",
      "\n"
     ]
    }
   ],
   "source": [
    "#Check if the date has been dropped\n",
    "df_one.show(n=df_one.count(), truncate=False)"
   ]
  },
  {
   "cell_type": "markdown",
   "id": "6d01cd05",
   "metadata": {},
   "source": [
    "## Findings\n",
    "- the date has been dropped"
   ]
  },
  {
   "cell_type": "markdown",
   "id": "00d201f9",
   "metadata": {},
   "source": [
    "# iv) Change the data types to the correct data type for the variables\n",
    "- the value is a float, this is okay\n",
    "- the date variable is a string needs to be a date-time type\n",
    "- consumer item is string which is okay"
   ]
  },
  {
   "cell_type": "code",
   "execution_count": 34,
   "id": "74b27e41",
   "metadata": {},
   "outputs": [
    {
     "name": "stdout",
     "output_type": "stream",
     "text": [
      "+---------------+--------------+-----+\n",
      "|Consumer Item  |Month         |VALUE|\n",
      "+---------------+--------------+-----+\n",
      "|Bananas per kg.|2002 January  |1.691|\n",
      "|Bananas per kg.|2002 February |1.67 |\n",
      "|Bananas per kg.|2002 March    |1.496|\n",
      "|Bananas per kg.|2002 April    |1.669|\n",
      "|Bananas per kg.|2002 May      |1.623|\n",
      "|Bananas per kg.|2002 June     |1.652|\n",
      "|Bananas per kg.|2002 July     |1.652|\n",
      "|Bananas per kg.|2002 August   |1.664|\n",
      "|Bananas per kg.|2002 September|1.677|\n",
      "|Bananas per kg.|2002 October  |1.694|\n",
      "|Bananas per kg.|2002 November |1.694|\n",
      "|Bananas per kg.|2002 December |1.693|\n",
      "|Bananas per kg.|2003 January  |1.674|\n",
      "|Bananas per kg.|2003 February |1.671|\n",
      "|Bananas per kg.|2003 March    |1.489|\n",
      "|Bananas per kg.|2003 April    |1.62 |\n",
      "|Bananas per kg.|2003 May      |1.513|\n",
      "|Bananas per kg.|2003 June     |1.42 |\n",
      "|Bananas per kg.|2003 July     |1.459|\n",
      "|Bananas per kg.|2003 August   |1.456|\n",
      "|Bananas per kg.|2003 September|1.466|\n",
      "|Bananas per kg.|2003 October  |1.466|\n",
      "|Bananas per kg.|2003 November |1.453|\n",
      "|Bananas per kg.|2003 December |1.438|\n",
      "|Bananas per kg.|2004 January  |1.424|\n",
      "|Bananas per kg.|2004 February |1.447|\n",
      "|Bananas per kg.|2004 March    |1.428|\n",
      "|Bananas per kg.|2004 April    |1.352|\n",
      "|Bananas per kg.|2004 May      |1.357|\n",
      "|Bananas per kg.|2004 June     |1.349|\n",
      "|Bananas per kg.|2004 July     |1.35 |\n",
      "|Bananas per kg.|2004 August   |1.373|\n",
      "|Bananas per kg.|2004 September|1.374|\n",
      "|Bananas per kg.|2004 October  |1.383|\n",
      "|Bananas per kg.|2004 November |1.377|\n",
      "|Bananas per kg.|2004 December |1.373|\n",
      "|Bananas per kg.|2005 January  |1.4  |\n",
      "|Bananas per kg.|2005 February |1.394|\n",
      "|Bananas per kg.|2005 March    |1.393|\n",
      "|Bananas per kg.|2005 April    |1.366|\n",
      "|Bananas per kg.|2005 May      |1.374|\n",
      "|Bananas per kg.|2005 June     |1.35 |\n",
      "|Bananas per kg.|2005 July     |1.349|\n",
      "|Bananas per kg.|2005 August   |1.344|\n",
      "|Bananas per kg.|2005 September|1.318|\n",
      "|Bananas per kg.|2005 October  |1.332|\n",
      "|Bananas per kg.|2005 November |1.32 |\n",
      "|Bananas per kg.|2005 December |1.338|\n",
      "|Bananas per kg.|2006 January  |1.344|\n",
      "|Bananas per kg.|2006 February |1.345|\n",
      "|Bananas per kg.|2006 March    |1.337|\n",
      "|Bananas per kg.|2006 April    |1.339|\n",
      "|Bananas per kg.|2006 May      |1.326|\n",
      "|Bananas per kg.|2006 June     |1.34 |\n",
      "|Bananas per kg.|2006 July     |1.349|\n",
      "|Bananas per kg.|2006 August   |1.348|\n",
      "|Bananas per kg.|2006 September|1.32 |\n",
      "|Bananas per kg.|2006 October  |1.319|\n",
      "|Bananas per kg.|2006 November |1.391|\n",
      "|Bananas per kg.|2006 December |1.441|\n",
      "|Bananas per kg.|2007 January  |1.423|\n",
      "|Bananas per kg.|2007 February |1.437|\n",
      "|Bananas per kg.|2007 March    |1.444|\n",
      "|Bananas per kg.|2007 April    |1.453|\n",
      "|Bananas per kg.|2007 May      |1.469|\n",
      "|Bananas per kg.|2007 June     |1.487|\n",
      "|Bananas per kg.|2007 July     |1.469|\n",
      "|Bananas per kg.|2007 August   |1.468|\n",
      "|Bananas per kg.|2007 September|1.432|\n",
      "|Bananas per kg.|2007 October  |1.444|\n",
      "|Bananas per kg.|2007 November |1.454|\n",
      "|Bananas per kg.|2007 December |1.442|\n",
      "|Bananas per kg.|2008 January  |1.446|\n",
      "|Bananas per kg.|2008 February |1.435|\n",
      "|Bananas per kg.|2008 March    |1.459|\n",
      "|Bananas per kg.|2008 April    |1.462|\n",
      "|Bananas per kg.|2008 May      |1.465|\n",
      "|Bananas per kg.|2008 June     |1.467|\n",
      "|Bananas per kg.|2008 July     |1.484|\n",
      "|Bananas per kg.|2008 August   |1.478|\n",
      "|Bananas per kg.|2008 September|1.468|\n",
      "|Bananas per kg.|2008 October  |1.468|\n",
      "|Bananas per kg.|2008 November |1.54 |\n",
      "|Bananas per kg.|2008 December |1.557|\n",
      "|Bananas per kg.|2009 January  |1.563|\n",
      "|Bananas per kg.|2009 February |1.567|\n",
      "|Bananas per kg.|2009 March    |1.548|\n",
      "|Bananas per kg.|2009 April    |1.534|\n",
      "|Bananas per kg.|2009 May      |1.473|\n",
      "|Bananas per kg.|2009 June     |1.337|\n",
      "|Bananas per kg.|2009 July     |1.32 |\n",
      "|Bananas per kg.|2009 August   |1.332|\n",
      "|Bananas per kg.|2009 September|1.322|\n",
      "|Bananas per kg.|2009 October  |1.305|\n",
      "|Bananas per kg.|2009 November |1.092|\n",
      "|Bananas per kg.|2009 December |1.072|\n",
      "|Bananas per kg.|2010 January  |1.06 |\n",
      "|Bananas per kg.|2010 February |1.111|\n",
      "|Bananas per kg.|2010 March    |1.104|\n",
      "|Bananas per kg.|2010 April    |1.122|\n",
      "|Bananas per kg.|2010 May      |1.129|\n",
      "|Bananas per kg.|2010 June     |1.228|\n",
      "|Bananas per kg.|2010 July     |1.266|\n",
      "|Bananas per kg.|2010 August   |1.263|\n",
      "|Bananas per kg.|2010 September|1.259|\n",
      "|Bananas per kg.|2010 October  |1.257|\n",
      "|Bananas per kg.|2010 November |1.267|\n",
      "|Bananas per kg.|2010 December |1.242|\n",
      "|Bananas per kg.|2011 January  |1.238|\n",
      "|Bananas per kg.|2011 February |1.323|\n",
      "|Bananas per kg.|2011 March    |1.35 |\n",
      "|Bananas per kg.|2011 April    |1.335|\n",
      "|Bananas per kg.|2011 May      |1.343|\n",
      "|Bananas per kg.|2011 June     |1.339|\n",
      "|Bananas per kg.|2011 July     |1.355|\n",
      "|Bananas per kg.|2011 August   |1.357|\n",
      "|Bananas per kg.|2011 September|1.343|\n",
      "|Bananas per kg.|2011 October  |1.345|\n",
      "|Bananas per kg.|2011 November |1.359|\n",
      "|Bananas per kg.|2011 December |1.32 |\n",
      "+---------------+--------------+-----+\n",
      "\n"
     ]
    }
   ],
   "source": [
    "#Change the data type of month to date format in the two data frames\n",
    "from pyspark.sql.functions import regexp_replace\n",
    "\n",
    "# Define a dictionary mapping abbreviated month names to full month names\n",
    "month_mapping = {\n",
    "    \"M01\": \" January\",\n",
    "    \"M02\": \" February\",\n",
    "    \"M03\": \" March\",\n",
    "    \"M04\": \" April\",\n",
    "    \"M05\": \" May\",\n",
    "    \"M06\": \" June\",\n",
    "    \"M07\": \" July\",\n",
    "    \"M08\": \" August\",\n",
    "    \"M09\": \" September\",\n",
    "    \"M10\": \" October\",\n",
    "    \"M11\": \" November\",\n",
    "    \"M12\": \" December\"\n",
    "}\n",
    "\n",
    "# Create a regular expression pattern to match abbreviated month names\n",
    "pattern = \"|\".join(month_mapping.keys())\n",
    "\n",
    "# Replace abbreviated month names with full month names using regexp_replace\n",
    "for abbrev, full_name in month_mapping.items():\n",
    "    df_one = df_one.withColumn(\"Month\", regexp_replace(df_one[\"Month\"], abbrev, full_name))\n",
    "\n",
    "# Show the DataFrame\n",
    "df_one.show(n=df_one.count(), truncate=False)"
   ]
  },
  {
   "cell_type": "code",
   "execution_count": 35,
   "id": "9275fd5c",
   "metadata": {},
   "outputs": [
    {
     "name": "stdout",
     "output_type": "stream",
     "text": [
      "root\n",
      " |-- Consumer Item: string (nullable = true)\n",
      " |-- Month: string (nullable = true)\n",
      " |-- VALUE: double (nullable = true)\n",
      "\n",
      "root\n",
      " |-- Month: string (nullable = true)\n",
      " |-- Consumer Item: string (nullable = true)\n",
      " |-- VALUE: double (nullable = true)\n",
      "\n"
     ]
    },
    {
     "data": {
      "text/plain": [
       "(None, None)"
      ]
     },
     "execution_count": 35,
     "metadata": {},
     "output_type": "execute_result"
    }
   ],
   "source": [
    "#Checking the data type\n",
    "df_one.printSchema(), df_two.printSchema()"
   ]
  },
  {
   "cell_type": "code",
   "execution_count": 36,
   "id": "467dcb6c",
   "metadata": {},
   "outputs": [
    {
     "name": "stdout",
     "output_type": "stream",
     "text": [
      "+---------------+-----+--------------+\n",
      "|  Consumer Item|VALUE|          date|\n",
      "+---------------+-----+--------------+\n",
      "|Bananas per kg.|1.691|  2002 January|\n",
      "|Bananas per kg.| 1.67| 2002 February|\n",
      "|Bananas per kg.|1.496|    2002 March|\n",
      "|Bananas per kg.|1.669|    2002 April|\n",
      "|Bananas per kg.|1.623|      2002 May|\n",
      "|Bananas per kg.|1.652|     2002 June|\n",
      "|Bananas per kg.|1.652|     2002 July|\n",
      "|Bananas per kg.|1.664|   2002 August|\n",
      "|Bananas per kg.|1.677|2002 September|\n",
      "|Bananas per kg.|1.694|  2002 October|\n",
      "|Bananas per kg.|1.694| 2002 November|\n",
      "|Bananas per kg.|1.693| 2002 December|\n",
      "|Bananas per kg.|1.674|  2003 January|\n",
      "|Bananas per kg.|1.671| 2003 February|\n",
      "|Bananas per kg.|1.489|    2003 March|\n",
      "|Bananas per kg.| 1.62|    2003 April|\n",
      "|Bananas per kg.|1.513|      2003 May|\n",
      "|Bananas per kg.| 1.42|     2003 June|\n",
      "|Bananas per kg.|1.459|     2003 July|\n",
      "|Bananas per kg.|1.456|   2003 August|\n",
      "+---------------+-----+--------------+\n",
      "only showing top 20 rows\n",
      "\n"
     ]
    }
   ],
   "source": [
    "from pyspark.sql.functions import concat, lit\n",
    "\n",
    "# Extract year and month from the string column and concatenate them to form 'yyyy-MM' format\n",
    "df_one = df_one.withColumn(\"year\", df_one[\"Month\"].substr(1, 4))\n",
    "df_one = df_one.withColumn(\"month\", df_one[\"Month\"].substr(6, 100))  # Assuming the month part can be of varying length\n",
    "df_one = df_one.withColumn(\"date\", concat(df_one[\"year\"], lit(\" \"), df_one[\"month\"]))\n",
    "\n",
    "# Drop the intermediate columns if needed\n",
    "df_one = df_one.drop(\"year\", \"month\")\n",
    "\n",
    "# Show the DataFrame\n",
    "df_one.show()\n",
    "\n"
   ]
  },
  {
   "cell_type": "code",
   "execution_count": 37,
   "id": "ec403c77",
   "metadata": {},
   "outputs": [
    {
     "name": "stdout",
     "output_type": "stream",
     "text": [
      "root\n",
      " |-- Consumer Item: string (nullable = true)\n",
      " |-- VALUE: double (nullable = true)\n",
      " |-- date: string (nullable = true)\n",
      "\n",
      "root\n",
      " |-- Month: string (nullable = true)\n",
      " |-- Consumer Item: string (nullable = true)\n",
      " |-- VALUE: double (nullable = true)\n",
      "\n"
     ]
    },
    {
     "data": {
      "text/plain": [
       "(None, None)"
      ]
     },
     "execution_count": 37,
     "metadata": {},
     "output_type": "execute_result"
    }
   ],
   "source": [
    "df_one.printSchema(),df_two.printSchema()"
   ]
  },
  {
   "cell_type": "markdown",
   "id": "264b8779",
   "metadata": {},
   "source": [
    "## Step Three: Data Integration. Merging the two datasets into one"
   ]
  },
  {
   "cell_type": "code",
   "execution_count": 38,
   "id": "e7bcd774",
   "metadata": {},
   "outputs": [],
   "source": [
    "# Rename columns in df_one to match columns in df_two\n",
    "rename_mapping = {\"date_str\": \"date\", \"VALUE\": \"National Average Price(Euros)\"}\n",
    "for old_col, new_col in rename_mapping.items():\n",
    "    df_one = df_one.withColumnRenamed(old_col, new_col)"
   ]
  },
  {
   "cell_type": "code",
   "execution_count": 39,
   "id": "bbae316e",
   "metadata": {},
   "outputs": [],
   "source": [
    "# Rename columns in df_two to match columns in df_one\n",
    "rename_mapping = {\"Month\": \"date\", \"VALUE\": \"National Average Price(Euros)\"}\n",
    "for old_col, new_col in rename_mapping.items():\n",
    "    df_two = df_two.withColumnRenamed(old_col, new_col)"
   ]
  },
  {
   "cell_type": "code",
   "execution_count": 40,
   "id": "052b0a53",
   "metadata": {},
   "outputs": [
    {
     "name": "stdout",
     "output_type": "stream",
     "text": [
      "+---------------+-----------------------------+--------------+\n",
      "|  Consumer Item|National Average Price(Euros)|          date|\n",
      "+---------------+-----------------------------+--------------+\n",
      "|Bananas per kg.|                        1.691|  2002 January|\n",
      "|Bananas per kg.|                         1.67| 2002 February|\n",
      "|Bananas per kg.|                        1.496|    2002 March|\n",
      "|Bananas per kg.|                        1.669|    2002 April|\n",
      "|Bananas per kg.|                        1.623|      2002 May|\n",
      "|Bananas per kg.|                        1.652|     2002 June|\n",
      "|Bananas per kg.|                        1.652|     2002 July|\n",
      "|Bananas per kg.|                        1.664|   2002 August|\n",
      "|Bananas per kg.|                        1.677|2002 September|\n",
      "|Bananas per kg.|                        1.694|  2002 October|\n",
      "|Bananas per kg.|                        1.694| 2002 November|\n",
      "|Bananas per kg.|                        1.693| 2002 December|\n",
      "|Bananas per kg.|                        1.674|  2003 January|\n",
      "|Bananas per kg.|                        1.671| 2003 February|\n",
      "|Bananas per kg.|                        1.489|    2003 March|\n",
      "|Bananas per kg.|                         1.62|    2003 April|\n",
      "|Bananas per kg.|                        1.513|      2003 May|\n",
      "|Bananas per kg.|                         1.42|     2003 June|\n",
      "|Bananas per kg.|                        1.459|     2003 July|\n",
      "|Bananas per kg.|                        1.456|   2003 August|\n",
      "+---------------+-----------------------------+--------------+\n",
      "only showing top 20 rows\n",
      "\n",
      "+--------------+--------------+-----------------------------+\n",
      "|          date| Consumer Item|National Average Price(Euros)|\n",
      "+--------------+--------------+-----------------------------+\n",
      "|  2012 January|Bananas per kg|                         1.33|\n",
      "| 2012 February|Bananas per kg|                        1.359|\n",
      "|    2012 March|Bananas per kg|                        1.371|\n",
      "|    2012 April|Bananas per kg|                        1.362|\n",
      "|      2012 May|Bananas per kg|                        1.375|\n",
      "|     2012 June|Bananas per kg|                        1.364|\n",
      "|     2012 July|Bananas per kg|                        1.355|\n",
      "|   2012 August|Bananas per kg|                        1.369|\n",
      "|2012 September|Bananas per kg|                         1.38|\n",
      "|  2012 October|Bananas per kg|                        1.356|\n",
      "| 2012 November|Bananas per kg|                        1.368|\n",
      "| 2012 December|Bananas per kg|                        1.373|\n",
      "|  2013 January|Bananas per kg|                        1.369|\n",
      "| 2013 February|Bananas per kg|                        1.368|\n",
      "|    2013 March|Bananas per kg|                        1.394|\n",
      "|    2013 April|Bananas per kg|                        1.375|\n",
      "|      2013 May|Bananas per kg|                        1.377|\n",
      "|     2013 June|Bananas per kg|                        1.374|\n",
      "|     2013 July|Bananas per kg|                        1.376|\n",
      "|   2013 August|Bananas per kg|                         1.38|\n",
      "+--------------+--------------+-----------------------------+\n",
      "only showing top 20 rows\n",
      "\n"
     ]
    },
    {
     "data": {
      "text/plain": [
       "(None, None)"
      ]
     },
     "execution_count": 40,
     "metadata": {},
     "output_type": "execute_result"
    }
   ],
   "source": [
    "df_one.show(), df_two.show()"
   ]
  },
  {
   "cell_type": "code",
   "execution_count": 41,
   "id": "3fc07eed",
   "metadata": {},
   "outputs": [
    {
     "name": "stdout",
     "output_type": "stream",
     "text": [
      "+---------------+--------------+-----------------------------+\n",
      "|Consumer Item  |date          |National Average Price(Euros)|\n",
      "+---------------+--------------+-----------------------------+\n",
      "|Bananas per kg.|2002 January  |1.691                        |\n",
      "|Bananas per kg.|2002 February |1.67                         |\n",
      "|Bananas per kg.|2002 March    |1.496                        |\n",
      "|Bananas per kg.|2002 April    |1.669                        |\n",
      "|Bananas per kg.|2002 May      |1.623                        |\n",
      "|Bananas per kg.|2002 June     |1.652                        |\n",
      "|Bananas per kg.|2002 July     |1.652                        |\n",
      "|Bananas per kg.|2002 August   |1.664                        |\n",
      "|Bananas per kg.|2002 September|1.677                        |\n",
      "|Bananas per kg.|2002 October  |1.694                        |\n",
      "|Bananas per kg.|2002 November |1.694                        |\n",
      "|Bananas per kg.|2002 December |1.693                        |\n",
      "|Bananas per kg.|2003 January  |1.674                        |\n",
      "|Bananas per kg.|2003 February |1.671                        |\n",
      "|Bananas per kg.|2003 March    |1.489                        |\n",
      "|Bananas per kg.|2003 April    |1.62                         |\n",
      "|Bananas per kg.|2003 May      |1.513                        |\n",
      "|Bananas per kg.|2003 June     |1.42                         |\n",
      "|Bananas per kg.|2003 July     |1.459                        |\n",
      "|Bananas per kg.|2003 August   |1.456                        |\n",
      "|Bananas per kg.|2003 September|1.466                        |\n",
      "|Bananas per kg.|2003 October  |1.466                        |\n",
      "|Bananas per kg.|2003 November |1.453                        |\n",
      "|Bananas per kg.|2003 December |1.438                        |\n",
      "|Bananas per kg.|2004 January  |1.424                        |\n",
      "|Bananas per kg.|2004 February |1.447                        |\n",
      "|Bananas per kg.|2004 March    |1.428                        |\n",
      "|Bananas per kg.|2004 April    |1.352                        |\n",
      "|Bananas per kg.|2004 May      |1.357                        |\n",
      "|Bananas per kg.|2004 June     |1.349                        |\n",
      "|Bananas per kg.|2004 July     |1.35                         |\n",
      "|Bananas per kg.|2004 August   |1.373                        |\n",
      "|Bananas per kg.|2004 September|1.374                        |\n",
      "|Bananas per kg.|2004 October  |1.383                        |\n",
      "|Bananas per kg.|2004 November |1.377                        |\n",
      "|Bananas per kg.|2004 December |1.373                        |\n",
      "|Bananas per kg.|2005 January  |1.4                          |\n",
      "|Bananas per kg.|2005 February |1.394                        |\n",
      "|Bananas per kg.|2005 March    |1.393                        |\n",
      "|Bananas per kg.|2005 April    |1.366                        |\n",
      "|Bananas per kg.|2005 May      |1.374                        |\n",
      "|Bananas per kg.|2005 June     |1.35                         |\n",
      "|Bananas per kg.|2005 July     |1.349                        |\n",
      "|Bananas per kg.|2005 August   |1.344                        |\n",
      "|Bananas per kg.|2005 September|1.318                        |\n",
      "|Bananas per kg.|2005 October  |1.332                        |\n",
      "|Bananas per kg.|2005 November |1.32                         |\n",
      "|Bananas per kg.|2005 December |1.338                        |\n",
      "|Bananas per kg.|2006 January  |1.344                        |\n",
      "|Bananas per kg.|2006 February |1.345                        |\n",
      "|Bananas per kg.|2006 March    |1.337                        |\n",
      "|Bananas per kg.|2006 April    |1.339                        |\n",
      "|Bananas per kg.|2006 May      |1.326                        |\n",
      "|Bananas per kg.|2006 June     |1.34                         |\n",
      "|Bananas per kg.|2006 July     |1.349                        |\n",
      "|Bananas per kg.|2006 August   |1.348                        |\n",
      "|Bananas per kg.|2006 September|1.32                         |\n",
      "|Bananas per kg.|2006 October  |1.319                        |\n",
      "|Bananas per kg.|2006 November |1.391                        |\n",
      "|Bananas per kg.|2006 December |1.441                        |\n",
      "|Bananas per kg.|2007 January  |1.423                        |\n",
      "|Bananas per kg.|2007 February |1.437                        |\n",
      "|Bananas per kg.|2007 March    |1.444                        |\n",
      "|Bananas per kg.|2007 April    |1.453                        |\n",
      "|Bananas per kg.|2007 May      |1.469                        |\n",
      "|Bananas per kg.|2007 June     |1.487                        |\n",
      "|Bananas per kg.|2007 July     |1.469                        |\n",
      "|Bananas per kg.|2007 August   |1.468                        |\n",
      "|Bananas per kg.|2007 September|1.432                        |\n",
      "|Bananas per kg.|2007 October  |1.444                        |\n",
      "|Bananas per kg.|2007 November |1.454                        |\n",
      "|Bananas per kg.|2007 December |1.442                        |\n",
      "|Bananas per kg.|2008 January  |1.446                        |\n",
      "|Bananas per kg.|2008 February |1.435                        |\n",
      "|Bananas per kg.|2008 March    |1.459                        |\n",
      "|Bananas per kg.|2008 April    |1.462                        |\n",
      "|Bananas per kg.|2008 May      |1.465                        |\n",
      "|Bananas per kg.|2008 June     |1.467                        |\n",
      "|Bananas per kg.|2008 July     |1.484                        |\n",
      "|Bananas per kg.|2008 August   |1.478                        |\n",
      "|Bananas per kg.|2008 September|1.468                        |\n",
      "|Bananas per kg.|2008 October  |1.468                        |\n",
      "|Bananas per kg.|2008 November |1.54                         |\n",
      "|Bananas per kg.|2008 December |1.557                        |\n",
      "|Bananas per kg.|2009 January  |1.563                        |\n",
      "|Bananas per kg.|2009 February |1.567                        |\n",
      "|Bananas per kg.|2009 March    |1.548                        |\n",
      "|Bananas per kg.|2009 April    |1.534                        |\n",
      "|Bananas per kg.|2009 May      |1.473                        |\n",
      "|Bananas per kg.|2009 June     |1.337                        |\n",
      "|Bananas per kg.|2009 July     |1.32                         |\n",
      "|Bananas per kg.|2009 August   |1.332                        |\n",
      "|Bananas per kg.|2009 September|1.322                        |\n",
      "|Bananas per kg.|2009 October  |1.305                        |\n",
      "|Bananas per kg.|2009 November |1.092                        |\n",
      "|Bananas per kg.|2009 December |1.072                        |\n",
      "|Bananas per kg.|2010 January  |1.06                         |\n",
      "|Bananas per kg.|2010 February |1.111                        |\n",
      "|Bananas per kg.|2010 March    |1.104                        |\n",
      "|Bananas per kg.|2010 April    |1.122                        |\n",
      "|Bananas per kg.|2010 May      |1.129                        |\n",
      "|Bananas per kg.|2010 June     |1.228                        |\n",
      "|Bananas per kg.|2010 July     |1.266                        |\n",
      "|Bananas per kg.|2010 August   |1.263                        |\n",
      "|Bananas per kg.|2010 September|1.259                        |\n",
      "|Bananas per kg.|2010 October  |1.257                        |\n",
      "|Bananas per kg.|2010 November |1.267                        |\n",
      "|Bananas per kg.|2010 December |1.242                        |\n",
      "|Bananas per kg.|2011 January  |1.238                        |\n",
      "|Bananas per kg.|2011 February |1.323                        |\n",
      "|Bananas per kg.|2011 March    |1.35                         |\n",
      "|Bananas per kg.|2011 April    |1.335                        |\n",
      "|Bananas per kg.|2011 May      |1.343                        |\n",
      "|Bananas per kg.|2011 June     |1.339                        |\n",
      "|Bananas per kg.|2011 July     |1.355                        |\n",
      "|Bananas per kg.|2011 August   |1.357                        |\n",
      "|Bananas per kg.|2011 September|1.343                        |\n",
      "|Bananas per kg.|2011 October  |1.345                        |\n",
      "|Bananas per kg.|2011 November |1.359                        |\n",
      "|Bananas per kg.|2011 December |1.32                         |\n",
      "|Bananas per kg |2012 January  |1.33                         |\n",
      "|Bananas per kg |2012 February |1.359                        |\n",
      "|Bananas per kg |2012 March    |1.371                        |\n",
      "|Bananas per kg |2012 April    |1.362                        |\n",
      "|Bananas per kg |2012 May      |1.375                        |\n",
      "|Bananas per kg |2012 June     |1.364                        |\n",
      "|Bananas per kg |2012 July     |1.355                        |\n",
      "|Bananas per kg |2012 August   |1.369                        |\n",
      "|Bananas per kg |2012 September|1.38                         |\n",
      "|Bananas per kg |2012 October  |1.356                        |\n",
      "|Bananas per kg |2012 November |1.368                        |\n",
      "|Bananas per kg |2012 December |1.373                        |\n",
      "|Bananas per kg |2013 January  |1.369                        |\n",
      "|Bananas per kg |2013 February |1.368                        |\n",
      "|Bananas per kg |2013 March    |1.394                        |\n",
      "|Bananas per kg |2013 April    |1.375                        |\n",
      "|Bananas per kg |2013 May      |1.377                        |\n",
      "|Bananas per kg |2013 June     |1.374                        |\n",
      "|Bananas per kg |2013 July     |1.376                        |\n",
      "|Bananas per kg |2013 August   |1.38                         |\n",
      "|Bananas per kg |2013 September|1.378                        |\n",
      "|Bananas per kg |2013 October  |1.373                        |\n",
      "|Bananas per kg |2013 November |1.367                        |\n",
      "|Bananas per kg |2013 December |1.374                        |\n",
      "|Bananas per kg |2014 January  |1.366                        |\n",
      "|Bananas per kg |2014 February |1.371                        |\n",
      "|Bananas per kg |2014 March    |1.375                        |\n",
      "|Bananas per kg |2014 April    |1.374                        |\n",
      "|Bananas per kg |2014 May      |1.372                        |\n",
      "|Bananas per kg |2014 June     |1.37                         |\n",
      "|Bananas per kg |2014 July     |1.373                        |\n",
      "|Bananas per kg |2014 August   |1.371                        |\n",
      "|Bananas per kg |2014 September|1.357                        |\n",
      "|Bananas per kg |2014 October  |1.361                        |\n",
      "|Bananas per kg |2014 November |1.362                        |\n",
      "|Bananas per kg |2014 December |1.363                        |\n",
      "|Bananas per kg |2015 January  |1.363                        |\n",
      "|Bananas per kg |2015 February |1.362                        |\n",
      "|Bananas per kg |2015 March    |1.361                        |\n",
      "|Bananas per kg |2015 April    |1.369                        |\n",
      "|Bananas per kg |2015 May      |1.362                        |\n",
      "|Bananas per kg |2015 June     |1.361                        |\n",
      "|Bananas per kg |2015 July     |1.363                        |\n",
      "|Bananas per kg |2015 August   |1.365                        |\n",
      "|Bananas per kg |2015 September|1.37                         |\n",
      "|Bananas per kg |2015 October  |1.378                        |\n",
      "|Bananas per kg |2015 November |1.387                        |\n",
      "|Bananas per kg |2015 December |1.382                        |\n",
      "|Bananas per kg |2016 January  |1.389                        |\n",
      "|Bananas per kg |2016 February |1.382                        |\n",
      "|Bananas per kg |2016 March    |1.385                        |\n",
      "|Bananas per kg |2016 April    |1.393                        |\n",
      "|Bananas per kg |2016 May      |1.396                        |\n",
      "|Bananas per kg |2016 June     |1.393                        |\n",
      "|Bananas per kg |2016 July     |1.399                        |\n",
      "|Bananas per kg |2016 August   |1.405                        |\n",
      "|Bananas per kg |2016 September|1.41                         |\n",
      "|Bananas per kg |2016 October  |1.411                        |\n",
      "|Bananas per kg |2016 November |1.403                        |\n",
      "|Bananas per kg |2016 December |1.406                        |\n",
      "|Bananas per kg |2017 January  |1.411                        |\n",
      "|Bananas per kg |2017 February |1.414                        |\n",
      "|Bananas per kg |2017 March    |1.407                        |\n",
      "|Bananas per kg |2017 April    |1.405                        |\n",
      "|Bananas per kg |2017 May      |1.413                        |\n",
      "|Bananas per kg |2017 June     |1.404                        |\n",
      "|Bananas per kg |2017 July     |1.406                        |\n",
      "|Bananas per kg |2017 August   |1.411                        |\n",
      "|Bananas per kg |2017 September|1.412                        |\n",
      "|Bananas per kg |2017 October  |1.411                        |\n",
      "|Bananas per kg |2017 November |1.412                        |\n",
      "|Bananas per kg |2017 December |1.411                        |\n",
      "|Bananas per kg |2018 January  |1.405                        |\n",
      "|Bananas per kg |2018 February |1.406                        |\n",
      "|Bananas per kg |2018 March    |1.405                        |\n",
      "|Bananas per kg |2018 April    |1.4                          |\n",
      "|Bananas per kg |2018 May      |1.399                        |\n",
      "|Bananas per kg |2018 June     |1.404                        |\n",
      "|Bananas per kg |2018 July     |1.404                        |\n",
      "|Bananas per kg |2018 August   |1.403                        |\n",
      "|Bananas per kg |2018 September|1.404                        |\n",
      "|Bananas per kg |2018 October  |1.401                        |\n",
      "|Bananas per kg |2018 November |1.406                        |\n",
      "|Bananas per kg |2018 December |1.396                        |\n",
      "|Bananas per kg |2019 January  |1.388                        |\n",
      "|Bananas per kg |2019 February |1.402                        |\n",
      "|Bananas per kg |2019 March    |1.401                        |\n",
      "|Bananas per kg |2019 April    |1.407                        |\n",
      "|Bananas per kg |2019 May      |1.407                        |\n",
      "|Bananas per kg |2019 June     |1.403                        |\n",
      "|Bananas per kg |2019 July     |1.404                        |\n",
      "|Bananas per kg |2019 August   |1.404                        |\n",
      "|Bananas per kg |2019 September|1.401                        |\n",
      "|Bananas per kg |2019 October  |1.402                        |\n",
      "|Bananas per kg |2019 November |1.398                        |\n",
      "|Bananas per kg |2019 December |1.402                        |\n",
      "|Bananas per kg |2020 January  |1.405                        |\n",
      "|Bananas per kg |2020 February |1.414                        |\n",
      "|Bananas per kg |2020 March    |1.418                        |\n",
      "|Bananas per kg |2020 April    |1.399                        |\n",
      "|Bananas per kg |2020 May      |1.373                        |\n",
      "|Bananas per kg |2020 June     |1.336                        |\n",
      "|Bananas per kg |2020 July     |1.476                        |\n",
      "|Bananas per kg |2020 August   |1.377                        |\n",
      "|Bananas per kg |2020 September|1.408                        |\n",
      "|Bananas per kg |2020 October  |1.463                        |\n",
      "|Bananas per kg |2020 November |1.464                        |\n",
      "|Bananas per kg |2020 December |1.465                        |\n",
      "|Bananas per kg |2021 January  |1.293                        |\n",
      "|Bananas per kg |2021 February |1.443                        |\n",
      "|Bananas per kg |2021 March    |1.443                        |\n",
      "|Bananas per kg |2021 April    |1.422                        |\n",
      "|Bananas per kg |2021 May      |1.531                        |\n",
      "|Bananas per kg |2021 June     |1.531                        |\n",
      "|Bananas per kg |2021 July     |1.531                        |\n",
      "|Bananas per kg |2021 August   |1.493                        |\n",
      "|Bananas per kg |2021 September|1.435                        |\n",
      "|Bananas per kg |2021 October  |1.494                        |\n",
      "|Bananas per kg |2021 November |1.531                        |\n",
      "|Bananas per kg |2021 December |1.531                        |\n",
      "|Bananas per kg |2022 January  |1.395                        |\n",
      "|Bananas per kg |2022 February |1.495                        |\n",
      "|Bananas per kg |2022 March    |1.484                        |\n",
      "|Bananas per kg |2022 April    |1.503                        |\n",
      "|Bananas per kg |2022 May      |1.519                        |\n",
      "|Bananas per kg |2022 June     |1.525                        |\n",
      "|Bananas per kg |2022 July     |1.527                        |\n",
      "|Bananas per kg |2022 August   |1.549                        |\n",
      "|Bananas per kg |2022 September|1.56                         |\n",
      "|Bananas per kg |2022 October  |1.602                        |\n",
      "|Bananas per kg |2022 November |1.631                        |\n",
      "|Bananas per kg |2022 December |1.676                        |\n",
      "|Bananas per kg |2023 January  |1.677                        |\n",
      "|Bananas per kg |2023 February |1.689                        |\n",
      "|Bananas per kg |2023 March    |1.689                        |\n",
      "|Bananas per kg |2023 April    |1.689                        |\n",
      "|Bananas per kg |2023 May      |1.699                        |\n",
      "|Bananas per kg |2023 June     |1.699                        |\n",
      "|Bananas per kg |2023 July     |1.694                        |\n",
      "|Bananas per kg |2023 August   |1.698                        |\n",
      "|Bananas per kg |2023 September|1.66                         |\n",
      "|Bananas per kg |2023 October  |1.72                         |\n",
      "|Bananas per kg |2023 November |1.728                        |\n",
      "|Bananas per kg |2023 December |1.732                        |\n",
      "|Bananas per kg |2024 January  |1.733                        |\n",
      "|Bananas per kg |2024 February |1.732                        |\n",
      "+---------------+--------------+-----------------------------+\n",
      "\n"
     ]
    }
   ],
   "source": [
    "# Selecting columns in the same order\n",
    "df_one = df_one.select(\"Consumer Item\", \"date\", \"National Average Price(Euros)\")\n",
    "df_two = df_two.select(\"Consumer Item\", \"date\", \"National Average Price(Euros)\")\n",
    "\n",
    "# Performing the union operation\n",
    "merged_df = df_one.union(df_two)\n",
    "\n",
    "# Displaying the results\n",
    "merged_df.show(n=merged_df.count(), truncate=False)\n"
   ]
  },
  {
   "cell_type": "markdown",
   "id": "4ca6d453",
   "metadata": {},
   "source": [
    "## Perform EDA and Data cleaning on the merged dataframe\n",
    "- check for missing data\n",
    "- check for duplicates\n",
    "- check for outliers\n",
    "- check data types \n",
    "- check the number of observations and variables\n"
   ]
  },
  {
   "cell_type": "code",
   "execution_count": 42,
   "id": "a778c694",
   "metadata": {},
   "outputs": [
    {
     "name": "stdout",
     "output_type": "stream",
     "text": [
      "root\n",
      " |-- Consumer Item: string (nullable = true)\n",
      " |-- date: string (nullable = true)\n",
      " |-- National Average Price(Euros): double (nullable = true)\n",
      "\n"
     ]
    }
   ],
   "source": [
    "#Check for missing data\n",
    "merged_df.printSchema()"
   ]
  },
  {
   "cell_type": "code",
   "execution_count": 43,
   "id": "37a984ec",
   "metadata": {},
   "outputs": [
    {
     "name": "stdout",
     "output_type": "stream",
     "text": [
      "Count of rows: 266\n",
      "Count of distinct rows: 266\n"
     ]
    }
   ],
   "source": [
    "#check for duplicates\n",
    "print('Count of rows: {0}'.format(merged_df.count()))\n",
    "print('Count of distinct rows: {0}'.format(merged_df.distinct().count()))"
   ]
  },
  {
   "cell_type": "markdown",
   "id": "efc4c6d8",
   "metadata": {},
   "source": [
    "## Findings\n",
    "- No duplicates in merged dataframe"
   ]
  },
  {
   "cell_type": "code",
   "execution_count": 44,
   "id": "0530d86d",
   "metadata": {},
   "outputs": [
    {
     "name": "stdout",
     "output_type": "stream",
     "text": [
      "+--------------+---------------+-------------------------------+\n",
      "|          date|  Consumer Item|National Average Price(Euros)_o|\n",
      "+--------------+---------------+-------------------------------+\n",
      "|  2002 January|Bananas per kg.|                           true|\n",
      "| 2002 February|Bananas per kg.|                           true|\n",
      "|    2002 March|Bananas per kg.|                          false|\n",
      "|    2002 April|Bananas per kg.|                           true|\n",
      "|      2002 May|Bananas per kg.|                           true|\n",
      "|     2002 June|Bananas per kg.|                           true|\n",
      "|     2002 July|Bananas per kg.|                           true|\n",
      "|   2002 August|Bananas per kg.|                           true|\n",
      "|2002 September|Bananas per kg.|                           true|\n",
      "|  2002 October|Bananas per kg.|                           true|\n",
      "| 2002 November|Bananas per kg.|                           true|\n",
      "| 2002 December|Bananas per kg.|                           true|\n",
      "|  2003 January|Bananas per kg.|                           true|\n",
      "| 2003 February|Bananas per kg.|                           true|\n",
      "|    2003 March|Bananas per kg.|                          false|\n",
      "|    2003 April|Bananas per kg.|                           true|\n",
      "|      2003 May|Bananas per kg.|                          false|\n",
      "|     2003 June|Bananas per kg.|                          false|\n",
      "|     2003 July|Bananas per kg.|                          false|\n",
      "|   2003 August|Bananas per kg.|                          false|\n",
      "+--------------+---------------+-------------------------------+\n",
      "only showing top 20 rows\n",
      "\n",
      "+-------------------------------+-----+\n",
      "|National Average Price(Euros)_o|count|\n",
      "+-------------------------------+-----+\n",
      "|                           true|   39|\n",
      "|                          false|  227|\n",
      "+-------------------------------+-----+\n",
      "\n"
     ]
    }
   ],
   "source": [
    "#check for outliers\n",
    "#compute outlier bounds using the IQR method for the VALUE variable in the df_two DataFrame.\n",
    "cols = ['National Average Price(Euros)']\n",
    "bounds = {}\n",
    "\n",
    "for col in cols:\n",
    "    quantiles = merged_df.approxQuantile(col, [0.25, 0.75], 0.05)\n",
    "    IQR = quantiles[1] - quantiles[0]\n",
    "    bounds[col] = [quantiles[0] - 1.5 * IQR, quantiles[1] + 1.5 * IQR]\n",
    "bounds\n",
    "\n",
    "\n",
    "#creates a DataFrame outliers_one that flags outliers in merged_Df based on the outlier bounds calculated using the IQR method above.\n",
    "outliers_merged = merged_df.select(*['date','Consumer Item'] + [\n",
    "    (\n",
    "        (merged_df[c] < bounds[c][0]) | \n",
    "        (merged_df[c] > bounds[c][1])\n",
    "    ).alias(c + '_o') for c in cols\n",
    "])\n",
    "outliers_merged.show()\n",
    "\n",
    "\n",
    "#Count number of outliers in DataFrame df_two\n",
    "outliers_merged.groupby('National Average Price(Euros)_o').count().show()"
   ]
  },
  {
   "cell_type": "markdown",
   "id": "a058e69c",
   "metadata": {},
   "source": [
    "## Findings\n",
    "- there are 39 outliers and 1 null value"
   ]
  },
  {
   "cell_type": "code",
   "execution_count": 45,
   "id": "17edfa15",
   "metadata": {},
   "outputs": [
    {
     "data": {
      "text/plain": [
       "DataFrame[summary: string, Consumer Item: string, date: string, National Average Price(Euros): string]"
      ]
     },
     "execution_count": 45,
     "metadata": {},
     "output_type": "execute_result"
    }
   ],
   "source": [
    "#check the characteristics of the data frame and data types\n",
    "merged_df.describe()"
   ]
  },
  {
   "cell_type": "code",
   "execution_count": 46,
   "id": "4902ee19",
   "metadata": {},
   "outputs": [
    {
     "name": "stdout",
     "output_type": "stream",
     "text": [
      "Number of observations: 266\n"
     ]
    }
   ],
   "source": [
    "# Count the number of observations\n",
    "mergeddata_count = merged_df.count()\n",
    "\n",
    "print(\"Number of observations:\", mergeddata_count)"
   ]
  },
  {
   "cell_type": "markdown",
   "id": "bd8e0bc7",
   "metadata": {},
   "source": [
    "## Data Cleaning of Merged_df DataFrame\n",
    "- Remove null values\n",
    "- Handle outliers\n",
    "- change date data type to date-time data type from string"
   ]
  },
  {
   "cell_type": "markdown",
   "id": "41c0a8ad",
   "metadata": {},
   "source": [
    "### Remove Missing data"
   ]
  },
  {
   "cell_type": "code",
   "execution_count": 47,
   "id": "cada6ec7",
   "metadata": {},
   "outputs": [],
   "source": [
    "# Remove rows with missing values\n",
    "merged_df = merged_df.na.drop()"
   ]
  },
  {
   "cell_type": "code",
   "execution_count": 48,
   "id": "dac89fcf",
   "metadata": {},
   "outputs": [
    {
     "name": "stdout",
     "output_type": "stream",
     "text": [
      "+--------------+---------------+-------------------------------+\n",
      "|          date|  Consumer Item|National Average Price(Euros)_o|\n",
      "+--------------+---------------+-------------------------------+\n",
      "|  2002 January|Bananas per kg.|                           true|\n",
      "| 2002 February|Bananas per kg.|                           true|\n",
      "|    2002 March|Bananas per kg.|                          false|\n",
      "|    2002 April|Bananas per kg.|                           true|\n",
      "|      2002 May|Bananas per kg.|                           true|\n",
      "|     2002 June|Bananas per kg.|                           true|\n",
      "|     2002 July|Bananas per kg.|                           true|\n",
      "|   2002 August|Bananas per kg.|                           true|\n",
      "|2002 September|Bananas per kg.|                           true|\n",
      "|  2002 October|Bananas per kg.|                           true|\n",
      "| 2002 November|Bananas per kg.|                           true|\n",
      "| 2002 December|Bananas per kg.|                           true|\n",
      "|  2003 January|Bananas per kg.|                           true|\n",
      "| 2003 February|Bananas per kg.|                           true|\n",
      "|    2003 March|Bananas per kg.|                          false|\n",
      "|    2003 April|Bananas per kg.|                           true|\n",
      "|      2003 May|Bananas per kg.|                          false|\n",
      "|     2003 June|Bananas per kg.|                          false|\n",
      "|     2003 July|Bananas per kg.|                          false|\n",
      "|   2003 August|Bananas per kg.|                          false|\n",
      "+--------------+---------------+-------------------------------+\n",
      "only showing top 20 rows\n",
      "\n",
      "+-------------------------------+-----+\n",
      "|National Average Price(Euros)_o|count|\n",
      "+-------------------------------+-----+\n",
      "|                           true|   39|\n",
      "|                          false|  227|\n",
      "+-------------------------------+-----+\n",
      "\n"
     ]
    }
   ],
   "source": [
    "#check for outliers\n",
    "#compute outlier bounds using the IQR method for the VALUE variable in the df_two DataFrame.\n",
    "cols = ['National Average Price(Euros)']\n",
    "bounds = {}\n",
    "\n",
    "for col in cols:\n",
    "    quantiles = merged_df.approxQuantile(col, [0.25, 0.75], 0.05)\n",
    "    IQR = quantiles[1] - quantiles[0]\n",
    "    bounds[col] = [quantiles[0] - 1.5 * IQR, quantiles[1] + 1.5 * IQR]\n",
    "bounds\n",
    "\n",
    "\n",
    "#creates a DataFrame outliers_one that flags outliers in merged_Df based on the outlier bounds calculated using the IQR method above.\n",
    "outliers_merged = merged_df.select(*['date','Consumer Item'] + [\n",
    "    (\n",
    "        (merged_df[c] < bounds[c][0]) | \n",
    "        (merged_df[c] > bounds[c][1])\n",
    "    ).alias(c + '_o') for c in cols\n",
    "])\n",
    "outliers_merged.show()\n",
    "\n",
    "\n",
    "#Count number of outliers in DataFrame df_two\n",
    "outliers_merged.groupby('National Average Price(Euros)_o').count().show()"
   ]
  },
  {
   "cell_type": "markdown",
   "id": "578254ff",
   "metadata": {},
   "source": [
    "## Findings\n",
    "- The null value has been dropped\n",
    "- 39 outliers present"
   ]
  },
  {
   "cell_type": "code",
   "execution_count": 49,
   "id": "19ab5e35",
   "metadata": {},
   "outputs": [
    {
     "name": "stdout",
     "output_type": "stream",
     "text": [
      "Number of observations: 266\n"
     ]
    }
   ],
   "source": [
    "# Count the number of observations\n",
    "mergeddata_count = merged_df.count()\n",
    "\n",
    "print(\"Number of observations:\", mergeddata_count)"
   ]
  },
  {
   "cell_type": "markdown",
   "id": "d32b7817",
   "metadata": {},
   "source": [
    "## Handling outliers\n",
    "- outliers were retained in the data cause they were information outliers, and further information will be gained from them.\n",
    "- Outliers were handled by scaling the data using robust scaler"
   ]
  },
  {
   "cell_type": "markdown",
   "id": "43cd414a",
   "metadata": {},
   "source": [
    "## Formating date variable"
   ]
  },
  {
   "cell_type": "markdown",
   "id": "a48fcae7",
   "metadata": {},
   "source": [
    "from pyspark.sql.functions import to_date, date_format\n",
    "\n",
    "# Assuming df is your DataFrame and \"Date\" is the column containing the string dates\n",
    "merged_df = merged_df.withColumn(\"Date\", to_date(merged_df[\"date\"], \"yyyy MMMM\"))\n",
    "\n",
    "# Show the DataFrame schema to confirm the change\n",
    "merged_df.printSchema()"
   ]
  },
  {
   "cell_type": "code",
   "execution_count": 50,
   "id": "b9e21038",
   "metadata": {},
   "outputs": [
    {
     "name": "stdout",
     "output_type": "stream",
     "text": [
      "+---------------+--------------+-----------------------------+\n",
      "|  Consumer Item|          date|National Average Price(Euros)|\n",
      "+---------------+--------------+-----------------------------+\n",
      "|Bananas per kg.|  2002 January|                        1.691|\n",
      "|Bananas per kg.| 2002 February|                         1.67|\n",
      "|Bananas per kg.|    2002 March|                        1.496|\n",
      "|Bananas per kg.|    2002 April|                        1.669|\n",
      "|Bananas per kg.|      2002 May|                        1.623|\n",
      "|Bananas per kg.|     2002 June|                        1.652|\n",
      "|Bananas per kg.|     2002 July|                        1.652|\n",
      "|Bananas per kg.|   2002 August|                        1.664|\n",
      "|Bananas per kg.|2002 September|                        1.677|\n",
      "|Bananas per kg.|  2002 October|                        1.694|\n",
      "|Bananas per kg.| 2002 November|                        1.694|\n",
      "|Bananas per kg.| 2002 December|                        1.693|\n",
      "|Bananas per kg.|  2003 January|                        1.674|\n",
      "|Bananas per kg.| 2003 February|                        1.671|\n",
      "|Bananas per kg.|    2003 March|                        1.489|\n",
      "|Bananas per kg.|    2003 April|                         1.62|\n",
      "|Bananas per kg.|      2003 May|                        1.513|\n",
      "|Bananas per kg.|     2003 June|                         1.42|\n",
      "|Bananas per kg.|     2003 July|                        1.459|\n",
      "|Bananas per kg.|   2003 August|                        1.456|\n",
      "+---------------+--------------+-----------------------------+\n",
      "only showing top 20 rows\n",
      "\n"
     ]
    }
   ],
   "source": [
    "merged_df.show()"
   ]
  },
  {
   "cell_type": "markdown",
   "id": "167be2b7",
   "metadata": {},
   "source": [
    "# STATISTICS\n",
    "- Measures of central Tendency and measured of dispersion for variable National Average Price(Euros) = Mean, Median, Mode, Skewness, Variance, Frequency, min, max, kurtosis, standard deviation\n",
    "-"
   ]
  },
  {
   "cell_type": "code",
   "execution_count": 51,
   "id": "68e08e9a",
   "metadata": {
    "scrolled": true
   },
   "outputs": [
    {
     "name": "stdout",
     "output_type": "stream",
     "text": [
      "+-------+-----------------------------+\n",
      "|summary|National Average Price(Euros)|\n",
      "+-------+-----------------------------+\n",
      "|  count|                          266|\n",
      "|   mean|           1.4248947368421054|\n",
      "| stddev|          0.12082248092438322|\n",
      "|    min|                         1.06|\n",
      "|    max|                        1.733|\n",
      "+-------+-----------------------------+\n",
      "\n"
     ]
    }
   ],
   "source": [
    "measures_df = merged_df.describe('National Average Price(Euros)')\n",
    "measures_df.show()"
   ]
  },
  {
   "cell_type": "code",
   "execution_count": 52,
   "id": "2c113f8a",
   "metadata": {},
   "outputs": [
    {
     "name": "stdout",
     "output_type": "stream",
     "text": [
      "+-----+-----+-------------------+\n",
      "|   q1|   q3|                IQR|\n",
      "+-----+-----+-------------------+\n",
      "|1.363|1.466|0.10299999999999998|\n",
      "+-----+-----+-------------------+\n",
      "\n"
     ]
    },
    {
     "name": "stderr",
     "output_type": "stream",
     "text": [
      "\r",
      "[Stage 134:>                                                        (0 + 2) / 2]\r",
      "\r",
      "                                                                                \r"
     ]
    }
   ],
   "source": [
    "from pyspark.sql.functions import expr\n",
    "\n",
    "# Calculate quartiles\n",
    "quartiles = merged_df.agg(\n",
    "    expr(\"percentile_approx(`National Average Price(Euros)`, 0.25)\").alias(\"q1\"),\n",
    "    expr(\"percentile_approx(`National Average Price(Euros)`, 0.75)\").alias(\"q3\")\n",
    ")\n",
    "\n",
    "# Calculate IQR\n",
    "quartiles = quartiles.withColumn(\"IQR\", quartiles.q3 - quartiles.q1)\n",
    "\n",
    "# Show the quartiles and IQR\n",
    "quartiles.show()\n"
   ]
  },
  {
   "cell_type": "markdown",
   "id": "b350fe56",
   "metadata": {},
   "source": [
    "### Findings\n",
    "- THe mean is 1.425\n",
    "- min- max is 1.06-1.733"
   ]
  },
  {
   "cell_type": "code",
   "execution_count": 53,
   "id": "c5ce0d65",
   "metadata": {},
   "outputs": [
    {
     "name": "stdout",
     "output_type": "stream",
     "text": [
      "+------------------+\n",
      "|          Skewness|\n",
      "+------------------+\n",
      "|0.5206484743186012|\n",
      "+------------------+\n",
      "\n",
      "+------------------+\n",
      "|          Kurtosis|\n",
      "+------------------+\n",
      "|1.2740933454382155|\n",
      "+------------------+\n",
      "\n"
     ]
    }
   ],
   "source": [
    "from pyspark.sql import functions as F\n",
    "\n",
    "#Compute skewness\n",
    "skewness_result = merged_df.agg(F.skewness('National Average Price(Euros)').alias('Skewness'))\n",
    "\n",
    "#Compute kurtosis\n",
    "kurtosis_result = merged_df.agg(F.kurtosis('National Average Price(Euros)').alias('Kurtosis'))\n",
    "\n",
    "#Show results\n",
    "skewness_result.show()\n",
    "kurtosis_result.show()\n"
   ]
  },
  {
   "cell_type": "code",
   "execution_count": 54,
   "id": "01cd8c84",
   "metadata": {},
   "outputs": [
    {
     "name": "stderr",
     "output_type": "stream",
     "text": [
      "                                                                                \r"
     ]
    }
   ],
   "source": [
    "#Histogram\n",
    "data_driver = {'obs': merged_df.select('National Average Price(Euros)').rdd.flatMap(lambda row: row).collect()}\n"
   ]
  },
  {
   "cell_type": "code",
   "execution_count": 55,
   "id": "0ad80745",
   "metadata": {},
   "outputs": [
    {
     "data": {
      "image/png": "[encoded data removed]",
      "text/plain": [
       "<Figure size 864x648 with 1 Axes>"
      ]
     },
     "metadata": {
      "needs_background": "light"
     },
     "output_type": "display_data"
    }
   ],
   "source": [
    "# Histogram\n",
    "data_driver = {'obs': merged_df.select('National Average Price(Euros)').rdd.flatMap(lambda row: row).collect()}\n",
    "\n",
    "# Filter out None values from the data\n",
    "data_filtered = [x for x in data_driver['obs'] if x is not None]\n",
    "\n",
    "# Create histogram\n",
    "plt.figure(figsize=(12, 9))\n",
    "plt.hist(data_filtered, bins=20, edgecolor='black')\n",
    "plt.title('Histogram of National Average Price(Euros)')\n",
    "plt.xlabel('National Average Price of Bananas(Euros)')\n",
    "plt.ylabel('Frequency')\n",
    "\n",
    "# Save the histogram as an image\n",
    "plt.savefig('B05793_05_22.png', dpi=300)\n",
    "plt.show()"
   ]
  },
  {
   "cell_type": "code",
   "execution_count": 56,
   "id": "8701edf3",
   "metadata": {},
   "outputs": [
    {
     "data": {
      "image/png": "[encoded data removed]",
      "text/plain": [
       "<Figure size 864x432 with 1 Axes>"
      ]
     },
     "metadata": {
      "needs_background": "light"
     },
     "output_type": "display_data"
    }
   ],
   "source": [
    "import matplotlib.pyplot as plt\n",
    "\n",
    "# Collect data to the driver node\n",
    "dates = merged_df.select('date').rdd.flatMap(lambda row: row).collect()\n",
    "prices = merged_df.select('National Average Price(Euros)').rdd.flatMap(lambda row: row).collect()\n",
    "\n",
    "# Plot the line plot\n",
    "plt.figure(figsize=(12, 6))\n",
    "plt.plot(dates, prices, marker='o', linestyle='-')\n",
    "plt.title('Time Trend of National Average Price(Euros)')\n",
    "plt.xlabel('Date')\n",
    "plt.ylabel('Price (Euros)')\n",
    "plt.xticks(rotation=45)\n",
    "plt.grid(True)\n",
    "plt.tight_layout()\n",
    "plt.show()\n"
   ]
  },
  {
   "cell_type": "markdown",
   "id": "9c1a4e87",
   "metadata": {},
   "source": [
    "## EXPORT THE PREPROCESSED DATA TO HADOOP FOR STORAGE"
   ]
  },
  {
   "cell_type": "code",
   "execution_count": 57,
   "id": "e493f244",
   "metadata": {},
   "outputs": [
    {
     "name": "stderr",
     "output_type": "stream",
     "text": [
      "                                                                                \r"
     ]
    }
   ],
   "source": [
    "# Export preprocessed data\n",
    "preprocessed_data_path = \"hdfs://localhost:9000/preprocessed_data.csv\"\n",
    "merged_df.write.csv(preprocessed_data_path, mode=\"overwrite\", header=True)"
   ]
  },
  {
   "cell_type": "markdown",
   "id": "f00f93ec",
   "metadata": {},
   "source": [
    "# Convert the data to pandas"
   ]
  },
  {
   "cell_type": "code",
   "execution_count": 58,
   "id": "38b98cbe",
   "metadata": {},
   "outputs": [],
   "source": [
    "banana_price = merged_df.toPandas()"
   ]
  },
  {
   "cell_type": "code",
   "execution_count": 59,
   "id": "2f3daef3",
   "metadata": {},
   "outputs": [
    {
     "data": {
      "text/plain": [
       "pandas.core.frame.DataFrame"
      ]
     },
     "execution_count": 59,
     "metadata": {},
     "output_type": "execute_result"
    }
   ],
   "source": [
    "type(banana_price)"
   ]
  },
  {
   "cell_type": "code",
   "execution_count": 60,
   "id": "1ca46136",
   "metadata": {},
   "outputs": [
    {
     "data": {
      "text/html": [
       "<div>\n",
       "<style scoped>\n",
       "    .dataframe tbody tr th:only-of-type {\n",
       "        vertical-align: middle;\n",
       "    }\n",
       "\n",
       "    .dataframe tbody tr th {\n",
       "        vertical-align: top;\n",
       "    }\n",
       "\n",
       "    .dataframe thead th {\n",
       "        text-align: right;\n",
       "    }\n",
       "</style>\n",
       "<table border=\"1\" class=\"dataframe\">\n",
       "  <thead>\n",
       "    <tr style=\"text-align: right;\">\n",
       "      <th></th>\n",
       "      <th>Consumer Item</th>\n",
       "      <th>date</th>\n",
       "      <th>National Average Price(Euros)</th>\n",
       "    </tr>\n",
       "  </thead>\n",
       "  <tbody>\n",
       "    <tr>\n",
       "      <th>0</th>\n",
       "      <td>Bananas per kg.</td>\n",
       "      <td>2002 January</td>\n",
       "      <td>1.691</td>\n",
       "    </tr>\n",
       "    <tr>\n",
       "      <th>1</th>\n",
       "      <td>Bananas per kg.</td>\n",
       "      <td>2002 February</td>\n",
       "      <td>1.670</td>\n",
       "    </tr>\n",
       "    <tr>\n",
       "      <th>2</th>\n",
       "      <td>Bananas per kg.</td>\n",
       "      <td>2002 March</td>\n",
       "      <td>1.496</td>\n",
       "    </tr>\n",
       "    <tr>\n",
       "      <th>3</th>\n",
       "      <td>Bananas per kg.</td>\n",
       "      <td>2002 April</td>\n",
       "      <td>1.669</td>\n",
       "    </tr>\n",
       "    <tr>\n",
       "      <th>4</th>\n",
       "      <td>Bananas per kg.</td>\n",
       "      <td>2002 May</td>\n",
       "      <td>1.623</td>\n",
       "    </tr>\n",
       "  </tbody>\n",
       "</table>\n",
       "</div>"
      ],
      "text/plain": [
       "     Consumer Item           date  National Average Price(Euros)\n",
       "0  Bananas per kg.   2002 January                          1.691\n",
       "1  Bananas per kg.  2002 February                          1.670\n",
       "2  Bananas per kg.     2002 March                          1.496\n",
       "3  Bananas per kg.     2002 April                          1.669\n",
       "4  Bananas per kg.       2002 May                          1.623"
      ]
     },
     "execution_count": 60,
     "metadata": {},
     "output_type": "execute_result"
    }
   ],
   "source": [
    "banana_price.head()"
   ]
  },
  {
   "cell_type": "code",
   "execution_count": 61,
   "id": "29c9b574",
   "metadata": {},
   "outputs": [
    {
     "name": "stdout",
     "output_type": "stream",
     "text": [
      "<class 'pandas.core.frame.DataFrame'>\n",
      "RangeIndex: 266 entries, 0 to 265\n",
      "Data columns (total 3 columns):\n",
      " #   Column                         Non-Null Count  Dtype  \n",
      "---  ------                         --------------  -----  \n",
      " 0   Consumer Item                  266 non-null    object \n",
      " 1   date                           266 non-null    object \n",
      " 2   National Average Price(Euros)  266 non-null    float64\n",
      "dtypes: float64(1), object(2)\n",
      "memory usage: 6.4+ KB\n"
     ]
    }
   ],
   "source": [
    "banana_price.info()"
   ]
  },
  {
   "cell_type": "code",
   "execution_count": 62,
   "id": "2a1e7200",
   "metadata": {},
   "outputs": [],
   "source": [
    "# Save the DataFrame to a CSV file\n",
    "banana_price.to_csv(\"/home/hduser/Documents/Advanced-Data-Analytics-and-BIg-Data-Analytics-Project/banana_price.csv\", index=False)"
   ]
  },
  {
   "cell_type": "markdown",
   "id": "cbc3d396",
   "metadata": {},
   "source": [
    "# MACHINE LEARNING"
   ]
  },
  {
   "cell_type": "code",
   "execution_count": null,
   "id": "1260fbc4",
   "metadata": {},
   "outputs": [],
   "source": []
  }
 ],
 "metadata": {
  "kernelspec": {
   "display_name": "Python 3 (ipykernel)",
   "language": "python",
   "name": "python3"
  },
  "language_info": {
   "codemirror_mode": {
    "name": "ipython",
    "version": 3
   },
   "file_extension": ".py",
   "mimetype": "text/x-python",
   "name": "python",
   "nbconvert_exporter": "python",
   "pygments_lexer": "ipython3",
   "version": "3.10.12"
  }
 },
 "nbformat": 4,
 "nbformat_minor": 5
}
