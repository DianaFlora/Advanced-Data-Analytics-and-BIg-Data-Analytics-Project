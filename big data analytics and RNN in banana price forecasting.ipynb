{
 "cells": [
  {
   "cell_type": "markdown",
   "id": "ed9ad791",
   "metadata": {},
   "source": [
    "# BIG DATA ANALYTICS AND RNN IN BANANA PRICE FORECASTING"
   ]
  },
  {
   "cell_type": "markdown",
   "id": "69fa2679",
   "metadata": {},
   "source": [
    "## STOP ANY ACTIVE SPARK SESSION"
   ]
  },
  {
   "cell_type": "code",
   "execution_count": 1,
   "id": "f307b409",
   "metadata": {},
   "outputs": [],
   "source": [
    "from pyspark.sql import SparkSession\n",
    "\n",
    "# Stop all active Spark sessions\n",
    "SparkSession.builder.getOrCreate().stop()\n"
   ]
  },
  {
   "cell_type": "markdown",
   "id": "99b49128",
   "metadata": {},
   "source": [
    "## Import all the necessary libraries"
   ]
  },
  {
   "cell_type": "code",
   "execution_count": 2,
   "id": "cd82106e",
   "metadata": {},
   "outputs": [],
   "source": [
    "import warnings\n",
    "warnings.filterwarnings(\"ignore\")\n",
    "from pyspark.ml import Pipeline\n",
    "import os\n",
    "import numpy as np\n",
    "import pandas as pd\n",
    "import matplotlib.pyplot as plt"
   ]
  },
  {
   "cell_type": "code",
   "execution_count": 3,
   "id": "8b1dd445",
   "metadata": {},
   "outputs": [
    {
     "name": "stdout",
     "output_type": "stream",
     "text": [
      "Found 5 items\r\n",
      "-rwxrwxrwx   1 hduser supergroup    1114475 2024-03-27 10:39 /CPM04.20240327101259.csv\r\n",
      "-rwxrwxrwx   1 hduser supergroup    1197604 2024-03-27 10:39 /CPM12.20240327101308.csv\r\n",
      "drwxr-xr-x   - hduser supergroup          0 2024-03-07 10:06 /output1\r\n",
      "drwxr-xr-x   - hduser supergroup          0 2024-03-07 13:14 /output2\r\n",
      "drwxr-xr-x   - hduser supergroup          0 2024-03-14 14:03 /user1\r\n"
     ]
    }
   ],
   "source": [
    "#List the contents of the root directory in HDFS\n",
    "!hdfs dfs -ls /"
   ]
  },
  {
   "cell_type": "markdown",
   "id": "2b6dfc1d",
   "metadata": {},
   "source": [
    "## Preprocessing Data using Spark\n",
    "This process involves a series of steps. They include:-\n",
    "1. Loading 2 CSV files on national average prices of food data stored in hadoop.\n",
    "\n",
    "2. Data Exploration: Perform exploratory data analysis (EDA) \n",
    "\n",
    "3. Data integration, merging the two csv datasets\n",
    "\n",
    "4. Data Export: Export the preprocessed data to hadoop for storage"
   ]
  },
  {
   "cell_type": "markdown",
   "id": "0ac6ea76",
   "metadata": {},
   "source": [
    "## Initialize Spark Session"
   ]
  },
  {
   "cell_type": "code",
   "execution_count": 4,
   "id": "c499ad2f",
   "metadata": {},
   "outputs": [],
   "source": [
    "spark = SparkSession.builder \\\n",
    "    .appName(\"Hadoop to python\") \\\n",
    "    .getOrCreate()"
   ]
  },
  {
   "cell_type": "markdown",
   "id": "a8ad19a0",
   "metadata": {},
   "source": [
    "## Step one: Load the data from hadoop using spark"
   ]
  },
  {
   "cell_type": "code",
   "execution_count": 5,
   "id": "d950564b",
   "metadata": {},
   "outputs": [
    {
     "name": "stderr",
     "output_type": "stream",
     "text": [
      "                                                                                \r"
     ]
    },
    {
     "data": {
      "text/plain": [
       "(DataFrame[STATISTIC: string, Statistic Label: string, C02363V02844: int, Consumer Item: string, TLIST(M1): int, Month: string, UNIT: string, VALUE: double],\n",
       " DataFrame[STATISTIC: string, STATISTIC Label: string, TLIST(M1): int, Month: string, C02363V03422: int, Consumer Item: string, UNIT: string, VALUE: double])"
      ]
     },
     "execution_count": 5,
     "metadata": {},
     "output_type": "execute_result"
    }
   ],
   "source": [
    "#The two datasets hadoop path\n",
    "dataset_one = \"hdfs://localhost:9000/CPM04.20240327101259.csv\"\n",
    "dataset_two = \"hdfs://localhost:9000/CPM12.20240327101308.csv\"\n",
    "\n",
    "#Create spark DataFrames for the two datasets\n",
    "df_one = spark.read.csv(dataset_one, header=True, inferSchema=True)\n",
    "df_two = spark.read.csv(dataset_two, header=True, inferSchema=True)\n",
    "\n",
    "#View the two DataFRames\n",
    "df_one, df_two"
   ]
  },
  {
   "cell_type": "markdown",
   "id": "eb11273b",
   "metadata": {},
   "source": [
    "## Step Two: Performing Explorartory Data Analysis (EDA)"
   ]
  },
  {
   "cell_type": "code",
   "execution_count": 6,
   "id": "d6de18c2",
   "metadata": {},
   "outputs": [
    {
     "data": {
      "text/plain": [
       "[Row(STATISTIC='CPM04', Statistic Label='National Average  Price', C02363V02844=10010, Consumer Item='Round steak per kg.', TLIST(M1)=200112, Month='2001M12', UNIT='Euro', VALUE=8.414),\n",
       " Row(STATISTIC='CPM04', Statistic Label='National Average  Price', C02363V02844=10010, Consumer Item='Round steak per kg.', TLIST(M1)=200201, Month='2002M01', UNIT='Euro', VALUE=8.696)]"
      ]
     },
     "execution_count": 6,
     "metadata": {},
     "output_type": "execute_result"
    }
   ],
   "source": [
    "#View the first two observations of dataset one\n",
    "df_one.head(2)"
   ]
  },
  {
   "cell_type": "code",
   "execution_count": 7,
   "id": "d0379bfa",
   "metadata": {},
   "outputs": [
    {
     "data": {
      "text/plain": [
       "[Row(STATISTIC='CPM12', STATISTIC Label='National Average Price', TLIST(M1)=201112, Month='2011 December', C02363V03422=10020, Consumer Item='White, self raising flour per 2 kg', UNIT='Euro', VALUE=None),\n",
       " Row(STATISTIC='CPM12', STATISTIC Label='National Average Price', TLIST(M1)=201112, Month='2011 December', C02363V03422=10030, Consumer Item='Brown, wholemeal flour per 2 kg', UNIT='Euro', VALUE=None)]"
      ]
     },
     "execution_count": 7,
     "metadata": {},
     "output_type": "execute_result"
    }
   ],
   "source": [
    "#View the first two observations fo dataset two \n",
    "df_two.head(2)"
   ]
  },
  {
   "cell_type": "code",
   "execution_count": 8,
   "id": "152dbff6",
   "metadata": {},
   "outputs": [
    {
     "name": "stdout",
     "output_type": "stream",
     "text": [
      "root\n",
      " |-- STATISTIC: string (nullable = true)\n",
      " |-- Statistic Label: string (nullable = true)\n",
      " |-- C02363V02844: integer (nullable = true)\n",
      " |-- Consumer Item: string (nullable = true)\n",
      " |-- TLIST(M1): integer (nullable = true)\n",
      " |-- Month: string (nullable = true)\n",
      " |-- UNIT: string (nullable = true)\n",
      " |-- VALUE: double (nullable = true)\n",
      "\n"
     ]
    }
   ],
   "source": [
    "#Get the Schema for dataset one\n",
    "df_one.printSchema()"
   ]
  },
  {
   "cell_type": "markdown",
   "id": "4a2fb6f4",
   "metadata": {},
   "source": [
    "## Findings\n",
    "Shows there is missing data in all the variables"
   ]
  },
  {
   "cell_type": "code",
   "execution_count": 9,
   "id": "ef95b719",
   "metadata": {},
   "outputs": [
    {
     "name": "stdout",
     "output_type": "stream",
     "text": [
      "root\n",
      " |-- STATISTIC: string (nullable = true)\n",
      " |-- STATISTIC Label: string (nullable = true)\n",
      " |-- TLIST(M1): integer (nullable = true)\n",
      " |-- Month: string (nullable = true)\n",
      " |-- C02363V03422: integer (nullable = true)\n",
      " |-- Consumer Item: string (nullable = true)\n",
      " |-- UNIT: string (nullable = true)\n",
      " |-- VALUE: double (nullable = true)\n",
      "\n"
     ]
    }
   ],
   "source": [
    "#Get the Schema for dataset two\n",
    "df_two.printSchema()"
   ]
  },
  {
   "cell_type": "markdown",
   "id": "c6bfc740",
   "metadata": {},
   "source": [
    "## Findings\n",
    "SHows there is missing data in all the variables"
   ]
  },
  {
   "cell_type": "code",
   "execution_count": 10,
   "id": "4ba40a6f",
   "metadata": {},
   "outputs": [
    {
     "data": {
      "text/plain": [
       "(DataFrame[summary: string, STATISTIC: string, Statistic Label: string, C02363V02844: string, Consumer Item: string, TLIST(M1): string, Month: string, UNIT: string, VALUE: string],\n",
       " DataFrame[summary: string, STATISTIC: string, STATISTIC Label: string, TLIST(M1): string, Month: string, C02363V03422: string, Consumer Item: string, UNIT: string, VALUE: string])"
      ]
     },
     "execution_count": 10,
     "metadata": {},
     "output_type": "execute_result"
    }
   ],
   "source": [
    "#Check the cahracteristics of the datasets\n",
    "df_one.describe(), df_two.describe()"
   ]
  },
  {
   "cell_type": "code",
   "execution_count": 11,
   "id": "82535c9d",
   "metadata": {},
   "outputs": [
    {
     "name": "stdout",
     "output_type": "stream",
     "text": [
      "Number of observations: 10527\n"
     ]
    }
   ],
   "source": [
    "# Count the number of observations\n",
    "dataone_count = df_one.count()\n",
    "\n",
    "print(\"Number of observations:\", dataone_count)"
   ]
  },
  {
   "cell_type": "code",
   "execution_count": 12,
   "id": "ae45a436",
   "metadata": {},
   "outputs": [
    {
     "name": "stdout",
     "output_type": "stream",
     "text": [
      "Number of observations: 11172\n"
     ]
    }
   ],
   "source": [
    "# Count the number of observations\n",
    "datatwo_count = df_two.count()\n",
    "\n",
    "print(\"Number of observations:\", datatwo_count)"
   ]
  },
  {
   "cell_type": "markdown",
   "id": "0feca14a",
   "metadata": {},
   "source": [
    "# Delete variables that will be unused"
   ]
  },
  {
   "cell_type": "code",
   "execution_count": 13,
   "id": "39f75ccb",
   "metadata": {},
   "outputs": [
    {
     "name": "stdout",
     "output_type": "stream",
     "text": [
      "+---------+--------------------+------------+-------------------+---------+-------+----+-----+\n",
      "|STATISTIC|     Statistic Label|C02363V02844|      Consumer Item|TLIST(M1)|  Month|UNIT|VALUE|\n",
      "+---------+--------------------+------------+-------------------+---------+-------+----+-----+\n",
      "|    CPM04|National Average ...|       10010|Round steak per kg.|   200112|2001M12|Euro|8.414|\n",
      "|    CPM04|National Average ...|       10010|Round steak per kg.|   200201|2002M01|Euro|8.696|\n",
      "|    CPM04|National Average ...|       10010|Round steak per kg.|   200202|2002M02|Euro|8.643|\n",
      "|    CPM04|National Average ...|       10010|Round steak per kg.|   200203|2002M03|Euro|8.791|\n",
      "|    CPM04|National Average ...|       10010|Round steak per kg.|   200204|2002M04|Euro|8.599|\n",
      "|    CPM04|National Average ...|       10010|Round steak per kg.|   200205|2002M05|Euro|8.607|\n",
      "|    CPM04|National Average ...|       10010|Round steak per kg.|   200206|2002M06|Euro|8.742|\n",
      "|    CPM04|National Average ...|       10010|Round steak per kg.|   200207|2002M07|Euro|8.733|\n",
      "|    CPM04|National Average ...|       10010|Round steak per kg.|   200208|2002M08|Euro|8.806|\n",
      "|    CPM04|National Average ...|       10010|Round steak per kg.|   200209|2002M09|Euro|8.696|\n",
      "|    CPM04|National Average ...|       10010|Round steak per kg.|   200210|2002M10|Euro|8.838|\n",
      "|    CPM04|National Average ...|       10010|Round steak per kg.|   200211|2002M11|Euro| 8.79|\n",
      "|    CPM04|National Average ...|       10010|Round steak per kg.|   200212|2002M12|Euro|8.887|\n",
      "|    CPM04|National Average ...|       10010|Round steak per kg.|   200301|2003M01|Euro|  8.9|\n",
      "|    CPM04|National Average ...|       10010|Round steak per kg.|   200302|2003M02|Euro|8.399|\n",
      "|    CPM04|National Average ...|       10010|Round steak per kg.|   200303|2003M03|Euro|8.876|\n",
      "|    CPM04|National Average ...|       10010|Round steak per kg.|   200304|2003M04|Euro| 8.87|\n",
      "|    CPM04|National Average ...|       10010|Round steak per kg.|   200305|2003M05|Euro|8.669|\n",
      "|    CPM04|National Average ...|       10010|Round steak per kg.|   200306|2003M06|Euro|8.263|\n",
      "|    CPM04|National Average ...|       10010|Round steak per kg.|   200307|2003M07|Euro|8.899|\n",
      "+---------+--------------------+------------+-------------------+---------+-------+----+-----+\n",
      "only showing top 20 rows\n",
      "\n"
     ]
    }
   ],
   "source": [
    "df_one.show()"
   ]
  },
  {
   "cell_type": "code",
   "execution_count": 14,
   "id": "51da83b9",
   "metadata": {},
   "outputs": [
    {
     "name": "stdout",
     "output_type": "stream",
     "text": [
      "+-------------------+-------+-----+\n",
      "|      Consumer Item|  Month|VALUE|\n",
      "+-------------------+-------+-----+\n",
      "|Round steak per kg.|2001M12|8.414|\n",
      "|Round steak per kg.|2002M01|8.696|\n",
      "|Round steak per kg.|2002M02|8.643|\n",
      "|Round steak per kg.|2002M03|8.791|\n",
      "|Round steak per kg.|2002M04|8.599|\n",
      "|Round steak per kg.|2002M05|8.607|\n",
      "|Round steak per kg.|2002M06|8.742|\n",
      "|Round steak per kg.|2002M07|8.733|\n",
      "|Round steak per kg.|2002M08|8.806|\n",
      "|Round steak per kg.|2002M09|8.696|\n",
      "|Round steak per kg.|2002M10|8.838|\n",
      "|Round steak per kg.|2002M11| 8.79|\n",
      "|Round steak per kg.|2002M12|8.887|\n",
      "|Round steak per kg.|2003M01|  8.9|\n",
      "|Round steak per kg.|2003M02|8.399|\n",
      "|Round steak per kg.|2003M03|8.876|\n",
      "|Round steak per kg.|2003M04| 8.87|\n",
      "|Round steak per kg.|2003M05|8.669|\n",
      "|Round steak per kg.|2003M06|8.263|\n",
      "|Round steak per kg.|2003M07|8.899|\n",
      "+-------------------+-------+-----+\n",
      "only showing top 20 rows\n",
      "\n"
     ]
    }
   ],
   "source": [
    "#Drop all columns except month, consumer item and VALUE)\n",
    "df_one = df_one.drop(\"STATISTIC\",\"STATISTIC Label\",\"TLIST(M1)\",\"UNIT\",\"C02363V02844\")\n",
    "df_one.show()"
   ]
  },
  {
   "cell_type": "code",
   "execution_count": 15,
   "id": "365c43b1",
   "metadata": {},
   "outputs": [
    {
     "name": "stdout",
     "output_type": "stream",
     "text": [
      "+---------+--------------------+---------+-------------+------------+--------------------+----+-----+\n",
      "|STATISTIC|     STATISTIC Label|TLIST(M1)|        Month|C02363V03422|       Consumer Item|UNIT|VALUE|\n",
      "+---------+--------------------+---------+-------------+------------+--------------------+----+-----+\n",
      "|    CPM12|National Average ...|   201112|2011 December|       10020|White, self raisi...|Euro| null|\n",
      "|    CPM12|National Average ...|   201112|2011 December|       10030|Brown, wholemeal ...|Euro| null|\n",
      "|    CPM12|National Average ...|   201112|2011 December|       10040|Bread, white slic...|Euro| null|\n",
      "|    CPM12|National Average ...|   201112|2011 December|       10050|Bread, brown slic...|Euro| null|\n",
      "|    CPM12|National Average ...|   201112|2011 December|       10190|  Spaghetti per 500g|Euro| null|\n",
      "|    CPM12|National Average ...|   201112|2011 December|       10280|Sirloin steak per kg|Euro| null|\n",
      "|    CPM12|National Average ...|   201112|2011 December|       10290|Striploin steak p...|Euro| null|\n",
      "|    CPM12|National Average ...|   201112|2011 December|       10300|Roast beef - tops...|Euro| null|\n",
      "|    CPM12|National Average ...|   201112|2011 December|       10310|Sliced / diced be...|Euro| null|\n",
      "|    CPM12|National Average ...|   201112|2011 December|       10320|Pork loin chops p...|Euro| null|\n",
      "|    CPM12|National Average ...|   201112|2011 December|       10330|   Pork steak per kg|Euro| null|\n",
      "|    CPM12|National Average ...|   201112|2011 December|       10340|Lamb - whole leg ...|Euro| null|\n",
      "|    CPM12|National Average ...|   201112|2011 December|       10350|Lamb loin chops p...|Euro| null|\n",
      "|    CPM12|National Average ...|   201112|2011 December|       10360|Lamb gigot chops ...|Euro| null|\n",
      "|    CPM12|National Average ...|   201112|2011 December|       10370|Uncooked chicken ...|Euro| null|\n",
      "|    CPM12|National Average ...|   201112|2011 December|       10400| Lamb's liver per kg|Euro| null|\n",
      "|    CPM12|National Average ...|   201112|2011 December|       10410|   Ham fillet per kg|Euro| null|\n",
      "|    CPM12|National Average ...|   201112|2011 December|       10420|   Cooked ham per kg|Euro| null|\n",
      "|    CPM12|National Average ...|   201112|2011 December|       10440|Best back rashers...|Euro| null|\n",
      "|    CPM12|National Average ...|   201112|2011 December|       10450|Pork sausages per kg|Euro| null|\n",
      "+---------+--------------------+---------+-------------+------------+--------------------+----+-----+\n",
      "only showing top 20 rows\n",
      "\n"
     ]
    }
   ],
   "source": [
    "df_two.show()"
   ]
  },
  {
   "cell_type": "code",
   "execution_count": 16,
   "id": "74b76134",
   "metadata": {},
   "outputs": [
    {
     "name": "stdout",
     "output_type": "stream",
     "text": [
      "+-------------+--------------------+-----+\n",
      "|        Month|       Consumer Item|VALUE|\n",
      "+-------------+--------------------+-----+\n",
      "|2011 December|White, self raisi...| null|\n",
      "|2011 December|Brown, wholemeal ...| null|\n",
      "|2011 December|Bread, white slic...| null|\n",
      "|2011 December|Bread, brown slic...| null|\n",
      "|2011 December|  Spaghetti per 500g| null|\n",
      "|2011 December|Sirloin steak per kg| null|\n",
      "|2011 December|Striploin steak p...| null|\n",
      "|2011 December|Roast beef - tops...| null|\n",
      "|2011 December|Sliced / diced be...| null|\n",
      "|2011 December|Pork loin chops p...| null|\n",
      "|2011 December|   Pork steak per kg| null|\n",
      "|2011 December|Lamb - whole leg ...| null|\n",
      "|2011 December|Lamb loin chops p...| null|\n",
      "|2011 December|Lamb gigot chops ...| null|\n",
      "|2011 December|Uncooked chicken ...| null|\n",
      "|2011 December| Lamb's liver per kg| null|\n",
      "|2011 December|   Ham fillet per kg| null|\n",
      "|2011 December|   Cooked ham per kg| null|\n",
      "|2011 December|Best back rashers...| null|\n",
      "|2011 December|Pork sausages per kg| null|\n",
      "+-------------+--------------------+-----+\n",
      "only showing top 20 rows\n",
      "\n"
     ]
    }
   ],
   "source": [
    "#Drop all columns except month, consumer item and VALUE)\n",
    "df_two = df_two.drop(\"STATISTIC\",\"STATISTIC Label\",\"TLIST(M1)\",\"UNIT\",\"C02363V03422\")\n",
    "df_two.show()"
   ]
  },
  {
   "cell_type": "markdown",
   "id": "546d6df9",
   "metadata": {},
   "source": [
    "## Drop from consumer Item, everything except bananas"
   ]
  },
  {
   "cell_type": "code",
   "execution_count": 17,
   "id": "e8864707",
   "metadata": {},
   "outputs": [],
   "source": [
    "bananaprice_one = df_one.filter(df_one[\"Consumer Item\"] == \"Bananas per kg.\")\n",
    "bananaprice_two = df_two.filter(df_two[\"Consumer Item\"] == \"Bananas per kg\")"
   ]
  },
  {
   "cell_type": "code",
   "execution_count": 18,
   "id": "bbeef190",
   "metadata": {},
   "outputs": [
    {
     "name": "stdout",
     "output_type": "stream",
     "text": [
      "+---------------+-------+-----+\n",
      "|  Consumer Item|  Month|VALUE|\n",
      "+---------------+-------+-----+\n",
      "|Bananas per kg.|2001M12|1.685|\n",
      "|Bananas per kg.|2002M01|1.691|\n",
      "|Bananas per kg.|2002M02| 1.67|\n",
      "|Bananas per kg.|2002M03|1.496|\n",
      "|Bananas per kg.|2002M04|1.669|\n",
      "|Bananas per kg.|2002M05|1.623|\n",
      "|Bananas per kg.|2002M06|1.652|\n",
      "|Bananas per kg.|2002M07|1.652|\n",
      "|Bananas per kg.|2002M08|1.664|\n",
      "|Bananas per kg.|2002M09|1.677|\n",
      "|Bananas per kg.|2002M10|1.694|\n",
      "|Bananas per kg.|2002M11|1.694|\n",
      "|Bananas per kg.|2002M12|1.693|\n",
      "|Bananas per kg.|2003M01|1.674|\n",
      "|Bananas per kg.|2003M02|1.671|\n",
      "|Bananas per kg.|2003M03|1.489|\n",
      "|Bananas per kg.|2003M04| 1.62|\n",
      "|Bananas per kg.|2003M05|1.513|\n",
      "|Bananas per kg.|2003M06| 1.42|\n",
      "|Bananas per kg.|2003M07|1.459|\n",
      "+---------------+-------+-----+\n",
      "only showing top 20 rows\n",
      "\n",
      "+--------------+--------------+-----+\n",
      "|         Month| Consumer Item|VALUE|\n",
      "+--------------+--------------+-----+\n",
      "| 2011 December|Bananas per kg| null|\n",
      "|  2012 January|Bananas per kg| 1.33|\n",
      "| 2012 February|Bananas per kg|1.359|\n",
      "|    2012 March|Bananas per kg|1.371|\n",
      "|    2012 April|Bananas per kg|1.362|\n",
      "|      2012 May|Bananas per kg|1.375|\n",
      "|     2012 June|Bananas per kg|1.364|\n",
      "|     2012 July|Bananas per kg|1.355|\n",
      "|   2012 August|Bananas per kg|1.369|\n",
      "|2012 September|Bananas per kg| 1.38|\n",
      "|  2012 October|Bananas per kg|1.356|\n",
      "| 2012 November|Bananas per kg|1.368|\n",
      "| 2012 December|Bananas per kg|1.373|\n",
      "|  2013 January|Bananas per kg|1.369|\n",
      "| 2013 February|Bananas per kg|1.368|\n",
      "|    2013 March|Bananas per kg|1.394|\n",
      "|    2013 April|Bananas per kg|1.375|\n",
      "|      2013 May|Bananas per kg|1.377|\n",
      "|     2013 June|Bananas per kg|1.374|\n",
      "|     2013 July|Bananas per kg|1.376|\n",
      "+--------------+--------------+-----+\n",
      "only showing top 20 rows\n",
      "\n"
     ]
    },
    {
     "data": {
      "text/plain": [
       "(None, None)"
      ]
     },
     "execution_count": 18,
     "metadata": {},
     "output_type": "execute_result"
    }
   ],
   "source": [
    "bananaprice_one.show(), bananaprice_two.show()"
   ]
  },
  {
   "cell_type": "markdown",
   "id": "9e162b3e",
   "metadata": {},
   "source": [
    "## Step Three: Data Integration. Merging the two datasets into one"
   ]
  },
  {
   "cell_type": "code",
   "execution_count": 19,
   "id": "deea2c7d",
   "metadata": {},
   "outputs": [],
   "source": [
    "# Rename columns in df1 to match columns in df2\n",
    "rename_mapping = {\n",
    "    \"VALUE\": \"National Average Price(Euros)\"\n",
    "    # Add more mappings as needed\n",
    "}\n",
    "for old_col, new_col in rename_mapping.items():\n",
    "    bananaprice_one = bananaprice_one.withColumnRenamed(old_col, new_col)"
   ]
  },
  {
   "cell_type": "code",
   "execution_count": 20,
   "id": "9fb433a6",
   "metadata": {},
   "outputs": [],
   "source": [
    "# Rename columns in df1 to match columns in df2\n",
    "rename_mapping = {\n",
    "    \"VALUE\":\"National Average Price(Euros)\"\n",
    "}\n",
    "for old_col, new_col in rename_mapping.items():\n",
    "    bananaprice_two = bananaprice_two.withColumnRenamed(old_col, new_col)"
   ]
  },
  {
   "cell_type": "code",
   "execution_count": 21,
   "id": "073649ec",
   "metadata": {},
   "outputs": [
    {
     "name": "stdout",
     "output_type": "stream",
     "text": [
      "+---------------+-------+-----------------------------+\n",
      "|  Consumer Item|  Month|National Average Price(Euros)|\n",
      "+---------------+-------+-----------------------------+\n",
      "|Bananas per kg.|2001M12|                        1.685|\n",
      "|Bananas per kg.|2002M01|                        1.691|\n",
      "|Bananas per kg.|2002M02|                         1.67|\n",
      "|Bananas per kg.|2002M03|                        1.496|\n",
      "|Bananas per kg.|2002M04|                        1.669|\n",
      "|Bananas per kg.|2002M05|                        1.623|\n",
      "|Bananas per kg.|2002M06|                        1.652|\n",
      "|Bananas per kg.|2002M07|                        1.652|\n",
      "|Bananas per kg.|2002M08|                        1.664|\n",
      "|Bananas per kg.|2002M09|                        1.677|\n",
      "|Bananas per kg.|2002M10|                        1.694|\n",
      "|Bananas per kg.|2002M11|                        1.694|\n",
      "|Bananas per kg.|2002M12|                        1.693|\n",
      "|Bananas per kg.|2003M01|                        1.674|\n",
      "|Bananas per kg.|2003M02|                        1.671|\n",
      "|Bananas per kg.|2003M03|                        1.489|\n",
      "|Bananas per kg.|2003M04|                         1.62|\n",
      "|Bananas per kg.|2003M05|                        1.513|\n",
      "|Bananas per kg.|2003M06|                         1.42|\n",
      "|Bananas per kg.|2003M07|                        1.459|\n",
      "+---------------+-------+-----------------------------+\n",
      "only showing top 20 rows\n",
      "\n",
      "+--------------+--------------+-----------------------------+\n",
      "|         Month| Consumer Item|National Average Price(Euros)|\n",
      "+--------------+--------------+-----------------------------+\n",
      "| 2011 December|Bananas per kg|                         null|\n",
      "|  2012 January|Bananas per kg|                         1.33|\n",
      "| 2012 February|Bananas per kg|                        1.359|\n",
      "|    2012 March|Bananas per kg|                        1.371|\n",
      "|    2012 April|Bananas per kg|                        1.362|\n",
      "|      2012 May|Bananas per kg|                        1.375|\n",
      "|     2012 June|Bananas per kg|                        1.364|\n",
      "|     2012 July|Bananas per kg|                        1.355|\n",
      "|   2012 August|Bananas per kg|                        1.369|\n",
      "|2012 September|Bananas per kg|                         1.38|\n",
      "|  2012 October|Bananas per kg|                        1.356|\n",
      "| 2012 November|Bananas per kg|                        1.368|\n",
      "| 2012 December|Bananas per kg|                        1.373|\n",
      "|  2013 January|Bananas per kg|                        1.369|\n",
      "| 2013 February|Bananas per kg|                        1.368|\n",
      "|    2013 March|Bananas per kg|                        1.394|\n",
      "|    2013 April|Bananas per kg|                        1.375|\n",
      "|      2013 May|Bananas per kg|                        1.377|\n",
      "|     2013 June|Bananas per kg|                        1.374|\n",
      "|     2013 July|Bananas per kg|                        1.376|\n",
      "+--------------+--------------+-----------------------------+\n",
      "only showing top 20 rows\n",
      "\n"
     ]
    },
    {
     "data": {
      "text/plain": [
       "(None, None)"
      ]
     },
     "execution_count": 21,
     "metadata": {},
     "output_type": "execute_result"
    }
   ],
   "source": [
    "bananaprice_one.show(), bananaprice_two.show()"
   ]
  },
  {
   "cell_type": "code",
   "execution_count": 22,
   "id": "9264fa9a",
   "metadata": {},
   "outputs": [
    {
     "name": "stdout",
     "output_type": "stream",
     "text": [
      "+---------------+-------+-----------------------------+\n",
      "|Consumer Item  |Month  |National Average Price(Euros)|\n",
      "+---------------+-------+-----------------------------+\n",
      "|Bananas per kg.|2001M12|1.685                        |\n",
      "|Bananas per kg.|2002M01|1.691                        |\n",
      "|Bananas per kg.|2002M02|1.67                         |\n",
      "|Bananas per kg.|2002M03|1.496                        |\n",
      "|Bananas per kg.|2002M04|1.669                        |\n",
      "|Bananas per kg.|2002M05|1.623                        |\n",
      "|Bananas per kg.|2002M06|1.652                        |\n",
      "|Bananas per kg.|2002M07|1.652                        |\n",
      "|Bananas per kg.|2002M08|1.664                        |\n",
      "|Bananas per kg.|2002M09|1.677                        |\n",
      "|Bananas per kg.|2002M10|1.694                        |\n",
      "|Bananas per kg.|2002M11|1.694                        |\n",
      "|Bananas per kg.|2002M12|1.693                        |\n",
      "|Bananas per kg.|2003M01|1.674                        |\n",
      "|Bananas per kg.|2003M02|1.671                        |\n",
      "|Bananas per kg.|2003M03|1.489                        |\n",
      "|Bananas per kg.|2003M04|1.62                         |\n",
      "|Bananas per kg.|2003M05|1.513                        |\n",
      "|Bananas per kg.|2003M06|1.42                         |\n",
      "|Bananas per kg.|2003M07|1.459                        |\n",
      "+---------------+-------+-----------------------------+\n",
      "only showing top 20 rows\n",
      "\n"
     ]
    }
   ],
   "source": [
    "# Selecting columns in the same order\n",
    "bananaprice_one = bananaprice_one.select(\"Consumer Item\", \"Month\", \"National Average Price(Euros)\")\n",
    "bananaprice_two = bananaprice_two.select(\"Consumer Item\", \"Month\", \"National Average Price(Euros)\")\n",
    "\n",
    "# Performing the union operation\n",
    "merged_df = bananaprice_one.union(bananaprice_two)\n",
    "\n",
    "# Displaying the results\n",
    "merged_df.show(truncate=False)\n"
   ]
  },
  {
   "cell_type": "code",
   "execution_count": 23,
   "id": "24e1506f",
   "metadata": {},
   "outputs": [
    {
     "name": "stdout",
     "output_type": "stream",
     "text": [
      "+---------------+--------------+-----------------------------+\n",
      "|Consumer Item  |Month         |National Average Price(Euros)|\n",
      "+---------------+--------------+-----------------------------+\n",
      "|Bananas per kg.|2001M12       |1.685                        |\n",
      "|Bananas per kg.|2002M01       |1.691                        |\n",
      "|Bananas per kg.|2002M02       |1.67                         |\n",
      "|Bananas per kg.|2002M03       |1.496                        |\n",
      "|Bananas per kg.|2002M04       |1.669                        |\n",
      "|Bananas per kg.|2002M05       |1.623                        |\n",
      "|Bananas per kg.|2002M06       |1.652                        |\n",
      "|Bananas per kg.|2002M07       |1.652                        |\n",
      "|Bananas per kg.|2002M08       |1.664                        |\n",
      "|Bananas per kg.|2002M09       |1.677                        |\n",
      "|Bananas per kg.|2002M10       |1.694                        |\n",
      "|Bananas per kg.|2002M11       |1.694                        |\n",
      "|Bananas per kg.|2002M12       |1.693                        |\n",
      "|Bananas per kg.|2003M01       |1.674                        |\n",
      "|Bananas per kg.|2003M02       |1.671                        |\n",
      "|Bananas per kg.|2003M03       |1.489                        |\n",
      "|Bananas per kg.|2003M04       |1.62                         |\n",
      "|Bananas per kg.|2003M05       |1.513                        |\n",
      "|Bananas per kg.|2003M06       |1.42                         |\n",
      "|Bananas per kg.|2003M07       |1.459                        |\n",
      "|Bananas per kg.|2003M08       |1.456                        |\n",
      "|Bananas per kg.|2003M09       |1.466                        |\n",
      "|Bananas per kg.|2003M10       |1.466                        |\n",
      "|Bananas per kg.|2003M11       |1.453                        |\n",
      "|Bananas per kg.|2003M12       |1.438                        |\n",
      "|Bananas per kg.|2004M01       |1.424                        |\n",
      "|Bananas per kg.|2004M02       |1.447                        |\n",
      "|Bananas per kg.|2004M03       |1.428                        |\n",
      "|Bananas per kg.|2004M04       |1.352                        |\n",
      "|Bananas per kg.|2004M05       |1.357                        |\n",
      "|Bananas per kg.|2004M06       |1.349                        |\n",
      "|Bananas per kg.|2004M07       |1.35                         |\n",
      "|Bananas per kg.|2004M08       |1.373                        |\n",
      "|Bananas per kg.|2004M09       |1.374                        |\n",
      "|Bananas per kg.|2004M10       |1.383                        |\n",
      "|Bananas per kg.|2004M11       |1.377                        |\n",
      "|Bananas per kg.|2004M12       |1.373                        |\n",
      "|Bananas per kg.|2005M01       |1.4                          |\n",
      "|Bananas per kg.|2005M02       |1.394                        |\n",
      "|Bananas per kg.|2005M03       |1.393                        |\n",
      "|Bananas per kg.|2005M04       |1.366                        |\n",
      "|Bananas per kg.|2005M05       |1.374                        |\n",
      "|Bananas per kg.|2005M06       |1.35                         |\n",
      "|Bananas per kg.|2005M07       |1.349                        |\n",
      "|Bananas per kg.|2005M08       |1.344                        |\n",
      "|Bananas per kg.|2005M09       |1.318                        |\n",
      "|Bananas per kg.|2005M10       |1.332                        |\n",
      "|Bananas per kg.|2005M11       |1.32                         |\n",
      "|Bananas per kg.|2005M12       |1.338                        |\n",
      "|Bananas per kg.|2006M01       |1.344                        |\n",
      "|Bananas per kg.|2006M02       |1.345                        |\n",
      "|Bananas per kg.|2006M03       |1.337                        |\n",
      "|Bananas per kg.|2006M04       |1.339                        |\n",
      "|Bananas per kg.|2006M05       |1.326                        |\n",
      "|Bananas per kg.|2006M06       |1.34                         |\n",
      "|Bananas per kg.|2006M07       |1.349                        |\n",
      "|Bananas per kg.|2006M08       |1.348                        |\n",
      "|Bananas per kg.|2006M09       |1.32                         |\n",
      "|Bananas per kg.|2006M10       |1.319                        |\n",
      "|Bananas per kg.|2006M11       |1.391                        |\n",
      "|Bananas per kg.|2006M12       |1.441                        |\n",
      "|Bananas per kg.|2007M01       |1.423                        |\n",
      "|Bananas per kg.|2007M02       |1.437                        |\n",
      "|Bananas per kg.|2007M03       |1.444                        |\n",
      "|Bananas per kg.|2007M04       |1.453                        |\n",
      "|Bananas per kg.|2007M05       |1.469                        |\n",
      "|Bananas per kg.|2007M06       |1.487                        |\n",
      "|Bananas per kg.|2007M07       |1.469                        |\n",
      "|Bananas per kg.|2007M08       |1.468                        |\n",
      "|Bananas per kg.|2007M09       |1.432                        |\n",
      "|Bananas per kg.|2007M10       |1.444                        |\n",
      "|Bananas per kg.|2007M11       |1.454                        |\n",
      "|Bananas per kg.|2007M12       |1.442                        |\n",
      "|Bananas per kg.|2008M01       |1.446                        |\n",
      "|Bananas per kg.|2008M02       |1.435                        |\n",
      "|Bananas per kg.|2008M03       |1.459                        |\n",
      "|Bananas per kg.|2008M04       |1.462                        |\n",
      "|Bananas per kg.|2008M05       |1.465                        |\n",
      "|Bananas per kg.|2008M06       |1.467                        |\n",
      "|Bananas per kg.|2008M07       |1.484                        |\n",
      "|Bananas per kg.|2008M08       |1.478                        |\n",
      "|Bananas per kg.|2008M09       |1.468                        |\n",
      "|Bananas per kg.|2008M10       |1.468                        |\n",
      "|Bananas per kg.|2008M11       |1.54                         |\n",
      "|Bananas per kg.|2008M12       |1.557                        |\n",
      "|Bananas per kg.|2009M01       |1.563                        |\n",
      "|Bananas per kg.|2009M02       |1.567                        |\n",
      "|Bananas per kg.|2009M03       |1.548                        |\n",
      "|Bananas per kg.|2009M04       |1.534                        |\n",
      "|Bananas per kg.|2009M05       |1.473                        |\n",
      "|Bananas per kg.|2009M06       |1.337                        |\n",
      "|Bananas per kg.|2009M07       |1.32                         |\n",
      "|Bananas per kg.|2009M08       |1.332                        |\n",
      "|Bananas per kg.|2009M09       |1.322                        |\n",
      "|Bananas per kg.|2009M10       |1.305                        |\n",
      "|Bananas per kg.|2009M11       |1.092                        |\n",
      "|Bananas per kg.|2009M12       |1.072                        |\n",
      "|Bananas per kg.|2010M01       |1.06                         |\n",
      "|Bananas per kg.|2010M02       |1.111                        |\n",
      "|Bananas per kg.|2010M03       |1.104                        |\n",
      "|Bananas per kg.|2010M04       |1.122                        |\n",
      "|Bananas per kg.|2010M05       |1.129                        |\n",
      "|Bananas per kg.|2010M06       |1.228                        |\n",
      "|Bananas per kg.|2010M07       |1.266                        |\n",
      "|Bananas per kg.|2010M08       |1.263                        |\n",
      "|Bananas per kg.|2010M09       |1.259                        |\n",
      "|Bananas per kg.|2010M10       |1.257                        |\n",
      "|Bananas per kg.|2010M11       |1.267                        |\n",
      "|Bananas per kg.|2010M12       |1.242                        |\n",
      "|Bananas per kg.|2011M01       |1.238                        |\n",
      "|Bananas per kg.|2011M02       |1.323                        |\n",
      "|Bananas per kg.|2011M03       |1.35                         |\n",
      "|Bananas per kg.|2011M04       |1.335                        |\n",
      "|Bananas per kg.|2011M05       |1.343                        |\n",
      "|Bananas per kg.|2011M06       |1.339                        |\n",
      "|Bananas per kg.|2011M07       |1.355                        |\n",
      "|Bananas per kg.|2011M08       |1.357                        |\n",
      "|Bananas per kg.|2011M09       |1.343                        |\n",
      "|Bananas per kg.|2011M10       |1.345                        |\n",
      "|Bananas per kg.|2011M11       |1.359                        |\n",
      "|Bananas per kg.|2011M12       |1.32                         |\n",
      "|Bananas per kg |2011 December |null                         |\n",
      "|Bananas per kg |2012 January  |1.33                         |\n",
      "|Bananas per kg |2012 February |1.359                        |\n",
      "|Bananas per kg |2012 March    |1.371                        |\n",
      "|Bananas per kg |2012 April    |1.362                        |\n",
      "|Bananas per kg |2012 May      |1.375                        |\n",
      "|Bananas per kg |2012 June     |1.364                        |\n",
      "|Bananas per kg |2012 July     |1.355                        |\n",
      "|Bananas per kg |2012 August   |1.369                        |\n",
      "|Bananas per kg |2012 September|1.38                         |\n",
      "|Bananas per kg |2012 October  |1.356                        |\n",
      "|Bananas per kg |2012 November |1.368                        |\n",
      "|Bananas per kg |2012 December |1.373                        |\n",
      "|Bananas per kg |2013 January  |1.369                        |\n",
      "|Bananas per kg |2013 February |1.368                        |\n",
      "|Bananas per kg |2013 March    |1.394                        |\n",
      "|Bananas per kg |2013 April    |1.375                        |\n",
      "|Bananas per kg |2013 May      |1.377                        |\n",
      "|Bananas per kg |2013 June     |1.374                        |\n",
      "|Bananas per kg |2013 July     |1.376                        |\n",
      "|Bananas per kg |2013 August   |1.38                         |\n",
      "|Bananas per kg |2013 September|1.378                        |\n",
      "|Bananas per kg |2013 October  |1.373                        |\n",
      "|Bananas per kg |2013 November |1.367                        |\n",
      "|Bananas per kg |2013 December |1.374                        |\n",
      "|Bananas per kg |2014 January  |1.366                        |\n",
      "|Bananas per kg |2014 February |1.371                        |\n",
      "|Bananas per kg |2014 March    |1.375                        |\n",
      "|Bananas per kg |2014 April    |1.374                        |\n",
      "|Bananas per kg |2014 May      |1.372                        |\n",
      "|Bananas per kg |2014 June     |1.37                         |\n",
      "|Bananas per kg |2014 July     |1.373                        |\n",
      "|Bananas per kg |2014 August   |1.371                        |\n",
      "|Bananas per kg |2014 September|1.357                        |\n",
      "|Bananas per kg |2014 October  |1.361                        |\n",
      "|Bananas per kg |2014 November |1.362                        |\n",
      "|Bananas per kg |2014 December |1.363                        |\n",
      "|Bananas per kg |2015 January  |1.363                        |\n",
      "|Bananas per kg |2015 February |1.362                        |\n",
      "|Bananas per kg |2015 March    |1.361                        |\n",
      "|Bananas per kg |2015 April    |1.369                        |\n",
      "|Bananas per kg |2015 May      |1.362                        |\n",
      "|Bananas per kg |2015 June     |1.361                        |\n",
      "|Bananas per kg |2015 July     |1.363                        |\n",
      "|Bananas per kg |2015 August   |1.365                        |\n",
      "|Bananas per kg |2015 September|1.37                         |\n",
      "|Bananas per kg |2015 October  |1.378                        |\n",
      "|Bananas per kg |2015 November |1.387                        |\n",
      "|Bananas per kg |2015 December |1.382                        |\n",
      "|Bananas per kg |2016 January  |1.389                        |\n",
      "|Bananas per kg |2016 February |1.382                        |\n",
      "|Bananas per kg |2016 March    |1.385                        |\n",
      "|Bananas per kg |2016 April    |1.393                        |\n",
      "|Bananas per kg |2016 May      |1.396                        |\n",
      "|Bananas per kg |2016 June     |1.393                        |\n",
      "|Bananas per kg |2016 July     |1.399                        |\n",
      "|Bananas per kg |2016 August   |1.405                        |\n",
      "|Bananas per kg |2016 September|1.41                         |\n",
      "|Bananas per kg |2016 October  |1.411                        |\n",
      "|Bananas per kg |2016 November |1.403                        |\n",
      "|Bananas per kg |2016 December |1.406                        |\n",
      "|Bananas per kg |2017 January  |1.411                        |\n",
      "|Bananas per kg |2017 February |1.414                        |\n",
      "|Bananas per kg |2017 March    |1.407                        |\n",
      "|Bananas per kg |2017 April    |1.405                        |\n",
      "|Bananas per kg |2017 May      |1.413                        |\n",
      "|Bananas per kg |2017 June     |1.404                        |\n",
      "|Bananas per kg |2017 July     |1.406                        |\n",
      "|Bananas per kg |2017 August   |1.411                        |\n",
      "|Bananas per kg |2017 September|1.412                        |\n",
      "|Bananas per kg |2017 October  |1.411                        |\n",
      "|Bananas per kg |2017 November |1.412                        |\n",
      "|Bananas per kg |2017 December |1.411                        |\n",
      "|Bananas per kg |2018 January  |1.405                        |\n",
      "|Bananas per kg |2018 February |1.406                        |\n",
      "|Bananas per kg |2018 March    |1.405                        |\n",
      "|Bananas per kg |2018 April    |1.4                          |\n",
      "|Bananas per kg |2018 May      |1.399                        |\n",
      "|Bananas per kg |2018 June     |1.404                        |\n",
      "|Bananas per kg |2018 July     |1.404                        |\n",
      "|Bananas per kg |2018 August   |1.403                        |\n",
      "|Bananas per kg |2018 September|1.404                        |\n",
      "|Bananas per kg |2018 October  |1.401                        |\n",
      "|Bananas per kg |2018 November |1.406                        |\n",
      "|Bananas per kg |2018 December |1.396                        |\n",
      "|Bananas per kg |2019 January  |1.388                        |\n",
      "|Bananas per kg |2019 February |1.402                        |\n",
      "|Bananas per kg |2019 March    |1.401                        |\n",
      "|Bananas per kg |2019 April    |1.407                        |\n",
      "|Bananas per kg |2019 May      |1.407                        |\n",
      "|Bananas per kg |2019 June     |1.403                        |\n",
      "|Bananas per kg |2019 July     |1.404                        |\n",
      "|Bananas per kg |2019 August   |1.404                        |\n",
      "|Bananas per kg |2019 September|1.401                        |\n",
      "|Bananas per kg |2019 October  |1.402                        |\n",
      "|Bananas per kg |2019 November |1.398                        |\n",
      "|Bananas per kg |2019 December |1.402                        |\n",
      "|Bananas per kg |2020 January  |1.405                        |\n",
      "|Bananas per kg |2020 February |1.414                        |\n",
      "|Bananas per kg |2020 March    |1.418                        |\n",
      "|Bananas per kg |2020 April    |1.399                        |\n",
      "|Bananas per kg |2020 May      |1.373                        |\n",
      "|Bananas per kg |2020 June     |1.336                        |\n",
      "|Bananas per kg |2020 July     |1.476                        |\n",
      "|Bananas per kg |2020 August   |1.377                        |\n",
      "|Bananas per kg |2020 September|1.408                        |\n",
      "|Bananas per kg |2020 October  |1.463                        |\n",
      "|Bananas per kg |2020 November |1.464                        |\n",
      "|Bananas per kg |2020 December |1.465                        |\n",
      "|Bananas per kg |2021 January  |1.293                        |\n",
      "|Bananas per kg |2021 February |1.443                        |\n",
      "|Bananas per kg |2021 March    |1.443                        |\n",
      "|Bananas per kg |2021 April    |1.422                        |\n",
      "|Bananas per kg |2021 May      |1.531                        |\n",
      "|Bananas per kg |2021 June     |1.531                        |\n",
      "|Bananas per kg |2021 July     |1.531                        |\n",
      "|Bananas per kg |2021 August   |1.493                        |\n",
      "|Bananas per kg |2021 September|1.435                        |\n",
      "|Bananas per kg |2021 October  |1.494                        |\n",
      "|Bananas per kg |2021 November |1.531                        |\n",
      "|Bananas per kg |2021 December |1.531                        |\n",
      "|Bananas per kg |2022 January  |1.395                        |\n",
      "|Bananas per kg |2022 February |1.495                        |\n",
      "|Bananas per kg |2022 March    |1.484                        |\n",
      "|Bananas per kg |2022 April    |1.503                        |\n",
      "|Bananas per kg |2022 May      |1.519                        |\n",
      "|Bananas per kg |2022 June     |1.525                        |\n",
      "|Bananas per kg |2022 July     |1.527                        |\n",
      "|Bananas per kg |2022 August   |1.549                        |\n",
      "|Bananas per kg |2022 September|1.56                         |\n",
      "|Bananas per kg |2022 October  |1.602                        |\n",
      "|Bananas per kg |2022 November |1.631                        |\n",
      "|Bananas per kg |2022 December |1.676                        |\n",
      "|Bananas per kg |2023 January  |1.677                        |\n",
      "|Bananas per kg |2023 February |1.689                        |\n",
      "|Bananas per kg |2023 March    |1.689                        |\n",
      "|Bananas per kg |2023 April    |1.689                        |\n",
      "|Bananas per kg |2023 May      |1.699                        |\n",
      "|Bananas per kg |2023 June     |1.699                        |\n",
      "|Bananas per kg |2023 July     |1.694                        |\n",
      "|Bananas per kg |2023 August   |1.698                        |\n",
      "|Bananas per kg |2023 September|1.66                         |\n",
      "|Bananas per kg |2023 October  |1.72                         |\n",
      "|Bananas per kg |2023 November |1.728                        |\n",
      "|Bananas per kg |2023 December |1.732                        |\n",
      "|Bananas per kg |2024 January  |1.733                        |\n",
      "|Bananas per kg |2024 February |1.732                        |\n",
      "+---------------+--------------+-----------------------------+\n",
      "\n"
     ]
    }
   ],
   "source": [
    "merged_df.show(n=merged_df.count(), truncate=False)"
   ]
  },
  {
   "cell_type": "code",
   "execution_count": 24,
   "id": "240f1fce",
   "metadata": {},
   "outputs": [
    {
     "ename": "TypeError",
     "evalue": "Invalid argument, not a string or column: <function <lambda> at 0x70de62fcf250> of type <class 'function'>. For column literals, use 'lit', 'array', 'struct' or 'create_map' function.",
     "output_type": "error",
     "traceback": [
      "\u001b[0;31m---------------------------------------------------------------------------\u001b[0m",
      "\u001b[0;31mTypeError\u001b[0m                                 Traceback (most recent call last)",
      "\u001b[0;32m/tmp/ipykernel_15657/3774603823.py\u001b[0m in \u001b[0;36m<module>\u001b[0;34m\u001b[0m\n\u001b[1;32m     11\u001b[0m \u001b[0;34m\u001b[0m\u001b[0m\n\u001b[1;32m     12\u001b[0m \u001b[0;31m# Replace values in the \"Month\" column using regexp_replace\u001b[0m\u001b[0;34m\u001b[0m\u001b[0;34m\u001b[0m\u001b[0m\n\u001b[0;32m---> 13\u001b[0;31m merged_df = merged_df.withColumn(\"Month\", regexp_replace(\"Month\", pattern, \n\u001b[0m\u001b[1;32m     14\u001b[0m                             lambda x: lit(f\"{x[:4]} {month_year_mapping[x[5:]]}\")))\n\u001b[1;32m     15\u001b[0m \u001b[0;34m\u001b[0m\u001b[0m\n",
      "\u001b[0;32m/usr/local/spark/python/pyspark/sql/utils.py\u001b[0m in \u001b[0;36mwrapped\u001b[0;34m(*args, **kwargs)\u001b[0m\n\u001b[1;32m    158\u001b[0m             \u001b[0;32mreturn\u001b[0m \u001b[0mgetattr\u001b[0m\u001b[0;34m(\u001b[0m\u001b[0mfunctions\u001b[0m\u001b[0;34m,\u001b[0m \u001b[0mf\u001b[0m\u001b[0;34m.\u001b[0m\u001b[0m__name__\u001b[0m\u001b[0;34m)\u001b[0m\u001b[0;34m(\u001b[0m\u001b[0;34m*\u001b[0m\u001b[0margs\u001b[0m\u001b[0;34m,\u001b[0m \u001b[0;34m**\u001b[0m\u001b[0mkwargs\u001b[0m\u001b[0;34m)\u001b[0m\u001b[0;34m\u001b[0m\u001b[0;34m\u001b[0m\u001b[0m\n\u001b[1;32m    159\u001b[0m         \u001b[0;32melse\u001b[0m\u001b[0;34m:\u001b[0m\u001b[0;34m\u001b[0m\u001b[0;34m\u001b[0m\u001b[0m\n\u001b[0;32m--> 160\u001b[0;31m             \u001b[0;32mreturn\u001b[0m \u001b[0mf\u001b[0m\u001b[0;34m(\u001b[0m\u001b[0;34m*\u001b[0m\u001b[0margs\u001b[0m\u001b[0;34m,\u001b[0m \u001b[0;34m**\u001b[0m\u001b[0mkwargs\u001b[0m\u001b[0;34m)\u001b[0m\u001b[0;34m\u001b[0m\u001b[0;34m\u001b[0m\u001b[0m\n\u001b[0m\u001b[1;32m    161\u001b[0m \u001b[0;34m\u001b[0m\u001b[0m\n\u001b[1;32m    162\u001b[0m     \u001b[0;32mreturn\u001b[0m \u001b[0mcast\u001b[0m\u001b[0;34m(\u001b[0m\u001b[0mFuncT\u001b[0m\u001b[0;34m,\u001b[0m \u001b[0mwrapped\u001b[0m\u001b[0;34m)\u001b[0m\u001b[0;34m\u001b[0m\u001b[0;34m\u001b[0m\u001b[0m\n",
      "\u001b[0;32m/usr/local/spark/python/pyspark/sql/functions.py\u001b[0m in \u001b[0;36mregexp_replace\u001b[0;34m(string, pattern, replacement)\u001b[0m\n\u001b[1;32m   6884\u001b[0m         \u001b[0mreplacement_col\u001b[0m \u001b[0;34m=\u001b[0m \u001b[0m_create_column_from_literal\u001b[0m\u001b[0;34m(\u001b[0m\u001b[0mreplacement\u001b[0m\u001b[0;34m)\u001b[0m\u001b[0;34m\u001b[0m\u001b[0;34m\u001b[0m\u001b[0m\n\u001b[1;32m   6885\u001b[0m     \u001b[0;32melse\u001b[0m\u001b[0;34m:\u001b[0m\u001b[0;34m\u001b[0m\u001b[0;34m\u001b[0m\u001b[0m\n\u001b[0;32m-> 6886\u001b[0;31m         \u001b[0mreplacement_col\u001b[0m \u001b[0;34m=\u001b[0m \u001b[0m_to_java_column\u001b[0m\u001b[0;34m(\u001b[0m\u001b[0mreplacement\u001b[0m\u001b[0;34m)\u001b[0m\u001b[0;34m\u001b[0m\u001b[0;34m\u001b[0m\u001b[0m\n\u001b[0m\u001b[1;32m   6887\u001b[0m     \u001b[0;32mreturn\u001b[0m \u001b[0m_invoke_function\u001b[0m\u001b[0;34m(\u001b[0m\u001b[0;34m\"regexp_replace\"\u001b[0m\u001b[0;34m,\u001b[0m \u001b[0m_to_java_column\u001b[0m\u001b[0;34m(\u001b[0m\u001b[0mstring\u001b[0m\u001b[0;34m)\u001b[0m\u001b[0;34m,\u001b[0m \u001b[0mpattern_col\u001b[0m\u001b[0;34m,\u001b[0m \u001b[0mreplacement_col\u001b[0m\u001b[0;34m)\u001b[0m\u001b[0;34m\u001b[0m\u001b[0;34m\u001b[0m\u001b[0m\n\u001b[1;32m   6888\u001b[0m \u001b[0;34m\u001b[0m\u001b[0m\n",
      "\u001b[0;32m/usr/local/spark/python/pyspark/sql/column.py\u001b[0m in \u001b[0;36m_to_java_column\u001b[0;34m(col)\u001b[0m\n\u001b[1;32m     63\u001b[0m         \u001b[0mjcol\u001b[0m \u001b[0;34m=\u001b[0m \u001b[0m_create_column_from_name\u001b[0m\u001b[0;34m(\u001b[0m\u001b[0mcol\u001b[0m\u001b[0;34m)\u001b[0m\u001b[0;34m\u001b[0m\u001b[0;34m\u001b[0m\u001b[0m\n\u001b[1;32m     64\u001b[0m     \u001b[0;32melse\u001b[0m\u001b[0;34m:\u001b[0m\u001b[0;34m\u001b[0m\u001b[0;34m\u001b[0m\u001b[0m\n\u001b[0;32m---> 65\u001b[0;31m         raise TypeError(\n\u001b[0m\u001b[1;32m     66\u001b[0m             \u001b[0;34m\"Invalid argument, not a string or column: \"\u001b[0m\u001b[0;34m\u001b[0m\u001b[0;34m\u001b[0m\u001b[0m\n\u001b[1;32m     67\u001b[0m             \u001b[0;34m\"{0} of type {1}. \"\u001b[0m\u001b[0;34m\u001b[0m\u001b[0;34m\u001b[0m\u001b[0m\n",
      "\u001b[0;31mTypeError\u001b[0m: Invalid argument, not a string or column: <function <lambda> at 0x70de62fcf250> of type <class 'function'>. For column literals, use 'lit', 'array', 'struct' or 'create_map' function."
     ]
    }
   ],
   "source": [
    "from pyspark.sql.functions import regexp_replace, lit\n",
    "\n",
    "# Define a dictionary mapping abbreviated month/year strings to full names\n",
    "month_year_mapping = {\n",
    "    \"M01\": \"January\", \"M02\": \"February\", \"M03\": \"March\", \"M04\": \"April\", \"M05\": \"May\", \"M06\": \"June\",\n",
    "    \"M07\": \"July\", \"M08\": \"August\", \"M09\": \"September\", \"M10\": \"October\", \"M11\": \"November\", \"M12\": \"December\"\n",
    "}\n",
    "\n",
    "# Create a regular expression pattern to match month/year strings\n",
    "pattern = \"|\".join([f\"({year}M{month})\" for year in range(2001, 2012) for month in range(1, 13)])\n",
    "\n",
    "# Replace values in the \"Month\" column using regexp_replace\n",
    "merged_df = merged_df.withColumn(\"Month\", regexp_replace(\"Month\", pattern, \n",
    "                            lambda x: lit(f\"{x[:4]} {month_year_mapping[x[5:]]}\")))\n",
    "\n",
    "# Show the DataFrame\n",
    "merged_df.show(truncate=False)\n",
    "\n"
   ]
  },
  {
   "cell_type": "code",
   "execution_count": null,
   "id": "00135792",
   "metadata": {},
   "outputs": [],
   "source": [
    "# Count the number of observations\n",
    "mergeddata_count = merged_df.count()\n",
    "\n",
    "print(\"Number of observations:\", mergeddata_count)"
   ]
  },
  {
   "cell_type": "code",
   "execution_count": null,
   "id": "36de4fa2",
   "metadata": {},
   "outputs": [],
   "source": [
    "merged_df.describe()"
   ]
  },
  {
   "cell_type": "markdown",
   "id": "6df4c41e",
   "metadata": {},
   "source": [
    "## EXPORT THE PREPROCESSED DATA TO HADOOP FOR STORAGE"
   ]
  },
  {
   "cell_type": "code",
   "execution_count": null,
   "id": "f12dc736",
   "metadata": {},
   "outputs": [],
   "source": [
    "# Export preprocessed data\n",
    "preprocessed_data_path = \"hdfs://<hadoop_hostname>:<port>/path/to/preprocessed_data.csv\"\n",
    "df_one.write.csv(preprocessed_data_path, mode=\"overwrite\", header=True)"
   ]
  }
 ],
 "metadata": {
  "kernelspec": {
   "display_name": "Python 3 (ipykernel)",
   "language": "python",
   "name": "python3"
  },
  "language_info": {
   "codemirror_mode": {
    "name": "ipython",
    "version": 3
   },
   "file_extension": ".py",
   "mimetype": "text/x-python",
   "name": "python",
   "nbconvert_exporter": "python",
   "pygments_lexer": "ipython3",
   "version": "3.10.12"
  }
 },
 "nbformat": 4,
 "nbformat_minor": 5
}
